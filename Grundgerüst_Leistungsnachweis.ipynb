{
 "cells": [
  {
   "cell_type": "markdown",
   "id": "2341b96f",
   "metadata": {},
   "source": [
    "# Grundgerüst Leistungsausweis\n",
    "Dieses Notebook soll euch als Grundgerüst für euren Leistungsnachweis dienen. Es soll euch eine Idee/ Hilfestellung bieten, wie man einen neuen Datensatz, basierend auf einer Fragestellung, strukturiert analysieren und interpretieren kann. Wie besagt, dient das Notebook als Hilfestellung, ist jedoch keinenfalls vollständig ausgeschöpft. In diesem Sinne dürft ihr auch gerne Sachen miteinbeziehen, welche hier nicht genannt werden. \n",
    "\n",
    "-> Bitte schreibt die Antwort zu den jeweiligen Punkten an oberster Stelle unterhalb der Titel (so wie dies auch im Leistungsnachweisbeispiel gemacht wurde).\n",
    "\n",
    "\n",
    "## Struktur\n",
    "1. Fragestellung(en) und Datenbeschaffung\n",
    "2. Daten laden\n",
    "3. Daten vorbereiten\n",
    "4. Statistik der Rohdaten (Generell im Longformat)\n",
    "5. Analyse der Daten\n",
    "\n",
    "**Wichtig:** Alle graphischen Darstellungen sollten mindestens *Titel, Ticks- und Achsenbeschriftung* beinhalten (Siehe plots im Leistungsnachweisbeispiel)\n",
    "\n",
    "---"
   ]
  },
  {
   "cell_type": "markdown",
   "id": "f9e9bf68",
   "metadata": {},
   "source": [
    "## 1. Fragestellung(en) und Datenbeschaffung\n",
    "**Gruppenmitglieder:** Molignini Alessia, Keel Noëlle, Stettler Sara\n",
    "### 1.1 Titel: \n",
    "- \"Übergewicht in verschiedenen Ländern\"\n",
    "### 1.2 Fragestellung:\n",
    "- \"Welche drei Länder zeigen im Zeitraum von 1996 bis 2016 die grösste Zunahme der Prävalenz von Übergewicht in der Gesamtbevölkerung, unabhänig vom Geschlecht?\"\n",
    "- \"Wo steht die Schweiz in diesem Vergleich?\"\n",
    "- \"Welche Unterschiede gibt es in diesen vier Ländern zwischen Mann und Frau?\"\n",
    "### 1.3 Datenquelle(n):\n",
    "**Quellen:** \n",
    "- https://ourworldindata.org/grapher/obesity-in-men-vs-obesity-in-women\n",
    "- https://ourworldindata.org/obesity (4. Darstellung,\"What share of adults are obese?\")\n",
    "\n",
    "Beispiele für mögliche Datenquellen:\n",
    "- https://ourworldindata.org\n",
    "- https://healthdata.gov/\n",
    "- https://www.who.int/data/collections\n",
    "- https://www.kaggle.com/datasets?tags=4202-Healthcare\n",
    "\n",
    "\n"
   ]
  },
  {
   "cell_type": "markdown",
   "metadata": {},
   "source": [
    "### 1.4 Daten beschaffen und laden"
   ]
  },
  {
   "cell_type": "code",
   "execution_count": 65,
   "id": "a27050af",
   "metadata": {},
   "outputs": [],
   "source": [
    "# lade deine Bibliotheken -> Pandas, Seaborn, Matplotlib sind die wichtigsten für diese Aufgaben\n",
    "\n",
    "import pandas as pd\n",
    "import seaborn as sns\n",
    "from matplotlib import pyplot as plt\n",
    "import numpy as np"
   ]
  },
  {
   "cell_type": "code",
   "execution_count": 66,
   "id": "a262d76c",
   "metadata": {},
   "outputs": [],
   "source": [
    "pd.set_option('display.max_rows', 10) "
   ]
  },
  {
   "cell_type": "code",
   "execution_count": 67,
   "id": "d78399a4",
   "metadata": {},
   "outputs": [
    {
     "data": {
      "text/html": [
       "<div>\n",
       "<style scoped>\n",
       "    .dataframe tbody tr th:only-of-type {\n",
       "        vertical-align: middle;\n",
       "    }\n",
       "\n",
       "    .dataframe tbody tr th {\n",
       "        vertical-align: top;\n",
       "    }\n",
       "\n",
       "    .dataframe thead th {\n",
       "        text-align: right;\n",
       "    }\n",
       "</style>\n",
       "<table border=\"1\" class=\"dataframe\">\n",
       "  <thead>\n",
       "    <tr style=\"text-align: right;\">\n",
       "      <th></th>\n",
       "      <th>Entity</th>\n",
       "      <th>Code</th>\n",
       "      <th>Year</th>\n",
       "      <th>Prevalence of obesity among adults, BMI &gt;= 30 (crude estimate) (%) - Sex: both sexes - Age group: 18+  years</th>\n",
       "    </tr>\n",
       "  </thead>\n",
       "  <tbody>\n",
       "    <tr>\n",
       "      <th>0</th>\n",
       "      <td>Afghanistan</td>\n",
       "      <td>AFG</td>\n",
       "      <td>1975</td>\n",
       "      <td>0.4</td>\n",
       "    </tr>\n",
       "    <tr>\n",
       "      <th>1</th>\n",
       "      <td>Afghanistan</td>\n",
       "      <td>AFG</td>\n",
       "      <td>1976</td>\n",
       "      <td>0.4</td>\n",
       "    </tr>\n",
       "    <tr>\n",
       "      <th>2</th>\n",
       "      <td>Afghanistan</td>\n",
       "      <td>AFG</td>\n",
       "      <td>1977</td>\n",
       "      <td>0.5</td>\n",
       "    </tr>\n",
       "    <tr>\n",
       "      <th>3</th>\n",
       "      <td>Afghanistan</td>\n",
       "      <td>AFG</td>\n",
       "      <td>1978</td>\n",
       "      <td>0.5</td>\n",
       "    </tr>\n",
       "    <tr>\n",
       "      <th>4</th>\n",
       "      <td>Afghanistan</td>\n",
       "      <td>AFG</td>\n",
       "      <td>1979</td>\n",
       "      <td>0.5</td>\n",
       "    </tr>\n",
       "    <tr>\n",
       "      <th>...</th>\n",
       "      <td>...</td>\n",
       "      <td>...</td>\n",
       "      <td>...</td>\n",
       "      <td>...</td>\n",
       "    </tr>\n",
       "    <tr>\n",
       "      <th>8269</th>\n",
       "      <td>Zimbabwe</td>\n",
       "      <td>ZWE</td>\n",
       "      <td>2012</td>\n",
       "      <td>11.1</td>\n",
       "    </tr>\n",
       "    <tr>\n",
       "      <th>8270</th>\n",
       "      <td>Zimbabwe</td>\n",
       "      <td>ZWE</td>\n",
       "      <td>2013</td>\n",
       "      <td>11.3</td>\n",
       "    </tr>\n",
       "    <tr>\n",
       "      <th>8271</th>\n",
       "      <td>Zimbabwe</td>\n",
       "      <td>ZWE</td>\n",
       "      <td>2014</td>\n",
       "      <td>11.6</td>\n",
       "    </tr>\n",
       "    <tr>\n",
       "      <th>8272</th>\n",
       "      <td>Zimbabwe</td>\n",
       "      <td>ZWE</td>\n",
       "      <td>2015</td>\n",
       "      <td>11.9</td>\n",
       "    </tr>\n",
       "    <tr>\n",
       "      <th>8273</th>\n",
       "      <td>Zimbabwe</td>\n",
       "      <td>ZWE</td>\n",
       "      <td>2016</td>\n",
       "      <td>12.3</td>\n",
       "    </tr>\n",
       "  </tbody>\n",
       "</table>\n",
       "<p>8274 rows × 4 columns</p>\n",
       "</div>"
      ],
      "text/plain": [
       "           Entity Code  Year  \\\n",
       "0     Afghanistan  AFG  1975   \n",
       "1     Afghanistan  AFG  1976   \n",
       "2     Afghanistan  AFG  1977   \n",
       "3     Afghanistan  AFG  1978   \n",
       "4     Afghanistan  AFG  1979   \n",
       "...           ...  ...   ...   \n",
       "8269     Zimbabwe  ZWE  2012   \n",
       "8270     Zimbabwe  ZWE  2013   \n",
       "8271     Zimbabwe  ZWE  2014   \n",
       "8272     Zimbabwe  ZWE  2015   \n",
       "8273     Zimbabwe  ZWE  2016   \n",
       "\n",
       "      Prevalence of obesity among adults, BMI >= 30 (crude estimate) (%) - Sex: both sexes - Age group: 18+  years  \n",
       "0                                                   0.4                                                             \n",
       "1                                                   0.4                                                             \n",
       "2                                                   0.5                                                             \n",
       "3                                                   0.5                                                             \n",
       "4                                                   0.5                                                             \n",
       "...                                                 ...                                                             \n",
       "8269                                               11.1                                                             \n",
       "8270                                               11.3                                                             \n",
       "8271                                               11.6                                                             \n",
       "8272                                               11.9                                                             \n",
       "8273                                               12.3                                                             \n",
       "\n",
       "[8274 rows x 4 columns]"
      ]
     },
     "execution_count": 67,
     "metadata": {},
     "output_type": "execute_result"
    }
   ],
   "source": [
    "df = pd.read_csv('share-of-adults-defined-as-obese.csv')\n",
    "\n",
    "df"
   ]
  },
  {
   "cell_type": "code",
   "execution_count": 68,
   "id": "db7c35a4",
   "metadata": {},
   "outputs": [
    {
     "data": {
      "text/html": [
       "<div>\n",
       "<style scoped>\n",
       "    .dataframe tbody tr th:only-of-type {\n",
       "        vertical-align: middle;\n",
       "    }\n",
       "\n",
       "    .dataframe tbody tr th {\n",
       "        vertical-align: top;\n",
       "    }\n",
       "\n",
       "    .dataframe thead th {\n",
       "        text-align: right;\n",
       "    }\n",
       "</style>\n",
       "<table border=\"1\" class=\"dataframe\">\n",
       "  <thead>\n",
       "    <tr style=\"text-align: right;\">\n",
       "      <th></th>\n",
       "      <th>Land</th>\n",
       "      <th>Kürzel</th>\n",
       "      <th>Jahr</th>\n",
       "      <th>Übergewicht_Prävalenz_18+_unabhängig_Geschlecht</th>\n",
       "    </tr>\n",
       "  </thead>\n",
       "  <tbody>\n",
       "    <tr>\n",
       "      <th>0</th>\n",
       "      <td>Afghanistan</td>\n",
       "      <td>AFG</td>\n",
       "      <td>1975</td>\n",
       "      <td>0.4</td>\n",
       "    </tr>\n",
       "    <tr>\n",
       "      <th>1</th>\n",
       "      <td>Afghanistan</td>\n",
       "      <td>AFG</td>\n",
       "      <td>1976</td>\n",
       "      <td>0.4</td>\n",
       "    </tr>\n",
       "    <tr>\n",
       "      <th>2</th>\n",
       "      <td>Afghanistan</td>\n",
       "      <td>AFG</td>\n",
       "      <td>1977</td>\n",
       "      <td>0.5</td>\n",
       "    </tr>\n",
       "    <tr>\n",
       "      <th>3</th>\n",
       "      <td>Afghanistan</td>\n",
       "      <td>AFG</td>\n",
       "      <td>1978</td>\n",
       "      <td>0.5</td>\n",
       "    </tr>\n",
       "    <tr>\n",
       "      <th>4</th>\n",
       "      <td>Afghanistan</td>\n",
       "      <td>AFG</td>\n",
       "      <td>1979</td>\n",
       "      <td>0.5</td>\n",
       "    </tr>\n",
       "  </tbody>\n",
       "</table>\n",
       "</div>"
      ],
      "text/plain": [
       "          Land Kürzel  Jahr  Übergewicht_Prävalenz_18+_unabhängig_Geschlecht\n",
       "0  Afghanistan    AFG  1975                                              0.4\n",
       "1  Afghanistan    AFG  1976                                              0.4\n",
       "2  Afghanistan    AFG  1977                                              0.5\n",
       "3  Afghanistan    AFG  1978                                              0.5\n",
       "4  Afghanistan    AFG  1979                                              0.5"
      ]
     },
     "execution_count": 68,
     "metadata": {},
     "output_type": "execute_result"
    }
   ],
   "source": [
    "df = pd.read_csv('share-of-adults-defined-as-obese.csv', skiprows=1,\n",
    "                 names=['Land','Kürzel','Jahr','Übergewicht_Prävalenz_18+_unabhängig_Geschlecht'])\n",
    "\n",
    "df.head() # head kann theoretisch gelöscht werden, dann zeigt es die obersten und untersten Daten an"
   ]
  },
  {
   "cell_type": "code",
   "execution_count": 69,
   "id": "47a24830",
   "metadata": {},
   "outputs": [
    {
     "data": {
      "text/html": [
       "<div>\n",
       "<style scoped>\n",
       "    .dataframe tbody tr th:only-of-type {\n",
       "        vertical-align: middle;\n",
       "    }\n",
       "\n",
       "    .dataframe tbody tr th {\n",
       "        vertical-align: top;\n",
       "    }\n",
       "\n",
       "    .dataframe thead th {\n",
       "        text-align: right;\n",
       "    }\n",
       "</style>\n",
       "<table border=\"1\" class=\"dataframe\">\n",
       "  <thead>\n",
       "    <tr style=\"text-align: right;\">\n",
       "      <th></th>\n",
       "      <th>Entity</th>\n",
       "      <th>Code</th>\n",
       "      <th>Year</th>\n",
       "      <th>Prevalence of obesity among adults, BMI &gt;= 30 (age-standardized estimate) (%) - Sex: male - Age group: 18+  years</th>\n",
       "      <th>Prevalence of obesity among adults, BMI &gt;= 30 (age-standardized estimate) (%) - Sex: female - Age group: 18+  years</th>\n",
       "      <th>World regions according to OWID</th>\n",
       "    </tr>\n",
       "  </thead>\n",
       "  <tbody>\n",
       "    <tr>\n",
       "      <th>0</th>\n",
       "      <td>Afghanistan</td>\n",
       "      <td>AFG</td>\n",
       "      <td>1975</td>\n",
       "      <td>0.2</td>\n",
       "      <td>0.8</td>\n",
       "      <td>NaN</td>\n",
       "    </tr>\n",
       "    <tr>\n",
       "      <th>1</th>\n",
       "      <td>Afghanistan</td>\n",
       "      <td>AFG</td>\n",
       "      <td>1976</td>\n",
       "      <td>0.2</td>\n",
       "      <td>0.8</td>\n",
       "      <td>NaN</td>\n",
       "    </tr>\n",
       "    <tr>\n",
       "      <th>2</th>\n",
       "      <td>Afghanistan</td>\n",
       "      <td>AFG</td>\n",
       "      <td>1977</td>\n",
       "      <td>0.2</td>\n",
       "      <td>0.9</td>\n",
       "      <td>NaN</td>\n",
       "    </tr>\n",
       "    <tr>\n",
       "      <th>3</th>\n",
       "      <td>Afghanistan</td>\n",
       "      <td>AFG</td>\n",
       "      <td>1978</td>\n",
       "      <td>0.2</td>\n",
       "      <td>0.9</td>\n",
       "      <td>NaN</td>\n",
       "    </tr>\n",
       "    <tr>\n",
       "      <th>4</th>\n",
       "      <td>Afghanistan</td>\n",
       "      <td>AFG</td>\n",
       "      <td>1979</td>\n",
       "      <td>0.3</td>\n",
       "      <td>1.0</td>\n",
       "      <td>NaN</td>\n",
       "    </tr>\n",
       "  </tbody>\n",
       "</table>\n",
       "</div>"
      ],
      "text/plain": [
       "        Entity Code  Year  \\\n",
       "0  Afghanistan  AFG  1975   \n",
       "1  Afghanistan  AFG  1976   \n",
       "2  Afghanistan  AFG  1977   \n",
       "3  Afghanistan  AFG  1978   \n",
       "4  Afghanistan  AFG  1979   \n",
       "\n",
       "   Prevalence of obesity among adults, BMI >= 30 (age-standardized estimate) (%) - Sex: male - Age group: 18+  years  \\\n",
       "0                                                0.2                                                                   \n",
       "1                                                0.2                                                                   \n",
       "2                                                0.2                                                                   \n",
       "3                                                0.2                                                                   \n",
       "4                                                0.3                                                                   \n",
       "\n",
       "   Prevalence of obesity among adults, BMI >= 30 (age-standardized estimate) (%) - Sex: female - Age group: 18+  years  \\\n",
       "0                                                0.8                                                                     \n",
       "1                                                0.8                                                                     \n",
       "2                                                0.9                                                                     \n",
       "3                                                0.9                                                                     \n",
       "4                                                1.0                                                                     \n",
       "\n",
       "  World regions according to OWID  \n",
       "0                             NaN  \n",
       "1                             NaN  \n",
       "2                             NaN  \n",
       "3                             NaN  \n",
       "4                             NaN  "
      ]
     },
     "execution_count": 69,
     "metadata": {},
     "output_type": "execute_result"
    }
   ],
   "source": [
    "# lade hier deine Daten\n",
    "df = pd.read_csv('obesity-in-men-vs-obesity-in-women.csv')\n",
    "\n",
    "df.head() # head kann theoretisch gelöscht werden, dann zeigt es die obersten und untersten Daten an"
   ]
  },
  {
   "cell_type": "code",
   "execution_count": 70,
   "id": "1f32f2e1",
   "metadata": {},
   "outputs": [
    {
     "data": {
      "text/html": [
       "<div>\n",
       "<style scoped>\n",
       "    .dataframe tbody tr th:only-of-type {\n",
       "        vertical-align: middle;\n",
       "    }\n",
       "\n",
       "    .dataframe tbody tr th {\n",
       "        vertical-align: top;\n",
       "    }\n",
       "\n",
       "    .dataframe thead th {\n",
       "        text-align: right;\n",
       "    }\n",
       "</style>\n",
       "<table border=\"1\" class=\"dataframe\">\n",
       "  <thead>\n",
       "    <tr style=\"text-align: right;\">\n",
       "      <th></th>\n",
       "      <th>Land</th>\n",
       "      <th>Kürzel</th>\n",
       "      <th>Jahr</th>\n",
       "      <th>Übergewicht_Prävalenz_Männer_18+</th>\n",
       "      <th>Übergewicht_Prävalenz_Frauen_18+</th>\n",
       "      <th>Weltregionen_gemäss_OWID</th>\n",
       "    </tr>\n",
       "  </thead>\n",
       "  <tbody>\n",
       "    <tr>\n",
       "      <th>0</th>\n",
       "      <td>Afghanistan</td>\n",
       "      <td>AFG</td>\n",
       "      <td>1975</td>\n",
       "      <td>0.2</td>\n",
       "      <td>0.8</td>\n",
       "      <td>NaN</td>\n",
       "    </tr>\n",
       "    <tr>\n",
       "      <th>1</th>\n",
       "      <td>Afghanistan</td>\n",
       "      <td>AFG</td>\n",
       "      <td>1976</td>\n",
       "      <td>0.2</td>\n",
       "      <td>0.8</td>\n",
       "      <td>NaN</td>\n",
       "    </tr>\n",
       "    <tr>\n",
       "      <th>2</th>\n",
       "      <td>Afghanistan</td>\n",
       "      <td>AFG</td>\n",
       "      <td>1977</td>\n",
       "      <td>0.2</td>\n",
       "      <td>0.9</td>\n",
       "      <td>NaN</td>\n",
       "    </tr>\n",
       "    <tr>\n",
       "      <th>3</th>\n",
       "      <td>Afghanistan</td>\n",
       "      <td>AFG</td>\n",
       "      <td>1978</td>\n",
       "      <td>0.2</td>\n",
       "      <td>0.9</td>\n",
       "      <td>NaN</td>\n",
       "    </tr>\n",
       "    <tr>\n",
       "      <th>4</th>\n",
       "      <td>Afghanistan</td>\n",
       "      <td>AFG</td>\n",
       "      <td>1979</td>\n",
       "      <td>0.3</td>\n",
       "      <td>1.0</td>\n",
       "      <td>NaN</td>\n",
       "    </tr>\n",
       "  </tbody>\n",
       "</table>\n",
       "</div>"
      ],
      "text/plain": [
       "          Land Kürzel  Jahr  Übergewicht_Prävalenz_Männer_18+  \\\n",
       "0  Afghanistan    AFG  1975                               0.2   \n",
       "1  Afghanistan    AFG  1976                               0.2   \n",
       "2  Afghanistan    AFG  1977                               0.2   \n",
       "3  Afghanistan    AFG  1978                               0.2   \n",
       "4  Afghanistan    AFG  1979                               0.3   \n",
       "\n",
       "   Übergewicht_Prävalenz_Frauen_18+ Weltregionen_gemäss_OWID  \n",
       "0                               0.8                      NaN  \n",
       "1                               0.8                      NaN  \n",
       "2                               0.9                      NaN  \n",
       "3                               0.9                      NaN  \n",
       "4                               1.0                      NaN  "
      ]
     },
     "execution_count": 70,
     "metadata": {},
     "output_type": "execute_result"
    }
   ],
   "source": [
    "df = pd.read_csv('obesity-in-men-vs-obesity-in-women.csv', skiprows=1,\n",
    "                 names=['Land','Kürzel','Jahr','Übergewicht_Prävalenz_Männer_18+','Übergewicht_Prävalenz_Frauen_18+','Weltregionen_gemäss_OWID'])\n",
    "\n",
    "df.head() # head kann theoretisch gelöscht werden, dann zeigt es die obersten und untersten Daten an"
   ]
  },
  {
   "cell_type": "markdown",
   "id": "25d1e798",
   "metadata": {},
   "source": [
    "## 2. Daten vorbereiten \n",
    "- Welches Format hat mein Datensatz bzw. wie sind meine Kolumnen strukturiert?\n",
    "- Welches Format kann ich für welche Teilschritte verwenden (wann soll ich pivot bzw. wide format verwenden)?\n",
    "- Welche Datentypen kommen in meinem Datensatz vor?"
   ]
  },
  {
   "cell_type": "markdown",
   "id": "bc8f34ce",
   "metadata": {},
   "source": []
  },
  {
   "cell_type": "code",
   "execution_count": 71,
   "id": "ae9c320e",
   "metadata": {},
   "outputs": [
    {
     "data": {
      "text/plain": [
       "Land                                 object\n",
       "Kürzel                               object\n",
       "Jahr                                  int64\n",
       "Übergewicht_Prävalenz_Männer_18+    float64\n",
       "Übergewicht_Prävalenz_Frauen_18+    float64\n",
       "Weltregionen_gemäss_OWID             object\n",
       "dtype: object"
      ]
     },
     "execution_count": 71,
     "metadata": {},
     "output_type": "execute_result"
    }
   ],
   "source": [
    "df.dtypes"
   ]
  },
  {
   "cell_type": "code",
   "execution_count": 72,
   "id": "0ba05a25",
   "metadata": {},
   "outputs": [
    {
     "data": {
      "text/html": [
       "<div>\n",
       "<style scoped>\n",
       "    .dataframe tbody tr th:only-of-type {\n",
       "        vertical-align: middle;\n",
       "    }\n",
       "\n",
       "    .dataframe tbody tr th {\n",
       "        vertical-align: top;\n",
       "    }\n",
       "\n",
       "    .dataframe thead th {\n",
       "        text-align: right;\n",
       "    }\n",
       "</style>\n",
       "<table border=\"1\" class=\"dataframe\">\n",
       "  <thead>\n",
       "    <tr style=\"text-align: right;\">\n",
       "      <th>Jahr</th>\n",
       "      <th>1975</th>\n",
       "      <th>1976</th>\n",
       "      <th>1977</th>\n",
       "      <th>1978</th>\n",
       "      <th>1979</th>\n",
       "      <th>1980</th>\n",
       "      <th>1981</th>\n",
       "      <th>1982</th>\n",
       "      <th>1983</th>\n",
       "      <th>1984</th>\n",
       "      <th>...</th>\n",
       "      <th>2008</th>\n",
       "      <th>2009</th>\n",
       "      <th>2010</th>\n",
       "      <th>2011</th>\n",
       "      <th>2012</th>\n",
       "      <th>2013</th>\n",
       "      <th>2014</th>\n",
       "      <th>2015</th>\n",
       "      <th>2016</th>\n",
       "      <th>2023</th>\n",
       "    </tr>\n",
       "    <tr>\n",
       "      <th>Land</th>\n",
       "      <th></th>\n",
       "      <th></th>\n",
       "      <th></th>\n",
       "      <th></th>\n",
       "      <th></th>\n",
       "      <th></th>\n",
       "      <th></th>\n",
       "      <th></th>\n",
       "      <th></th>\n",
       "      <th></th>\n",
       "      <th></th>\n",
       "      <th></th>\n",
       "      <th></th>\n",
       "      <th></th>\n",
       "      <th></th>\n",
       "      <th></th>\n",
       "      <th></th>\n",
       "      <th></th>\n",
       "      <th></th>\n",
       "      <th></th>\n",
       "      <th></th>\n",
       "    </tr>\n",
       "  </thead>\n",
       "  <tbody>\n",
       "    <tr>\n",
       "      <th>Afghanistan</th>\n",
       "      <td>0.2</td>\n",
       "      <td>0.2</td>\n",
       "      <td>0.2</td>\n",
       "      <td>0.2</td>\n",
       "      <td>0.3</td>\n",
       "      <td>0.3</td>\n",
       "      <td>0.3</td>\n",
       "      <td>0.3</td>\n",
       "      <td>0.4</td>\n",
       "      <td>0.4</td>\n",
       "      <td>...</td>\n",
       "      <td>2.0</td>\n",
       "      <td>2.1</td>\n",
       "      <td>2.2</td>\n",
       "      <td>2.4</td>\n",
       "      <td>2.5</td>\n",
       "      <td>2.7</td>\n",
       "      <td>2.8</td>\n",
       "      <td>3.0</td>\n",
       "      <td>3.2</td>\n",
       "      <td>NaN</td>\n",
       "    </tr>\n",
       "    <tr>\n",
       "      <th>Africa (WHO)</th>\n",
       "      <td>0.6</td>\n",
       "      <td>0.6</td>\n",
       "      <td>0.6</td>\n",
       "      <td>0.7</td>\n",
       "      <td>0.7</td>\n",
       "      <td>0.7</td>\n",
       "      <td>0.8</td>\n",
       "      <td>0.8</td>\n",
       "      <td>0.9</td>\n",
       "      <td>1.0</td>\n",
       "      <td>...</td>\n",
       "      <td>3.8</td>\n",
       "      <td>4.0</td>\n",
       "      <td>4.2</td>\n",
       "      <td>4.4</td>\n",
       "      <td>4.6</td>\n",
       "      <td>4.9</td>\n",
       "      <td>5.1</td>\n",
       "      <td>5.3</td>\n",
       "      <td>5.6</td>\n",
       "      <td>NaN</td>\n",
       "    </tr>\n",
       "    <tr>\n",
       "      <th>Aland Islands</th>\n",
       "      <td>NaN</td>\n",
       "      <td>NaN</td>\n",
       "      <td>NaN</td>\n",
       "      <td>NaN</td>\n",
       "      <td>NaN</td>\n",
       "      <td>NaN</td>\n",
       "      <td>NaN</td>\n",
       "      <td>NaN</td>\n",
       "      <td>NaN</td>\n",
       "      <td>NaN</td>\n",
       "      <td>...</td>\n",
       "      <td>NaN</td>\n",
       "      <td>NaN</td>\n",
       "      <td>NaN</td>\n",
       "      <td>NaN</td>\n",
       "      <td>NaN</td>\n",
       "      <td>NaN</td>\n",
       "      <td>NaN</td>\n",
       "      <td>NaN</td>\n",
       "      <td>NaN</td>\n",
       "      <td>NaN</td>\n",
       "    </tr>\n",
       "    <tr>\n",
       "      <th>Albania</th>\n",
       "      <td>4.4</td>\n",
       "      <td>4.6</td>\n",
       "      <td>4.8</td>\n",
       "      <td>5.0</td>\n",
       "      <td>5.2</td>\n",
       "      <td>5.4</td>\n",
       "      <td>5.6</td>\n",
       "      <td>5.8</td>\n",
       "      <td>6.0</td>\n",
       "      <td>6.3</td>\n",
       "      <td>...</td>\n",
       "      <td>16.1</td>\n",
       "      <td>16.8</td>\n",
       "      <td>17.4</td>\n",
       "      <td>18.1</td>\n",
       "      <td>18.8</td>\n",
       "      <td>19.5</td>\n",
       "      <td>20.2</td>\n",
       "      <td>20.9</td>\n",
       "      <td>21.6</td>\n",
       "      <td>NaN</td>\n",
       "    </tr>\n",
       "    <tr>\n",
       "      <th>Algeria</th>\n",
       "      <td>2.8</td>\n",
       "      <td>2.9</td>\n",
       "      <td>3.1</td>\n",
       "      <td>3.2</td>\n",
       "      <td>3.4</td>\n",
       "      <td>3.6</td>\n",
       "      <td>3.8</td>\n",
       "      <td>4.0</td>\n",
       "      <td>4.3</td>\n",
       "      <td>4.5</td>\n",
       "      <td>...</td>\n",
       "      <td>14.6</td>\n",
       "      <td>15.2</td>\n",
       "      <td>15.8</td>\n",
       "      <td>16.5</td>\n",
       "      <td>17.1</td>\n",
       "      <td>17.8</td>\n",
       "      <td>18.5</td>\n",
       "      <td>19.2</td>\n",
       "      <td>19.9</td>\n",
       "      <td>NaN</td>\n",
       "    </tr>\n",
       "  </tbody>\n",
       "</table>\n",
       "<p>5 rows × 43 columns</p>\n",
       "</div>"
      ],
      "text/plain": [
       "Jahr           1975  1976  1977  1978  1979  1980  1981  1982  1983  1984  \\\n",
       "Land                                                                        \n",
       "Afghanistan     0.2   0.2   0.2   0.2   0.3   0.3   0.3   0.3   0.4   0.4   \n",
       "Africa (WHO)    0.6   0.6   0.6   0.7   0.7   0.7   0.8   0.8   0.9   1.0   \n",
       "Aland Islands   NaN   NaN   NaN   NaN   NaN   NaN   NaN   NaN   NaN   NaN   \n",
       "Albania         4.4   4.6   4.8   5.0   5.2   5.4   5.6   5.8   6.0   6.3   \n",
       "Algeria         2.8   2.9   3.1   3.2   3.4   3.6   3.8   4.0   4.3   4.5   \n",
       "\n",
       "Jahr           ...  2008  2009  2010  2011  2012  2013  2014  2015  2016  2023  \n",
       "Land           ...                                                              \n",
       "Afghanistan    ...   2.0   2.1   2.2   2.4   2.5   2.7   2.8   3.0   3.2   NaN  \n",
       "Africa (WHO)   ...   3.8   4.0   4.2   4.4   4.6   4.9   5.1   5.3   5.6   NaN  \n",
       "Aland Islands  ...   NaN   NaN   NaN   NaN   NaN   NaN   NaN   NaN   NaN   NaN  \n",
       "Albania        ...  16.1  16.8  17.4  18.1  18.8  19.5  20.2  20.9  21.6   NaN  \n",
       "Algeria        ...  14.6  15.2  15.8  16.5  17.1  17.8  18.5  19.2  19.9   NaN  \n",
       "\n",
       "[5 rows x 43 columns]"
      ]
     },
     "execution_count": 72,
     "metadata": {},
     "output_type": "execute_result"
    }
   ],
   "source": [
    "df_pivot = df.pivot(\n",
    "    index='Land', \n",
    "    columns='Jahr', \n",
    "    values='Übergewicht_Prävalenz_Männer_18+')\n",
    "df_pivot.head() # head kann theoretisch gelöscht werden, dann zeigt es die obersten und untersten Daten an"
   ]
  },
  {
   "cell_type": "code",
   "execution_count": 73,
   "id": "862fe6b5",
   "metadata": {},
   "outputs": [
    {
     "data": {
      "text/html": [
       "<div>\n",
       "<style scoped>\n",
       "    .dataframe tbody tr th:only-of-type {\n",
       "        vertical-align: middle;\n",
       "    }\n",
       "\n",
       "    .dataframe tbody tr th {\n",
       "        vertical-align: top;\n",
       "    }\n",
       "\n",
       "    .dataframe thead tr th {\n",
       "        text-align: left;\n",
       "    }\n",
       "\n",
       "    .dataframe thead tr:last-of-type th {\n",
       "        text-align: right;\n",
       "    }\n",
       "</style>\n",
       "<table border=\"1\" class=\"dataframe\">\n",
       "  <thead>\n",
       "    <tr>\n",
       "      <th></th>\n",
       "      <th colspan=\"10\" halign=\"left\">Übergewicht_Prävalenz_Frauen_18+</th>\n",
       "      <th>...</th>\n",
       "      <th colspan=\"10\" halign=\"left\">Übergewicht_Prävalenz_Männer_18+</th>\n",
       "    </tr>\n",
       "    <tr>\n",
       "      <th>Jahr</th>\n",
       "      <th>1975</th>\n",
       "      <th>1976</th>\n",
       "      <th>1977</th>\n",
       "      <th>1978</th>\n",
       "      <th>1979</th>\n",
       "      <th>1980</th>\n",
       "      <th>1981</th>\n",
       "      <th>1982</th>\n",
       "      <th>1983</th>\n",
       "      <th>1984</th>\n",
       "      <th>...</th>\n",
       "      <th>2007</th>\n",
       "      <th>2008</th>\n",
       "      <th>2009</th>\n",
       "      <th>2010</th>\n",
       "      <th>2011</th>\n",
       "      <th>2012</th>\n",
       "      <th>2013</th>\n",
       "      <th>2014</th>\n",
       "      <th>2015</th>\n",
       "      <th>2016</th>\n",
       "    </tr>\n",
       "    <tr>\n",
       "      <th>Land</th>\n",
       "      <th></th>\n",
       "      <th></th>\n",
       "      <th></th>\n",
       "      <th></th>\n",
       "      <th></th>\n",
       "      <th></th>\n",
       "      <th></th>\n",
       "      <th></th>\n",
       "      <th></th>\n",
       "      <th></th>\n",
       "      <th></th>\n",
       "      <th></th>\n",
       "      <th></th>\n",
       "      <th></th>\n",
       "      <th></th>\n",
       "      <th></th>\n",
       "      <th></th>\n",
       "      <th></th>\n",
       "      <th></th>\n",
       "      <th></th>\n",
       "      <th></th>\n",
       "    </tr>\n",
       "  </thead>\n",
       "  <tbody>\n",
       "    <tr>\n",
       "      <th>Afghanistan</th>\n",
       "      <td>0.8</td>\n",
       "      <td>0.8</td>\n",
       "      <td>0.9</td>\n",
       "      <td>0.9</td>\n",
       "      <td>1.0</td>\n",
       "      <td>1.1</td>\n",
       "      <td>1.1</td>\n",
       "      <td>1.2</td>\n",
       "      <td>1.3</td>\n",
       "      <td>1.4</td>\n",
       "      <td>...</td>\n",
       "      <td>1.8</td>\n",
       "      <td>2.0</td>\n",
       "      <td>2.1</td>\n",
       "      <td>2.2</td>\n",
       "      <td>2.4</td>\n",
       "      <td>2.5</td>\n",
       "      <td>2.7</td>\n",
       "      <td>2.8</td>\n",
       "      <td>3.0</td>\n",
       "      <td>3.2</td>\n",
       "    </tr>\n",
       "    <tr>\n",
       "      <th>Africa (WHO)</th>\n",
       "      <td>3.3</td>\n",
       "      <td>3.5</td>\n",
       "      <td>3.6</td>\n",
       "      <td>3.7</td>\n",
       "      <td>3.9</td>\n",
       "      <td>4.0</td>\n",
       "      <td>4.2</td>\n",
       "      <td>4.4</td>\n",
       "      <td>4.6</td>\n",
       "      <td>4.8</td>\n",
       "      <td>...</td>\n",
       "      <td>3.7</td>\n",
       "      <td>3.8</td>\n",
       "      <td>4.0</td>\n",
       "      <td>4.2</td>\n",
       "      <td>4.4</td>\n",
       "      <td>4.6</td>\n",
       "      <td>4.9</td>\n",
       "      <td>5.1</td>\n",
       "      <td>5.3</td>\n",
       "      <td>5.6</td>\n",
       "    </tr>\n",
       "    <tr>\n",
       "      <th>Albania</th>\n",
       "      <td>8.6</td>\n",
       "      <td>8.8</td>\n",
       "      <td>8.9</td>\n",
       "      <td>9.1</td>\n",
       "      <td>9.3</td>\n",
       "      <td>9.5</td>\n",
       "      <td>9.7</td>\n",
       "      <td>9.9</td>\n",
       "      <td>10.1</td>\n",
       "      <td>10.3</td>\n",
       "      <td>...</td>\n",
       "      <td>15.5</td>\n",
       "      <td>16.1</td>\n",
       "      <td>16.8</td>\n",
       "      <td>17.4</td>\n",
       "      <td>18.1</td>\n",
       "      <td>18.8</td>\n",
       "      <td>19.5</td>\n",
       "      <td>20.2</td>\n",
       "      <td>20.9</td>\n",
       "      <td>21.6</td>\n",
       "    </tr>\n",
       "    <tr>\n",
       "      <th>Algeria</th>\n",
       "      <td>10.7</td>\n",
       "      <td>11.1</td>\n",
       "      <td>11.4</td>\n",
       "      <td>11.8</td>\n",
       "      <td>12.2</td>\n",
       "      <td>12.7</td>\n",
       "      <td>13.1</td>\n",
       "      <td>13.6</td>\n",
       "      <td>14.1</td>\n",
       "      <td>14.6</td>\n",
       "      <td>...</td>\n",
       "      <td>14.0</td>\n",
       "      <td>14.6</td>\n",
       "      <td>15.2</td>\n",
       "      <td>15.8</td>\n",
       "      <td>16.5</td>\n",
       "      <td>17.1</td>\n",
       "      <td>17.8</td>\n",
       "      <td>18.5</td>\n",
       "      <td>19.2</td>\n",
       "      <td>19.9</td>\n",
       "    </tr>\n",
       "    <tr>\n",
       "      <th>Americas (WHO)</th>\n",
       "      <td>11.5</td>\n",
       "      <td>11.9</td>\n",
       "      <td>12.2</td>\n",
       "      <td>12.6</td>\n",
       "      <td>12.9</td>\n",
       "      <td>13.3</td>\n",
       "      <td>13.7</td>\n",
       "      <td>14.1</td>\n",
       "      <td>14.5</td>\n",
       "      <td>14.9</td>\n",
       "      <td>...</td>\n",
       "      <td>21.1</td>\n",
       "      <td>21.6</td>\n",
       "      <td>22.2</td>\n",
       "      <td>22.7</td>\n",
       "      <td>23.2</td>\n",
       "      <td>23.7</td>\n",
       "      <td>24.3</td>\n",
       "      <td>24.8</td>\n",
       "      <td>25.4</td>\n",
       "      <td>25.9</td>\n",
       "    </tr>\n",
       "  </tbody>\n",
       "</table>\n",
       "<p>5 rows × 84 columns</p>\n",
       "</div>"
      ],
      "text/plain": [
       "               Übergewicht_Prävalenz_Frauen_18+                                \\\n",
       "Jahr                                       1975  1976  1977  1978  1979  1980   \n",
       "Land                                                                            \n",
       "Afghanistan                                 0.8   0.8   0.9   0.9   1.0   1.1   \n",
       "Africa (WHO)                                3.3   3.5   3.6   3.7   3.9   4.0   \n",
       "Albania                                     8.6   8.8   8.9   9.1   9.3   9.5   \n",
       "Algeria                                    10.7  11.1  11.4  11.8  12.2  12.7   \n",
       "Americas (WHO)                             11.5  11.9  12.2  12.6  12.9  13.3   \n",
       "\n",
       "                                        ... Übergewicht_Prävalenz_Männer_18+  \\\n",
       "Jahr            1981  1982  1983  1984  ...                             2007   \n",
       "Land                                    ...                                    \n",
       "Afghanistan      1.1   1.2   1.3   1.4  ...                              1.8   \n",
       "Africa (WHO)     4.2   4.4   4.6   4.8  ...                              3.7   \n",
       "Albania          9.7   9.9  10.1  10.3  ...                             15.5   \n",
       "Algeria         13.1  13.6  14.1  14.6  ...                             14.0   \n",
       "Americas (WHO)  13.7  14.1  14.5  14.9  ...                             21.1   \n",
       "\n",
       "                                                                      \n",
       "Jahr            2008  2009  2010  2011  2012  2013  2014  2015  2016  \n",
       "Land                                                                  \n",
       "Afghanistan      2.0   2.1   2.2   2.4   2.5   2.7   2.8   3.0   3.2  \n",
       "Africa (WHO)     3.8   4.0   4.2   4.4   4.6   4.9   5.1   5.3   5.6  \n",
       "Albania         16.1  16.8  17.4  18.1  18.8  19.5  20.2  20.9  21.6  \n",
       "Algeria         14.6  15.2  15.8  16.5  17.1  17.8  18.5  19.2  19.9  \n",
       "Americas (WHO)  21.6  22.2  22.7  23.2  23.7  24.3  24.8  25.4  25.9  \n",
       "\n",
       "[5 rows x 84 columns]"
      ]
     },
     "execution_count": 73,
     "metadata": {},
     "output_type": "execute_result"
    }
   ],
   "source": [
    "df_pivot = df.pivot_table(\n",
    "    index='Land', \n",
    "    columns='Jahr', \n",
    "    values=['Übergewicht_Prävalenz_Männer_18+', 'Übergewicht_Prävalenz_Frauen_18+'])\n",
    "df_pivot.head() # head kann theoretisch gelöscht werden, dann zeigt es die obersten und untersten Daten an"
   ]
  },
  {
   "cell_type": "markdown",
   "id": "28195847",
   "metadata": {},
   "source": [
    "## 3. Statistik der Rohdaten (Analyse im Long-Format)\n",
    "- Ist meine Variable kontinuierlich oder diskret? Falls diskret, wieviele einzigartige Klassen gibt es? Wieviele Datenpunkte pro Klasse sind vorhanden?\n",
    "- Anzahl Datenpunkte (Beschreibend und Graphische Darstellung)\n",
    "    - Wieviele Datenpunkte sind für die bestimmten Variabeln vorhanden?\n",
    "    - Wo fehlen Datenpunkte?\n",
    "- Wie ist die Verteilung der zu untersuchenden Variabel(n) (Histogram, Boxplot, Säulendiagram)\n",
    "- Vermutest du Zusammenhänge zwischen zwei Variabeln (Streuungsdiagramm, Korrelationsmatrix)\n",
    "\n",
    "*Notiz: Zu jeder Kolumne sollte generell eine Aussage möglich sein.*"
   ]
  },
  {
   "cell_type": "markdown",
   "id": "34caa0bb",
   "metadata": {},
   "source": [
    "### 3.1 Analyse Länder"
   ]
  },
  {
   "cell_type": "code",
   "execution_count": 74,
   "id": "3e70eb03",
   "metadata": {},
   "outputs": [
    {
     "name": "stdout",
     "output_type": "stream",
     "text": [
      "Anzahl verschiedener Länder: 278\n"
     ]
    }
   ],
   "source": [
    "# Wie viele vers. Länder haben wir\n",
    "Anzahl_Länder = len(df['Land'].unique())\n",
    "print('Anzahl verschiedener Länder:', Anzahl_Länder)"
   ]
  },
  {
   "cell_type": "code",
   "execution_count": 75,
   "id": "1d463c6f",
   "metadata": {},
   "outputs": [
    {
     "data": {
      "text/plain": [
       "Land\n",
       "Afghanistan         43\n",
       "Panama              43\n",
       "Marshall Islands    43\n",
       "Mauritania          43\n",
       "Mauritius           43\n",
       "                    ..\n",
       "Saint Barthelemy     1\n",
       "Christmas Island     1\n",
       "Cocos Islands        1\n",
       "Reunion              1\n",
       "Hong Kong            1\n",
       "Name: count, Length: 278, dtype: int64"
      ]
     },
     "execution_count": 75,
     "metadata": {},
     "output_type": "execute_result"
    }
   ],
   "source": [
    "# Welches Land hat die meisten und wenigsten Datenpunkte?\n",
    "df['Land'].value_counts()"
   ]
  },
  {
   "cell_type": "code",
   "execution_count": 76,
   "id": "8297e180",
   "metadata": {},
   "outputs": [
    {
     "data": {
      "image/png": "[encoded data removed]",
      "text/plain": [
       "<Figure size 640x480 with 1 Axes>"
      ]
     },
     "metadata": {},
     "output_type": "display_data"
    }
   ],
   "source": [
    "# tail = die Länder mit wenigsten Datenpunkte\n",
    "# kind = kann angepasst werden, je nach Grafik, die man will\n",
    "df['Land'].value_counts().tail(25).plot(\n",
    "    kind='barh', \n",
    "    xlabel='Anzahl Datenpunkte'); "
   ]
  },
  {
   "cell_type": "code",
   "execution_count": 77,
   "id": "3fdc9433",
   "metadata": {},
   "outputs": [
    {
     "data": {
      "image/png": "[encoded data removed]",
      "text/plain": [
       "<Figure size 640x480 with 1 Axes>"
      ]
     },
     "metadata": {},
     "output_type": "display_data"
    }
   ],
   "source": [
    "# head = die Länder mit meisten Datenpunkten\n",
    "df['Land'].value_counts().head(25).plot(\n",
    "    kind='barh', \n",
    "    xlabel='Anzahl Datenpunkte'); "
   ]
  },
  {
   "cell_type": "code",
   "execution_count": 78,
   "id": "879c6930",
   "metadata": {},
   "outputs": [
    {
     "data": {
      "image/png": "[encoded data removed]",
      "text/plain": [
       "<Figure size 640x480 with 1 Axes>"
      ]
     },
     "metadata": {},
     "output_type": "display_data"
    }
   ],
   "source": [
    "Graph_1 = df['Land'].value_counts().plot(kind='bar', ylabel='Anzahl Datenpunkte')\n",
    "Graph_1.set_xticklabels([]); # löscht x-ticks labels (Ländernamen bei x Achse)\n"
   ]
  },
  {
   "cell_type": "code",
   "execution_count": 79,
   "id": "8a7a9fa7",
   "metadata": {},
   "outputs": [
    {
     "name": "stdout",
     "output_type": "stream",
     "text": [
      "Land\n",
      "Afghanistan    43\n",
      "Albania        43\n",
      "Algeria        43\n",
      "Andorra        43\n",
      "Angola         43\n",
      "               ..\n",
      "Venezuela      43\n",
      "Vietnam        43\n",
      "Yemen          43\n",
      "Zambia         43\n",
      "Zimbabwe       43\n",
      "Length: 190, dtype: int64\n"
     ]
    }
   ],
   "source": [
    "Anzahl_pro_Land = df.groupby('Land').size()\n",
    "Anzahl_43 = Anzahl_pro_Land[Anzahl_pro_Land == 43]\n",
    "print(Anzahl_43)"
   ]
  },
  {
   "cell_type": "code",
   "execution_count": 80,
   "id": "147c6f56",
   "metadata": {},
   "outputs": [
    {
     "name": "stdout",
     "output_type": "stream",
     "text": [
      "Land\n",
      "Africa (WHO)                   42\n",
      "Americas (WHO)                 42\n",
      "Eastern Mediterranean (WHO)    42\n",
      "Europe (WHO)                   42\n",
      "South-East Asia (WHO)          42\n",
      "Sudan (former)                 42\n",
      "Western Pacific (WHO)          42\n",
      "dtype: int64\n"
     ]
    }
   ],
   "source": [
    "Anzahl_42 = Anzahl_pro_Land[Anzahl_pro_Land == 42]\n",
    "\n",
    "print(Anzahl_42)"
   ]
  },
  {
   "cell_type": "code",
   "execution_count": 81,
   "id": "a8e9d761",
   "metadata": {},
   "outputs": [
    {
     "name": "stdout",
     "output_type": "stream",
     "text": [
      "Land\n",
      "Aland Islands              1\n",
      "American Samoa             1\n",
      "Anguilla                   1\n",
      "Aruba                      1\n",
      "Austria-Hungary            1\n",
      "                          ..\n",
      "West Germany               1\n",
      "Western Sahara             1\n",
      "Yemen Arab Republic        1\n",
      "Yemen People's Republic    1\n",
      "Yugoslavia                 1\n",
      "Length: 81, dtype: int64\n"
     ]
    }
   ],
   "source": [
    "Anzahl_1 = Anzahl_pro_Land[Anzahl_pro_Land == 1]\n",
    "\n",
    "print(Anzahl_1)"
   ]
  },
  {
   "cell_type": "markdown",
   "id": "fc12f9b4",
   "metadata": {},
   "source": [
    "### 3.2 Analyse Kürzel"
   ]
  },
  {
   "cell_type": "code",
   "execution_count": 82,
   "id": "f3524564",
   "metadata": {},
   "outputs": [
    {
     "name": "stdout",
     "output_type": "stream",
     "text": [
      "Anzahl verschiedener Landeskürzel: 258\n"
     ]
    }
   ],
   "source": [
    "Anzahl_Kürzel = len(df['Kürzel'].unique())\n",
    "\n",
    "print('Anzahl verschiedener Landeskürzel:', Anzahl_Kürzel)"
   ]
  },
  {
   "cell_type": "code",
   "execution_count": 83,
   "id": "b493925e",
   "metadata": {},
   "outputs": [
    {
     "data": {
      "text/plain": [
       "Kürzel\n",
       "AFG         43\n",
       "MEX         43\n",
       "MDA         43\n",
       "MNG         43\n",
       "MNE         43\n",
       "            ..\n",
       "GIB          1\n",
       "SXM          1\n",
       "OWID_ERE     1\n",
       "MSR          1\n",
       "PRI          1\n",
       "Name: count, Length: 257, dtype: int64"
      ]
     },
     "execution_count": 83,
     "metadata": {},
     "output_type": "execute_result"
    }
   ],
   "source": [
    "df['Kürzel'].value_counts()"
   ]
  },
  {
   "cell_type": "code",
   "execution_count": 96,
   "id": "bb9cb143",
   "metadata": {},
   "outputs": [
    {
     "data": {
      "image/png": "[encoded data removed]",
      "text/plain": [
       "<Figure size 640x480 with 1 Axes>"
      ]
     },
     "metadata": {},
     "output_type": "display_data"
    }
   ],
   "source": [
    "Graph_2 = df['Kürzel'].value_counts().plot(\n",
    "    kind='bar', \n",
    "    xlabel='Landeskürzel', \n",
    "    ylabel='Häufigkeit Datenpunkte',\n",
    "    title='Häufigkeit der Datenpunkte pro Landeskürzel')\n",
    "\n",
    "Graph_2.set_xticklabels([]);"
   ]
  },
  {
   "cell_type": "markdown",
   "id": "4ac66f6a",
   "metadata": {},
   "source": [
    "### 3.3 Analyse Jahr"
   ]
  },
  {
   "cell_type": "code",
   "execution_count": 85,
   "id": "b5af7100",
   "metadata": {},
   "outputs": [
    {
     "name": "stdout",
     "output_type": "stream",
     "text": [
      "Anzahl verschiedener Jahreszahlen: 43\n"
     ]
    }
   ],
   "source": [
    "Anzahl_Jahr = len(df['Jahr'].unique())\n",
    "\n",
    "print('Anzahl verschiedener Jahreszahlen:', Anzahl_Jahr)"
   ]
  },
  {
   "cell_type": "code",
   "execution_count": 86,
   "id": "d7b03e45",
   "metadata": {},
   "outputs": [
    {
     "data": {
      "text/plain": [
       "Jahr\n",
       "1975    197\n",
       "1985    197\n",
       "1977    197\n",
       "1978    197\n",
       "1979    197\n",
       "       ... \n",
       "2013    197\n",
       "2014    197\n",
       "2015    197\n",
       "2008    197\n",
       "2023    271\n",
       "Name: count, Length: 43, dtype: int64"
      ]
     },
     "execution_count": 86,
     "metadata": {},
     "output_type": "execute_result"
    }
   ],
   "source": [
    "df['Jahr'].value_counts().sort_values()"
   ]
  },
  {
   "cell_type": "code",
   "execution_count": 87,
   "id": "4621d771",
   "metadata": {},
   "outputs": [
    {
     "data": {
      "text/plain": [
       "Jahr\n",
       "1975    197\n",
       "1976    197\n",
       "1977    197\n",
       "1978    197\n",
       "1979    197\n",
       "       ... \n",
       "2013    197\n",
       "2014    197\n",
       "2015    197\n",
       "2016    197\n",
       "2023    271\n",
       "Name: count, Length: 43, dtype: int64"
      ]
     },
     "execution_count": 87,
     "metadata": {},
     "output_type": "execute_result"
    }
   ],
   "source": [
    "df['Jahr'].value_counts().sort_index()"
   ]
  },
  {
   "cell_type": "code",
   "execution_count": 88,
   "id": "ad4adf97",
   "metadata": {},
   "outputs": [
    {
     "data": {
      "image/png": "[encoded data removed]",
      "text/plain": [
       "<Figure size 640x480 with 1 Axes>"
      ]
     },
     "metadata": {},
     "output_type": "display_data"
    }
   ],
   "source": [
    "Graph_3 = df['Jahr'].value_counts().sort_index().plot(\n",
    "    title = 'Anzahl Daten Punkte pro Jahr',\n",
    "    kind='line',\n",
    "    ylabel='Anzahl Datenpunkte'\n",
    ")\n",
    "Graph_3.legend(); \n",
    "# Legende umbennen!!"
   ]
  },
  {
   "cell_type": "markdown",
   "id": "d2bc51be",
   "metadata": {},
   "source": [
    "### 3.4 Analyse Prävalenz "
   ]
  },
  {
   "cell_type": "code",
   "execution_count": 89,
   "id": "842f1cfd",
   "metadata": {},
   "outputs": [
    {
     "data": {
      "text/html": [
       "<div>\n",
       "<style scoped>\n",
       "    .dataframe tbody tr th:only-of-type {\n",
       "        vertical-align: middle;\n",
       "    }\n",
       "\n",
       "    .dataframe tbody tr th {\n",
       "        vertical-align: top;\n",
       "    }\n",
       "\n",
       "    .dataframe thead th {\n",
       "        text-align: right;\n",
       "    }\n",
       "</style>\n",
       "<table border=\"1\" class=\"dataframe\">\n",
       "  <thead>\n",
       "    <tr style=\"text-align: right;\">\n",
       "      <th></th>\n",
       "      <th>Jahr</th>\n",
       "      <th>Übergewicht_Prävalenz_Männer_18+</th>\n",
       "      <th>Übergewicht_Prävalenz_Frauen_18+</th>\n",
       "    </tr>\n",
       "  </thead>\n",
       "  <tbody>\n",
       "    <tr>\n",
       "      <th>count</th>\n",
       "      <td>8545.00</td>\n",
       "      <td>8274.00</td>\n",
       "      <td>8274.00</td>\n",
       "    </tr>\n",
       "    <tr>\n",
       "      <th>mean</th>\n",
       "      <td>1996.37</td>\n",
       "      <td>9.26</td>\n",
       "      <td>15.42</td>\n",
       "    </tr>\n",
       "    <tr>\n",
       "      <th>std</th>\n",
       "      <td>12.86</td>\n",
       "      <td>8.93</td>\n",
       "      <td>11.25</td>\n",
       "    </tr>\n",
       "    <tr>\n",
       "      <th>min</th>\n",
       "      <td>1975.00</td>\n",
       "      <td>0.10</td>\n",
       "      <td>0.20</td>\n",
       "    </tr>\n",
       "    <tr>\n",
       "      <th>25%</th>\n",
       "      <td>1985.00</td>\n",
       "      <td>2.00</td>\n",
       "      <td>6.50</td>\n",
       "    </tr>\n",
       "    <tr>\n",
       "      <th>50%</th>\n",
       "      <td>1996.00</td>\n",
       "      <td>6.90</td>\n",
       "      <td>13.90</td>\n",
       "    </tr>\n",
       "    <tr>\n",
       "      <th>75%</th>\n",
       "      <td>2007.00</td>\n",
       "      <td>14.10</td>\n",
       "      <td>21.40</td>\n",
       "    </tr>\n",
       "    <tr>\n",
       "      <th>max</th>\n",
       "      <td>2023.00</td>\n",
       "      <td>58.70</td>\n",
       "      <td>63.30</td>\n",
       "    </tr>\n",
       "  </tbody>\n",
       "</table>\n",
       "</div>"
      ],
      "text/plain": [
       "          Jahr  Übergewicht_Prävalenz_Männer_18+  \\\n",
       "count  8545.00                           8274.00   \n",
       "mean   1996.37                              9.26   \n",
       "std      12.86                              8.93   \n",
       "min    1975.00                              0.10   \n",
       "25%    1985.00                              2.00   \n",
       "50%    1996.00                              6.90   \n",
       "75%    2007.00                             14.10   \n",
       "max    2023.00                             58.70   \n",
       "\n",
       "       Übergewicht_Prävalenz_Frauen_18+  \n",
       "count                           8274.00  \n",
       "mean                              15.42  \n",
       "std                               11.25  \n",
       "min                                0.20  \n",
       "25%                                6.50  \n",
       "50%                               13.90  \n",
       "75%                               21.40  \n",
       "max                               63.30  "
      ]
     },
     "execution_count": 89,
     "metadata": {},
     "output_type": "execute_result"
    }
   ],
   "source": [
    "df.describe().round(2)"
   ]
  },
  {
   "cell_type": "code",
   "execution_count": 90,
   "id": "c7a0a5bf",
   "metadata": {},
   "outputs": [],
   "source": [
    "Summe_Frauen = round(df['Übergewicht_Prävalenz_Frauen_18+'].sum(),2)\n",
    "Mittelwert_Frauen = round(df['Übergewicht_Prävalenz_Frauen_18+'].mean(),2)\n",
    "Median_Frauen = round(df['Übergewicht_Prävalenz_Frauen_18+'].median(),2)\n",
    "Standardabweichung_Frauen = round(df['Übergewicht_Prävalenz_Frauen_18+'].std(),2)"
   ]
  },
  {
   "cell_type": "code",
   "execution_count": 91,
   "id": "cfb6c921",
   "metadata": {},
   "outputs": [
    {
     "name": "stdout",
     "output_type": "stream",
     "text": [
      "Mittelwert: 15.42 Prozent der Frauen sind übergewichtig\n",
      "Summe: 127556.3\n",
      "Median: 13.9\n",
      "Standardabweichung: 11.25\n"
     ]
    }
   ],
   "source": [
    "print('Mittelwert:', Mittelwert_Frauen, 'Prozent der Frauen sind übergewichtig')\n",
    "print('Summe:', Summe_Frauen)\n",
    "print('Median:', Median_Frauen)\n",
    "print('Standardabweichung:', Standardabweichung_Frauen)"
   ]
  },
  {
   "cell_type": "code",
   "execution_count": 92,
   "id": "c536d9e3",
   "metadata": {},
   "outputs": [
    {
     "data": {
      "image/png": "[encoded data removed]",
      "text/plain": [
       "<Figure size 640x480 with 1 Axes>"
      ]
     },
     "metadata": {},
     "output_type": "display_data"
    }
   ],
   "source": [
    "Histo_Frau = df['Übergewicht_Prävalenz_Frauen_18+'].plot(\n",
    "    color = 'paleturquoise',\n",
    "    kind = 'hist',\n",
    "    bins = 10, \n",
    "    alpha = 0.8,\n",
    "    ylabel = 'Häufigkeit der Anzahl Datenpunkte',\n",
    "    xlabel = 'Prävalenz in Prozent von Frauen',\n",
    "    title = 'Häufigkeit der Prävalenz bei Frauen'\n",
    "    )\n",
    "\n",
    "Histo_Frau.axvline(x=df['Übergewicht_Prävalenz_Frauen_18+'].mean(), \n",
    "                   color = 'dodgerblue',\n",
    "                   label = f'Mittelwert = {Mittelwert_Frauen:.2f}')\n",
    "\n",
    "Histo_Frau.axvline(x=df['Übergewicht_Prävalenz_Frauen_18+'].median(), \n",
    "                   color = 'crimson',\n",
    "                   label = f'Median = {Median_Frauen:.2f}')\n",
    "\n",
    "Histo_Frau.legend(); \n",
    "# zählt wie oft kommt diese Prävalenz ion allen Ländern in allen Jahren vor"
   ]
  },
  {
   "cell_type": "code",
   "execution_count": 93,
   "id": "febbbc50",
   "metadata": {},
   "outputs": [],
   "source": [
    "Summe_Männer = round(df['Übergewicht_Prävalenz_Männer_18+'].sum(),2)\n",
    "Mittelwert_Männer = round(df['Übergewicht_Prävalenz_Männer_18+'].mean(),2)\n",
    "Median_Männer = round(df['Übergewicht_Prävalenz_Männer_18+'].median(),2)\n",
    "Standardabweichung_Männer = round(df['Übergewicht_Prävalenz_Männer_18+'].std(),2)"
   ]
  },
  {
   "cell_type": "code",
   "execution_count": 94,
   "id": "299d22d6",
   "metadata": {},
   "outputs": [
    {
     "name": "stdout",
     "output_type": "stream",
     "text": [
      "Mittelwert: 9.26 Prozent der Männer sind übergewichtig\n",
      "Summe: 76634.1\n",
      "Median: 6.9\n",
      "Standardabweichung: 8.93\n"
     ]
    }
   ],
   "source": [
    "print('Mittelwert:', Mittelwert_Männer, 'Prozent der Männer sind übergewichtig')\n",
    "print('Summe:', Summe_Männer)\n",
    "print('Median:', Median_Männer)\n",
    "print('Standardabweichung:', Standardabweichung_Männer)"
   ]
  },
  {
   "cell_type": "code",
   "execution_count": 99,
   "id": "95f67ca9",
   "metadata": {},
   "outputs": [
    {
     "name": "stdout",
     "output_type": "stream",
     "text": [
      "Die Breite eines Balkens beträgt: 5.86\n"
     ]
    },
    {
     "data": {
      "image/png": "[encoded data removed]",
      "text/plain": [
       "<Figure size 640x480 with 1 Axes>"
      ]
     },
     "metadata": {},
     "output_type": "display_data"
    }
   ],
   "source": [
    "Histo_Mann = df['Übergewicht_Prävalenz_Männer_18+'].plot(\n",
    "    color = 'palegreen',\n",
    "    title = 'Häufigkeit der Prävalenz bei Männern',\n",
    "    kind = 'hist',\n",
    "    bins = 10, \n",
    "    alpha = 0.7,\n",
    "    ylabel = 'Häufigkeit der Anzahl Datenpunkte',\n",
    "    xlabel = 'Prävalenz in Prozent von Männern',\n",
    "    )\n",
    "\n",
    "Histo_Mann.axvline(x=df['Übergewicht_Prävalenz_Männer_18+'].mean(), \n",
    "                   color = 'dodgerblue',\n",
    "                   label = f'Mittelwert = {Mittelwert_Männer:.2f}')\n",
    "\n",
    "Histo_Mann.axvline(x=df['Übergewicht_Prävalenz_Männer_18+'].median(), \n",
    "                   color = 'crimson',\n",
    "                   label = f'Median = {Median_Männer:.2f}')\n",
    "\n",
    "plt.xticks(np.arange(0,60,5.86))\n",
    "\n",
    "Histo_Mann.legend(); \n",
    "\n",
    "#Code um Balkenbreite herauszufinden, um Histogramm x-Achsenbeschriftung besser\n",
    "bar_width = Histo_Mann.patches[0].get_width()\n",
    "print(f\"Die Breite eines Balkens beträgt: {bar_width}\")"
   ]
  },
  {
   "cell_type": "markdown",
   "id": "bbdf3294",
   "metadata": {},
   "source": [
    "## 4. Analyse \n",
    "\n",
    "### Vorgehen\n",
    "- Spezifische Untersuchung der Fragestellung (Berechnungen)\n",
    "- Visualisieren der Resultate: Verwendet Achsenbeschriftung und überlegt euch, welche Art von Darstellung sinnvoll ist (Kuchen-, Säulen, Liniendiagramm; 2 y-Achsen?)\n",
    "- Beschreiben der Beobachtungen\n",
    "- Interpretation der Resultate (Hypothesen zu den Resultaten)\n",
    "- Untermauern der Interpretation mittels Hinweise zur Literatur (Mögliche Zusammenhänge aufzeigen).\n",
    "\n"
   ]
  },
  {
   "cell_type": "code",
   "execution_count": null,
   "metadata": {},
   "outputs": [],
   "source": []
  }
 ],
 "metadata": {
  "kernelspec": {
   "display_name": "base",
   "language": "python",
   "name": "python3"
  },
  "language_info": {
   "codemirror_mode": {
    "name": "ipython",
    "version": 3
   },
   "file_extension": ".py",
   "mimetype": "text/x-python",
   "name": "python",
   "nbconvert_exporter": "python",
   "pygments_lexer": "ipython3",
   "version": "3.12.4"
  }
 },
 "nbformat": 4,
 "nbformat_minor": 5
}

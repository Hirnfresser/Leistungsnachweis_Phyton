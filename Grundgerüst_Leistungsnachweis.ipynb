{
 "cells": [
  {
   "cell_type": "markdown",
   "id": "2341b96f",
   "metadata": {},
   "source": [
    "\n",
    "## Struktur\n",
    "1. Fragestellung(en) und Datenbeschaffung\n",
    "2. Daten laden\n",
    "3. Daten vorbereiten\n",
    "4. Statistik der Rohdaten (Generell im Longformat)\n",
    "5. Analyse der Daten\n",
    "\n",
    "**Wichtig:** Alle graphischen Darstellungen sollten mindestens *Titel, Ticks- und Achsenbeschriftung* beinhalten (Siehe plots im Leistungsnachweisbeispiel)\n",
    "\n",
    "---"
   ]
  },
  {
   "cell_type": "markdown",
   "id": "f9e9bf68",
   "metadata": {},
   "source": [
    "## Übergewicht in verschiedenen Ländern\n",
    "**Gruppenmitglieder:** Molignini Alessia, Keel Noëlle, Stettler Sara\n",
    "\n",
    "### Fragestellung:\n",
    "- \"Welche drei Länder zeigen im Zeitraum von 1996 bis 2016 die grösste und kleinste Zunahme der Prävalenz von Übergewicht in der Gesamtbevölkerung, unabhänig vom Geschlecht?\"\n",
    "- \"Wo steht die Schweiz in diesem Vergleich?\"\n",
    "- \"Welche Unterschiede gibt es in diesen sieben Ländern (grösste und kleinste Zunahme der Prävalenz + Schweiz) zwischen Mann und Frau im Verlauf des Zeitraumes 1996-2016?\"\n",
    "### Datenquelle(n):\n",
    "**Quellen:** \n",
    "- erster Datensatz: https://ourworldindata.org/grapher/obesity-in-men-vs-obesity-in-women\n",
    "- zweiter Datensatz: https://ourworldindata.org/obesity (4. Darstellung,\"What share of adults are obese?\")"
   ]
  },
  {
   "cell_type": "markdown",
   "id": "5b53da08",
   "metadata": {},
   "source": [
    "### 1. Daten beschaffen und laden"
   ]
  },
  {
   "cell_type": "code",
   "execution_count": 2,
   "id": "a27050af",
   "metadata": {},
   "outputs": [],
   "source": [
    "import pandas as pd\n",
    "import seaborn as sns\n",
    "from matplotlib import pyplot as plt\n",
    "import numpy as np\n",
    "import plotly.express as px\n",
    "from matplotlib import colormaps"
   ]
  },
  {
   "cell_type": "code",
   "execution_count": 3,
   "id": "a262d76c",
   "metadata": {},
   "outputs": [],
   "source": [
    "pd.set_option('display.max_rows', 10) "
   ]
  },
  {
   "cell_type": "markdown",
   "id": "a3e7a1d9",
   "metadata": {},
   "source": [
    "### 1. Datensatz"
   ]
  },
  {
   "cell_type": "code",
   "execution_count": 4,
   "id": "736f195a",
   "metadata": {},
   "outputs": [
    {
     "data": {
      "text/html": [
       "<div>\n",
       "<style scoped>\n",
       "    .dataframe tbody tr th:only-of-type {\n",
       "        vertical-align: middle;\n",
       "    }\n",
       "\n",
       "    .dataframe tbody tr th {\n",
       "        vertical-align: top;\n",
       "    }\n",
       "\n",
       "    .dataframe thead th {\n",
       "        text-align: right;\n",
       "    }\n",
       "</style>\n",
       "<table border=\"1\" class=\"dataframe\">\n",
       "  <thead>\n",
       "    <tr style=\"text-align: right;\">\n",
       "      <th></th>\n",
       "      <th>Entity</th>\n",
       "      <th>Code</th>\n",
       "      <th>Year</th>\n",
       "      <th>Prevalence of obesity among adults, BMI &gt;= 30 (age-standardized estimate) (%) - Sex: male - Age group: 18+  years</th>\n",
       "      <th>Prevalence of obesity among adults, BMI &gt;= 30 (age-standardized estimate) (%) - Sex: female - Age group: 18+  years</th>\n",
       "      <th>World regions according to OWID</th>\n",
       "    </tr>\n",
       "  </thead>\n",
       "  <tbody>\n",
       "    <tr>\n",
       "      <th>0</th>\n",
       "      <td>Afghanistan</td>\n",
       "      <td>AFG</td>\n",
       "      <td>1975</td>\n",
       "      <td>0.2</td>\n",
       "      <td>0.8</td>\n",
       "      <td>NaN</td>\n",
       "    </tr>\n",
       "    <tr>\n",
       "      <th>1</th>\n",
       "      <td>Afghanistan</td>\n",
       "      <td>AFG</td>\n",
       "      <td>1976</td>\n",
       "      <td>0.2</td>\n",
       "      <td>0.8</td>\n",
       "      <td>NaN</td>\n",
       "    </tr>\n",
       "    <tr>\n",
       "      <th>2</th>\n",
       "      <td>Afghanistan</td>\n",
       "      <td>AFG</td>\n",
       "      <td>1977</td>\n",
       "      <td>0.2</td>\n",
       "      <td>0.9</td>\n",
       "      <td>NaN</td>\n",
       "    </tr>\n",
       "    <tr>\n",
       "      <th>3</th>\n",
       "      <td>Afghanistan</td>\n",
       "      <td>AFG</td>\n",
       "      <td>1978</td>\n",
       "      <td>0.2</td>\n",
       "      <td>0.9</td>\n",
       "      <td>NaN</td>\n",
       "    </tr>\n",
       "    <tr>\n",
       "      <th>4</th>\n",
       "      <td>Afghanistan</td>\n",
       "      <td>AFG</td>\n",
       "      <td>1979</td>\n",
       "      <td>0.3</td>\n",
       "      <td>1.0</td>\n",
       "      <td>NaN</td>\n",
       "    </tr>\n",
       "  </tbody>\n",
       "</table>\n",
       "</div>"
      ],
      "text/plain": [
       "        Entity Code  Year  \\\n",
       "0  Afghanistan  AFG  1975   \n",
       "1  Afghanistan  AFG  1976   \n",
       "2  Afghanistan  AFG  1977   \n",
       "3  Afghanistan  AFG  1978   \n",
       "4  Afghanistan  AFG  1979   \n",
       "\n",
       "   Prevalence of obesity among adults, BMI >= 30 (age-standardized estimate) (%) - Sex: male - Age group: 18+  years  \\\n",
       "0                                                0.2                                                                   \n",
       "1                                                0.2                                                                   \n",
       "2                                                0.2                                                                   \n",
       "3                                                0.2                                                                   \n",
       "4                                                0.3                                                                   \n",
       "\n",
       "   Prevalence of obesity among adults, BMI >= 30 (age-standardized estimate) (%) - Sex: female - Age group: 18+  years  \\\n",
       "0                                                0.8                                                                     \n",
       "1                                                0.8                                                                     \n",
       "2                                                0.9                                                                     \n",
       "3                                                0.9                                                                     \n",
       "4                                                1.0                                                                     \n",
       "\n",
       "  World regions according to OWID  \n",
       "0                             NaN  \n",
       "1                             NaN  \n",
       "2                             NaN  \n",
       "3                             NaN  \n",
       "4                             NaN  "
      ]
     },
     "execution_count": 4,
     "metadata": {},
     "output_type": "execute_result"
    }
   ],
   "source": [
    "df_einzeln = pd.read_csv('obesity-in-men-vs-obesity-in-women.csv')\n",
    "\n",
    "df_einzeln.head()"
   ]
  },
  {
   "cell_type": "code",
   "execution_count": 5,
   "id": "7058df09",
   "metadata": {},
   "outputs": [
    {
     "data": {
      "text/html": [
       "<div>\n",
       "<style scoped>\n",
       "    .dataframe tbody tr th:only-of-type {\n",
       "        vertical-align: middle;\n",
       "    }\n",
       "\n",
       "    .dataframe tbody tr th {\n",
       "        vertical-align: top;\n",
       "    }\n",
       "\n",
       "    .dataframe thead th {\n",
       "        text-align: right;\n",
       "    }\n",
       "</style>\n",
       "<table border=\"1\" class=\"dataframe\">\n",
       "  <thead>\n",
       "    <tr style=\"text-align: right;\">\n",
       "      <th></th>\n",
       "      <th>Land</th>\n",
       "      <th>Kürzel</th>\n",
       "      <th>Jahr</th>\n",
       "      <th>Übergewicht_Prävalenz_Männer_18+</th>\n",
       "      <th>Übergewicht_Prävalenz_Frauen_18+</th>\n",
       "      <th>Weltregionen_gemäss_OWID</th>\n",
       "    </tr>\n",
       "  </thead>\n",
       "  <tbody>\n",
       "    <tr>\n",
       "      <th>0</th>\n",
       "      <td>Afghanistan</td>\n",
       "      <td>AFG</td>\n",
       "      <td>1975</td>\n",
       "      <td>0.2</td>\n",
       "      <td>0.8</td>\n",
       "      <td>NaN</td>\n",
       "    </tr>\n",
       "    <tr>\n",
       "      <th>1</th>\n",
       "      <td>Afghanistan</td>\n",
       "      <td>AFG</td>\n",
       "      <td>1976</td>\n",
       "      <td>0.2</td>\n",
       "      <td>0.8</td>\n",
       "      <td>NaN</td>\n",
       "    </tr>\n",
       "    <tr>\n",
       "      <th>2</th>\n",
       "      <td>Afghanistan</td>\n",
       "      <td>AFG</td>\n",
       "      <td>1977</td>\n",
       "      <td>0.2</td>\n",
       "      <td>0.9</td>\n",
       "      <td>NaN</td>\n",
       "    </tr>\n",
       "    <tr>\n",
       "      <th>3</th>\n",
       "      <td>Afghanistan</td>\n",
       "      <td>AFG</td>\n",
       "      <td>1978</td>\n",
       "      <td>0.2</td>\n",
       "      <td>0.9</td>\n",
       "      <td>NaN</td>\n",
       "    </tr>\n",
       "    <tr>\n",
       "      <th>4</th>\n",
       "      <td>Afghanistan</td>\n",
       "      <td>AFG</td>\n",
       "      <td>1979</td>\n",
       "      <td>0.3</td>\n",
       "      <td>1.0</td>\n",
       "      <td>NaN</td>\n",
       "    </tr>\n",
       "  </tbody>\n",
       "</table>\n",
       "</div>"
      ],
      "text/plain": [
       "          Land Kürzel  Jahr  Übergewicht_Prävalenz_Männer_18+  \\\n",
       "0  Afghanistan    AFG  1975                               0.2   \n",
       "1  Afghanistan    AFG  1976                               0.2   \n",
       "2  Afghanistan    AFG  1977                               0.2   \n",
       "3  Afghanistan    AFG  1978                               0.2   \n",
       "4  Afghanistan    AFG  1979                               0.3   \n",
       "\n",
       "   Übergewicht_Prävalenz_Frauen_18+ Weltregionen_gemäss_OWID  \n",
       "0                               0.8                      NaN  \n",
       "1                               0.8                      NaN  \n",
       "2                               0.9                      NaN  \n",
       "3                               0.9                      NaN  \n",
       "4                               1.0                      NaN  "
      ]
     },
     "execution_count": 5,
     "metadata": {},
     "output_type": "execute_result"
    }
   ],
   "source": [
    "df_einzeln = pd.read_csv('obesity-in-men-vs-obesity-in-women.csv', skiprows=1,\n",
    "                 names=['Land','Kürzel','Jahr','Übergewicht_Prävalenz_Männer_18+','Übergewicht_Prävalenz_Frauen_18+','Weltregionen_gemäss_OWID'])\n",
    "\n",
    "df_einzeln.head()"
   ]
  },
  {
   "cell_type": "markdown",
   "id": "096662c0",
   "metadata": {},
   "source": [
    "### 2. Datensatz"
   ]
  },
  {
   "cell_type": "code",
   "execution_count": 6,
   "id": "d78399a4",
   "metadata": {},
   "outputs": [
    {
     "data": {
      "text/html": [
       "<div>\n",
       "<style scoped>\n",
       "    .dataframe tbody tr th:only-of-type {\n",
       "        vertical-align: middle;\n",
       "    }\n",
       "\n",
       "    .dataframe tbody tr th {\n",
       "        vertical-align: top;\n",
       "    }\n",
       "\n",
       "    .dataframe thead th {\n",
       "        text-align: right;\n",
       "    }\n",
       "</style>\n",
       "<table border=\"1\" class=\"dataframe\">\n",
       "  <thead>\n",
       "    <tr style=\"text-align: right;\">\n",
       "      <th></th>\n",
       "      <th>Entity</th>\n",
       "      <th>Code</th>\n",
       "      <th>Year</th>\n",
       "      <th>Prevalence of obesity among adults, BMI &gt;= 30 (crude estimate) (%) - Sex: both sexes - Age group: 18+  years</th>\n",
       "    </tr>\n",
       "  </thead>\n",
       "  <tbody>\n",
       "    <tr>\n",
       "      <th>0</th>\n",
       "      <td>Afghanistan</td>\n",
       "      <td>AFG</td>\n",
       "      <td>1975</td>\n",
       "      <td>0.4</td>\n",
       "    </tr>\n",
       "    <tr>\n",
       "      <th>1</th>\n",
       "      <td>Afghanistan</td>\n",
       "      <td>AFG</td>\n",
       "      <td>1976</td>\n",
       "      <td>0.4</td>\n",
       "    </tr>\n",
       "    <tr>\n",
       "      <th>2</th>\n",
       "      <td>Afghanistan</td>\n",
       "      <td>AFG</td>\n",
       "      <td>1977</td>\n",
       "      <td>0.5</td>\n",
       "    </tr>\n",
       "    <tr>\n",
       "      <th>3</th>\n",
       "      <td>Afghanistan</td>\n",
       "      <td>AFG</td>\n",
       "      <td>1978</td>\n",
       "      <td>0.5</td>\n",
       "    </tr>\n",
       "    <tr>\n",
       "      <th>4</th>\n",
       "      <td>Afghanistan</td>\n",
       "      <td>AFG</td>\n",
       "      <td>1979</td>\n",
       "      <td>0.5</td>\n",
       "    </tr>\n",
       "    <tr>\n",
       "      <th>...</th>\n",
       "      <td>...</td>\n",
       "      <td>...</td>\n",
       "      <td>...</td>\n",
       "      <td>...</td>\n",
       "    </tr>\n",
       "    <tr>\n",
       "      <th>8269</th>\n",
       "      <td>Zimbabwe</td>\n",
       "      <td>ZWE</td>\n",
       "      <td>2012</td>\n",
       "      <td>11.1</td>\n",
       "    </tr>\n",
       "    <tr>\n",
       "      <th>8270</th>\n",
       "      <td>Zimbabwe</td>\n",
       "      <td>ZWE</td>\n",
       "      <td>2013</td>\n",
       "      <td>11.3</td>\n",
       "    </tr>\n",
       "    <tr>\n",
       "      <th>8271</th>\n",
       "      <td>Zimbabwe</td>\n",
       "      <td>ZWE</td>\n",
       "      <td>2014</td>\n",
       "      <td>11.6</td>\n",
       "    </tr>\n",
       "    <tr>\n",
       "      <th>8272</th>\n",
       "      <td>Zimbabwe</td>\n",
       "      <td>ZWE</td>\n",
       "      <td>2015</td>\n",
       "      <td>11.9</td>\n",
       "    </tr>\n",
       "    <tr>\n",
       "      <th>8273</th>\n",
       "      <td>Zimbabwe</td>\n",
       "      <td>ZWE</td>\n",
       "      <td>2016</td>\n",
       "      <td>12.3</td>\n",
       "    </tr>\n",
       "  </tbody>\n",
       "</table>\n",
       "<p>8274 rows × 4 columns</p>\n",
       "</div>"
      ],
      "text/plain": [
       "           Entity Code  Year  \\\n",
       "0     Afghanistan  AFG  1975   \n",
       "1     Afghanistan  AFG  1976   \n",
       "2     Afghanistan  AFG  1977   \n",
       "3     Afghanistan  AFG  1978   \n",
       "4     Afghanistan  AFG  1979   \n",
       "...           ...  ...   ...   \n",
       "8269     Zimbabwe  ZWE  2012   \n",
       "8270     Zimbabwe  ZWE  2013   \n",
       "8271     Zimbabwe  ZWE  2014   \n",
       "8272     Zimbabwe  ZWE  2015   \n",
       "8273     Zimbabwe  ZWE  2016   \n",
       "\n",
       "      Prevalence of obesity among adults, BMI >= 30 (crude estimate) (%) - Sex: both sexes - Age group: 18+  years  \n",
       "0                                                   0.4                                                             \n",
       "1                                                   0.4                                                             \n",
       "2                                                   0.5                                                             \n",
       "3                                                   0.5                                                             \n",
       "4                                                   0.5                                                             \n",
       "...                                                 ...                                                             \n",
       "8269                                               11.1                                                             \n",
       "8270                                               11.3                                                             \n",
       "8271                                               11.6                                                             \n",
       "8272                                               11.9                                                             \n",
       "8273                                               12.3                                                             \n",
       "\n",
       "[8274 rows x 4 columns]"
      ]
     },
     "execution_count": 6,
     "metadata": {},
     "output_type": "execute_result"
    }
   ],
   "source": [
    "df_zsm = pd.read_csv('share-of-adults-defined-as-obese.csv')\n",
    "\n",
    "df_zsm"
   ]
  },
  {
   "cell_type": "code",
   "execution_count": 7,
   "id": "db7c35a4",
   "metadata": {},
   "outputs": [
    {
     "data": {
      "text/html": [
       "<div>\n",
       "<style scoped>\n",
       "    .dataframe tbody tr th:only-of-type {\n",
       "        vertical-align: middle;\n",
       "    }\n",
       "\n",
       "    .dataframe tbody tr th {\n",
       "        vertical-align: top;\n",
       "    }\n",
       "\n",
       "    .dataframe thead th {\n",
       "        text-align: right;\n",
       "    }\n",
       "</style>\n",
       "<table border=\"1\" class=\"dataframe\">\n",
       "  <thead>\n",
       "    <tr style=\"text-align: right;\">\n",
       "      <th></th>\n",
       "      <th>Land</th>\n",
       "      <th>Kürzel</th>\n",
       "      <th>Jahr</th>\n",
       "      <th>Übergewicht_Prävalenz_18+_unabhängig_Geschlecht</th>\n",
       "    </tr>\n",
       "  </thead>\n",
       "  <tbody>\n",
       "    <tr>\n",
       "      <th>0</th>\n",
       "      <td>Afghanistan</td>\n",
       "      <td>AFG</td>\n",
       "      <td>1975</td>\n",
       "      <td>0.4</td>\n",
       "    </tr>\n",
       "    <tr>\n",
       "      <th>1</th>\n",
       "      <td>Afghanistan</td>\n",
       "      <td>AFG</td>\n",
       "      <td>1976</td>\n",
       "      <td>0.4</td>\n",
       "    </tr>\n",
       "    <tr>\n",
       "      <th>2</th>\n",
       "      <td>Afghanistan</td>\n",
       "      <td>AFG</td>\n",
       "      <td>1977</td>\n",
       "      <td>0.5</td>\n",
       "    </tr>\n",
       "    <tr>\n",
       "      <th>3</th>\n",
       "      <td>Afghanistan</td>\n",
       "      <td>AFG</td>\n",
       "      <td>1978</td>\n",
       "      <td>0.5</td>\n",
       "    </tr>\n",
       "    <tr>\n",
       "      <th>4</th>\n",
       "      <td>Afghanistan</td>\n",
       "      <td>AFG</td>\n",
       "      <td>1979</td>\n",
       "      <td>0.5</td>\n",
       "    </tr>\n",
       "  </tbody>\n",
       "</table>\n",
       "</div>"
      ],
      "text/plain": [
       "          Land Kürzel  Jahr  Übergewicht_Prävalenz_18+_unabhängig_Geschlecht\n",
       "0  Afghanistan    AFG  1975                                              0.4\n",
       "1  Afghanistan    AFG  1976                                              0.4\n",
       "2  Afghanistan    AFG  1977                                              0.5\n",
       "3  Afghanistan    AFG  1978                                              0.5\n",
       "4  Afghanistan    AFG  1979                                              0.5"
      ]
     },
     "execution_count": 7,
     "metadata": {},
     "output_type": "execute_result"
    }
   ],
   "source": [
    "df_zsm = pd.read_csv('share-of-adults-defined-as-obese.csv', skiprows=1,\n",
    "                 names=['Land','Kürzel','Jahr','Übergewicht_Prävalenz_18+_unabhängig_Geschlecht'])\n",
    "\n",
    "df_zsm.head()"
   ]
  },
  {
   "cell_type": "markdown",
   "id": "25d1e798",
   "metadata": {},
   "source": [
    "## 2. Daten vorbereiten"
   ]
  },
  {
   "cell_type": "markdown",
   "id": "ab73c26a",
   "metadata": {},
   "source": [
    "- Beide Datensätze waren ursprünglich im Long Format und wurden für die Analyse ins Wide Format pivotiert. \n",
    "- Im ersten Datensatz sind die Spalten so strukturiert, dass jede Kombination aus Jahr und Kategorie (Übergewicht Frauen/Männer) eine eigene Spalte darstellt.\n",
    "- Im zweiten Datensatz sind die Jahre als Spalten strukturiert.\n",
    "</br></br>\n",
    "- Das wide Format wurde verwendet um eine zeitliche Analyse (1996-2016) der Prävalenz durchzuführen. Ebenfalls wurde die Differenz von der Zunahme der Prävalenz dargestellt.\n",
    "- Das long Format wurde für die Darstellung der Unterschiede zwischen Mann und Frau der sieben untersuchten Länder verwendet.\n",
    "</br></br>\n",
    "- Es kommen folgende Datentypen vor: object (Land, Kürzel, Weltregionen gemäss OWID), int64 (Jahr), float64 (Prävalenzwerte). Dabei sind object die Textfelder, int64 sind Ganzzahlen und float64 Fliesskommazahlen. Diese Datentypen geben an, dass im ersten Datensatz sowohl kategoriale (Text-)Daten als auch numerische Werte vorhanden sind."
   ]
  },
  {
   "cell_type": "markdown",
   "id": "07163b6d",
   "metadata": {},
   "source": [
    "### 1. Datensatz"
   ]
  },
  {
   "cell_type": "code",
   "execution_count": 8,
   "id": "ae9c320e",
   "metadata": {},
   "outputs": [
    {
     "data": {
      "text/plain": [
       "Land                                 object\n",
       "Kürzel                               object\n",
       "Jahr                                  int64\n",
       "Übergewicht_Prävalenz_Männer_18+    float64\n",
       "Übergewicht_Prävalenz_Frauen_18+    float64\n",
       "Weltregionen_gemäss_OWID             object\n",
       "dtype: object"
      ]
     },
     "execution_count": 8,
     "metadata": {},
     "output_type": "execute_result"
    }
   ],
   "source": [
    "df_einzeln.dtypes"
   ]
  },
  {
   "cell_type": "code",
   "execution_count": 9,
   "id": "862fe6b5",
   "metadata": {},
   "outputs": [
    {
     "data": {
      "text/html": [
       "<div>\n",
       "<style scoped>\n",
       "    .dataframe tbody tr th:only-of-type {\n",
       "        vertical-align: middle;\n",
       "    }\n",
       "\n",
       "    .dataframe tbody tr th {\n",
       "        vertical-align: top;\n",
       "    }\n",
       "\n",
       "    .dataframe thead tr th {\n",
       "        text-align: left;\n",
       "    }\n",
       "\n",
       "    .dataframe thead tr:last-of-type th {\n",
       "        text-align: right;\n",
       "    }\n",
       "</style>\n",
       "<table border=\"1\" class=\"dataframe\">\n",
       "  <thead>\n",
       "    <tr>\n",
       "      <th></th>\n",
       "      <th colspan=\"10\" halign=\"left\">Übergewicht_Prävalenz_Frauen_18+</th>\n",
       "      <th>...</th>\n",
       "      <th colspan=\"10\" halign=\"left\">Übergewicht_Prävalenz_Männer_18+</th>\n",
       "    </tr>\n",
       "    <tr>\n",
       "      <th>Jahr</th>\n",
       "      <th>1975</th>\n",
       "      <th>1976</th>\n",
       "      <th>1977</th>\n",
       "      <th>1978</th>\n",
       "      <th>1979</th>\n",
       "      <th>1980</th>\n",
       "      <th>1981</th>\n",
       "      <th>1982</th>\n",
       "      <th>1983</th>\n",
       "      <th>1984</th>\n",
       "      <th>...</th>\n",
       "      <th>2007</th>\n",
       "      <th>2008</th>\n",
       "      <th>2009</th>\n",
       "      <th>2010</th>\n",
       "      <th>2011</th>\n",
       "      <th>2012</th>\n",
       "      <th>2013</th>\n",
       "      <th>2014</th>\n",
       "      <th>2015</th>\n",
       "      <th>2016</th>\n",
       "    </tr>\n",
       "    <tr>\n",
       "      <th>Land</th>\n",
       "      <th></th>\n",
       "      <th></th>\n",
       "      <th></th>\n",
       "      <th></th>\n",
       "      <th></th>\n",
       "      <th></th>\n",
       "      <th></th>\n",
       "      <th></th>\n",
       "      <th></th>\n",
       "      <th></th>\n",
       "      <th></th>\n",
       "      <th></th>\n",
       "      <th></th>\n",
       "      <th></th>\n",
       "      <th></th>\n",
       "      <th></th>\n",
       "      <th></th>\n",
       "      <th></th>\n",
       "      <th></th>\n",
       "      <th></th>\n",
       "      <th></th>\n",
       "    </tr>\n",
       "  </thead>\n",
       "  <tbody>\n",
       "    <tr>\n",
       "      <th>Afghanistan</th>\n",
       "      <td>0.8</td>\n",
       "      <td>0.8</td>\n",
       "      <td>0.9</td>\n",
       "      <td>0.9</td>\n",
       "      <td>1.0</td>\n",
       "      <td>1.1</td>\n",
       "      <td>1.1</td>\n",
       "      <td>1.2</td>\n",
       "      <td>1.3</td>\n",
       "      <td>1.4</td>\n",
       "      <td>...</td>\n",
       "      <td>1.8</td>\n",
       "      <td>2.0</td>\n",
       "      <td>2.1</td>\n",
       "      <td>2.2</td>\n",
       "      <td>2.4</td>\n",
       "      <td>2.5</td>\n",
       "      <td>2.7</td>\n",
       "      <td>2.8</td>\n",
       "      <td>3.0</td>\n",
       "      <td>3.2</td>\n",
       "    </tr>\n",
       "    <tr>\n",
       "      <th>Africa (WHO)</th>\n",
       "      <td>3.3</td>\n",
       "      <td>3.5</td>\n",
       "      <td>3.6</td>\n",
       "      <td>3.7</td>\n",
       "      <td>3.9</td>\n",
       "      <td>4.0</td>\n",
       "      <td>4.2</td>\n",
       "      <td>4.4</td>\n",
       "      <td>4.6</td>\n",
       "      <td>4.8</td>\n",
       "      <td>...</td>\n",
       "      <td>3.7</td>\n",
       "      <td>3.8</td>\n",
       "      <td>4.0</td>\n",
       "      <td>4.2</td>\n",
       "      <td>4.4</td>\n",
       "      <td>4.6</td>\n",
       "      <td>4.9</td>\n",
       "      <td>5.1</td>\n",
       "      <td>5.3</td>\n",
       "      <td>5.6</td>\n",
       "    </tr>\n",
       "    <tr>\n",
       "      <th>Albania</th>\n",
       "      <td>8.6</td>\n",
       "      <td>8.8</td>\n",
       "      <td>8.9</td>\n",
       "      <td>9.1</td>\n",
       "      <td>9.3</td>\n",
       "      <td>9.5</td>\n",
       "      <td>9.7</td>\n",
       "      <td>9.9</td>\n",
       "      <td>10.1</td>\n",
       "      <td>10.3</td>\n",
       "      <td>...</td>\n",
       "      <td>15.5</td>\n",
       "      <td>16.1</td>\n",
       "      <td>16.8</td>\n",
       "      <td>17.4</td>\n",
       "      <td>18.1</td>\n",
       "      <td>18.8</td>\n",
       "      <td>19.5</td>\n",
       "      <td>20.2</td>\n",
       "      <td>20.9</td>\n",
       "      <td>21.6</td>\n",
       "    </tr>\n",
       "    <tr>\n",
       "      <th>Algeria</th>\n",
       "      <td>10.7</td>\n",
       "      <td>11.1</td>\n",
       "      <td>11.4</td>\n",
       "      <td>11.8</td>\n",
       "      <td>12.2</td>\n",
       "      <td>12.7</td>\n",
       "      <td>13.1</td>\n",
       "      <td>13.6</td>\n",
       "      <td>14.1</td>\n",
       "      <td>14.6</td>\n",
       "      <td>...</td>\n",
       "      <td>14.0</td>\n",
       "      <td>14.6</td>\n",
       "      <td>15.2</td>\n",
       "      <td>15.8</td>\n",
       "      <td>16.5</td>\n",
       "      <td>17.1</td>\n",
       "      <td>17.8</td>\n",
       "      <td>18.5</td>\n",
       "      <td>19.2</td>\n",
       "      <td>19.9</td>\n",
       "    </tr>\n",
       "    <tr>\n",
       "      <th>Americas (WHO)</th>\n",
       "      <td>11.5</td>\n",
       "      <td>11.9</td>\n",
       "      <td>12.2</td>\n",
       "      <td>12.6</td>\n",
       "      <td>12.9</td>\n",
       "      <td>13.3</td>\n",
       "      <td>13.7</td>\n",
       "      <td>14.1</td>\n",
       "      <td>14.5</td>\n",
       "      <td>14.9</td>\n",
       "      <td>...</td>\n",
       "      <td>21.1</td>\n",
       "      <td>21.6</td>\n",
       "      <td>22.2</td>\n",
       "      <td>22.7</td>\n",
       "      <td>23.2</td>\n",
       "      <td>23.7</td>\n",
       "      <td>24.3</td>\n",
       "      <td>24.8</td>\n",
       "      <td>25.4</td>\n",
       "      <td>25.9</td>\n",
       "    </tr>\n",
       "  </tbody>\n",
       "</table>\n",
       "<p>5 rows × 84 columns</p>\n",
       "</div>"
      ],
      "text/plain": [
       "               Übergewicht_Prävalenz_Frauen_18+                                \\\n",
       "Jahr                                       1975  1976  1977  1978  1979  1980   \n",
       "Land                                                                            \n",
       "Afghanistan                                 0.8   0.8   0.9   0.9   1.0   1.1   \n",
       "Africa (WHO)                                3.3   3.5   3.6   3.7   3.9   4.0   \n",
       "Albania                                     8.6   8.8   8.9   9.1   9.3   9.5   \n",
       "Algeria                                    10.7  11.1  11.4  11.8  12.2  12.7   \n",
       "Americas (WHO)                             11.5  11.9  12.2  12.6  12.9  13.3   \n",
       "\n",
       "                                        ... Übergewicht_Prävalenz_Männer_18+  \\\n",
       "Jahr            1981  1982  1983  1984  ...                             2007   \n",
       "Land                                    ...                                    \n",
       "Afghanistan      1.1   1.2   1.3   1.4  ...                              1.8   \n",
       "Africa (WHO)     4.2   4.4   4.6   4.8  ...                              3.7   \n",
       "Albania          9.7   9.9  10.1  10.3  ...                             15.5   \n",
       "Algeria         13.1  13.6  14.1  14.6  ...                             14.0   \n",
       "Americas (WHO)  13.7  14.1  14.5  14.9  ...                             21.1   \n",
       "\n",
       "                                                                      \n",
       "Jahr            2008  2009  2010  2011  2012  2013  2014  2015  2016  \n",
       "Land                                                                  \n",
       "Afghanistan      2.0   2.1   2.2   2.4   2.5   2.7   2.8   3.0   3.2  \n",
       "Africa (WHO)     3.8   4.0   4.2   4.4   4.6   4.9   5.1   5.3   5.6  \n",
       "Albania         16.1  16.8  17.4  18.1  18.8  19.5  20.2  20.9  21.6  \n",
       "Algeria         14.6  15.2  15.8  16.5  17.1  17.8  18.5  19.2  19.9  \n",
       "Americas (WHO)  21.6  22.2  22.7  23.2  23.7  24.3  24.8  25.4  25.9  \n",
       "\n",
       "[5 rows x 84 columns]"
      ]
     },
     "execution_count": 9,
     "metadata": {},
     "output_type": "execute_result"
    }
   ],
   "source": [
    "df_einzeln_pivot = df_einzeln.pivot_table(\n",
    "    index='Land', \n",
    "    columns='Jahr', \n",
    "    values=['Übergewicht_Prävalenz_Männer_18+', 'Übergewicht_Prävalenz_Frauen_18+'])\n",
    "df_einzeln_pivot.head()"
   ]
  },
  {
   "cell_type": "markdown",
   "id": "1f8b8f1c",
   "metadata": {},
   "source": [
    "### 2. Datensatz"
   ]
  },
  {
   "cell_type": "code",
   "execution_count": 10,
   "id": "ce948bc2",
   "metadata": {},
   "outputs": [
    {
     "data": {
      "text/plain": [
       "Land                                                object\n",
       "Kürzel                                              object\n",
       "Jahr                                                 int64\n",
       "Übergewicht_Prävalenz_18+_unabhängig_Geschlecht    float64\n",
       "dtype: object"
      ]
     },
     "execution_count": 10,
     "metadata": {},
     "output_type": "execute_result"
    }
   ],
   "source": [
    "df_zsm.dtypes"
   ]
  },
  {
   "cell_type": "code",
   "execution_count": 11,
   "id": "3b69f223",
   "metadata": {},
   "outputs": [
    {
     "data": {
      "text/html": [
       "<div>\n",
       "<style scoped>\n",
       "    .dataframe tbody tr th:only-of-type {\n",
       "        vertical-align: middle;\n",
       "    }\n",
       "\n",
       "    .dataframe tbody tr th {\n",
       "        vertical-align: top;\n",
       "    }\n",
       "\n",
       "    .dataframe thead tr th {\n",
       "        text-align: left;\n",
       "    }\n",
       "\n",
       "    .dataframe thead tr:last-of-type th {\n",
       "        text-align: right;\n",
       "    }\n",
       "</style>\n",
       "<table border=\"1\" class=\"dataframe\">\n",
       "  <thead>\n",
       "    <tr>\n",
       "      <th></th>\n",
       "      <th colspan=\"21\" halign=\"left\">Übergewicht_Prävalenz_18+_unabhängig_Geschlecht</th>\n",
       "    </tr>\n",
       "    <tr>\n",
       "      <th>Jahr</th>\n",
       "      <th>1975</th>\n",
       "      <th>1976</th>\n",
       "      <th>1977</th>\n",
       "      <th>1978</th>\n",
       "      <th>1979</th>\n",
       "      <th>1980</th>\n",
       "      <th>1981</th>\n",
       "      <th>1982</th>\n",
       "      <th>1983</th>\n",
       "      <th>1984</th>\n",
       "      <th>...</th>\n",
       "      <th>2007</th>\n",
       "      <th>2008</th>\n",
       "      <th>2009</th>\n",
       "      <th>2010</th>\n",
       "      <th>2011</th>\n",
       "      <th>2012</th>\n",
       "      <th>2013</th>\n",
       "      <th>2014</th>\n",
       "      <th>2015</th>\n",
       "      <th>2016</th>\n",
       "    </tr>\n",
       "    <tr>\n",
       "      <th>Land</th>\n",
       "      <th></th>\n",
       "      <th></th>\n",
       "      <th></th>\n",
       "      <th></th>\n",
       "      <th></th>\n",
       "      <th></th>\n",
       "      <th></th>\n",
       "      <th></th>\n",
       "      <th></th>\n",
       "      <th></th>\n",
       "      <th></th>\n",
       "      <th></th>\n",
       "      <th></th>\n",
       "      <th></th>\n",
       "      <th></th>\n",
       "      <th></th>\n",
       "      <th></th>\n",
       "      <th></th>\n",
       "      <th></th>\n",
       "      <th></th>\n",
       "      <th></th>\n",
       "    </tr>\n",
       "  </thead>\n",
       "  <tbody>\n",
       "    <tr>\n",
       "      <th>Afghanistan</th>\n",
       "      <td>0.4</td>\n",
       "      <td>0.4</td>\n",
       "      <td>0.5</td>\n",
       "      <td>0.5</td>\n",
       "      <td>0.5</td>\n",
       "      <td>0.6</td>\n",
       "      <td>0.6</td>\n",
       "      <td>0.6</td>\n",
       "      <td>0.7</td>\n",
       "      <td>0.7</td>\n",
       "      <td>...</td>\n",
       "      <td>2.8</td>\n",
       "      <td>2.9</td>\n",
       "      <td>3.1</td>\n",
       "      <td>3.3</td>\n",
       "      <td>3.5</td>\n",
       "      <td>3.7</td>\n",
       "      <td>3.9</td>\n",
       "      <td>4.1</td>\n",
       "      <td>4.3</td>\n",
       "      <td>4.5</td>\n",
       "    </tr>\n",
       "    <tr>\n",
       "      <th>Africa (WHO)</th>\n",
       "      <td>1.7</td>\n",
       "      <td>1.8</td>\n",
       "      <td>1.9</td>\n",
       "      <td>1.9</td>\n",
       "      <td>2.0</td>\n",
       "      <td>2.1</td>\n",
       "      <td>2.2</td>\n",
       "      <td>2.3</td>\n",
       "      <td>2.4</td>\n",
       "      <td>2.5</td>\n",
       "      <td>...</td>\n",
       "      <td>6.6</td>\n",
       "      <td>6.8</td>\n",
       "      <td>7.1</td>\n",
       "      <td>7.4</td>\n",
       "      <td>7.6</td>\n",
       "      <td>7.9</td>\n",
       "      <td>8.2</td>\n",
       "      <td>8.5</td>\n",
       "      <td>8.8</td>\n",
       "      <td>9.1</td>\n",
       "    </tr>\n",
       "    <tr>\n",
       "      <th>Albania</th>\n",
       "      <td>5.7</td>\n",
       "      <td>5.8</td>\n",
       "      <td>6.0</td>\n",
       "      <td>6.1</td>\n",
       "      <td>6.3</td>\n",
       "      <td>6.4</td>\n",
       "      <td>6.6</td>\n",
       "      <td>6.8</td>\n",
       "      <td>7.0</td>\n",
       "      <td>7.2</td>\n",
       "      <td>...</td>\n",
       "      <td>16.9</td>\n",
       "      <td>17.5</td>\n",
       "      <td>18.1</td>\n",
       "      <td>18.7</td>\n",
       "      <td>19.3</td>\n",
       "      <td>19.9</td>\n",
       "      <td>20.5</td>\n",
       "      <td>21.1</td>\n",
       "      <td>21.7</td>\n",
       "      <td>22.3</td>\n",
       "    </tr>\n",
       "    <tr>\n",
       "      <th>Algeria</th>\n",
       "      <td>5.9</td>\n",
       "      <td>6.1</td>\n",
       "      <td>6.2</td>\n",
       "      <td>6.4</td>\n",
       "      <td>6.7</td>\n",
       "      <td>6.9</td>\n",
       "      <td>7.2</td>\n",
       "      <td>7.4</td>\n",
       "      <td>7.8</td>\n",
       "      <td>8.1</td>\n",
       "      <td>...</td>\n",
       "      <td>19.2</td>\n",
       "      <td>19.9</td>\n",
       "      <td>20.7</td>\n",
       "      <td>21.4</td>\n",
       "      <td>22.2</td>\n",
       "      <td>23.1</td>\n",
       "      <td>23.9</td>\n",
       "      <td>24.8</td>\n",
       "      <td>25.7</td>\n",
       "      <td>26.6</td>\n",
       "    </tr>\n",
       "    <tr>\n",
       "      <th>Americas (WHO)</th>\n",
       "      <td>9.0</td>\n",
       "      <td>9.3</td>\n",
       "      <td>9.5</td>\n",
       "      <td>9.8</td>\n",
       "      <td>10.1</td>\n",
       "      <td>10.4</td>\n",
       "      <td>10.7</td>\n",
       "      <td>11.1</td>\n",
       "      <td>11.4</td>\n",
       "      <td>11.8</td>\n",
       "      <td>...</td>\n",
       "      <td>23.8</td>\n",
       "      <td>24.4</td>\n",
       "      <td>25.0</td>\n",
       "      <td>25.5</td>\n",
       "      <td>26.1</td>\n",
       "      <td>26.7</td>\n",
       "      <td>27.3</td>\n",
       "      <td>27.8</td>\n",
       "      <td>28.4</td>\n",
       "      <td>29.0</td>\n",
       "    </tr>\n",
       "    <tr>\n",
       "      <th>...</th>\n",
       "      <td>...</td>\n",
       "      <td>...</td>\n",
       "      <td>...</td>\n",
       "      <td>...</td>\n",
       "      <td>...</td>\n",
       "      <td>...</td>\n",
       "      <td>...</td>\n",
       "      <td>...</td>\n",
       "      <td>...</td>\n",
       "      <td>...</td>\n",
       "      <td>...</td>\n",
       "      <td>...</td>\n",
       "      <td>...</td>\n",
       "      <td>...</td>\n",
       "      <td>...</td>\n",
       "      <td>...</td>\n",
       "      <td>...</td>\n",
       "      <td>...</td>\n",
       "      <td>...</td>\n",
       "      <td>...</td>\n",
       "      <td>...</td>\n",
       "    </tr>\n",
       "    <tr>\n",
       "      <th>Vietnam</th>\n",
       "      <td>0.1</td>\n",
       "      <td>0.1</td>\n",
       "      <td>0.1</td>\n",
       "      <td>0.1</td>\n",
       "      <td>0.2</td>\n",
       "      <td>0.2</td>\n",
       "      <td>0.2</td>\n",
       "      <td>0.2</td>\n",
       "      <td>0.2</td>\n",
       "      <td>0.2</td>\n",
       "      <td>...</td>\n",
       "      <td>1.0</td>\n",
       "      <td>1.1</td>\n",
       "      <td>1.2</td>\n",
       "      <td>1.3</td>\n",
       "      <td>1.4</td>\n",
       "      <td>1.5</td>\n",
       "      <td>1.6</td>\n",
       "      <td>1.8</td>\n",
       "      <td>1.9</td>\n",
       "      <td>2.1</td>\n",
       "    </tr>\n",
       "    <tr>\n",
       "      <th>Western Pacific (WHO)</th>\n",
       "      <td>0.7</td>\n",
       "      <td>0.7</td>\n",
       "      <td>0.8</td>\n",
       "      <td>0.8</td>\n",
       "      <td>0.8</td>\n",
       "      <td>0.9</td>\n",
       "      <td>0.9</td>\n",
       "      <td>0.9</td>\n",
       "      <td>1.0</td>\n",
       "      <td>1.0</td>\n",
       "      <td>...</td>\n",
       "      <td>4.0</td>\n",
       "      <td>4.2</td>\n",
       "      <td>4.5</td>\n",
       "      <td>4.8</td>\n",
       "      <td>5.0</td>\n",
       "      <td>5.3</td>\n",
       "      <td>5.7</td>\n",
       "      <td>6.0</td>\n",
       "      <td>6.4</td>\n",
       "      <td>6.7</td>\n",
       "    </tr>\n",
       "    <tr>\n",
       "      <th>Yemen</th>\n",
       "      <td>2.5</td>\n",
       "      <td>2.6</td>\n",
       "      <td>2.7</td>\n",
       "      <td>2.8</td>\n",
       "      <td>3.0</td>\n",
       "      <td>3.1</td>\n",
       "      <td>3.2</td>\n",
       "      <td>3.4</td>\n",
       "      <td>3.5</td>\n",
       "      <td>3.7</td>\n",
       "      <td>...</td>\n",
       "      <td>9.6</td>\n",
       "      <td>10.0</td>\n",
       "      <td>10.4</td>\n",
       "      <td>10.8</td>\n",
       "      <td>11.3</td>\n",
       "      <td>11.8</td>\n",
       "      <td>12.3</td>\n",
       "      <td>12.9</td>\n",
       "      <td>13.5</td>\n",
       "      <td>14.1</td>\n",
       "    </tr>\n",
       "    <tr>\n",
       "      <th>Zambia</th>\n",
       "      <td>1.3</td>\n",
       "      <td>1.4</td>\n",
       "      <td>1.5</td>\n",
       "      <td>1.5</td>\n",
       "      <td>1.6</td>\n",
       "      <td>1.7</td>\n",
       "      <td>1.8</td>\n",
       "      <td>1.9</td>\n",
       "      <td>2.0</td>\n",
       "      <td>2.1</td>\n",
       "      <td>...</td>\n",
       "      <td>4.3</td>\n",
       "      <td>4.5</td>\n",
       "      <td>4.7</td>\n",
       "      <td>4.9</td>\n",
       "      <td>5.2</td>\n",
       "      <td>5.4</td>\n",
       "      <td>5.7</td>\n",
       "      <td>6.0</td>\n",
       "      <td>6.2</td>\n",
       "      <td>6.5</td>\n",
       "    </tr>\n",
       "    <tr>\n",
       "      <th>Zimbabwe</th>\n",
       "      <td>3.0</td>\n",
       "      <td>3.2</td>\n",
       "      <td>3.3</td>\n",
       "      <td>3.4</td>\n",
       "      <td>3.6</td>\n",
       "      <td>3.8</td>\n",
       "      <td>3.9</td>\n",
       "      <td>4.1</td>\n",
       "      <td>4.3</td>\n",
       "      <td>4.4</td>\n",
       "      <td>...</td>\n",
       "      <td>9.9</td>\n",
       "      <td>10.1</td>\n",
       "      <td>10.3</td>\n",
       "      <td>10.6</td>\n",
       "      <td>10.8</td>\n",
       "      <td>11.1</td>\n",
       "      <td>11.3</td>\n",
       "      <td>11.6</td>\n",
       "      <td>11.9</td>\n",
       "      <td>12.3</td>\n",
       "    </tr>\n",
       "  </tbody>\n",
       "</table>\n",
       "<p>197 rows × 42 columns</p>\n",
       "</div>"
      ],
      "text/plain": [
       "                      Übergewicht_Prävalenz_18+_unabhängig_Geschlecht       \\\n",
       "Jahr                                                             1975 1976   \n",
       "Land                                                                         \n",
       "Afghanistan                                                       0.4  0.4   \n",
       "Africa (WHO)                                                      1.7  1.8   \n",
       "Albania                                                           5.7  5.8   \n",
       "Algeria                                                           5.9  6.1   \n",
       "Americas (WHO)                                                    9.0  9.3   \n",
       "...                                                               ...  ...   \n",
       "Vietnam                                                           0.1  0.1   \n",
       "Western Pacific (WHO)                                             0.7  0.7   \n",
       "Yemen                                                             2.5  2.6   \n",
       "Zambia                                                            1.3  1.4   \n",
       "Zimbabwe                                                          3.0  3.2   \n",
       "\n",
       "                                                                     ...  \\\n",
       "Jahr                  1977 1978  1979  1980  1981  1982  1983  1984  ...   \n",
       "Land                                                                 ...   \n",
       "Afghanistan            0.5  0.5   0.5   0.6   0.6   0.6   0.7   0.7  ...   \n",
       "Africa (WHO)           1.9  1.9   2.0   2.1   2.2   2.3   2.4   2.5  ...   \n",
       "Albania                6.0  6.1   6.3   6.4   6.6   6.8   7.0   7.2  ...   \n",
       "Algeria                6.2  6.4   6.7   6.9   7.2   7.4   7.8   8.1  ...   \n",
       "Americas (WHO)         9.5  9.8  10.1  10.4  10.7  11.1  11.4  11.8  ...   \n",
       "...                    ...  ...   ...   ...   ...   ...   ...   ...  ...   \n",
       "Vietnam                0.1  0.1   0.2   0.2   0.2   0.2   0.2   0.2  ...   \n",
       "Western Pacific (WHO)  0.8  0.8   0.8   0.9   0.9   0.9   1.0   1.0  ...   \n",
       "Yemen                  2.7  2.8   3.0   3.1   3.2   3.4   3.5   3.7  ...   \n",
       "Zambia                 1.5  1.5   1.6   1.7   1.8   1.9   2.0   2.1  ...   \n",
       "Zimbabwe               3.3  3.4   3.6   3.8   3.9   4.1   4.3   4.4  ...   \n",
       "\n",
       "                                                                             \\\n",
       "Jahr                   2007  2008  2009  2010  2011  2012  2013  2014  2015   \n",
       "Land                                                                          \n",
       "Afghanistan             2.8   2.9   3.1   3.3   3.5   3.7   3.9   4.1   4.3   \n",
       "Africa (WHO)            6.6   6.8   7.1   7.4   7.6   7.9   8.2   8.5   8.8   \n",
       "Albania                16.9  17.5  18.1  18.7  19.3  19.9  20.5  21.1  21.7   \n",
       "Algeria                19.2  19.9  20.7  21.4  22.2  23.1  23.9  24.8  25.7   \n",
       "Americas (WHO)         23.8  24.4  25.0  25.5  26.1  26.7  27.3  27.8  28.4   \n",
       "...                     ...   ...   ...   ...   ...   ...   ...   ...   ...   \n",
       "Vietnam                 1.0   1.1   1.2   1.3   1.4   1.5   1.6   1.8   1.9   \n",
       "Western Pacific (WHO)   4.0   4.2   4.5   4.8   5.0   5.3   5.7   6.0   6.4   \n",
       "Yemen                   9.6  10.0  10.4  10.8  11.3  11.8  12.3  12.9  13.5   \n",
       "Zambia                  4.3   4.5   4.7   4.9   5.2   5.4   5.7   6.0   6.2   \n",
       "Zimbabwe                9.9  10.1  10.3  10.6  10.8  11.1  11.3  11.6  11.9   \n",
       "\n",
       "                             \n",
       "Jahr                   2016  \n",
       "Land                         \n",
       "Afghanistan             4.5  \n",
       "Africa (WHO)            9.1  \n",
       "Albania                22.3  \n",
       "Algeria                26.6  \n",
       "Americas (WHO)         29.0  \n",
       "...                     ...  \n",
       "Vietnam                 2.1  \n",
       "Western Pacific (WHO)   6.7  \n",
       "Yemen                  14.1  \n",
       "Zambia                  6.5  \n",
       "Zimbabwe               12.3  \n",
       "\n",
       "[197 rows x 42 columns]"
      ]
     },
     "execution_count": 11,
     "metadata": {},
     "output_type": "execute_result"
    }
   ],
   "source": [
    "df_zsm_pivot = df_zsm.pivot_table(\n",
    "    index='Land', \n",
    "    columns='Jahr', \n",
    "    values=['Übergewicht_Prävalenz_18+_unabhängig_Geschlecht'])\n",
    "df_zsm_pivot "
   ]
  },
  {
   "cell_type": "markdown",
   "id": "28195847",
   "metadata": {},
   "source": [
    "## 3. Statistik der Rohdaten (Analyse im Wide-Format)"
   ]
  },
  {
   "cell_type": "markdown",
   "id": "415e2543",
   "metadata": {},
   "source": [
    "Wenn die Werte auf einem Zahlenintervall liegen und beliebige Werte annehmen können, sind sie kontinuierlich. Dies ist bei den Prävalenzwerten des ersten und zweiten Datensatzes der Fall. Wenn die Werte in festen Klassen oder Kategorien liegen, sind sie diskret. Bei unseren Datensätzen ist das Jahr, Kürzel und Land diskret.\n",
    "\n",
    "**1. Datensatz**                  \n",
    "Im ersten Datensatz sind 278 Länder (Klassen) mit ungleicher Verteilung (1-43 Datenpunkte pro Land), wobei die meisten Ländern 43 Datenpunkte zeigen. Es sind 257 verschiedene Landeskürzel im ersten Datensatz (nicht jedes Land ist mit einem Kürzel gekennzeichnet). Es sind nicht gleich viele Datenpunkte pro Landeskürzel vorhanden, wie schon bei den Ländern (ungleiche Verteilung). Die Rohdaten wurden über 43 Jahre erhoben (kontinuierlich). Pro Jahr wurden zwischen 1-271 Datenpunkte erhoben, wobei am meisten  197 Datenpunkte pro Jahr generieren konnten. Zwischen den Jahren 2017-2022 fehlen Datenpunkte (diskontinuierlich).\n",
    "\n",
    "Analyse Prävalenz Frauen:\n",
    "- Mittelwert: 15.42% der Frauen sind durchschnittlich übergewichtig\n",
    "- Median: 13.9% ist die häufigste vorkommende Übergewichtsprävalenz der Frauen \n",
    "- Standardabweichung: Die Werte streuen mit einer Abweichung von 11.25% um den Mittelwert\n",
    "- Maximaler Wert: 63.3% (deutet auf extreme Werte in bestimmten Regionen oder Jahre hin)\n",
    "- Der Histogrammplot zeigt eine überwiegend linksschiefe Verteilung (mehr Datenpunkte bei geringeren Prävalenzwerten). Der Mittelwert (15.42%) liegt leicht rechts des Medians (13.9%), was auf einige hohe Ausreisser hinweist. Die Breite eines Balken des Histogramms beträgt 6.31 % mit 10 Bins.\n",
    "\n",
    "Analyse Prävalenz Männer:\n",
    "- Mittelwert: 9.26% der Männer sind durchschnittlich übergewichtig\n",
    "- Median: 6.9% ist die häufigste vorkommende Übergewichtsprävalenz der Männer\n",
    "- Standardabweichung: die Streuung beträgt 8.93%\n",
    "- Maximaler Wert: 58.7% (ebenfalls Hinweis auf extreme Werte in bestimmten Regionen oder Jahren)\n",
    "- Verteilung zeigt ebenfalls eine Schiefe nach links, mit häufigen niedrigen Prävalenzwerten. Der Unterschied zwischen Mittelwert und Median weist auf weniger extreme Ausreisser als bei den Frauen hin. Die Breite der Balken des Histogramms beträgt 5.86% mit 10 Bins.\n",
    "\n",
    "Vergleich Frauen und Männer:          \n",
    "Frauen weisen im Durchschnitt eine höhere Übergewichts-Prävalenz auf (15.42% vs. 9.26%). Die Prävalenz bei den Frauen zeigt eine grössere Streuung als bei den Männern. Extreme Werte (maximale Prävalenz) sind bei beiden Geschlechtern vorhanden, jedoch leicht höher bei den Frauen.\n",
    "\n",
    "**2. Datensatz**             \n",
    "Im zweiten Datensatz sind 197 Länder (Klassen) mit gleicher Verteilung (je 42 Datenpunkte pro Land). Es sind 191 Landeskürzel vorhanden (nicht jedes Land hat einen Landeskürzel). Pro Landeskürzel sind genau 42 Datenpunkte vorhanden (gleiche Verteilung). Die Daten wurden über 42 Jahre hinweg erhoben (kontinuierlich). Jedes Jahr hat genau 197 Datenpunkte (gleichmässige Verteilung). In diesem Datensatz fehlen keine Datenpunkte.\n",
    "\n",
    "Analyse Prävalenz (unabhängig vom Geschlecht):       \n",
    "- Mittelwert: Im Durchschnitt sind 11.87% der Bevölkerung übergewichtig\n",
    "- Median: 10.1% ist der häufigst vorkommende Prävalenzwert unabhänig des Geschlechts\n",
    "- Standardabweichung: 9.7%, die Werte streuen um den Mittelwert, wobei es eine breite Variation gibt\n",
    "- Maximaler Wert: 60.7% (hohe Ausreisser)\n",
    "- Die Verteilung zeigt eine Häufung niedriger Werte, mit einem Schwerpunkt um den Median. Der Mittelwert liegt leicht über dem Median, was auf eine rechts-schiefe Verteilung hinweist (einige hohe Ausreisser). Die Balkenbreite des Histogramms beträgt 6.06% mit 10 Bins.\n",
    "\n"
   ]
  },
  {
   "cell_type": "markdown",
   "id": "34caa0bb",
   "metadata": {},
   "source": [
    "### 3.1 Analyse Länder"
   ]
  },
  {
   "cell_type": "code",
   "execution_count": 12,
   "id": "3e70eb03",
   "metadata": {},
   "outputs": [
    {
     "name": "stdout",
     "output_type": "stream",
     "text": [
      "Anzahl verschiedener Länder im 1. Datensatz: 278\n"
     ]
    }
   ],
   "source": [
    "# 1.Datensatz\n",
    "Anzahl_Länder = len(df_einzeln['Land'].unique())\n",
    "print('Anzahl verschiedener Länder im 1. Datensatz:', Anzahl_Länder)"
   ]
  },
  {
   "cell_type": "code",
   "execution_count": 13,
   "id": "8533ee1f",
   "metadata": {},
   "outputs": [
    {
     "name": "stdout",
     "output_type": "stream",
     "text": [
      "Anzahl verschiedener Länder im 2. Datensatz: 197\n"
     ]
    }
   ],
   "source": [
    "# 2.Datensatz\n",
    "Anzahl_Länder = len(df_zsm['Land'].unique())\n",
    "print('Anzahl verschiedener Länder im 2. Datensatz:', Anzahl_Länder)"
   ]
  },
  {
   "cell_type": "code",
   "execution_count": 14,
   "id": "1d463c6f",
   "metadata": {},
   "outputs": [
    {
     "data": {
      "text/plain": [
       "Land\n",
       "Afghanistan         43\n",
       "Panama              43\n",
       "Marshall Islands    43\n",
       "Mauritania          43\n",
       "Mauritius           43\n",
       "                    ..\n",
       "Saint Barthelemy     1\n",
       "Christmas Island     1\n",
       "Cocos Islands        1\n",
       "Reunion              1\n",
       "Hong Kong            1\n",
       "Name: count, Length: 278, dtype: int64"
      ]
     },
     "execution_count": 14,
     "metadata": {},
     "output_type": "execute_result"
    }
   ],
   "source": [
    "# 1.Datensatz\n",
    "df_einzeln['Land'].value_counts()"
   ]
  },
  {
   "cell_type": "code",
   "execution_count": 15,
   "id": "e236c623",
   "metadata": {},
   "outputs": [
    {
     "data": {
      "text/plain": [
       "Land\n",
       "Afghanistan    42\n",
       "Nepal          42\n",
       "New Zealand    42\n",
       "Nicaragua      42\n",
       "Niger          42\n",
       "               ..\n",
       "Gambia         42\n",
       "Georgia        42\n",
       "Germany        42\n",
       "Ghana          42\n",
       "Zimbabwe       42\n",
       "Name: count, Length: 197, dtype: int64"
      ]
     },
     "execution_count": 15,
     "metadata": {},
     "output_type": "execute_result"
    }
   ],
   "source": [
    "# 2.Datensatz\n",
    "df_zsm['Land'].value_counts()\n"
   ]
  },
  {
   "cell_type": "code",
   "execution_count": 16,
   "id": "8297e180",
   "metadata": {},
   "outputs": [
    {
     "data": {
      "image/png": "[encoded data removed]",
      "text/plain": [
       "<Figure size 640x480 with 1 Axes>"
      ]
     },
     "metadata": {},
     "output_type": "display_data"
    }
   ],
   "source": [
    "# 1.Datensatz\n",
    "df_einzeln['Land'].value_counts().tail(25).plot(\n",
    "    kind='barh', \n",
    "    xlabel='Anzahl Datenpunkte',\n",
    "    title='25 Länder mit den wenigsten Datenpunkten (1. Datensatz)'); "
   ]
  },
  {
   "cell_type": "code",
   "execution_count": 17,
   "id": "3fdc9433",
   "metadata": {},
   "outputs": [
    {
     "data": {
      "image/png": "[encoded data removed]",
      "text/plain": [
       "<Figure size 640x480 with 1 Axes>"
      ]
     },
     "metadata": {},
     "output_type": "display_data"
    }
   ],
   "source": [
    "# 1.Datensatz\n",
    "df_einzeln['Land'].value_counts().head(25).plot(\n",
    "    kind='barh', \n",
    "    xlabel='Anzahl Datenpunkte',\n",
    "    title='25 Länder mit den meisten Datenpunkten (1. Datensatz)'); "
   ]
  },
  {
   "cell_type": "code",
   "execution_count": 18,
   "id": "879c6930",
   "metadata": {},
   "outputs": [
    {
     "data": {
      "image/png": "[encoded data removed]",
      "text/plain": [
       "<Figure size 640x480 with 1 Axes>"
      ]
     },
     "metadata": {},
     "output_type": "display_data"
    }
   ],
   "source": [
    "# 1.Datensatz\n",
    "Graph_1 = df_einzeln['Land'].value_counts().plot(\n",
    "    kind='bar', \n",
    "    ylabel='Anzahl Datenpunkte',\n",
    "    title='Anzahl Datenpunkte pro Land (1. Datensatz)')\n",
    "Graph_1.set_xticklabels([]); \n"
   ]
  },
  {
   "cell_type": "code",
   "execution_count": 19,
   "id": "136b8a93",
   "metadata": {},
   "outputs": [
    {
     "data": {
      "image/png": "[encoded data removed]",
      "text/plain": [
       "<Figure size 640x480 with 1 Axes>"
      ]
     },
     "metadata": {},
     "output_type": "display_data"
    }
   ],
   "source": [
    "# 2.Datensatz\n",
    "Graph_2 = df_zsm['Land'].value_counts().plot(\n",
    "    ylabel='Anzahl Datenpunkte',\n",
    "    title='Anzahl Datenpunkte pro Land (2. Datensatz)')\n",
    "Graph_2.set_xticklabels([]); "
   ]
  },
  {
   "cell_type": "code",
   "execution_count": 20,
   "id": "8a7a9fa7",
   "metadata": {},
   "outputs": [
    {
     "name": "stdout",
     "output_type": "stream",
     "text": [
      "Land\n",
      "Afghanistan    43\n",
      "Albania        43\n",
      "Algeria        43\n",
      "Andorra        43\n",
      "Angola         43\n",
      "               ..\n",
      "Venezuela      43\n",
      "Vietnam        43\n",
      "Yemen          43\n",
      "Zambia         43\n",
      "Zimbabwe       43\n",
      "Length: 190, dtype: int64\n"
     ]
    }
   ],
   "source": [
    "# 1.Datensatz\n",
    "Anzahl_pro_Land = df_einzeln.groupby('Land').size()\n",
    "Anzahl_43 = Anzahl_pro_Land[Anzahl_pro_Land == 43]\n",
    "print(Anzahl_43)"
   ]
  },
  {
   "cell_type": "code",
   "execution_count": 21,
   "id": "147c6f56",
   "metadata": {},
   "outputs": [
    {
     "name": "stdout",
     "output_type": "stream",
     "text": [
      "Land\n",
      "Africa (WHO)                   42\n",
      "Americas (WHO)                 42\n",
      "Eastern Mediterranean (WHO)    42\n",
      "Europe (WHO)                   42\n",
      "South-East Asia (WHO)          42\n",
      "Sudan (former)                 42\n",
      "Western Pacific (WHO)          42\n",
      "dtype: int64\n"
     ]
    }
   ],
   "source": [
    "# 1.Datensatz\n",
    "Anzahl_42 = Anzahl_pro_Land[Anzahl_pro_Land == 42]\n",
    "print(Anzahl_42)"
   ]
  },
  {
   "cell_type": "code",
   "execution_count": 22,
   "id": "a8e9d761",
   "metadata": {},
   "outputs": [
    {
     "name": "stdout",
     "output_type": "stream",
     "text": [
      "Land\n",
      "Aland Islands              1\n",
      "American Samoa             1\n",
      "Anguilla                   1\n",
      "Aruba                      1\n",
      "Austria-Hungary            1\n",
      "                          ..\n",
      "West Germany               1\n",
      "Western Sahara             1\n",
      "Yemen Arab Republic        1\n",
      "Yemen People's Republic    1\n",
      "Yugoslavia                 1\n",
      "Length: 81, dtype: int64\n"
     ]
    }
   ],
   "source": [
    "# 1.Datensatz\n",
    "Anzahl_1 = Anzahl_pro_Land[Anzahl_pro_Land == 1]\n",
    "\n",
    "print(Anzahl_1)"
   ]
  },
  {
   "cell_type": "markdown",
   "id": "fc12f9b4",
   "metadata": {},
   "source": [
    "### 3.2 Analyse Kürzel"
   ]
  },
  {
   "cell_type": "code",
   "execution_count": 23,
   "id": "f3524564",
   "metadata": {},
   "outputs": [
    {
     "name": "stdout",
     "output_type": "stream",
     "text": [
      "Anzahl verschiedener Landeskürzel: 257\n"
     ]
    }
   ],
   "source": [
    "# 1.Datensatz\n",
    "Anzahl_Kürzel_1 = len(df_einzeln['Kürzel'].dropna().unique())\n",
    "\n",
    "print('Anzahl verschiedener Landeskürzel:', Anzahl_Kürzel_1)"
   ]
  },
  {
   "cell_type": "code",
   "execution_count": 24,
   "id": "b493925e",
   "metadata": {},
   "outputs": [
    {
     "data": {
      "text/plain": [
       "Kürzel\n",
       "AFG         43\n",
       "MEX         43\n",
       "MDA         43\n",
       "MNG         43\n",
       "MNE         43\n",
       "            ..\n",
       "GIB          1\n",
       "SXM          1\n",
       "OWID_ERE     1\n",
       "MSR          1\n",
       "PRI          1\n",
       "Name: count, Length: 257, dtype: int64"
      ]
     },
     "execution_count": 24,
     "metadata": {},
     "output_type": "execute_result"
    }
   ],
   "source": [
    "# 1.Datensatz\n",
    "df_einzeln['Kürzel'].value_counts()"
   ]
  },
  {
   "cell_type": "code",
   "execution_count": 25,
   "id": "bb9cb143",
   "metadata": {},
   "outputs": [
    {
     "data": {
      "image/png": "[encoded data removed]",
      "text/plain": [
       "<Figure size 640x480 with 1 Axes>"
      ]
     },
     "metadata": {},
     "output_type": "display_data"
    }
   ],
   "source": [
    "# 1.Datensatz\n",
    "Graph_3 = df_einzeln['Kürzel'].value_counts().plot(\n",
    "    kind='area', \n",
    "    xlabel='Landeskürzel', \n",
    "    ylabel='Anzahl Datenpunkte',\n",
    "    title='Anzahl der Datenpunkte pro Landeskürzel (1. Datensatz)',\n",
    "    color='aquamarine',\n",
    "    alpha=0.8)\n",
    "\n",
    "Graph_3.set_xticklabels([]); "
   ]
  },
  {
   "cell_type": "code",
   "execution_count": 26,
   "id": "38eea0f8",
   "metadata": {},
   "outputs": [
    {
     "name": "stdout",
     "output_type": "stream",
     "text": [
      "Anzahl verschiedener Landeskürzel: 191\n"
     ]
    }
   ],
   "source": [
    "# 2.Datensatz\n",
    "Anzahl_Kürzel_1 = len(df_zsm['Kürzel'].unique())\n",
    "\n",
    "print('Anzahl verschiedener Landeskürzel:', Anzahl_Kürzel_1)"
   ]
  },
  {
   "cell_type": "code",
   "execution_count": 27,
   "id": "4d48a7ce",
   "metadata": {},
   "outputs": [
    {
     "data": {
      "text/plain": [
       "Kürzel\n",
       "AFG    42\n",
       "OMN    42\n",
       "NLD    42\n",
       "NZL    42\n",
       "NIC    42\n",
       "       ..\n",
       "GEO    42\n",
       "DEU    42\n",
       "GHA    42\n",
       "GRC    42\n",
       "ZWE    42\n",
       "Name: count, Length: 190, dtype: int64"
      ]
     },
     "execution_count": 27,
     "metadata": {},
     "output_type": "execute_result"
    }
   ],
   "source": [
    "# 2.Datensatz\n",
    "df_zsm['Kürzel'].value_counts()"
   ]
  },
  {
   "cell_type": "code",
   "execution_count": 28,
   "id": "6a9af459",
   "metadata": {},
   "outputs": [
    {
     "data": {
      "image/png": "[encoded data removed]",
      "text/plain": [
       "<Figure size 640x480 with 1 Axes>"
      ]
     },
     "metadata": {},
     "output_type": "display_data"
    }
   ],
   "source": [
    "# 2.Datensatz\n",
    "Graph_4 = df_zsm['Kürzel'].value_counts().plot(\n",
    "    kind='line', \n",
    "    xlabel='Landeskürzel', \n",
    "    ylabel='Anzahl Datenpunkte',\n",
    "    title='Anzahl Datenpunkte pro Landeskürzel (2. Datensatz)',\n",
    "    alpha=0.8)\n",
    "\n",
    "Graph_4.set_xticklabels([]); "
   ]
  },
  {
   "cell_type": "markdown",
   "id": "4ac66f6a",
   "metadata": {},
   "source": [
    "### 3.3 Analyse Jahr"
   ]
  },
  {
   "cell_type": "code",
   "execution_count": 29,
   "id": "b5af7100",
   "metadata": {},
   "outputs": [
    {
     "name": "stdout",
     "output_type": "stream",
     "text": [
      "Anzahl verschiedener Jahreszahlen im ersten Datensatz: 43\n",
      "Anzahl verschiedener Jahreszahlen im zweiten Datensatz: 42\n"
     ]
    }
   ],
   "source": [
    "# 1. & 2.Datensatz\n",
    "Anzahl_Jahr_1 = len(df_einzeln['Jahr'].unique())\n",
    "Anzahl_Jahr_2 = len(df_zsm['Jahr'].unique())\n",
    "\n",
    "print('Anzahl verschiedener Jahreszahlen im ersten Datensatz:', Anzahl_Jahr_1)\n",
    "print('Anzahl verschiedener Jahreszahlen im zweiten Datensatz:', Anzahl_Jahr_2)"
   ]
  },
  {
   "cell_type": "code",
   "execution_count": 30,
   "id": "d7b03e45",
   "metadata": {},
   "outputs": [
    {
     "data": {
      "text/plain": [
       "Jahr\n",
       "1975    197\n",
       "1985    197\n",
       "1977    197\n",
       "1978    197\n",
       "1979    197\n",
       "       ... \n",
       "2013    197\n",
       "2014    197\n",
       "2015    197\n",
       "2008    197\n",
       "2023    271\n",
       "Name: count, Length: 43, dtype: int64"
      ]
     },
     "execution_count": 30,
     "metadata": {},
     "output_type": "execute_result"
    }
   ],
   "source": [
    "# 1.Datensatz\n",
    "df_einzeln['Jahr'].value_counts().sort_values()"
   ]
  },
  {
   "cell_type": "code",
   "execution_count": 31,
   "id": "969e0dbf",
   "metadata": {},
   "outputs": [
    {
     "data": {
      "text/plain": [
       "Jahr\n",
       "1975    197\n",
       "1994    197\n",
       "1977    197\n",
       "1978    197\n",
       "1979    197\n",
       "       ... \n",
       "2012    197\n",
       "2013    197\n",
       "2014    197\n",
       "2007    197\n",
       "2016    197\n",
       "Name: count, Length: 42, dtype: int64"
      ]
     },
     "execution_count": 31,
     "metadata": {},
     "output_type": "execute_result"
    }
   ],
   "source": [
    "# 2.Datensatz\n",
    "Graph_6 = df_zsm['Jahr'].value_counts().sort_values()\n",
    "Graph_6"
   ]
  },
  {
   "cell_type": "markdown",
   "id": "b996da49",
   "metadata": {},
   "source": [
    "--> alle Jahre haben gleich viele Datenpunkte, sort.index() fällt weg bzw. ist überflüssig"
   ]
  },
  {
   "cell_type": "code",
   "execution_count": 32,
   "id": "0aba0a3d",
   "metadata": {},
   "outputs": [
    {
     "data": {
      "image/png": "[encoded data removed]",
      "text/plain": [
       "<Figure size 640x480 with 1 Axes>"
      ]
     },
     "metadata": {},
     "output_type": "display_data"
    }
   ],
   "source": [
    "# 2.Datensatz\n",
    "Graph_6.plot(\n",
    "    kind = 'line',\n",
    "    ylabel ='Anzahl Datenpunkte',\n",
    "    xlabel ='Jahreszahlen',\n",
    "    title ='Anzahl Datenpunkte pro Jahr (2. Datensatz)'\n",
    "); \n",
    "\n",
    "odd_ticks = [y for y in range(186, 210) if y % 2 != 0]\n",
    "plt.yticks(odd_ticks); "
   ]
  },
  {
   "cell_type": "code",
   "execution_count": 33,
   "id": "4621d771",
   "metadata": {},
   "outputs": [
    {
     "data": {
      "text/plain": [
       "Jahr\n",
       "1975    197\n",
       "1976    197\n",
       "1977    197\n",
       "1978    197\n",
       "1979    197\n",
       "       ... \n",
       "2013    197\n",
       "2014    197\n",
       "2015    197\n",
       "2016    197\n",
       "2023    271\n",
       "Name: count, Length: 43, dtype: int64"
      ]
     },
     "execution_count": 33,
     "metadata": {},
     "output_type": "execute_result"
    }
   ],
   "source": [
    "# 1.Datensatz\n",
    "df_einzeln['Jahr'].value_counts().sort_index()"
   ]
  },
  {
   "cell_type": "code",
   "execution_count": 34,
   "id": "4a540f3e",
   "metadata": {},
   "outputs": [
    {
     "data": {
      "image/png": "[encoded data removed]",
      "text/plain": [
       "<Figure size 640x480 with 1 Axes>"
      ]
     },
     "metadata": {},
     "output_type": "display_data"
    }
   ],
   "source": [
    "# 1.Datensatz\n",
    "\n",
    "alle_jahre_1 = pd.RangeIndex(df_einzeln['Jahr'].min(), df_einzeln['Jahr'].max() + 1)\n",
    "jahr_counts_1 = df_einzeln['Jahr'].value_counts().reindex(alle_jahre_1, fill_value=0)\n",
    "\n",
    "Graph_5 = jahr_counts_1.plot(\n",
    "    title = 'Anzahl Datenpunkte pro Jahr (1. Datensatz)',\n",
    "    kind='area',\n",
    "    ylabel='Anzahl Datenpunkte',\n",
    "    xlabel='Jahreszahlen'\n",
    ")\n",
    "\n",
    "plt.ylim(bottom=0)\n",
    "\n",
    "if 2023 in jahr_counts_1.index:\n",
    "    Graph_5.scatter(\n",
    "        2023, jahr_counts_1[2023],\n",
    "        color='crimson',    \n",
    "        label='Spike 2023',\n",
    "        zorder=5,       \n",
    "        s=100            \n",
    "    )\n",
    "\n",
    "handles, labels = Graph_5.get_legend_handles_labels()\n",
    "neue_legende = [(h, l) for h, l in zip(handles, labels) if l != 'count']\n",
    "Graph_5.legend(\n",
    "    handles=[h for h, l in neue_legende],\n",
    "    labels=[l for h, l in neue_legende],\n",
    "    loc='upper left'); "
   ]
  },
  {
   "cell_type": "markdown",
   "id": "d2bc51be",
   "metadata": {},
   "source": [
    "### 3.4 Analyse Prävalenz "
   ]
  },
  {
   "cell_type": "markdown",
   "id": "c3365f44",
   "metadata": {},
   "source": [
    "##### 1. Datensatz"
   ]
  },
  {
   "cell_type": "code",
   "execution_count": 35,
   "id": "842f1cfd",
   "metadata": {},
   "outputs": [
    {
     "data": {
      "text/html": [
       "<div>\n",
       "<style scoped>\n",
       "    .dataframe tbody tr th:only-of-type {\n",
       "        vertical-align: middle;\n",
       "    }\n",
       "\n",
       "    .dataframe tbody tr th {\n",
       "        vertical-align: top;\n",
       "    }\n",
       "\n",
       "    .dataframe thead th {\n",
       "        text-align: right;\n",
       "    }\n",
       "</style>\n",
       "<table border=\"1\" class=\"dataframe\">\n",
       "  <thead>\n",
       "    <tr style=\"text-align: right;\">\n",
       "      <th></th>\n",
       "      <th>Jahr</th>\n",
       "      <th>Übergewicht_Prävalenz_Männer_18+</th>\n",
       "      <th>Übergewicht_Prävalenz_Frauen_18+</th>\n",
       "    </tr>\n",
       "  </thead>\n",
       "  <tbody>\n",
       "    <tr>\n",
       "      <th>count</th>\n",
       "      <td>8545.00</td>\n",
       "      <td>8274.00</td>\n",
       "      <td>8274.00</td>\n",
       "    </tr>\n",
       "    <tr>\n",
       "      <th>mean</th>\n",
       "      <td>1996.37</td>\n",
       "      <td>9.26</td>\n",
       "      <td>15.42</td>\n",
       "    </tr>\n",
       "    <tr>\n",
       "      <th>std</th>\n",
       "      <td>12.86</td>\n",
       "      <td>8.93</td>\n",
       "      <td>11.25</td>\n",
       "    </tr>\n",
       "    <tr>\n",
       "      <th>min</th>\n",
       "      <td>1975.00</td>\n",
       "      <td>0.10</td>\n",
       "      <td>0.20</td>\n",
       "    </tr>\n",
       "    <tr>\n",
       "      <th>25%</th>\n",
       "      <td>1985.00</td>\n",
       "      <td>2.00</td>\n",
       "      <td>6.50</td>\n",
       "    </tr>\n",
       "    <tr>\n",
       "      <th>50%</th>\n",
       "      <td>1996.00</td>\n",
       "      <td>6.90</td>\n",
       "      <td>13.90</td>\n",
       "    </tr>\n",
       "    <tr>\n",
       "      <th>75%</th>\n",
       "      <td>2007.00</td>\n",
       "      <td>14.10</td>\n",
       "      <td>21.40</td>\n",
       "    </tr>\n",
       "    <tr>\n",
       "      <th>max</th>\n",
       "      <td>2023.00</td>\n",
       "      <td>58.70</td>\n",
       "      <td>63.30</td>\n",
       "    </tr>\n",
       "  </tbody>\n",
       "</table>\n",
       "</div>"
      ],
      "text/plain": [
       "          Jahr  Übergewicht_Prävalenz_Männer_18+  \\\n",
       "count  8545.00                           8274.00   \n",
       "mean   1996.37                              9.26   \n",
       "std      12.86                              8.93   \n",
       "min    1975.00                              0.10   \n",
       "25%    1985.00                              2.00   \n",
       "50%    1996.00                              6.90   \n",
       "75%    2007.00                             14.10   \n",
       "max    2023.00                             58.70   \n",
       "\n",
       "       Übergewicht_Prävalenz_Frauen_18+  \n",
       "count                           8274.00  \n",
       "mean                              15.42  \n",
       "std                               11.25  \n",
       "min                                0.20  \n",
       "25%                                6.50  \n",
       "50%                               13.90  \n",
       "75%                               21.40  \n",
       "max                               63.30  "
      ]
     },
     "execution_count": 35,
     "metadata": {},
     "output_type": "execute_result"
    }
   ],
   "source": [
    "df_einzeln.describe().round(2)"
   ]
  },
  {
   "cell_type": "code",
   "execution_count": 36,
   "id": "c7a0a5bf",
   "metadata": {},
   "outputs": [
    {
     "name": "stdout",
     "output_type": "stream",
     "text": [
      "Mittelwert: 15.42 Prozent der Frauen sind übergewichtig\n",
      "Summe: 127556.3\n",
      "Median: 13.9\n",
      "Standardabweichung: 11.25\n"
     ]
    }
   ],
   "source": [
    "Summe_Frauen = round(df_einzeln['Übergewicht_Prävalenz_Frauen_18+'].sum(),2)\n",
    "Mittelwert_Frauen = round(df_einzeln['Übergewicht_Prävalenz_Frauen_18+'].mean(),2)\n",
    "Median_Frauen = round(df_einzeln['Übergewicht_Prävalenz_Frauen_18+'].median(),2)\n",
    "Standardabweichung_Frauen = round(df_einzeln['Übergewicht_Prävalenz_Frauen_18+'].std(),2)\n",
    "\n",
    "print('Mittelwert:', Mittelwert_Frauen, 'Prozent der Frauen sind übergewichtig')\n",
    "print('Summe:', Summe_Frauen)\n",
    "print('Median:', Median_Frauen)\n",
    "print('Standardabweichung:', Standardabweichung_Frauen)"
   ]
  },
  {
   "cell_type": "code",
   "execution_count": 37,
   "id": "c536d9e3",
   "metadata": {},
   "outputs": [
    {
     "name": "stdout",
     "output_type": "stream",
     "text": [
      "Die Breite eines Balkens beträgt: 6.309999999999999\n"
     ]
    },
    {
     "data": {
      "image/png": "[encoded data removed]",
      "text/plain": [
       "<Figure size 640x480 with 1 Axes>"
      ]
     },
     "metadata": {},
     "output_type": "display_data"
    }
   ],
   "source": [
    "Histo_Frau = df_einzeln['Übergewicht_Prävalenz_Frauen_18+'].plot(\n",
    "    color = 'paleturquoise',\n",
    "    kind = 'hist',\n",
    "    bins = 10, \n",
    "    alpha = 0.8,\n",
    "    ylabel = 'Häufigkeit der Anzahl Datenpunkte',\n",
    "    xlabel = 'Prävalenz in Prozent von Frauen',\n",
    "    title = 'Häufigkeit der Prävalenz bei Frauen'\n",
    "    )\n",
    "\n",
    "Histo_Frau.axvline(x=df_einzeln['Übergewicht_Prävalenz_Frauen_18+'].mean(), \n",
    "                   color = 'dodgerblue',\n",
    "                   label = f'Mittelwert = {Mittelwert_Frauen:.2f} %')\n",
    "\n",
    "Histo_Frau.axvline(x=df_einzeln['Übergewicht_Prävalenz_Frauen_18+'].median(), \n",
    "                   color = 'crimson',\n",
    "                   label = f'Median = {Median_Frauen:.2f} %')\n",
    "\n",
    "plt.xticks(np.arange(0,60,6.309999999999999))\n",
    "\n",
    "\n",
    "handles, labels = Histo_Frau.get_legend_handles_labels()\n",
    "labels[labels.index('Übergewicht_Prävalenz_Frauen_18+')] = 'Übergewichtsprävalenz Frauen 18+'\n",
    "Histo_Frau.legend(\n",
    "    labels=labels,\n",
    "    loc='upper right')\n",
    "\n",
    "#Code um Balkenbreite herauszufinden, um Histogramm x-Achsenbeschriftung besser darzustellen\n",
    "bar_width = Histo_Frau.patches[0].get_width()\n",
    "print(f\"Die Breite eines Balkens beträgt: {bar_width}\")"
   ]
  },
  {
   "cell_type": "code",
   "execution_count": 38,
   "id": "febbbc50",
   "metadata": {},
   "outputs": [
    {
     "name": "stdout",
     "output_type": "stream",
     "text": [
      "Mittelwert: 9.26 Prozent der Männer sind übergewichtig\n",
      "Summe: 76634.1\n",
      "Median: 6.9\n",
      "Standardabweichung: 8.93\n"
     ]
    }
   ],
   "source": [
    "Summe_Männer = round(df_einzeln['Übergewicht_Prävalenz_Männer_18+'].sum(),2)\n",
    "Mittelwert_Männer = round(df_einzeln['Übergewicht_Prävalenz_Männer_18+'].mean(),2)\n",
    "Median_Männer = round(df_einzeln['Übergewicht_Prävalenz_Männer_18+'].median(),2)\n",
    "Standardabweichung_Männer = round(df_einzeln['Übergewicht_Prävalenz_Männer_18+'].std(),2)\n",
    "\n",
    "print('Mittelwert:', Mittelwert_Männer, 'Prozent der Männer sind übergewichtig')\n",
    "print('Summe:', Summe_Männer)\n",
    "print('Median:', Median_Männer)\n",
    "print('Standardabweichung:', Standardabweichung_Männer)"
   ]
  },
  {
   "cell_type": "code",
   "execution_count": 39,
   "id": "95f67ca9",
   "metadata": {},
   "outputs": [
    {
     "name": "stdout",
     "output_type": "stream",
     "text": [
      "Die Breite eines Balkens beträgt: 5.86\n"
     ]
    },
    {
     "data": {
      "image/png": "[encoded data removed]",
      "text/plain": [
       "<Figure size 640x480 with 1 Axes>"
      ]
     },
     "metadata": {},
     "output_type": "display_data"
    }
   ],
   "source": [
    "Histo_Mann = df_einzeln['Übergewicht_Prävalenz_Männer_18+'].plot(\n",
    "    color = 'palegreen',\n",
    "    title = 'Häufigkeit der Prävalenz bei Männern',\n",
    "    kind = 'hist',\n",
    "    bins = 10, \n",
    "    alpha = 0.7,\n",
    "    ylabel = 'Häufigkeit der Anzahl Datenpunkte',\n",
    "    xlabel = 'Prävalenz in Prozent von Männern',\n",
    "    )\n",
    "\n",
    "Histo_Mann.axvline(x=df_einzeln['Übergewicht_Prävalenz_Männer_18+'].mean(), \n",
    "                   color = 'dodgerblue',\n",
    "                   label = f'Mittelwert = {Mittelwert_Männer:.2f} %')\n",
    "\n",
    "Histo_Mann.axvline(x=df_einzeln['Übergewicht_Prävalenz_Männer_18+'].median(), \n",
    "                   color = 'crimson',\n",
    "                   label = f'Median = {Median_Männer:.2f} %')\n",
    "\n",
    "plt.xticks(np.arange(0,60,5.86))\n",
    "\n",
    "handles, labels = Histo_Mann.get_legend_handles_labels()\n",
    "labels[labels.index('Übergewicht_Prävalenz_Männer_18+')] = 'Übergewichtsprävalenz Männer 18+'\n",
    "Histo_Mann.legend(\n",
    "    labels=labels,\n",
    "    loc='upper right')\n",
    "\n",
    "#Code um Balkenbreite herauszufinden, um Histogramm x-Achsenbeschriftung besser darzustellen\n",
    "bar_width = Histo_Mann.patches[0].get_width()\n",
    "print(f\"Die Breite eines Balkens beträgt: {bar_width}\")"
   ]
  },
  {
   "cell_type": "markdown",
   "id": "9b151bfc",
   "metadata": {},
   "source": [
    "##### 2. Datensatz"
   ]
  },
  {
   "cell_type": "code",
   "execution_count": 40,
   "id": "7335492e",
   "metadata": {},
   "outputs": [
    {
     "data": {
      "text/html": [
       "<div>\n",
       "<style scoped>\n",
       "    .dataframe tbody tr th:only-of-type {\n",
       "        vertical-align: middle;\n",
       "    }\n",
       "\n",
       "    .dataframe tbody tr th {\n",
       "        vertical-align: top;\n",
       "    }\n",
       "\n",
       "    .dataframe thead th {\n",
       "        text-align: right;\n",
       "    }\n",
       "</style>\n",
       "<table border=\"1\" class=\"dataframe\">\n",
       "  <thead>\n",
       "    <tr style=\"text-align: right;\">\n",
       "      <th></th>\n",
       "      <th>Jahr</th>\n",
       "      <th>Übergewicht_Prävalenz_18+_unabhängig_Geschlecht</th>\n",
       "    </tr>\n",
       "  </thead>\n",
       "  <tbody>\n",
       "    <tr>\n",
       "      <th>count</th>\n",
       "      <td>8274.00</td>\n",
       "      <td>8274.00</td>\n",
       "    </tr>\n",
       "    <tr>\n",
       "      <th>mean</th>\n",
       "      <td>1995.50</td>\n",
       "      <td>11.87</td>\n",
       "    </tr>\n",
       "    <tr>\n",
       "      <th>std</th>\n",
       "      <td>12.12</td>\n",
       "      <td>9.70</td>\n",
       "    </tr>\n",
       "    <tr>\n",
       "      <th>min</th>\n",
       "      <td>1975.00</td>\n",
       "      <td>0.10</td>\n",
       "    </tr>\n",
       "    <tr>\n",
       "      <th>25%</th>\n",
       "      <td>1985.00</td>\n",
       "      <td>3.90</td>\n",
       "    </tr>\n",
       "    <tr>\n",
       "      <th>50%</th>\n",
       "      <td>1995.50</td>\n",
       "      <td>10.10</td>\n",
       "    </tr>\n",
       "    <tr>\n",
       "      <th>75%</th>\n",
       "      <td>2006.00</td>\n",
       "      <td>17.70</td>\n",
       "    </tr>\n",
       "    <tr>\n",
       "      <th>max</th>\n",
       "      <td>2016.00</td>\n",
       "      <td>60.70</td>\n",
       "    </tr>\n",
       "  </tbody>\n",
       "</table>\n",
       "</div>"
      ],
      "text/plain": [
       "          Jahr  Übergewicht_Prävalenz_18+_unabhängig_Geschlecht\n",
       "count  8274.00                                          8274.00\n",
       "mean   1995.50                                            11.87\n",
       "std      12.12                                             9.70\n",
       "min    1975.00                                             0.10\n",
       "25%    1985.00                                             3.90\n",
       "50%    1995.50                                            10.10\n",
       "75%    2006.00                                            17.70\n",
       "max    2016.00                                            60.70"
      ]
     },
     "execution_count": 40,
     "metadata": {},
     "output_type": "execute_result"
    }
   ],
   "source": [
    "df_zsm.describe().round(2)"
   ]
  },
  {
   "cell_type": "code",
   "execution_count": 41,
   "id": "63e55aa9",
   "metadata": {},
   "outputs": [
    {
     "name": "stdout",
     "output_type": "stream",
     "text": [
      "Mittelwert: 11.87 Prozent der Bevölkerung sind übergewichtig\n",
      "Summe: 98184.2\n",
      "Median: 10.1\n",
      "Standardabweichung: 9.7\n"
     ]
    }
   ],
   "source": [
    "Summe_zsm = round(df_zsm['Übergewicht_Prävalenz_18+_unabhängig_Geschlecht'].sum(),2)\n",
    "Mittelwert_zsm = round(df_zsm['Übergewicht_Prävalenz_18+_unabhängig_Geschlecht'].mean(),2)\n",
    "Median_zsm = round(df_zsm['Übergewicht_Prävalenz_18+_unabhängig_Geschlecht'].median(),2)\n",
    "Standardabweichung_zsm = round(df_zsm['Übergewicht_Prävalenz_18+_unabhängig_Geschlecht'].std(),2)\n",
    "\n",
    "print('Mittelwert:', Mittelwert_zsm, 'Prozent der Bevölkerung sind übergewichtig')\n",
    "print('Summe:', Summe_zsm)\n",
    "print('Median:', Median_zsm)\n",
    "print('Standardabweichung:', Standardabweichung_zsm)"
   ]
  },
  {
   "cell_type": "code",
   "execution_count": 42,
   "id": "6816fd5a",
   "metadata": {},
   "outputs": [
    {
     "name": "stdout",
     "output_type": "stream",
     "text": [
      "Die Breite eines Balkens beträgt: 6.0600000000000005\n"
     ]
    },
    {
     "data": {
      "image/png": "[encoded data removed]",
      "text/plain": [
       "<Figure size 640x480 with 1 Axes>"
      ]
     },
     "metadata": {},
     "output_type": "display_data"
    }
   ],
   "source": [
    "Histo_zsm = df_zsm['Übergewicht_Prävalenz_18+_unabhängig_Geschlecht'].plot(\n",
    "    color = 'green',\n",
    "    title = 'Häufigkeit der Prävalenz unabhängig vom Geschlecht (18+)',\n",
    "    kind = 'hist',\n",
    "    bins = 10, \n",
    "    alpha = 0.4,\n",
    "    ylabel = 'Häufigkeit der Anzahl Datenpunkte',\n",
    "    xlabel = 'Prävalenz in Prozent',\n",
    "    )\n",
    "\n",
    "Histo_zsm.axvline(x=df_zsm['Übergewicht_Prävalenz_18+_unabhängig_Geschlecht'].mean(), \n",
    "                   color = 'dodgerblue',\n",
    "                   label = f'Mittelwert = {Mittelwert_zsm:.2f} %')\n",
    "\n",
    "Histo_zsm.axvline(x=df_zsm['Übergewicht_Prävalenz_18+_unabhängig_Geschlecht'].median(), \n",
    "                   color = 'crimson',\n",
    "                   label = f'Median = {Median_zsm:.2f} %')\n",
    "\n",
    "plt.xticks(np.arange(0,60,6.0600000000000005))\n",
    "\n",
    "handles, labels = Histo_zsm.get_legend_handles_labels()\n",
    "labels[labels.index('Übergewicht_Prävalenz_18+_unabhängig_Geschlecht')] = 'Übergewichtsprävalenz'\n",
    "Histo_zsm.legend(\n",
    "    labels=labels,\n",
    "    loc='upper right')\n",
    "\n",
    "#Code um Balkenbreite herauszufinden, um Histogramm x-Achsenbeschriftung besser darzustellen\n",
    "bar_width = Histo_zsm.patches[0].get_width()\n",
    "print(f\"Die Breite eines Balkens beträgt: {bar_width}\")"
   ]
  },
  {
   "cell_type": "markdown",
   "id": "bbdf3294",
   "metadata": {},
   "source": [
    "## 4. Analyse \n",
    "\n",
    "- Interpretation der Resultate (Hypothesen zu den Resultaten)\n",
    "- Untermauern der Interpretation mittels Hinweise zur Literatur (Mögliche Zusammenhänge aufzeigen).\n",
    "\n"
   ]
  },
  {
   "cell_type": "markdown",
   "id": "5dcca404",
   "metadata": {},
   "source": [
    "#### Beobachtungen\n",
    "- Die Prävalenz aller Länder ist kontinuierlich gestiegen \n",
    "- Bei keinem der untersuchten Ländern ist ein Peak (im Verlauf über die Jahre) zu erkennen.\n",
    "- Wir haben bemerkt, dass die Prävalenz unabhängig des Geschlechts (Durchschnitt von Mann und Frau), nicht mit unseren vorhanenden Daten übereinstimmt. (wahrscheinlich wurden andere Daten erhoben) --> deshalb haben wir die Daten von Hand ausgerechnet, damit wir uns auf die Daten des ersten Datensatzes verlassen können\n",
    "- Das Boxplot zeigt die zunehmende Mediane und grössere Streuungen über die Jahre\n",
    "\n",
    "\n",
    "#### Untersuchung der Fragestellung   \n",
    "**\"Welche drei Länder zeigen im Zeitraum von 1996 bis 2016 die grösste und kleinste Zunahme der Prävalenz von Übergewicht in der Gesamtbevölkerung, unabhänig vom Geschlecht?\"**         \n",
    "\n",
    "Länder mit der grössten Zunahme der Prävalenz (unabhängig vom Geschlecht):\n",
    "1. Niue (15.4%)\n",
    "2. Tuvalu (15.3%)\n",
    "3. Kiribati (14.6%)\n",
    "\n",
    "Länder mit der kleinsten Zunahme der Prävalenz (unabhängig vom Geschlecht):\n",
    "1. Vietnam (1.6%)\n",
    "2. Singapur (2.0%)\n",
    "3. Südkorea (2.2%)\n",
    "\n",
    "\n",
    "**\"Wo steht die Schweiz in diesem Vergleich?\"**               \n",
    "Die Schweiz steht mit der Zunahme der Prävalenz von 7% zwischen den Ländern mit der grössten und kleinsten Zunahme. Die Schweiz liegt unter dem Mittelwert und dem Median von allen Ländern zusammen.\n",
    "\n",
    "\n",
    "**\"Welche Unterschiede gibt es in diesen sieben Ländern (grösste und kleinste Zunahme der Prävalenz + Schweiz) zwischen Mann und Frau im Verlauf des Zeitraumes 1996-2016?\"**\n",
    "- In allen untersuchten Ländern, mit Ausnahme der Schweiz haben die Frauen eine höhere Übergewichtsprävalenz als die Männer\n",
    "- In den Ländern mit der höchsten Zunahme der Prävalenz (Kiribati, Niue, Tuvalu) sind die Differenzen zwischen Männern und Frauen um das 5- bis 10-fache grösser als in den anderen Ländern. \n",
    "- In der Schweiz ist die Prävalenz an Übergewicht bei den Männern grundsätzlich höher und auch stärker gestiegen. Die Differenz zwischen Männern und Frauen in der Schweiz verändert sich von 1996 und 2016 von -1.4% zu -5.3%.\n",
    "\n",
    "- Bei den sechs Ländern (ausser Vietnam) nimmt die Differenz von der Prävalenz von Männern zu Frauen von 1996 zu 2016 ab.\n",
    "- In Vietnam steigt die Differenz der Prävalenz von Männern zu Frauen von 1996 bis 2016 um 0.6%.\n",
    "\n",
    "\n",
    "#### Interpretation  \n",
    "**Ländern mit grösstem Zunahme der Übergewichtsprävalenz**     \n",
    "Die Länder Niue, Tuvalu und Kiribati liegen alle im Pazifischen Ozean und sind somit Inselländer.\n",
    "Die Ergebnisse bestätigen, dass Inselländer im Pazifik die höchsten Anstiege verzeichnen, was auf kulturelle, wirtschaftliche und gesundheitliche Herausforderungen hinweist. Aufgrund der geografischen Isolation können viele Inseln nicht genug frische, lokale Lebensmittel produzieren. Dies zwingt sie dazu auf importierte Lebensmittel zurückzugreifen. Häufig sind die ungesunden Lebensmittel billiger, weshalb sie mehr konsumiert werden. Auf der anderen Seite sind sie aber nährstoffarmer und reich an Zucker, Fett und Salz. Mit der Modernisierung und dem Aufkommen von Technologien wie Motorräder und Autos ist die körperliche Arbeit zurückgeganen. In kleineren Städten oder Dörfern gibt es weniger Möglichkeiten für Bewegung. Die traditionelle körperlich anstrengende Arbeit in der Landwirtschaft oder beim Fischfang ist ebenfalls rückläufig. In einigen Inselstaaten fehlt es an umfassender Aufklärung über gesunde Ernährung und die Risiken von Adipositas. Gesundheitsinfrastrukturen sind zudem häufig begrenzt.\n",
    "\n",
    "*Quelle: https://en.wikipedia.org/wiki/Obesity_in_the_Pacific*\n",
    "\n",
    "**Länder mit kleinster Zunahme der Übergewichtsprävalenz**         \n",
    "Die Länder Vietnam und Singapur liegen in Südostasien und Südkorea liegt in Ostasien. Die traditionellen Küche diese Ländern basiert oft auf frischen, unverarbeiteten Lebensmittel wie Gemüse, Fisch und Reis. Diese Ernährung ist oft nährstoffreich, aber kalorienarm. Ebenfalls sind ungesüsste Getränke wie grüner Tee oder Wasser weit verbreitet, wodurch der Konsum von kalorienreichen Softdrinks geringer ist. Besonders in Vietnam und Südkorea legen Menschen oft grössere Entfernungen zu Fuss oder mit dem Fahrrad zurück. In vielen asiatischen Gesellschaften, insbesondere in Südkorea, herrscht ein starker sozialer Druck, schlank zu bleiben. Übergewicht wird oft negativ gesehen, was viele Menschen zu bewusster Ernährung und Fitness motiviert. Besonders in Vietnam und Südkorea wird Gesundheitserziehung in Schulen vermittelt, was ein gesundes Bewusstsein bei jungen Generationen fördert. Singapur hat strenge Regulierungen für Zucker und Transfette in Lebensmitteln eingeführt.\n",
    "\n",
    "*Quelle: https://www.tagesanzeiger.ch/schoenheitskult-in-suedkorea-wer-dick-ist-gilt-als-faul-931603050318*      \n",
    "*https://www.lebensmittelzeitung.net/industrie/nachrichten/Kampf-gegen-Diabetes-Getraenkehersteller-reduzieren-Zuckergehalt-in-Singapur-130942*\n",
    "\n",
    "**Die Schweiz**      \n",
    "In der Schweiz steigt Übergewichtsprävalenz stetig. Mögliche Gründe dafür sind die ungesunden Ernährungsgewohnheiten, der Bewegungsmangel und psychologische Aspekte. Vorallem Stress und andere psychische Belastungen können zu einer Gewichtszunahme führen. Im Vergleich spielt die Schweiz im Mittelfeld mit und ist weder positiv, noch negativ auffällig.\n",
    "\n",
    "*Quelle: https://www.swissinfo.ch/ger/schweizer-bevoelkerung-isst-zu-viel-fett-und-zu-wenig-gemuese/34795384*\n",
    "\n",
    "\n",
    "**Unterschiede Mann und Frau**      \n",
    "Frauen leiden generell mehr unter Übergewicht in den untersuchten Ländern als Männer. Dies hängt zu einem grossen Teil mit den biologische Unterschiede zwischen Frau und Mann zusammen. Frauen haben in der Regel einen höheren Körperfettanteil als Männer. Männer haben tendenziell mehr Muskelmasse als Frauen, was dazu beiträgt, dass sie einen höheren Grundumsatz (Kalorienverbrauch in Ruhe) haben. Hormone spielen eine bedeutende Rolle bei der Fettverteilung. Östrogen, das bei Frauen dominanter ist, fördert die Fettablagerung. Testosteron bei Männern begünstigt den Muskelaufbau und kann den Fettanteil verringern. Das Körpergewicht ist jedoch von verschiedenen Faktoren und der Lebensweise abhängig. Somit muss man jedes Land individuell betrachtet werden, auch unabhängig von den Geschlechtern.\n",
    "Die Differenz der Prävalenz zwischen Mann und Frau nahm in den meisten Ländern zwischen 1996 und 2016 ab. Ein möglicher Grund dafür könnte sein, dass der Zugang zu Gesundheitsinformationen und -diensten für beide Geschlechter zugänglicher wurde. Auch die Digitalisierung erleichtert diesen Zugang, was geschlechterspezifische Unterschiede ausgebaut haben könnte. Im Jahr 1996 wurden die Männer durch den Arbeitgeber eher über die Gesundheit aufgeklärt als die Hausfrau. Die Kultur und Geschlechterrollen haben sich in dieser Zeitspanne vorlaufend entwickelt. \n",
    "Die Differenz der Prävalenz zwischen Frau und Mann ist bei den Inselstaaten deutlich höher als bei den asiatischen Ländern. Dies könnte damit zusammenhängen, dass in Inselstaaten die traditionelle Rollenverteilung und die Relevanz einer Familie grösser ist. Der Mann geht arbeiten und strengt sich körperlich an, während die Frau sich um das Haus und die Kinder kümmert. Aus diesem Grund könnte es zu fehlender Aufklärung und Informationszugang für die Frauen kommen. In asiatischen Ländern sind grosse Familien weniger häufig, was dazu führt, dass die Frauen vermehrt arbeiten gehen und den vollen Zugang zu Gesundheitsinformationen erhalten.\n",
    "\n",
    "*Quelle: https://www.aerztinnenbund.de/Geschlechtsspezifische_Aspekte_in.2056.0.2.html*\n"
   ]
  },
  {
   "cell_type": "code",
   "execution_count": 43,
   "id": "74aebb2e",
   "metadata": {},
   "outputs": [
    {
     "data": {
      "text/html": [
       "<div>\n",
       "<style scoped>\n",
       "    .dataframe tbody tr th:only-of-type {\n",
       "        vertical-align: middle;\n",
       "    }\n",
       "\n",
       "    .dataframe tbody tr th {\n",
       "        vertical-align: top;\n",
       "    }\n",
       "\n",
       "    .dataframe thead th {\n",
       "        text-align: right;\n",
       "    }\n",
       "</style>\n",
       "<table border=\"1\" class=\"dataframe\">\n",
       "  <thead>\n",
       "    <tr style=\"text-align: right;\">\n",
       "      <th></th>\n",
       "      <th>Land</th>\n",
       "      <th>Kürzel</th>\n",
       "      <th>Jahr</th>\n",
       "      <th>Übergewicht_Prävalenz_Männer_18+</th>\n",
       "      <th>Übergewicht_Prävalenz_Frauen_18+</th>\n",
       "    </tr>\n",
       "  </thead>\n",
       "  <tbody>\n",
       "    <tr>\n",
       "      <th>0</th>\n",
       "      <td>Afghanistan</td>\n",
       "      <td>AFG</td>\n",
       "      <td>1975</td>\n",
       "      <td>0.2</td>\n",
       "      <td>0.8</td>\n",
       "    </tr>\n",
       "    <tr>\n",
       "      <th>1</th>\n",
       "      <td>Afghanistan</td>\n",
       "      <td>AFG</td>\n",
       "      <td>1976</td>\n",
       "      <td>0.2</td>\n",
       "      <td>0.8</td>\n",
       "    </tr>\n",
       "    <tr>\n",
       "      <th>2</th>\n",
       "      <td>Afghanistan</td>\n",
       "      <td>AFG</td>\n",
       "      <td>1977</td>\n",
       "      <td>0.2</td>\n",
       "      <td>0.9</td>\n",
       "    </tr>\n",
       "    <tr>\n",
       "      <th>3</th>\n",
       "      <td>Afghanistan</td>\n",
       "      <td>AFG</td>\n",
       "      <td>1978</td>\n",
       "      <td>0.2</td>\n",
       "      <td>0.9</td>\n",
       "    </tr>\n",
       "    <tr>\n",
       "      <th>4</th>\n",
       "      <td>Afghanistan</td>\n",
       "      <td>AFG</td>\n",
       "      <td>1979</td>\n",
       "      <td>0.3</td>\n",
       "      <td>1.0</td>\n",
       "    </tr>\n",
       "    <tr>\n",
       "      <th>...</th>\n",
       "      <td>...</td>\n",
       "      <td>...</td>\n",
       "      <td>...</td>\n",
       "      <td>...</td>\n",
       "      <td>...</td>\n",
       "    </tr>\n",
       "    <tr>\n",
       "      <th>8540</th>\n",
       "      <td>Zimbabwe</td>\n",
       "      <td>ZWE</td>\n",
       "      <td>2013</td>\n",
       "      <td>4.2</td>\n",
       "      <td>23.9</td>\n",
       "    </tr>\n",
       "    <tr>\n",
       "      <th>8541</th>\n",
       "      <td>Zimbabwe</td>\n",
       "      <td>ZWE</td>\n",
       "      <td>2014</td>\n",
       "      <td>4.4</td>\n",
       "      <td>24.4</td>\n",
       "    </tr>\n",
       "    <tr>\n",
       "      <th>8542</th>\n",
       "      <td>Zimbabwe</td>\n",
       "      <td>ZWE</td>\n",
       "      <td>2015</td>\n",
       "      <td>4.5</td>\n",
       "      <td>24.8</td>\n",
       "    </tr>\n",
       "    <tr>\n",
       "      <th>8543</th>\n",
       "      <td>Zimbabwe</td>\n",
       "      <td>ZWE</td>\n",
       "      <td>2016</td>\n",
       "      <td>4.7</td>\n",
       "      <td>25.3</td>\n",
       "    </tr>\n",
       "    <tr>\n",
       "      <th>8544</th>\n",
       "      <td>Zimbabwe</td>\n",
       "      <td>ZWE</td>\n",
       "      <td>2023</td>\n",
       "      <td>NaN</td>\n",
       "      <td>NaN</td>\n",
       "    </tr>\n",
       "  </tbody>\n",
       "</table>\n",
       "<p>8545 rows × 5 columns</p>\n",
       "</div>"
      ],
      "text/plain": [
       "             Land Kürzel  Jahr  Übergewicht_Prävalenz_Männer_18+  \\\n",
       "0     Afghanistan    AFG  1975                               0.2   \n",
       "1     Afghanistan    AFG  1976                               0.2   \n",
       "2     Afghanistan    AFG  1977                               0.2   \n",
       "3     Afghanistan    AFG  1978                               0.2   \n",
       "4     Afghanistan    AFG  1979                               0.3   \n",
       "...           ...    ...   ...                               ...   \n",
       "8540     Zimbabwe    ZWE  2013                               4.2   \n",
       "8541     Zimbabwe    ZWE  2014                               4.4   \n",
       "8542     Zimbabwe    ZWE  2015                               4.5   \n",
       "8543     Zimbabwe    ZWE  2016                               4.7   \n",
       "8544     Zimbabwe    ZWE  2023                               NaN   \n",
       "\n",
       "      Übergewicht_Prävalenz_Frauen_18+  \n",
       "0                                  0.8  \n",
       "1                                  0.8  \n",
       "2                                  0.9  \n",
       "3                                  0.9  \n",
       "4                                  1.0  \n",
       "...                                ...  \n",
       "8540                              23.9  \n",
       "8541                              24.4  \n",
       "8542                              24.8  \n",
       "8543                              25.3  \n",
       "8544                               NaN  \n",
       "\n",
       "[8545 rows x 5 columns]"
      ]
     },
     "execution_count": 43,
     "metadata": {},
     "output_type": "execute_result"
    }
   ],
   "source": [
    "df_einzeln = df_einzeln.drop(columns=['Weltregionen_gemäss_OWID'])\n",
    "df_einzeln"
   ]
  },
  {
   "cell_type": "code",
   "execution_count": 44,
   "id": "e1f5ec01",
   "metadata": {},
   "outputs": [
    {
     "name": "stdout",
     "output_type": "stream",
     "text": [
      "Index(['Land', 'Kürzel', 'Jahr', 'Übergewicht_Prävalenz_Männer_18+',\n",
      "       'Übergewicht_Prävalenz_Frauen_18+'],\n",
      "      dtype='object')\n",
      "Index(['Land', 'Kürzel', 'Jahr',\n",
      "       'Übergewicht_Prävalenz_18+_unabhängig_Geschlecht'],\n",
      "      dtype='object')\n"
     ]
    }
   ],
   "source": [
    "print(df_einzeln.columns)\n",
    "print(df_zsm.columns)"
   ]
  },
  {
   "cell_type": "code",
   "execution_count": 45,
   "id": "36ee9961",
   "metadata": {},
   "outputs": [
    {
     "data": {
      "text/html": [
       "<div>\n",
       "<style scoped>\n",
       "    .dataframe tbody tr th:only-of-type {\n",
       "        vertical-align: middle;\n",
       "    }\n",
       "\n",
       "    .dataframe tbody tr th {\n",
       "        vertical-align: top;\n",
       "    }\n",
       "\n",
       "    .dataframe thead th {\n",
       "        text-align: right;\n",
       "    }\n",
       "</style>\n",
       "<table border=\"1\" class=\"dataframe\">\n",
       "  <thead>\n",
       "    <tr style=\"text-align: right;\">\n",
       "      <th></th>\n",
       "      <th>Land</th>\n",
       "      <th>Kürzel</th>\n",
       "      <th>Jahr</th>\n",
       "      <th>Übergewicht_Prävalenz_Männer_18+</th>\n",
       "      <th>Übergewicht_Prävalenz_Frauen_18+</th>\n",
       "      <th>Übergewicht_Prävalenz_18+_unabhängig_Geschlecht</th>\n",
       "    </tr>\n",
       "  </thead>\n",
       "  <tbody>\n",
       "    <tr>\n",
       "      <th>0</th>\n",
       "      <td>Afghanistan</td>\n",
       "      <td>AFG</td>\n",
       "      <td>1975</td>\n",
       "      <td>0.2</td>\n",
       "      <td>0.8</td>\n",
       "      <td>0.4</td>\n",
       "    </tr>\n",
       "    <tr>\n",
       "      <th>1</th>\n",
       "      <td>Afghanistan</td>\n",
       "      <td>AFG</td>\n",
       "      <td>1976</td>\n",
       "      <td>0.2</td>\n",
       "      <td>0.8</td>\n",
       "      <td>0.4</td>\n",
       "    </tr>\n",
       "    <tr>\n",
       "      <th>2</th>\n",
       "      <td>Afghanistan</td>\n",
       "      <td>AFG</td>\n",
       "      <td>1977</td>\n",
       "      <td>0.2</td>\n",
       "      <td>0.9</td>\n",
       "      <td>0.5</td>\n",
       "    </tr>\n",
       "    <tr>\n",
       "      <th>3</th>\n",
       "      <td>Afghanistan</td>\n",
       "      <td>AFG</td>\n",
       "      <td>1978</td>\n",
       "      <td>0.2</td>\n",
       "      <td>0.9</td>\n",
       "      <td>0.5</td>\n",
       "    </tr>\n",
       "    <tr>\n",
       "      <th>4</th>\n",
       "      <td>Afghanistan</td>\n",
       "      <td>AFG</td>\n",
       "      <td>1979</td>\n",
       "      <td>0.3</td>\n",
       "      <td>1.0</td>\n",
       "      <td>0.5</td>\n",
       "    </tr>\n",
       "    <tr>\n",
       "      <th>...</th>\n",
       "      <td>...</td>\n",
       "      <td>...</td>\n",
       "      <td>...</td>\n",
       "      <td>...</td>\n",
       "      <td>...</td>\n",
       "      <td>...</td>\n",
       "    </tr>\n",
       "    <tr>\n",
       "      <th>8540</th>\n",
       "      <td>Zimbabwe</td>\n",
       "      <td>ZWE</td>\n",
       "      <td>2013</td>\n",
       "      <td>4.2</td>\n",
       "      <td>23.9</td>\n",
       "      <td>11.3</td>\n",
       "    </tr>\n",
       "    <tr>\n",
       "      <th>8541</th>\n",
       "      <td>Zimbabwe</td>\n",
       "      <td>ZWE</td>\n",
       "      <td>2014</td>\n",
       "      <td>4.4</td>\n",
       "      <td>24.4</td>\n",
       "      <td>11.6</td>\n",
       "    </tr>\n",
       "    <tr>\n",
       "      <th>8542</th>\n",
       "      <td>Zimbabwe</td>\n",
       "      <td>ZWE</td>\n",
       "      <td>2015</td>\n",
       "      <td>4.5</td>\n",
       "      <td>24.8</td>\n",
       "      <td>11.9</td>\n",
       "    </tr>\n",
       "    <tr>\n",
       "      <th>8543</th>\n",
       "      <td>Zimbabwe</td>\n",
       "      <td>ZWE</td>\n",
       "      <td>2016</td>\n",
       "      <td>4.7</td>\n",
       "      <td>25.3</td>\n",
       "      <td>12.3</td>\n",
       "    </tr>\n",
       "    <tr>\n",
       "      <th>8544</th>\n",
       "      <td>Zimbabwe</td>\n",
       "      <td>ZWE</td>\n",
       "      <td>2023</td>\n",
       "      <td>NaN</td>\n",
       "      <td>NaN</td>\n",
       "      <td>NaN</td>\n",
       "    </tr>\n",
       "  </tbody>\n",
       "</table>\n",
       "<p>8545 rows × 6 columns</p>\n",
       "</div>"
      ],
      "text/plain": [
       "             Land Kürzel  Jahr  Übergewicht_Prävalenz_Männer_18+  \\\n",
       "0     Afghanistan    AFG  1975                               0.2   \n",
       "1     Afghanistan    AFG  1976                               0.2   \n",
       "2     Afghanistan    AFG  1977                               0.2   \n",
       "3     Afghanistan    AFG  1978                               0.2   \n",
       "4     Afghanistan    AFG  1979                               0.3   \n",
       "...           ...    ...   ...                               ...   \n",
       "8540     Zimbabwe    ZWE  2013                               4.2   \n",
       "8541     Zimbabwe    ZWE  2014                               4.4   \n",
       "8542     Zimbabwe    ZWE  2015                               4.5   \n",
       "8543     Zimbabwe    ZWE  2016                               4.7   \n",
       "8544     Zimbabwe    ZWE  2023                               NaN   \n",
       "\n",
       "      Übergewicht_Prävalenz_Frauen_18+  \\\n",
       "0                                  0.8   \n",
       "1                                  0.8   \n",
       "2                                  0.9   \n",
       "3                                  0.9   \n",
       "4                                  1.0   \n",
       "...                                ...   \n",
       "8540                              23.9   \n",
       "8541                              24.4   \n",
       "8542                              24.8   \n",
       "8543                              25.3   \n",
       "8544                               NaN   \n",
       "\n",
       "      Übergewicht_Prävalenz_18+_unabhängig_Geschlecht  \n",
       "0                                                 0.4  \n",
       "1                                                 0.4  \n",
       "2                                                 0.5  \n",
       "3                                                 0.5  \n",
       "4                                                 0.5  \n",
       "...                                               ...  \n",
       "8540                                             11.3  \n",
       "8541                                             11.6  \n",
       "8542                                             11.9  \n",
       "8543                                             12.3  \n",
       "8544                                              NaN  \n",
       "\n",
       "[8545 rows x 6 columns]"
      ]
     },
     "execution_count": 45,
     "metadata": {},
     "output_type": "execute_result"
    }
   ],
   "source": [
    "df_kombi = pd.merge(df_einzeln, df_zsm, on=['Land', 'Jahr', 'Kürzel'], how='outer')\n",
    "df_kombi"
   ]
  },
  {
   "cell_type": "markdown",
   "id": "ab9eb9c2",
   "metadata": {},
   "source": [
    "***Wir haben bemerkt, dass die Prävalenz unabhängig des Geschlechts (Durchschnitt von Mann und Frau), nicht mit unseren vorhandenen Daten übereinstimmt. (wahrscheinlich wurden andere Daten erhoben) --> deshalb haben wir die Daten von Hand ausgerechnet, damit wir uns auf die Daten des ersten Datensatzes verlassen können***"
   ]
  },
  {
   "cell_type": "code",
   "execution_count": 46,
   "id": "32a68718",
   "metadata": {},
   "outputs": [
    {
     "data": {
      "text/html": [
       "<div>\n",
       "<style scoped>\n",
       "    .dataframe tbody tr th:only-of-type {\n",
       "        vertical-align: middle;\n",
       "    }\n",
       "\n",
       "    .dataframe tbody tr th {\n",
       "        vertical-align: top;\n",
       "    }\n",
       "\n",
       "    .dataframe thead th {\n",
       "        text-align: right;\n",
       "    }\n",
       "</style>\n",
       "<table border=\"1\" class=\"dataframe\">\n",
       "  <thead>\n",
       "    <tr style=\"text-align: right;\">\n",
       "      <th></th>\n",
       "      <th>Land</th>\n",
       "      <th>Kürzel</th>\n",
       "      <th>Jahr</th>\n",
       "      <th>Übergewicht_Prävalenz_Männer_18+</th>\n",
       "      <th>Übergewicht_Prävalenz_Frauen_18+</th>\n",
       "      <th>Durchschnitt_Prävalenz_18+_ausgerechnet</th>\n",
       "    </tr>\n",
       "  </thead>\n",
       "  <tbody>\n",
       "    <tr>\n",
       "      <th>0</th>\n",
       "      <td>Afghanistan</td>\n",
       "      <td>AFG</td>\n",
       "      <td>1975</td>\n",
       "      <td>0.2</td>\n",
       "      <td>0.8</td>\n",
       "      <td>0.5</td>\n",
       "    </tr>\n",
       "    <tr>\n",
       "      <th>1</th>\n",
       "      <td>Afghanistan</td>\n",
       "      <td>AFG</td>\n",
       "      <td>1976</td>\n",
       "      <td>0.2</td>\n",
       "      <td>0.8</td>\n",
       "      <td>0.5</td>\n",
       "    </tr>\n",
       "    <tr>\n",
       "      <th>2</th>\n",
       "      <td>Afghanistan</td>\n",
       "      <td>AFG</td>\n",
       "      <td>1977</td>\n",
       "      <td>0.2</td>\n",
       "      <td>0.9</td>\n",
       "      <td>0.6</td>\n",
       "    </tr>\n",
       "    <tr>\n",
       "      <th>3</th>\n",
       "      <td>Afghanistan</td>\n",
       "      <td>AFG</td>\n",
       "      <td>1978</td>\n",
       "      <td>0.2</td>\n",
       "      <td>0.9</td>\n",
       "      <td>0.6</td>\n",
       "    </tr>\n",
       "    <tr>\n",
       "      <th>4</th>\n",
       "      <td>Afghanistan</td>\n",
       "      <td>AFG</td>\n",
       "      <td>1979</td>\n",
       "      <td>0.3</td>\n",
       "      <td>1.0</td>\n",
       "      <td>0.6</td>\n",
       "    </tr>\n",
       "    <tr>\n",
       "      <th>...</th>\n",
       "      <td>...</td>\n",
       "      <td>...</td>\n",
       "      <td>...</td>\n",
       "      <td>...</td>\n",
       "      <td>...</td>\n",
       "      <td>...</td>\n",
       "    </tr>\n",
       "    <tr>\n",
       "      <th>8540</th>\n",
       "      <td>Zimbabwe</td>\n",
       "      <td>ZWE</td>\n",
       "      <td>2013</td>\n",
       "      <td>4.2</td>\n",
       "      <td>23.9</td>\n",
       "      <td>14.0</td>\n",
       "    </tr>\n",
       "    <tr>\n",
       "      <th>8541</th>\n",
       "      <td>Zimbabwe</td>\n",
       "      <td>ZWE</td>\n",
       "      <td>2014</td>\n",
       "      <td>4.4</td>\n",
       "      <td>24.4</td>\n",
       "      <td>14.4</td>\n",
       "    </tr>\n",
       "    <tr>\n",
       "      <th>8542</th>\n",
       "      <td>Zimbabwe</td>\n",
       "      <td>ZWE</td>\n",
       "      <td>2015</td>\n",
       "      <td>4.5</td>\n",
       "      <td>24.8</td>\n",
       "      <td>14.6</td>\n",
       "    </tr>\n",
       "    <tr>\n",
       "      <th>8543</th>\n",
       "      <td>Zimbabwe</td>\n",
       "      <td>ZWE</td>\n",
       "      <td>2016</td>\n",
       "      <td>4.7</td>\n",
       "      <td>25.3</td>\n",
       "      <td>15.0</td>\n",
       "    </tr>\n",
       "    <tr>\n",
       "      <th>8544</th>\n",
       "      <td>Zimbabwe</td>\n",
       "      <td>ZWE</td>\n",
       "      <td>2023</td>\n",
       "      <td>NaN</td>\n",
       "      <td>NaN</td>\n",
       "      <td>NaN</td>\n",
       "    </tr>\n",
       "  </tbody>\n",
       "</table>\n",
       "<p>8545 rows × 6 columns</p>\n",
       "</div>"
      ],
      "text/plain": [
       "             Land Kürzel  Jahr  Übergewicht_Prävalenz_Männer_18+  \\\n",
       "0     Afghanistan    AFG  1975                               0.2   \n",
       "1     Afghanistan    AFG  1976                               0.2   \n",
       "2     Afghanistan    AFG  1977                               0.2   \n",
       "3     Afghanistan    AFG  1978                               0.2   \n",
       "4     Afghanistan    AFG  1979                               0.3   \n",
       "...           ...    ...   ...                               ...   \n",
       "8540     Zimbabwe    ZWE  2013                               4.2   \n",
       "8541     Zimbabwe    ZWE  2014                               4.4   \n",
       "8542     Zimbabwe    ZWE  2015                               4.5   \n",
       "8543     Zimbabwe    ZWE  2016                               4.7   \n",
       "8544     Zimbabwe    ZWE  2023                               NaN   \n",
       "\n",
       "      Übergewicht_Prävalenz_Frauen_18+  \\\n",
       "0                                  0.8   \n",
       "1                                  0.8   \n",
       "2                                  0.9   \n",
       "3                                  0.9   \n",
       "4                                  1.0   \n",
       "...                                ...   \n",
       "8540                              23.9   \n",
       "8541                              24.4   \n",
       "8542                              24.8   \n",
       "8543                              25.3   \n",
       "8544                               NaN   \n",
       "\n",
       "      Durchschnitt_Prävalenz_18+_ausgerechnet  \n",
       "0                                         0.5  \n",
       "1                                         0.5  \n",
       "2                                         0.6  \n",
       "3                                         0.6  \n",
       "4                                         0.6  \n",
       "...                                       ...  \n",
       "8540                                     14.0  \n",
       "8541                                     14.4  \n",
       "8542                                     14.6  \n",
       "8543                                     15.0  \n",
       "8544                                      NaN  \n",
       "\n",
       "[8545 rows x 6 columns]"
      ]
     },
     "execution_count": 46,
     "metadata": {},
     "output_type": "execute_result"
    }
   ],
   "source": [
    "df_einzeln['Durchschnitt_Prävalenz_18+_ausgerechnet'] = ((df_einzeln['Übergewicht_Prävalenz_Frauen_18+']+df_einzeln['Übergewicht_Prävalenz_Männer_18+'])/2).round(1)\n",
    "\n",
    "df_einzeln"
   ]
  },
  {
   "cell_type": "code",
   "execution_count": 47,
   "id": "4a7c1262",
   "metadata": {},
   "outputs": [
    {
     "data": {
      "image/png": "[encoded data removed]",
      "text/plain": [
       "<Figure size 1000x600 with 1 Axes>"
      ]
     },
     "metadata": {},
     "output_type": "display_data"
    }
   ],
   "source": [
    "Start_Jahr = 1996\n",
    "End_Jahr = 2016\n",
    "\n",
    "df_einzeln_gefiltert = df_einzeln[(df_einzeln['Jahr']>= Start_Jahr) & (df_einzeln['Jahr'] <= End_Jahr)]\n",
    "\n",
    "gruppiert = df_einzeln_gefiltert.groupby('Jahr')['Durchschnitt_Prävalenz_18+_ausgerechnet'].apply(list)\n",
    "\n",
    "fig, box_1 = plt.subplots(figsize=(10, 6))\n",
    "bplot = box_1.boxplot(gruppiert, patch_artist=True)\n",
    "colors = ['skyblue'] * len(gruppiert)\n",
    "alpha = 0.5\n",
    "for patch, color in zip(bplot['boxes'],colors):\n",
    "    patch.set_facecolor(color)\n",
    "    patch.set_alpha(alpha)\n",
    "\n",
    "box_1.set_title('Boxplot zur Übergewichtsprävalenz unabhängig des Geschlechts (18+) von 1996 bis 2016')\n",
    "box_1.set_xticklabels(gruppiert.index)\n",
    "\n",
    "box_1.set_ylabel('Prävalenz (%)')\n",
    "box_1.set_xlabel('Jahr'); \n"
   ]
  },
  {
   "cell_type": "code",
   "execution_count": 48,
   "id": "896d720d",
   "metadata": {},
   "outputs": [
    {
     "data": {
      "text/html": [
       "<div>\n",
       "<style scoped>\n",
       "    .dataframe tbody tr th:only-of-type {\n",
       "        vertical-align: middle;\n",
       "    }\n",
       "\n",
       "    .dataframe tbody tr th {\n",
       "        vertical-align: top;\n",
       "    }\n",
       "\n",
       "    .dataframe thead th {\n",
       "        text-align: right;\n",
       "    }\n",
       "</style>\n",
       "<table border=\"1\" class=\"dataframe\">\n",
       "  <thead>\n",
       "    <tr style=\"text-align: right;\">\n",
       "      <th>Jahr</th>\n",
       "      <th>1975</th>\n",
       "      <th>1976</th>\n",
       "      <th>1977</th>\n",
       "      <th>1978</th>\n",
       "      <th>1979</th>\n",
       "      <th>1980</th>\n",
       "      <th>1981</th>\n",
       "      <th>1982</th>\n",
       "      <th>1983</th>\n",
       "      <th>1984</th>\n",
       "      <th>...</th>\n",
       "      <th>2007</th>\n",
       "      <th>2008</th>\n",
       "      <th>2009</th>\n",
       "      <th>2010</th>\n",
       "      <th>2011</th>\n",
       "      <th>2012</th>\n",
       "      <th>2013</th>\n",
       "      <th>2014</th>\n",
       "      <th>2015</th>\n",
       "      <th>2016</th>\n",
       "    </tr>\n",
       "    <tr>\n",
       "      <th>Land</th>\n",
       "      <th></th>\n",
       "      <th></th>\n",
       "      <th></th>\n",
       "      <th></th>\n",
       "      <th></th>\n",
       "      <th></th>\n",
       "      <th></th>\n",
       "      <th></th>\n",
       "      <th></th>\n",
       "      <th></th>\n",
       "      <th></th>\n",
       "      <th></th>\n",
       "      <th></th>\n",
       "      <th></th>\n",
       "      <th></th>\n",
       "      <th></th>\n",
       "      <th></th>\n",
       "      <th></th>\n",
       "      <th></th>\n",
       "      <th></th>\n",
       "      <th></th>\n",
       "    </tr>\n",
       "  </thead>\n",
       "  <tbody>\n",
       "    <tr>\n",
       "      <th>Afghanistan</th>\n",
       "      <td>0.5</td>\n",
       "      <td>0.5</td>\n",
       "      <td>0.6</td>\n",
       "      <td>0.6</td>\n",
       "      <td>0.6</td>\n",
       "      <td>0.7</td>\n",
       "      <td>0.7</td>\n",
       "      <td>0.8</td>\n",
       "      <td>0.8</td>\n",
       "      <td>0.9</td>\n",
       "      <td>...</td>\n",
       "      <td>3.4</td>\n",
       "      <td>3.6</td>\n",
       "      <td>3.8</td>\n",
       "      <td>4.0</td>\n",
       "      <td>4.2</td>\n",
       "      <td>4.4</td>\n",
       "      <td>4.6</td>\n",
       "      <td>4.9</td>\n",
       "      <td>5.2</td>\n",
       "      <td>5.4</td>\n",
       "    </tr>\n",
       "    <tr>\n",
       "      <th>Africa (WHO)</th>\n",
       "      <td>2.0</td>\n",
       "      <td>2.0</td>\n",
       "      <td>2.1</td>\n",
       "      <td>2.2</td>\n",
       "      <td>2.3</td>\n",
       "      <td>2.4</td>\n",
       "      <td>2.5</td>\n",
       "      <td>2.6</td>\n",
       "      <td>2.8</td>\n",
       "      <td>2.9</td>\n",
       "      <td>...</td>\n",
       "      <td>7.7</td>\n",
       "      <td>8.0</td>\n",
       "      <td>8.2</td>\n",
       "      <td>8.6</td>\n",
       "      <td>8.9</td>\n",
       "      <td>9.1</td>\n",
       "      <td>9.5</td>\n",
       "      <td>9.8</td>\n",
       "      <td>10.1</td>\n",
       "      <td>10.4</td>\n",
       "    </tr>\n",
       "    <tr>\n",
       "      <th>Albania</th>\n",
       "      <td>6.5</td>\n",
       "      <td>6.7</td>\n",
       "      <td>6.8</td>\n",
       "      <td>7.0</td>\n",
       "      <td>7.2</td>\n",
       "      <td>7.4</td>\n",
       "      <td>7.6</td>\n",
       "      <td>7.8</td>\n",
       "      <td>8.0</td>\n",
       "      <td>8.3</td>\n",
       "      <td>...</td>\n",
       "      <td>16.5</td>\n",
       "      <td>17.0</td>\n",
       "      <td>17.6</td>\n",
       "      <td>18.2</td>\n",
       "      <td>18.8</td>\n",
       "      <td>19.4</td>\n",
       "      <td>20.0</td>\n",
       "      <td>20.5</td>\n",
       "      <td>21.1</td>\n",
       "      <td>21.7</td>\n",
       "    </tr>\n",
       "    <tr>\n",
       "      <th>Algeria</th>\n",
       "      <td>6.8</td>\n",
       "      <td>7.0</td>\n",
       "      <td>7.2</td>\n",
       "      <td>7.5</td>\n",
       "      <td>7.8</td>\n",
       "      <td>8.2</td>\n",
       "      <td>8.4</td>\n",
       "      <td>8.8</td>\n",
       "      <td>9.2</td>\n",
       "      <td>9.6</td>\n",
       "      <td>...</td>\n",
       "      <td>21.4</td>\n",
       "      <td>22.0</td>\n",
       "      <td>22.7</td>\n",
       "      <td>23.4</td>\n",
       "      <td>24.0</td>\n",
       "      <td>24.7</td>\n",
       "      <td>25.4</td>\n",
       "      <td>26.0</td>\n",
       "      <td>26.7</td>\n",
       "      <td>27.4</td>\n",
       "    </tr>\n",
       "    <tr>\n",
       "      <th>Americas (WHO)</th>\n",
       "      <td>9.4</td>\n",
       "      <td>9.8</td>\n",
       "      <td>10.0</td>\n",
       "      <td>10.4</td>\n",
       "      <td>10.7</td>\n",
       "      <td>11.0</td>\n",
       "      <td>11.4</td>\n",
       "      <td>11.8</td>\n",
       "      <td>12.1</td>\n",
       "      <td>12.5</td>\n",
       "      <td>...</td>\n",
       "      <td>23.8</td>\n",
       "      <td>24.2</td>\n",
       "      <td>24.8</td>\n",
       "      <td>25.3</td>\n",
       "      <td>25.8</td>\n",
       "      <td>26.3</td>\n",
       "      <td>26.8</td>\n",
       "      <td>27.4</td>\n",
       "      <td>28.0</td>\n",
       "      <td>28.4</td>\n",
       "    </tr>\n",
       "    <tr>\n",
       "      <th>...</th>\n",
       "      <td>...</td>\n",
       "      <td>...</td>\n",
       "      <td>...</td>\n",
       "      <td>...</td>\n",
       "      <td>...</td>\n",
       "      <td>...</td>\n",
       "      <td>...</td>\n",
       "      <td>...</td>\n",
       "      <td>...</td>\n",
       "      <td>...</td>\n",
       "      <td>...</td>\n",
       "      <td>...</td>\n",
       "      <td>...</td>\n",
       "      <td>...</td>\n",
       "      <td>...</td>\n",
       "      <td>...</td>\n",
       "      <td>...</td>\n",
       "      <td>...</td>\n",
       "      <td>...</td>\n",
       "      <td>...</td>\n",
       "      <td>...</td>\n",
       "    </tr>\n",
       "    <tr>\n",
       "      <th>Vietnam</th>\n",
       "      <td>0.2</td>\n",
       "      <td>0.2</td>\n",
       "      <td>0.2</td>\n",
       "      <td>0.2</td>\n",
       "      <td>0.2</td>\n",
       "      <td>0.2</td>\n",
       "      <td>0.2</td>\n",
       "      <td>0.2</td>\n",
       "      <td>0.2</td>\n",
       "      <td>0.2</td>\n",
       "      <td>...</td>\n",
       "      <td>1.0</td>\n",
       "      <td>1.2</td>\n",
       "      <td>1.2</td>\n",
       "      <td>1.3</td>\n",
       "      <td>1.4</td>\n",
       "      <td>1.6</td>\n",
       "      <td>1.6</td>\n",
       "      <td>1.8</td>\n",
       "      <td>2.0</td>\n",
       "      <td>2.1</td>\n",
       "    </tr>\n",
       "    <tr>\n",
       "      <th>Western Pacific (WHO)</th>\n",
       "      <td>0.8</td>\n",
       "      <td>0.8</td>\n",
       "      <td>0.8</td>\n",
       "      <td>0.8</td>\n",
       "      <td>1.0</td>\n",
       "      <td>1.0</td>\n",
       "      <td>1.0</td>\n",
       "      <td>1.0</td>\n",
       "      <td>1.1</td>\n",
       "      <td>1.2</td>\n",
       "      <td>...</td>\n",
       "      <td>4.0</td>\n",
       "      <td>4.2</td>\n",
       "      <td>4.4</td>\n",
       "      <td>4.6</td>\n",
       "      <td>4.9</td>\n",
       "      <td>5.2</td>\n",
       "      <td>5.4</td>\n",
       "      <td>5.8</td>\n",
       "      <td>6.1</td>\n",
       "      <td>6.4</td>\n",
       "    </tr>\n",
       "    <tr>\n",
       "      <th>Yemen</th>\n",
       "      <td>2.7</td>\n",
       "      <td>2.8</td>\n",
       "      <td>2.9</td>\n",
       "      <td>3.1</td>\n",
       "      <td>3.2</td>\n",
       "      <td>3.4</td>\n",
       "      <td>3.6</td>\n",
       "      <td>3.8</td>\n",
       "      <td>4.0</td>\n",
       "      <td>4.2</td>\n",
       "      <td>...</td>\n",
       "      <td>11.8</td>\n",
       "      <td>12.4</td>\n",
       "      <td>12.8</td>\n",
       "      <td>13.4</td>\n",
       "      <td>13.9</td>\n",
       "      <td>14.5</td>\n",
       "      <td>15.1</td>\n",
       "      <td>15.7</td>\n",
       "      <td>16.4</td>\n",
       "      <td>17.0</td>\n",
       "    </tr>\n",
       "    <tr>\n",
       "      <th>Zambia</th>\n",
       "      <td>1.5</td>\n",
       "      <td>1.6</td>\n",
       "      <td>1.7</td>\n",
       "      <td>1.8</td>\n",
       "      <td>1.9</td>\n",
       "      <td>2.0</td>\n",
       "      <td>2.2</td>\n",
       "      <td>2.3</td>\n",
       "      <td>2.4</td>\n",
       "      <td>2.5</td>\n",
       "      <td>...</td>\n",
       "      <td>5.4</td>\n",
       "      <td>5.6</td>\n",
       "      <td>6.0</td>\n",
       "      <td>6.2</td>\n",
       "      <td>6.4</td>\n",
       "      <td>6.8</td>\n",
       "      <td>7.0</td>\n",
       "      <td>7.4</td>\n",
       "      <td>7.7</td>\n",
       "      <td>8.0</td>\n",
       "    </tr>\n",
       "    <tr>\n",
       "      <th>Zimbabwe</th>\n",
       "      <td>3.6</td>\n",
       "      <td>3.8</td>\n",
       "      <td>4.0</td>\n",
       "      <td>4.1</td>\n",
       "      <td>4.4</td>\n",
       "      <td>4.5</td>\n",
       "      <td>4.8</td>\n",
       "      <td>4.9</td>\n",
       "      <td>5.2</td>\n",
       "      <td>5.4</td>\n",
       "      <td>...</td>\n",
       "      <td>12.3</td>\n",
       "      <td>12.6</td>\n",
       "      <td>12.9</td>\n",
       "      <td>13.2</td>\n",
       "      <td>13.4</td>\n",
       "      <td>13.8</td>\n",
       "      <td>14.0</td>\n",
       "      <td>14.4</td>\n",
       "      <td>14.6</td>\n",
       "      <td>15.0</td>\n",
       "    </tr>\n",
       "  </tbody>\n",
       "</table>\n",
       "<p>197 rows × 42 columns</p>\n",
       "</div>"
      ],
      "text/plain": [
       "Jahr                   1975  1976  1977  1978  1979  1980  1981  1982  1983  \\\n",
       "Land                                                                          \n",
       "Afghanistan             0.5   0.5   0.6   0.6   0.6   0.7   0.7   0.8   0.8   \n",
       "Africa (WHO)            2.0   2.0   2.1   2.2   2.3   2.4   2.5   2.6   2.8   \n",
       "Albania                 6.5   6.7   6.8   7.0   7.2   7.4   7.6   7.8   8.0   \n",
       "Algeria                 6.8   7.0   7.2   7.5   7.8   8.2   8.4   8.8   9.2   \n",
       "Americas (WHO)          9.4   9.8  10.0  10.4  10.7  11.0  11.4  11.8  12.1   \n",
       "...                     ...   ...   ...   ...   ...   ...   ...   ...   ...   \n",
       "Vietnam                 0.2   0.2   0.2   0.2   0.2   0.2   0.2   0.2   0.2   \n",
       "Western Pacific (WHO)   0.8   0.8   0.8   0.8   1.0   1.0   1.0   1.0   1.1   \n",
       "Yemen                   2.7   2.8   2.9   3.1   3.2   3.4   3.6   3.8   4.0   \n",
       "Zambia                  1.5   1.6   1.7   1.8   1.9   2.0   2.2   2.3   2.4   \n",
       "Zimbabwe                3.6   3.8   4.0   4.1   4.4   4.5   4.8   4.9   5.2   \n",
       "\n",
       "Jahr                   1984  ...  2007  2008  2009  2010  2011  2012  2013  \\\n",
       "Land                         ...                                             \n",
       "Afghanistan             0.9  ...   3.4   3.6   3.8   4.0   4.2   4.4   4.6   \n",
       "Africa (WHO)            2.9  ...   7.7   8.0   8.2   8.6   8.9   9.1   9.5   \n",
       "Albania                 8.3  ...  16.5  17.0  17.6  18.2  18.8  19.4  20.0   \n",
       "Algeria                 9.6  ...  21.4  22.0  22.7  23.4  24.0  24.7  25.4   \n",
       "Americas (WHO)         12.5  ...  23.8  24.2  24.8  25.3  25.8  26.3  26.8   \n",
       "...                     ...  ...   ...   ...   ...   ...   ...   ...   ...   \n",
       "Vietnam                 0.2  ...   1.0   1.2   1.2   1.3   1.4   1.6   1.6   \n",
       "Western Pacific (WHO)   1.2  ...   4.0   4.2   4.4   4.6   4.9   5.2   5.4   \n",
       "Yemen                   4.2  ...  11.8  12.4  12.8  13.4  13.9  14.5  15.1   \n",
       "Zambia                  2.5  ...   5.4   5.6   6.0   6.2   6.4   6.8   7.0   \n",
       "Zimbabwe                5.4  ...  12.3  12.6  12.9  13.2  13.4  13.8  14.0   \n",
       "\n",
       "Jahr                   2014  2015  2016  \n",
       "Land                                     \n",
       "Afghanistan             4.9   5.2   5.4  \n",
       "Africa (WHO)            9.8  10.1  10.4  \n",
       "Albania                20.5  21.1  21.7  \n",
       "Algeria                26.0  26.7  27.4  \n",
       "Americas (WHO)         27.4  28.0  28.4  \n",
       "...                     ...   ...   ...  \n",
       "Vietnam                 1.8   2.0   2.1  \n",
       "Western Pacific (WHO)   5.8   6.1   6.4  \n",
       "Yemen                  15.7  16.4  17.0  \n",
       "Zambia                  7.4   7.7   8.0  \n",
       "Zimbabwe               14.4  14.6  15.0  \n",
       "\n",
       "[197 rows x 42 columns]"
      ]
     },
     "execution_count": 48,
     "metadata": {},
     "output_type": "execute_result"
    }
   ],
   "source": [
    "df_einzeln_pivot = df_einzeln.pivot_table(index='Land', columns='Jahr', values='Durchschnitt_Prävalenz_18+_ausgerechnet')\n",
    "df_einzeln_pivot"
   ]
  },
  {
   "cell_type": "code",
   "execution_count": 49,
   "id": "74e489a1",
   "metadata": {},
   "outputs": [
    {
     "name": "stdout",
     "output_type": "stream",
     "text": [
      "Index([1975, 1976, 1977, 1978, 1979, 1980, 1981, 1982, 1983, 1984, 1985, 1986,\n",
      "       1987, 1988, 1989, 1990, 1991, 1992, 1993, 1994, 1995, 1996, 1997, 1998,\n",
      "       1999, 2000, 2001, 2002, 2003, 2004, 2005, 2006, 2007, 2008, 2009, 2010,\n",
      "       2011, 2012, 2013, 2014, 2015, 2016],\n",
      "      dtype='int64', name='Jahr')\n"
     ]
    }
   ],
   "source": [
    "print(df_einzeln_pivot.columns)"
   ]
  },
  {
   "cell_type": "code",
   "execution_count": 50,
   "id": "e59660f5",
   "metadata": {},
   "outputs": [
    {
     "data": {
      "text/plain": [
       "Land\n",
       "Vietnam          1.6\n",
       "Singapore        2.0\n",
       "South Korea      2.2\n",
       "Japan            2.4\n",
       "India            2.6\n",
       "                ... \n",
       "Tonga           14.0\n",
       "Cook Islands    14.1\n",
       "Kiribati        14.6\n",
       "Tuvalu          15.3\n",
       "Niue            15.4\n",
       "Length: 197, dtype: float64"
      ]
     },
     "execution_count": 50,
     "metadata": {},
     "output_type": "execute_result"
    }
   ],
   "source": [
    "Differenz_Durchschnitt = df_einzeln_pivot[2016] - df_einzeln_pivot[1996]\n",
    "Differenz_Durchschnitt = Differenz_Durchschnitt.sort_values()\n",
    "Differenz_Durchschnitt"
   ]
  },
  {
   "cell_type": "code",
   "execution_count": 51,
   "id": "108d8e62",
   "metadata": {},
   "outputs": [
    {
     "data": {
      "application/vnd.plotly.v1+json": {
       "config": {
        "plotlyServerURL": "https://plot.ly"
       },
       "data": [
        {
         "alignmentgroup": "True",
         "hovertemplate": "Land=%{x}<br>Differenz der Prävalenz in %=%{y}<extra></extra>",
         "legendgroup": "",
         "marker": {
          "color": [
           "skyblue",
           "skyblue",
           "skyblue",
           "skyblue",
           "skyblue",
           "skyblue",
           "skyblue",
           "skyblue",
           "skyblue",
           "skyblue",
           "skyblue",
           "skyblue",
           "skyblue",
           "skyblue",
           "skyblue",
           "skyblue",
           "skyblue",
           "skyblue",
           "skyblue",
           "skyblue",
           "skyblue",
           "skyblue",
           "skyblue",
           "skyblue",
           "skyblue",
           "skyblue",
           "skyblue",
           "skyblue",
           "skyblue",
           "skyblue",
           "skyblue",
           "skyblue",
           "skyblue",
           "skyblue",
           "skyblue",
           "skyblue",
           "skyblue",
           "skyblue",
           "skyblue",
           "skyblue",
           "skyblue",
           "skyblue",
           "skyblue",
           "skyblue",
           "skyblue",
           "skyblue",
           "skyblue",
           "skyblue",
           "skyblue",
           "skyblue",
           "skyblue",
           "skyblue",
           "skyblue",
           "skyblue",
           "skyblue",
           "skyblue",
           "skyblue",
           "skyblue",
           "skyblue",
           "skyblue",
           "skyblue",
           "skyblue",
           "skyblue",
           "skyblue",
           "skyblue",
           "skyblue",
           "skyblue",
           "skyblue",
           "skyblue",
           "skyblue",
           "skyblue",
           "skyblue",
           "skyblue",
           "skyblue",
           "skyblue",
           "skyblue",
           "skyblue",
           "skyblue",
           "skyblue",
           "skyblue",
           "skyblue",
           "skyblue",
           "skyblue",
           "skyblue",
           "violet",
           "skyblue",
           "skyblue",
           "skyblue",
           "skyblue",
           "skyblue",
           "skyblue",
           "skyblue",
           "skyblue",
           "skyblue",
           "skyblue",
           "skyblue",
           "skyblue",
           "skyblue",
           "skyblue",
           "skyblue",
           "skyblue",
           "skyblue",
           "skyblue",
           "skyblue",
           "skyblue",
           "skyblue",
           "skyblue",
           "skyblue",
           "skyblue",
           "skyblue",
           "skyblue",
           "skyblue",
           "skyblue",
           "skyblue",
           "skyblue",
           "skyblue",
           "skyblue",
           "skyblue",
           "skyblue",
           "skyblue",
           "skyblue",
           "skyblue",
           "skyblue",
           "skyblue",
           "skyblue",
           "skyblue",
           "skyblue",
           "skyblue",
           "skyblue",
           "skyblue",
           "skyblue",
           "skyblue",
           "skyblue",
           "skyblue",
           "skyblue",
           "skyblue",
           "skyblue",
           "skyblue",
           "skyblue",
           "skyblue",
           "skyblue",
           "skyblue",
           "skyblue",
           "skyblue",
           "skyblue",
           "skyblue",
           "skyblue",
           "skyblue",
           "skyblue",
           "skyblue",
           "skyblue",
           "skyblue",
           "skyblue",
           "skyblue",
           "skyblue",
           "skyblue",
           "skyblue",
           "skyblue",
           "skyblue",
           "skyblue",
           "skyblue",
           "skyblue",
           "skyblue",
           "skyblue",
           "skyblue",
           "skyblue",
           "skyblue",
           "skyblue",
           "skyblue",
           "skyblue",
           "skyblue",
           "skyblue",
           "skyblue",
           "skyblue",
           "skyblue",
           "skyblue",
           "skyblue",
           "skyblue",
           "skyblue",
           "skyblue",
           "skyblue",
           "skyblue",
           "skyblue",
           "skyblue",
           "skyblue",
           "skyblue",
           "skyblue",
           "skyblue",
           "skyblue",
           "skyblue",
           "skyblue",
           "skyblue",
           "skyblue",
           "skyblue",
           "skyblue",
           "skyblue",
           "skyblue"
          ],
          "pattern": {
           "shape": ""
          }
         },
         "name": "",
         "offsetgroup": "",
         "orientation": "v",
         "showlegend": false,
         "textposition": "auto",
         "type": "bar",
         "x": [
          "Vietnam",
          "Singapore",
          "South Korea",
          "Japan",
          "India",
          "Bangladesh",
          "Cambodia",
          "East Timor",
          "Ethiopia",
          "Nepal",
          "Eritrea",
          "South-East Asia (WHO)",
          "North Korea",
          "Uganda",
          "Sri Lanka",
          "Madagascar",
          "Malawi",
          "Niger",
          "Chad",
          "Burundi",
          "Afghanistan",
          "Philippines",
          "Burkina Faso",
          "Myanmar",
          "Rwanda",
          "Laos",
          "Central African Republic",
          "Mozambique",
          "Democratic Republic of Congo",
          "Western Pacific (WHO)",
          "Comoros",
          "Zambia",
          "Kenya",
          "China",
          "Andorra",
          "Sudan (former)",
          "Guinea",
          "Equatorial Guinea",
          "Senegal",
          "Mauritius",
          "Bhutan",
          "Somalia",
          "Liberia",
          "Estonia",
          "Indonesia",
          "Togo",
          "Russia",
          "Sierra Leone",
          "Djibouti",
          "Congo",
          "Angola",
          "Latvia",
          "Pakistan",
          "Benin",
          "Africa (WHO)",
          "Tanzania",
          "Mali",
          "Nigeria",
          "Moldova",
          "Lithuania",
          "Zimbabwe",
          "Czechia",
          "Guinea-Bissau",
          "Slovakia",
          "Cote d'Ivoire",
          "Italy",
          "Ghana",
          "Maldives",
          "Ukraine",
          "Belgium",
          "Israel",
          "Slovenia",
          "Gambia",
          "Bosnia and Herzegovina",
          "North Macedonia",
          "Cameroon",
          "Seychelles",
          "Cape Verde",
          "Denmark",
          "Eswatini",
          "Poland",
          "Thailand",
          "Spain",
          "Cyprus",
          "Switzerland",
          "Tajikistan",
          "Mauritania",
          "Armenia",
          "Belarus",
          "Sao Tome and Principe",
          "France",
          "Iceland",
          "Malta",
          "Europe (WHO)",
          "Finland",
          "Gabon",
          "Sweden",
          "Serbia",
          "Nauru",
          "Germany",
          "Austria",
          "Peru",
          "Romania",
          "Antigua and Barbuda",
          "Bulgaria",
          "Uzbekistan",
          "Greece",
          "Venezuela",
          "Lesotho",
          "Kyrgyzstan",
          "Brunei",
          "Hungary",
          "Botswana",
          "Ecuador",
          "Saint Lucia",
          "Croatia",
          "Kazakhstan",
          "Luxembourg",
          "Azerbaijan",
          "Colombia",
          "Namibia",
          "Bahrain",
          "Bolivia",
          "Turkmenistan",
          "Norway",
          "Cuba",
          "Portugal",
          "Eastern Mediterranean (WHO)",
          "Chile",
          "Argentina",
          "Suriname",
          "Montenegro",
          "Uruguay",
          "Netherlands",
          "Kuwait",
          "Georgia",
          "Brazil",
          "Belize",
          "Guyana",
          "Papua New Guinea",
          "Trinidad and Tobago",
          "Iraq",
          "Yemen",
          "Paraguay",
          "Bahamas",
          "Nicaragua",
          "Lebanon",
          "Grenada",
          "Guatemala",
          "Libya",
          "Malaysia",
          "Barbados",
          "Mexico",
          "Albania",
          "Panama",
          "Mongolia",
          "Saint Kitts and Nevis",
          "Honduras",
          "Americas (WHO)",
          "Jamaica",
          "Dominica",
          "South Africa",
          "Tunisia",
          "Qatar",
          "Solomon Islands",
          "United Arab Emirates",
          "El Salvador",
          "Australia",
          "Saint Vincent and the Grenadines",
          "United Kingdom",
          "Canada",
          "Iran",
          "Jordan",
          "Oman",
          "Morocco",
          "Vanuatu",
          "New Zealand",
          "Syria",
          "Ireland",
          "Marshall Islands",
          "Fiji",
          "Saudi Arabia",
          "Egypt",
          "Turkey",
          "Algeria",
          "Palau",
          "Costa Rica",
          "Samoa",
          "Haiti",
          "Micronesia (country)",
          "Dominican Republic",
          "United States",
          "Tonga",
          "Cook Islands",
          "Kiribati",
          "Tuvalu",
          "Niue"
         ],
         "xaxis": "x",
         "y": [
          1.6,
          2,
          2.1999999999999997,
          2.4000000000000004,
          2.5999999999999996,
          2.6,
          2.6999999999999997,
          2.8,
          2.8000000000000003,
          2.8999999999999995,
          3,
          3.2,
          3.3000000000000003,
          3.3000000000000003,
          3.3999999999999995,
          3.4000000000000004,
          3.5999999999999996,
          3.5999999999999996,
          3.6,
          3.6000000000000005,
          3.6000000000000005,
          3.7,
          3.8000000000000003,
          3.8999999999999995,
          3.9999999999999996,
          4,
          4.1,
          4.1000000000000005,
          4.199999999999999,
          4.2,
          4.3,
          4.3,
          4.4,
          4.4,
          4.5,
          4.5,
          4.6,
          4.6,
          4.6000000000000005,
          4.699999999999999,
          4.699999999999999,
          4.699999999999999,
          4.700000000000001,
          4.800000000000001,
          4.9,
          4.999999999999999,
          5,
          5,
          5,
          5.2,
          5.2,
          5.399999999999999,
          5.3999999999999995,
          5.4,
          5.4,
          5.4,
          5.6,
          5.6000000000000005,
          5.600000000000001,
          5.800000000000001,
          6,
          6,
          6,
          6.099999999999998,
          6.1,
          6.100000000000001,
          6.199999999999999,
          6.199999999999999,
          6.199999999999999,
          6.300000000000001,
          6.399999999999999,
          6.399999999999999,
          6.3999999999999995,
          6.4,
          6.499999999999998,
          6.499999999999999,
          6.5,
          6.8,
          6.800000000000001,
          6.800000000000001,
          6.800000000000001,
          6.800000000000001,
          6.899999999999999,
          6.9,
          7,
          7.1,
          7.199999999999999,
          7.199999999999999,
          7.199999999999999,
          7.2,
          7.200000000000001,
          7.200000000000001,
          7.300000000000001,
          7.399999999999999,
          7.399999999999999,
          7.4,
          7.400000000000002,
          7.5,
          7.5,
          7.5,
          7.500000000000002,
          7.6,
          7.6,
          7.600000000000001,
          7.699999999999999,
          7.799999999999999,
          7.800000000000001,
          7.800000000000001,
          7.8999999999999995,
          7.9,
          8,
          8,
          8,
          8.200000000000001,
          8.3,
          8.3,
          8.4,
          8.400000000000002,
          8.5,
          8.500000000000002,
          8.599999999999998,
          8.599999999999998,
          8.6,
          8.799999999999999,
          8.8,
          8.900000000000002,
          9,
          9,
          9.2,
          9.2,
          9.2,
          9.2,
          9.2,
          9.2,
          9.2,
          9.3,
          9.4,
          9.4,
          9.499999999999998,
          9.5,
          9.599999999999998,
          9.599999999999998,
          9.6,
          9.6,
          9.7,
          9.7,
          9.700000000000003,
          9.799999999999999,
          9.8,
          9.899999999999999,
          9.9,
          9.9,
          10,
          10,
          10,
          10.099999999999998,
          10.1,
          10.399999999999999,
          10.399999999999999,
          10.399999999999999,
          10.400000000000002,
          10.5,
          10.5,
          10.599999999999998,
          10.7,
          10.800000000000004,
          10.899999999999999,
          10.899999999999999,
          11,
          11.2,
          11.2,
          11.200000000000001,
          11.200000000000003,
          11.3,
          11.3,
          11.399999999999999,
          11.400000000000002,
          11.5,
          11.5,
          11.599999999999994,
          11.599999999999998,
          11.600000000000001,
          11.899999999999999,
          12.2,
          12.2,
          12.299999999999997,
          13.200000000000001,
          13.399999999999999,
          13.499999999999998,
          13.599999999999994,
          13.600000000000001,
          13.600000000000001,
          14,
          14.100000000000001,
          14.600000000000001,
          15.300000000000004,
          15.399999999999999
         ],
         "yaxis": "y"
        }
       ],
       "layout": {
        "barmode": "relative",
        "legend": {
         "tracegroupgap": 0
        },
        "template": {
         "data": {
          "bar": [
           {
            "error_x": {
             "color": "#2a3f5f"
            },
            "error_y": {
             "color": "#2a3f5f"
            },
            "marker": {
             "line": {
              "color": "#E5ECF6",
              "width": 0.5
             },
             "pattern": {
              "fillmode": "overlay",
              "size": 10,
              "solidity": 0.2
             }
            },
            "type": "bar"
           }
          ],
          "barpolar": [
           {
            "marker": {
             "line": {
              "color": "#E5ECF6",
              "width": 0.5
             },
             "pattern": {
              "fillmode": "overlay",
              "size": 10,
              "solidity": 0.2
             }
            },
            "type": "barpolar"
           }
          ],
          "carpet": [
           {
            "aaxis": {
             "endlinecolor": "#2a3f5f",
             "gridcolor": "white",
             "linecolor": "white",
             "minorgridcolor": "white",
             "startlinecolor": "#2a3f5f"
            },
            "baxis": {
             "endlinecolor": "#2a3f5f",
             "gridcolor": "white",
             "linecolor": "white",
             "minorgridcolor": "white",
             "startlinecolor": "#2a3f5f"
            },
            "type": "carpet"
           }
          ],
          "choropleth": [
           {
            "colorbar": {
             "outlinewidth": 0,
             "ticks": ""
            },
            "type": "choropleth"
           }
          ],
          "contour": [
           {
            "colorbar": {
             "outlinewidth": 0,
             "ticks": ""
            },
            "colorscale": [
             [
              0,
              "#0d0887"
             ],
             [
              0.1111111111111111,
              "#46039f"
             ],
             [
              0.2222222222222222,
              "#7201a8"
             ],
             [
              0.3333333333333333,
              "#9c179e"
             ],
             [
              0.4444444444444444,
              "#bd3786"
             ],
             [
              0.5555555555555556,
              "#d8576b"
             ],
             [
              0.6666666666666666,
              "#ed7953"
             ],
             [
              0.7777777777777778,
              "#fb9f3a"
             ],
             [
              0.8888888888888888,
              "#fdca26"
             ],
             [
              1,
              "#f0f921"
             ]
            ],
            "type": "contour"
           }
          ],
          "contourcarpet": [
           {
            "colorbar": {
             "outlinewidth": 0,
             "ticks": ""
            },
            "type": "contourcarpet"
           }
          ],
          "heatmap": [
           {
            "colorbar": {
             "outlinewidth": 0,
             "ticks": ""
            },
            "colorscale": [
             [
              0,
              "#0d0887"
             ],
             [
              0.1111111111111111,
              "#46039f"
             ],
             [
              0.2222222222222222,
              "#7201a8"
             ],
             [
              0.3333333333333333,
              "#9c179e"
             ],
             [
              0.4444444444444444,
              "#bd3786"
             ],
             [
              0.5555555555555556,
              "#d8576b"
             ],
             [
              0.6666666666666666,
              "#ed7953"
             ],
             [
              0.7777777777777778,
              "#fb9f3a"
             ],
             [
              0.8888888888888888,
              "#fdca26"
             ],
             [
              1,
              "#f0f921"
             ]
            ],
            "type": "heatmap"
           }
          ],
          "heatmapgl": [
           {
            "colorbar": {
             "outlinewidth": 0,
             "ticks": ""
            },
            "colorscale": [
             [
              0,
              "#0d0887"
             ],
             [
              0.1111111111111111,
              "#46039f"
             ],
             [
              0.2222222222222222,
              "#7201a8"
             ],
             [
              0.3333333333333333,
              "#9c179e"
             ],
             [
              0.4444444444444444,
              "#bd3786"
             ],
             [
              0.5555555555555556,
              "#d8576b"
             ],
             [
              0.6666666666666666,
              "#ed7953"
             ],
             [
              0.7777777777777778,
              "#fb9f3a"
             ],
             [
              0.8888888888888888,
              "#fdca26"
             ],
             [
              1,
              "#f0f921"
             ]
            ],
            "type": "heatmapgl"
           }
          ],
          "histogram": [
           {
            "marker": {
             "pattern": {
              "fillmode": "overlay",
              "size": 10,
              "solidity": 0.2
             }
            },
            "type": "histogram"
           }
          ],
          "histogram2d": [
           {
            "colorbar": {
             "outlinewidth": 0,
             "ticks": ""
            },
            "colorscale": [
             [
              0,
              "#0d0887"
             ],
             [
              0.1111111111111111,
              "#46039f"
             ],
             [
              0.2222222222222222,
              "#7201a8"
             ],
             [
              0.3333333333333333,
              "#9c179e"
             ],
             [
              0.4444444444444444,
              "#bd3786"
             ],
             [
              0.5555555555555556,
              "#d8576b"
             ],
             [
              0.6666666666666666,
              "#ed7953"
             ],
             [
              0.7777777777777778,
              "#fb9f3a"
             ],
             [
              0.8888888888888888,
              "#fdca26"
             ],
             [
              1,
              "#f0f921"
             ]
            ],
            "type": "histogram2d"
           }
          ],
          "histogram2dcontour": [
           {
            "colorbar": {
             "outlinewidth": 0,
             "ticks": ""
            },
            "colorscale": [
             [
              0,
              "#0d0887"
             ],
             [
              0.1111111111111111,
              "#46039f"
             ],
             [
              0.2222222222222222,
              "#7201a8"
             ],
             [
              0.3333333333333333,
              "#9c179e"
             ],
             [
              0.4444444444444444,
              "#bd3786"
             ],
             [
              0.5555555555555556,
              "#d8576b"
             ],
             [
              0.6666666666666666,
              "#ed7953"
             ],
             [
              0.7777777777777778,
              "#fb9f3a"
             ],
             [
              0.8888888888888888,
              "#fdca26"
             ],
             [
              1,
              "#f0f921"
             ]
            ],
            "type": "histogram2dcontour"
           }
          ],
          "mesh3d": [
           {
            "colorbar": {
             "outlinewidth": 0,
             "ticks": ""
            },
            "type": "mesh3d"
           }
          ],
          "parcoords": [
           {
            "line": {
             "colorbar": {
              "outlinewidth": 0,
              "ticks": ""
             }
            },
            "type": "parcoords"
           }
          ],
          "pie": [
           {
            "automargin": true,
            "type": "pie"
           }
          ],
          "scatter": [
           {
            "fillpattern": {
             "fillmode": "overlay",
             "size": 10,
             "solidity": 0.2
            },
            "type": "scatter"
           }
          ],
          "scatter3d": [
           {
            "line": {
             "colorbar": {
              "outlinewidth": 0,
              "ticks": ""
             }
            },
            "marker": {
             "colorbar": {
              "outlinewidth": 0,
              "ticks": ""
             }
            },
            "type": "scatter3d"
           }
          ],
          "scattercarpet": [
           {
            "marker": {
             "colorbar": {
              "outlinewidth": 0,
              "ticks": ""
             }
            },
            "type": "scattercarpet"
           }
          ],
          "scattergeo": [
           {
            "marker": {
             "colorbar": {
              "outlinewidth": 0,
              "ticks": ""
             }
            },
            "type": "scattergeo"
           }
          ],
          "scattergl": [
           {
            "marker": {
             "colorbar": {
              "outlinewidth": 0,
              "ticks": ""
             }
            },
            "type": "scattergl"
           }
          ],
          "scattermapbox": [
           {
            "marker": {
             "colorbar": {
              "outlinewidth": 0,
              "ticks": ""
             }
            },
            "type": "scattermapbox"
           }
          ],
          "scatterpolar": [
           {
            "marker": {
             "colorbar": {
              "outlinewidth": 0,
              "ticks": ""
             }
            },
            "type": "scatterpolar"
           }
          ],
          "scatterpolargl": [
           {
            "marker": {
             "colorbar": {
              "outlinewidth": 0,
              "ticks": ""
             }
            },
            "type": "scatterpolargl"
           }
          ],
          "scatterternary": [
           {
            "marker": {
             "colorbar": {
              "outlinewidth": 0,
              "ticks": ""
             }
            },
            "type": "scatterternary"
           }
          ],
          "surface": [
           {
            "colorbar": {
             "outlinewidth": 0,
             "ticks": ""
            },
            "colorscale": [
             [
              0,
              "#0d0887"
             ],
             [
              0.1111111111111111,
              "#46039f"
             ],
             [
              0.2222222222222222,
              "#7201a8"
             ],
             [
              0.3333333333333333,
              "#9c179e"
             ],
             [
              0.4444444444444444,
              "#bd3786"
             ],
             [
              0.5555555555555556,
              "#d8576b"
             ],
             [
              0.6666666666666666,
              "#ed7953"
             ],
             [
              0.7777777777777778,
              "#fb9f3a"
             ],
             [
              0.8888888888888888,
              "#fdca26"
             ],
             [
              1,
              "#f0f921"
             ]
            ],
            "type": "surface"
           }
          ],
          "table": [
           {
            "cells": {
             "fill": {
              "color": "#EBF0F8"
             },
             "line": {
              "color": "white"
             }
            },
            "header": {
             "fill": {
              "color": "#C8D4E3"
             },
             "line": {
              "color": "white"
             }
            },
            "type": "table"
           }
          ]
         },
         "layout": {
          "annotationdefaults": {
           "arrowcolor": "#2a3f5f",
           "arrowhead": 0,
           "arrowwidth": 1
          },
          "autotypenumbers": "strict",
          "coloraxis": {
           "colorbar": {
            "outlinewidth": 0,
            "ticks": ""
           }
          },
          "colorscale": {
           "diverging": [
            [
             0,
             "#8e0152"
            ],
            [
             0.1,
             "#c51b7d"
            ],
            [
             0.2,
             "#de77ae"
            ],
            [
             0.3,
             "#f1b6da"
            ],
            [
             0.4,
             "#fde0ef"
            ],
            [
             0.5,
             "#f7f7f7"
            ],
            [
             0.6,
             "#e6f5d0"
            ],
            [
             0.7,
             "#b8e186"
            ],
            [
             0.8,
             "#7fbc41"
            ],
            [
             0.9,
             "#4d9221"
            ],
            [
             1,
             "#276419"
            ]
           ],
           "sequential": [
            [
             0,
             "#0d0887"
            ],
            [
             0.1111111111111111,
             "#46039f"
            ],
            [
             0.2222222222222222,
             "#7201a8"
            ],
            [
             0.3333333333333333,
             "#9c179e"
            ],
            [
             0.4444444444444444,
             "#bd3786"
            ],
            [
             0.5555555555555556,
             "#d8576b"
            ],
            [
             0.6666666666666666,
             "#ed7953"
            ],
            [
             0.7777777777777778,
             "#fb9f3a"
            ],
            [
             0.8888888888888888,
             "#fdca26"
            ],
            [
             1,
             "#f0f921"
            ]
           ],
           "sequentialminus": [
            [
             0,
             "#0d0887"
            ],
            [
             0.1111111111111111,
             "#46039f"
            ],
            [
             0.2222222222222222,
             "#7201a8"
            ],
            [
             0.3333333333333333,
             "#9c179e"
            ],
            [
             0.4444444444444444,
             "#bd3786"
            ],
            [
             0.5555555555555556,
             "#d8576b"
            ],
            [
             0.6666666666666666,
             "#ed7953"
            ],
            [
             0.7777777777777778,
             "#fb9f3a"
            ],
            [
             0.8888888888888888,
             "#fdca26"
            ],
            [
             1,
             "#f0f921"
            ]
           ]
          },
          "colorway": [
           "#636efa",
           "#EF553B",
           "#00cc96",
           "#ab63fa",
           "#FFA15A",
           "#19d3f3",
           "#FF6692",
           "#B6E880",
           "#FF97FF",
           "#FECB52"
          ],
          "font": {
           "color": "#2a3f5f"
          },
          "geo": {
           "bgcolor": "white",
           "lakecolor": "white",
           "landcolor": "#E5ECF6",
           "showlakes": true,
           "showland": true,
           "subunitcolor": "white"
          },
          "hoverlabel": {
           "align": "left"
          },
          "hovermode": "closest",
          "mapbox": {
           "style": "light"
          },
          "paper_bgcolor": "white",
          "plot_bgcolor": "#E5ECF6",
          "polar": {
           "angularaxis": {
            "gridcolor": "white",
            "linecolor": "white",
            "ticks": ""
           },
           "bgcolor": "#E5ECF6",
           "radialaxis": {
            "gridcolor": "white",
            "linecolor": "white",
            "ticks": ""
           }
          },
          "scene": {
           "xaxis": {
            "backgroundcolor": "#E5ECF6",
            "gridcolor": "white",
            "gridwidth": 2,
            "linecolor": "white",
            "showbackground": true,
            "ticks": "",
            "zerolinecolor": "white"
           },
           "yaxis": {
            "backgroundcolor": "#E5ECF6",
            "gridcolor": "white",
            "gridwidth": 2,
            "linecolor": "white",
            "showbackground": true,
            "ticks": "",
            "zerolinecolor": "white"
           },
           "zaxis": {
            "backgroundcolor": "#E5ECF6",
            "gridcolor": "white",
            "gridwidth": 2,
            "linecolor": "white",
            "showbackground": true,
            "ticks": "",
            "zerolinecolor": "white"
           }
          },
          "shapedefaults": {
           "line": {
            "color": "#2a3f5f"
           }
          },
          "ternary": {
           "aaxis": {
            "gridcolor": "white",
            "linecolor": "white",
            "ticks": ""
           },
           "baxis": {
            "gridcolor": "white",
            "linecolor": "white",
            "ticks": ""
           },
           "bgcolor": "#E5ECF6",
           "caxis": {
            "gridcolor": "white",
            "linecolor": "white",
            "ticks": ""
           }
          },
          "title": {
           "x": 0.05
          },
          "xaxis": {
           "automargin": true,
           "gridcolor": "white",
           "linecolor": "white",
           "ticks": "",
           "title": {
            "standoff": 15
           },
           "zerolinecolor": "white",
           "zerolinewidth": 2
          },
          "yaxis": {
           "automargin": true,
           "gridcolor": "white",
           "linecolor": "white",
           "ticks": "",
           "title": {
            "standoff": 15
           },
           "zerolinecolor": "white",
           "zerolinewidth": 2
          }
         }
        },
        "title": {
         "text": "Differenz der Prävalenz zwischen 2016 und 1996 nach Land"
        },
        "xaxis": {
         "anchor": "y",
         "domain": [
          0,
          1
         ],
         "showticklabels": false,
         "title": {
          "text": "Land"
         }
        },
        "yaxis": {
         "anchor": "x",
         "domain": [
          0,
          1
         ],
         "title": {
          "text": "Differenz der Prävalenz in %"
         }
        }
       }
      }
     },
     "metadata": {},
     "output_type": "display_data"
    }
   ],
   "source": [
    "interaktives_Diagramm = px.bar(Differenz_Durchschnitt, x=Differenz_Durchschnitt.index, y=Differenz_Durchschnitt.values,\n",
    "            labels={'x': 'Länder', 'y': 'Differenz der Prävalenz in %'},\n",
    "            title='Differenz der Prävalenz zwischen 2016 und 1996 nach Land')\n",
    "\n",
    "farben = ['violet' if land == 'Switzerland' else 'skyblue' for land in Differenz_Durchschnitt.index]\n",
    "interaktives_Diagramm.update_traces(marker_color=farben)\n",
    "\n",
    "interaktives_Diagramm.update_layout(\n",
    "    xaxis={'showticklabels':False}\n",
    ")\n",
    "\n",
    "interaktives_Diagramm"
   ]
  },
  {
   "cell_type": "code",
   "execution_count": 52,
   "id": "a4baaf03",
   "metadata": {},
   "outputs": [
    {
     "name": "stdout",
     "output_type": "stream",
     "text": [
      "Die Prävalenz in der Schweiz ist von 1996 bis 2016, unabhängig vom Geschlecht, um 7.0 % gestiegen.\n"
     ]
    }
   ],
   "source": [
    "Durchschnitt_Schweiz = df_einzeln_pivot.loc['Switzerland']\n",
    "\n",
    "Differenz_Durchschnitt_Schweiz = Durchschnitt_Schweiz[2016] - Durchschnitt_Schweiz[1996]\n",
    "print('Die Prävalenz in der Schweiz ist von 1996 bis 2016, unabhängig vom Geschlecht, um', Differenz_Durchschnitt_Schweiz,'%' , 'gestiegen.')"
   ]
  },
  {
   "cell_type": "code",
   "execution_count": 53,
   "id": "b37f3a50",
   "metadata": {},
   "outputs": [
    {
     "data": {
      "image/png": "[encoded data removed]",
      "text/plain": [
       "<Figure size 640x480 with 1 Axes>"
      ]
     },
     "metadata": {},
     "output_type": "display_data"
    }
   ],
   "source": [
    "obersten_3 = Differenz_Durchschnitt.head(3)\n",
    "tiefsten_3 = Differenz_Durchschnitt.tail(3)\n",
    "\n",
    "if 'Switzerland' in Differenz_Durchschnitt.index:\n",
    "    Schweiz = Differenz_Durchschnitt['Switzerland']\n",
    "else:\n",
    "    Schweiz = None\n",
    "\n",
    "if Schweiz is not None:\n",
    "    ausgewählte_Länder = pd.concat([obersten_3, pd.Series({'Switzerland': Schweiz}), tiefsten_3])\n",
    "else:\n",
    "    ausgewählte_Länder = pd.concat([obersten_3, tiefsten_3])\n",
    "\n",
    "farben = ['crimson' if land == 'Switzerland' else 'blue' for land in ausgewählte_Länder.index]\n",
    "\n",
    "ax = ausgewählte_Länder.plot(\n",
    "    kind = 'barh',\n",
    "    color = farben,\n",
    "    alpha = 0.5,\n",
    "    title = 'Die 3 Länder mit der grössten und kleinsten Zunahme der Prävalenz im Verlgeich mit der Schweiz',\n",
    "    xlabel = 'Differenz der Prävalenz',\n",
    "    ylabel = 'Länder', fontsize = 12\n",
    "); \n",
    "\n",
    "for i, bar in enumerate(ax.patches):\n",
    "    width = bar.get_width()  \n",
    "    height = bar.get_height() \n",
    "    y_position = bar.get_y() + height / 2  \n",
    "    ax.text(width, y_position, f'{width:.2f}', va='center', ha='left', fontsize=10, color='black')\n",
    "\n",
    "ax.bar_label(ax.containers[0], fmt='%.2f')\n",
    "ax.set_xlim(right=max(ausgewählte_Länder) + 1)\n",
    "\n",
    "ax.set_xlim(0, 18); "
   ]
  },
  {
   "cell_type": "code",
   "execution_count": 54,
   "id": "8328a2b5",
   "metadata": {},
   "outputs": [
    {
     "data": {
      "image/png": "[encoded data removed]",
      "text/plain": [
       "<Figure size 1000x600 with 1 Axes>"
      ]
     },
     "metadata": {},
     "output_type": "display_data"
    }
   ],
   "source": [
    "Start_Jahr = 1996\n",
    "End_Jahr = 2016\n",
    "ausgewählte_Länder = ['Niue', 'Tuvalu', 'Kiribati', 'Switzerland', 'South Korea', 'Singapore', 'Vietnam']\n",
    "\n",
    "df_einzeln_7_Länder = df_einzeln[(df_einzeln['Jahr']>= Start_Jahr) & (df_einzeln['Jahr'] <= End_Jahr)]\n",
    "df_einzeln_7_Länder = df_einzeln_7_Länder[df_einzeln_7_Länder['Land'].isin(ausgewählte_Länder)]\n",
    "\n",
    "gruppiert = df_einzeln_7_Länder.groupby(['Land', 'Jahr'])['Durchschnitt_Prävalenz_18+_ausgerechnet'].mean()\n",
    "gruppiert = gruppiert.unstack(level='Land')\n",
    "\n",
    "fig, lin_1 = plt.subplots(figsize=(10, 6))\n",
    "\n",
    "for land in ausgewählte_Länder:\n",
    "    if land in gruppiert.columns:\n",
    "        lin_1.plot(gruppiert.index, gruppiert[land], label=land, marker='o', linestyle='--', markersize=6)\n",
    "\n",
    "lin_1.set_xlabel('Jahr')\n",
    "lin_1.set_ylabel('Prävalenz (%)')\n",
    "lin_1.set_title('Übergewichtsprävalenz in % für Personen ab 18+ für ausgewählte Länder (1996-2016)')\n",
    "lin_1.set_xlim(Start_Jahr-1, End_Jahr+1)\n",
    "lin_1.set_xticks(range(Start_Jahr, End_Jahr+1,2))\n",
    "\n",
    "lin_1.legend(title='Land', loc='center left', bbox_to_anchor=(1.05, 0.5)); \n",
    "\n",
    "\n"
   ]
  },
  {
   "cell_type": "code",
   "execution_count": 55,
   "id": "0ce5febe",
   "metadata": {},
   "outputs": [
    {
     "data": {
      "text/html": [
       "<div>\n",
       "<style scoped>\n",
       "    .dataframe tbody tr th:only-of-type {\n",
       "        vertical-align: middle;\n",
       "    }\n",
       "\n",
       "    .dataframe tbody tr th {\n",
       "        vertical-align: top;\n",
       "    }\n",
       "\n",
       "    .dataframe thead th {\n",
       "        text-align: right;\n",
       "    }\n",
       "</style>\n",
       "<table border=\"1\" class=\"dataframe\">\n",
       "  <thead>\n",
       "    <tr style=\"text-align: right;\">\n",
       "      <th></th>\n",
       "      <th>Land</th>\n",
       "      <th>Kürzel</th>\n",
       "      <th>Jahr</th>\n",
       "      <th>Übergewicht_Prävalenz_Männer_18+</th>\n",
       "      <th>Übergewicht_Prävalenz_Frauen_18+</th>\n",
       "    </tr>\n",
       "  </thead>\n",
       "  <tbody>\n",
       "    <tr>\n",
       "      <th>4099</th>\n",
       "      <td>Kiribati</td>\n",
       "      <td>KIR</td>\n",
       "      <td>1996</td>\n",
       "      <td>25.6</td>\n",
       "      <td>37.1</td>\n",
       "    </tr>\n",
       "    <tr>\n",
       "      <th>4119</th>\n",
       "      <td>Kiribati</td>\n",
       "      <td>KIR</td>\n",
       "      <td>2016</td>\n",
       "      <td>41.6</td>\n",
       "      <td>50.4</td>\n",
       "    </tr>\n",
       "    <tr>\n",
       "      <th>5657</th>\n",
       "      <td>Niue</td>\n",
       "      <td>NIU</td>\n",
       "      <td>1996</td>\n",
       "      <td>27.9</td>\n",
       "      <td>41.4</td>\n",
       "    </tr>\n",
       "    <tr>\n",
       "      <th>5677</th>\n",
       "      <td>Niue</td>\n",
       "      <td>NIU</td>\n",
       "      <td>2016</td>\n",
       "      <td>44.8</td>\n",
       "      <td>55.1</td>\n",
       "    </tr>\n",
       "    <tr>\n",
       "      <th>6876</th>\n",
       "      <td>Singapore</td>\n",
       "      <td>SGP</td>\n",
       "      <td>1996</td>\n",
       "      <td>3.0</td>\n",
       "      <td>5.1</td>\n",
       "    </tr>\n",
       "    <tr>\n",
       "      <th>...</th>\n",
       "      <td>...</td>\n",
       "      <td>...</td>\n",
       "      <td>...</td>\n",
       "      <td>...</td>\n",
       "      <td>...</td>\n",
       "    </tr>\n",
       "    <tr>\n",
       "      <th>7457</th>\n",
       "      <td>Switzerland</td>\n",
       "      <td>CHE</td>\n",
       "      <td>2016</td>\n",
       "      <td>22.2</td>\n",
       "      <td>16.9</td>\n",
       "    </tr>\n",
       "    <tr>\n",
       "      <th>7913</th>\n",
       "      <td>Tuvalu</td>\n",
       "      <td>TUV</td>\n",
       "      <td>1996</td>\n",
       "      <td>29.6</td>\n",
       "      <td>43.0</td>\n",
       "    </tr>\n",
       "    <tr>\n",
       "      <th>7933</th>\n",
       "      <td>Tuvalu</td>\n",
       "      <td>TUV</td>\n",
       "      <td>2016</td>\n",
       "      <td>47.0</td>\n",
       "      <td>56.2</td>\n",
       "    </tr>\n",
       "    <tr>\n",
       "      <th>8346</th>\n",
       "      <td>Vietnam</td>\n",
       "      <td>VNM</td>\n",
       "      <td>1996</td>\n",
       "      <td>0.3</td>\n",
       "      <td>0.7</td>\n",
       "    </tr>\n",
       "    <tr>\n",
       "      <th>8366</th>\n",
       "      <td>Vietnam</td>\n",
       "      <td>VNM</td>\n",
       "      <td>2016</td>\n",
       "      <td>1.6</td>\n",
       "      <td>2.6</td>\n",
       "    </tr>\n",
       "  </tbody>\n",
       "</table>\n",
       "<p>14 rows × 5 columns</p>\n",
       "</div>"
      ],
      "text/plain": [
       "             Land Kürzel  Jahr  Übergewicht_Prävalenz_Männer_18+  \\\n",
       "4099     Kiribati    KIR  1996                              25.6   \n",
       "4119     Kiribati    KIR  2016                              41.6   \n",
       "5657         Niue    NIU  1996                              27.9   \n",
       "5677         Niue    NIU  2016                              44.8   \n",
       "6876    Singapore    SGP  1996                               3.0   \n",
       "...           ...    ...   ...                               ...   \n",
       "7457  Switzerland    CHE  2016                              22.2   \n",
       "7913       Tuvalu    TUV  1996                              29.6   \n",
       "7933       Tuvalu    TUV  2016                              47.0   \n",
       "8346      Vietnam    VNM  1996                               0.3   \n",
       "8366      Vietnam    VNM  2016                               1.6   \n",
       "\n",
       "      Übergewicht_Prävalenz_Frauen_18+  \n",
       "4099                              37.1  \n",
       "4119                              50.4  \n",
       "5657                              41.4  \n",
       "5677                              55.1  \n",
       "6876                               5.1  \n",
       "...                                ...  \n",
       "7457                              16.9  \n",
       "7913                              43.0  \n",
       "7933                              56.2  \n",
       "8346                               0.7  \n",
       "8366                               2.6  \n",
       "\n",
       "[14 rows x 5 columns]"
      ]
     },
     "execution_count": 55,
     "metadata": {},
     "output_type": "execute_result"
    }
   ],
   "source": [
    "df_gefiltert = df_einzeln[(df_einzeln['Land'].isin(['Niue', 'Tuvalu', 'Kiribati', 'Switzerland', 'South Korea', 'Singapore', 'Vietnam'])) & (df_einzeln['Jahr'].isin([1996, 2016]))]\n",
    "del df_gefiltert['Durchschnitt_Prävalenz_18+_ausgerechnet']\n",
    "df_gefiltert"
   ]
  },
  {
   "cell_type": "code",
   "execution_count": 56,
   "id": "14707f0e",
   "metadata": {},
   "outputs": [
    {
     "name": "stderr",
     "output_type": "stream",
     "text": [
      "C:\\Users\\sara\\AppData\\Local\\Temp\\ipykernel_15896\\173159953.py:1: SettingWithCopyWarning:\n",
      "\n",
      "\n",
      "A value is trying to be set on a copy of a slice from a DataFrame.\n",
      "Try using .loc[row_indexer,col_indexer] = value instead\n",
      "\n",
      "See the caveats in the documentation: https://pandas.pydata.org/pandas-docs/stable/user_guide/indexing.html#returning-a-view-versus-a-copy\n",
      "\n"
     ]
    },
    {
     "data": {
      "application/vnd.plotly.v1+json": {
       "config": {
        "plotlyServerURL": "https://plot.ly"
       },
       "data": [
        {
         "alignmentgroup": "True",
         "hovertemplate": "Geschlecht=Übergewicht_Prävalenz_Männer_18+<br>Länder (Jahr)=%{x}<br>Prävalenz in %=%{y}<extra></extra>",
         "legendgroup": "Übergewicht_Prävalenz_Männer_18+",
         "marker": {
          "color": "turquoise",
          "pattern": {
           "shape": ""
          }
         },
         "name": "Männer 18+",
         "offsetgroup": "Übergewicht_Prävalenz_Männer_18+",
         "orientation": "v",
         "showlegend": true,
         "textposition": "auto",
         "type": "bar",
         "x": [
          "Kiribati (1996)",
          "Kiribati (2016)",
          "Niue (1996)",
          "Niue (2016)",
          "Singapore (1996)",
          "Singapore (2016)",
          "South Korea (1996)",
          "South Korea (2016)",
          "Switzerland (1996)",
          "Switzerland (2016)",
          "Tuvalu (1996)",
          "Tuvalu (2016)",
          "Vietnam (1996)",
          "Vietnam (2016)"
         ],
         "xaxis": "x",
         "y": [
          25.6,
          41.6,
          27.9,
          44.8,
          3,
          5.8,
          1.8,
          4.4,
          13.2,
          22.2,
          29.6,
          47,
          0.3,
          1.6
         ],
         "yaxis": "y"
        },
        {
         "alignmentgroup": "True",
         "hovertemplate": "Geschlecht=Übergewicht_Prävalenz_Frauen_18+<br>Länder (Jahr)=%{x}<br>Prävalenz in %=%{y}<extra></extra>",
         "legendgroup": "Übergewicht_Prävalenz_Frauen_18+",
         "marker": {
          "color": "salmon",
          "pattern": {
           "shape": ""
          }
         },
         "name": "Frauen 18+",
         "offsetgroup": "Übergewicht_Prävalenz_Frauen_18+",
         "orientation": "v",
         "showlegend": true,
         "textposition": "auto",
         "type": "bar",
         "x": [
          "Kiribati (1996)",
          "Kiribati (2016)",
          "Niue (1996)",
          "Niue (2016)",
          "Singapore (1996)",
          "Singapore (2016)",
          "South Korea (1996)",
          "South Korea (2016)",
          "Switzerland (1996)",
          "Switzerland (2016)",
          "Tuvalu (1996)",
          "Tuvalu (2016)",
          "Vietnam (1996)",
          "Vietnam (2016)"
         ],
         "xaxis": "x",
         "y": [
          37.1,
          50.4,
          41.4,
          55.1,
          5.1,
          6.3,
          3,
          4.8,
          11.8,
          16.9,
          43,
          56.2,
          0.7,
          2.6
         ],
         "yaxis": "y"
        }
       ],
       "layout": {
        "barmode": "relative",
        "legend": {
         "title": {
          "text": "Geschlecht"
         },
         "tracegroupgap": 0
        },
        "template": {
         "data": {
          "bar": [
           {
            "error_x": {
             "color": "#2a3f5f"
            },
            "error_y": {
             "color": "#2a3f5f"
            },
            "marker": {
             "line": {
              "color": "#E5ECF6",
              "width": 0.5
             },
             "pattern": {
              "fillmode": "overlay",
              "size": 10,
              "solidity": 0.2
             }
            },
            "type": "bar"
           }
          ],
          "barpolar": [
           {
            "marker": {
             "line": {
              "color": "#E5ECF6",
              "width": 0.5
             },
             "pattern": {
              "fillmode": "overlay",
              "size": 10,
              "solidity": 0.2
             }
            },
            "type": "barpolar"
           }
          ],
          "carpet": [
           {
            "aaxis": {
             "endlinecolor": "#2a3f5f",
             "gridcolor": "white",
             "linecolor": "white",
             "minorgridcolor": "white",
             "startlinecolor": "#2a3f5f"
            },
            "baxis": {
             "endlinecolor": "#2a3f5f",
             "gridcolor": "white",
             "linecolor": "white",
             "minorgridcolor": "white",
             "startlinecolor": "#2a3f5f"
            },
            "type": "carpet"
           }
          ],
          "choropleth": [
           {
            "colorbar": {
             "outlinewidth": 0,
             "ticks": ""
            },
            "type": "choropleth"
           }
          ],
          "contour": [
           {
            "colorbar": {
             "outlinewidth": 0,
             "ticks": ""
            },
            "colorscale": [
             [
              0,
              "#0d0887"
             ],
             [
              0.1111111111111111,
              "#46039f"
             ],
             [
              0.2222222222222222,
              "#7201a8"
             ],
             [
              0.3333333333333333,
              "#9c179e"
             ],
             [
              0.4444444444444444,
              "#bd3786"
             ],
             [
              0.5555555555555556,
              "#d8576b"
             ],
             [
              0.6666666666666666,
              "#ed7953"
             ],
             [
              0.7777777777777778,
              "#fb9f3a"
             ],
             [
              0.8888888888888888,
              "#fdca26"
             ],
             [
              1,
              "#f0f921"
             ]
            ],
            "type": "contour"
           }
          ],
          "contourcarpet": [
           {
            "colorbar": {
             "outlinewidth": 0,
             "ticks": ""
            },
            "type": "contourcarpet"
           }
          ],
          "heatmap": [
           {
            "colorbar": {
             "outlinewidth": 0,
             "ticks": ""
            },
            "colorscale": [
             [
              0,
              "#0d0887"
             ],
             [
              0.1111111111111111,
              "#46039f"
             ],
             [
              0.2222222222222222,
              "#7201a8"
             ],
             [
              0.3333333333333333,
              "#9c179e"
             ],
             [
              0.4444444444444444,
              "#bd3786"
             ],
             [
              0.5555555555555556,
              "#d8576b"
             ],
             [
              0.6666666666666666,
              "#ed7953"
             ],
             [
              0.7777777777777778,
              "#fb9f3a"
             ],
             [
              0.8888888888888888,
              "#fdca26"
             ],
             [
              1,
              "#f0f921"
             ]
            ],
            "type": "heatmap"
           }
          ],
          "heatmapgl": [
           {
            "colorbar": {
             "outlinewidth": 0,
             "ticks": ""
            },
            "colorscale": [
             [
              0,
              "#0d0887"
             ],
             [
              0.1111111111111111,
              "#46039f"
             ],
             [
              0.2222222222222222,
              "#7201a8"
             ],
             [
              0.3333333333333333,
              "#9c179e"
             ],
             [
              0.4444444444444444,
              "#bd3786"
             ],
             [
              0.5555555555555556,
              "#d8576b"
             ],
             [
              0.6666666666666666,
              "#ed7953"
             ],
             [
              0.7777777777777778,
              "#fb9f3a"
             ],
             [
              0.8888888888888888,
              "#fdca26"
             ],
             [
              1,
              "#f0f921"
             ]
            ],
            "type": "heatmapgl"
           }
          ],
          "histogram": [
           {
            "marker": {
             "pattern": {
              "fillmode": "overlay",
              "size": 10,
              "solidity": 0.2
             }
            },
            "type": "histogram"
           }
          ],
          "histogram2d": [
           {
            "colorbar": {
             "outlinewidth": 0,
             "ticks": ""
            },
            "colorscale": [
             [
              0,
              "#0d0887"
             ],
             [
              0.1111111111111111,
              "#46039f"
             ],
             [
              0.2222222222222222,
              "#7201a8"
             ],
             [
              0.3333333333333333,
              "#9c179e"
             ],
             [
              0.4444444444444444,
              "#bd3786"
             ],
             [
              0.5555555555555556,
              "#d8576b"
             ],
             [
              0.6666666666666666,
              "#ed7953"
             ],
             [
              0.7777777777777778,
              "#fb9f3a"
             ],
             [
              0.8888888888888888,
              "#fdca26"
             ],
             [
              1,
              "#f0f921"
             ]
            ],
            "type": "histogram2d"
           }
          ],
          "histogram2dcontour": [
           {
            "colorbar": {
             "outlinewidth": 0,
             "ticks": ""
            },
            "colorscale": [
             [
              0,
              "#0d0887"
             ],
             [
              0.1111111111111111,
              "#46039f"
             ],
             [
              0.2222222222222222,
              "#7201a8"
             ],
             [
              0.3333333333333333,
              "#9c179e"
             ],
             [
              0.4444444444444444,
              "#bd3786"
             ],
             [
              0.5555555555555556,
              "#d8576b"
             ],
             [
              0.6666666666666666,
              "#ed7953"
             ],
             [
              0.7777777777777778,
              "#fb9f3a"
             ],
             [
              0.8888888888888888,
              "#fdca26"
             ],
             [
              1,
              "#f0f921"
             ]
            ],
            "type": "histogram2dcontour"
           }
          ],
          "mesh3d": [
           {
            "colorbar": {
             "outlinewidth": 0,
             "ticks": ""
            },
            "type": "mesh3d"
           }
          ],
          "parcoords": [
           {
            "line": {
             "colorbar": {
              "outlinewidth": 0,
              "ticks": ""
             }
            },
            "type": "parcoords"
           }
          ],
          "pie": [
           {
            "automargin": true,
            "type": "pie"
           }
          ],
          "scatter": [
           {
            "fillpattern": {
             "fillmode": "overlay",
             "size": 10,
             "solidity": 0.2
            },
            "type": "scatter"
           }
          ],
          "scatter3d": [
           {
            "line": {
             "colorbar": {
              "outlinewidth": 0,
              "ticks": ""
             }
            },
            "marker": {
             "colorbar": {
              "outlinewidth": 0,
              "ticks": ""
             }
            },
            "type": "scatter3d"
           }
          ],
          "scattercarpet": [
           {
            "marker": {
             "colorbar": {
              "outlinewidth": 0,
              "ticks": ""
             }
            },
            "type": "scattercarpet"
           }
          ],
          "scattergeo": [
           {
            "marker": {
             "colorbar": {
              "outlinewidth": 0,
              "ticks": ""
             }
            },
            "type": "scattergeo"
           }
          ],
          "scattergl": [
           {
            "marker": {
             "colorbar": {
              "outlinewidth": 0,
              "ticks": ""
             }
            },
            "type": "scattergl"
           }
          ],
          "scattermapbox": [
           {
            "marker": {
             "colorbar": {
              "outlinewidth": 0,
              "ticks": ""
             }
            },
            "type": "scattermapbox"
           }
          ],
          "scatterpolar": [
           {
            "marker": {
             "colorbar": {
              "outlinewidth": 0,
              "ticks": ""
             }
            },
            "type": "scatterpolar"
           }
          ],
          "scatterpolargl": [
           {
            "marker": {
             "colorbar": {
              "outlinewidth": 0,
              "ticks": ""
             }
            },
            "type": "scatterpolargl"
           }
          ],
          "scatterternary": [
           {
            "marker": {
             "colorbar": {
              "outlinewidth": 0,
              "ticks": ""
             }
            },
            "type": "scatterternary"
           }
          ],
          "surface": [
           {
            "colorbar": {
             "outlinewidth": 0,
             "ticks": ""
            },
            "colorscale": [
             [
              0,
              "#0d0887"
             ],
             [
              0.1111111111111111,
              "#46039f"
             ],
             [
              0.2222222222222222,
              "#7201a8"
             ],
             [
              0.3333333333333333,
              "#9c179e"
             ],
             [
              0.4444444444444444,
              "#bd3786"
             ],
             [
              0.5555555555555556,
              "#d8576b"
             ],
             [
              0.6666666666666666,
              "#ed7953"
             ],
             [
              0.7777777777777778,
              "#fb9f3a"
             ],
             [
              0.8888888888888888,
              "#fdca26"
             ],
             [
              1,
              "#f0f921"
             ]
            ],
            "type": "surface"
           }
          ],
          "table": [
           {
            "cells": {
             "fill": {
              "color": "#EBF0F8"
             },
             "line": {
              "color": "white"
             }
            },
            "header": {
             "fill": {
              "color": "#C8D4E3"
             },
             "line": {
              "color": "white"
             }
            },
            "type": "table"
           }
          ]
         },
         "layout": {
          "annotationdefaults": {
           "arrowcolor": "#2a3f5f",
           "arrowhead": 0,
           "arrowwidth": 1
          },
          "autotypenumbers": "strict",
          "coloraxis": {
           "colorbar": {
            "outlinewidth": 0,
            "ticks": ""
           }
          },
          "colorscale": {
           "diverging": [
            [
             0,
             "#8e0152"
            ],
            [
             0.1,
             "#c51b7d"
            ],
            [
             0.2,
             "#de77ae"
            ],
            [
             0.3,
             "#f1b6da"
            ],
            [
             0.4,
             "#fde0ef"
            ],
            [
             0.5,
             "#f7f7f7"
            ],
            [
             0.6,
             "#e6f5d0"
            ],
            [
             0.7,
             "#b8e186"
            ],
            [
             0.8,
             "#7fbc41"
            ],
            [
             0.9,
             "#4d9221"
            ],
            [
             1,
             "#276419"
            ]
           ],
           "sequential": [
            [
             0,
             "#0d0887"
            ],
            [
             0.1111111111111111,
             "#46039f"
            ],
            [
             0.2222222222222222,
             "#7201a8"
            ],
            [
             0.3333333333333333,
             "#9c179e"
            ],
            [
             0.4444444444444444,
             "#bd3786"
            ],
            [
             0.5555555555555556,
             "#d8576b"
            ],
            [
             0.6666666666666666,
             "#ed7953"
            ],
            [
             0.7777777777777778,
             "#fb9f3a"
            ],
            [
             0.8888888888888888,
             "#fdca26"
            ],
            [
             1,
             "#f0f921"
            ]
           ],
           "sequentialminus": [
            [
             0,
             "#0d0887"
            ],
            [
             0.1111111111111111,
             "#46039f"
            ],
            [
             0.2222222222222222,
             "#7201a8"
            ],
            [
             0.3333333333333333,
             "#9c179e"
            ],
            [
             0.4444444444444444,
             "#bd3786"
            ],
            [
             0.5555555555555556,
             "#d8576b"
            ],
            [
             0.6666666666666666,
             "#ed7953"
            ],
            [
             0.7777777777777778,
             "#fb9f3a"
            ],
            [
             0.8888888888888888,
             "#fdca26"
            ],
            [
             1,
             "#f0f921"
            ]
           ]
          },
          "colorway": [
           "#636efa",
           "#EF553B",
           "#00cc96",
           "#ab63fa",
           "#FFA15A",
           "#19d3f3",
           "#FF6692",
           "#B6E880",
           "#FF97FF",
           "#FECB52"
          ],
          "font": {
           "color": "#2a3f5f"
          },
          "geo": {
           "bgcolor": "white",
           "lakecolor": "white",
           "landcolor": "#E5ECF6",
           "showlakes": true,
           "showland": true,
           "subunitcolor": "white"
          },
          "hoverlabel": {
           "align": "left"
          },
          "hovermode": "closest",
          "mapbox": {
           "style": "light"
          },
          "paper_bgcolor": "white",
          "plot_bgcolor": "#E5ECF6",
          "polar": {
           "angularaxis": {
            "gridcolor": "white",
            "linecolor": "white",
            "ticks": ""
           },
           "bgcolor": "#E5ECF6",
           "radialaxis": {
            "gridcolor": "white",
            "linecolor": "white",
            "ticks": ""
           }
          },
          "scene": {
           "xaxis": {
            "backgroundcolor": "#E5ECF6",
            "gridcolor": "white",
            "gridwidth": 2,
            "linecolor": "white",
            "showbackground": true,
            "ticks": "",
            "zerolinecolor": "white"
           },
           "yaxis": {
            "backgroundcolor": "#E5ECF6",
            "gridcolor": "white",
            "gridwidth": 2,
            "linecolor": "white",
            "showbackground": true,
            "ticks": "",
            "zerolinecolor": "white"
           },
           "zaxis": {
            "backgroundcolor": "#E5ECF6",
            "gridcolor": "white",
            "gridwidth": 2,
            "linecolor": "white",
            "showbackground": true,
            "ticks": "",
            "zerolinecolor": "white"
           }
          },
          "shapedefaults": {
           "line": {
            "color": "#2a3f5f"
           }
          },
          "ternary": {
           "aaxis": {
            "gridcolor": "white",
            "linecolor": "white",
            "ticks": ""
           },
           "baxis": {
            "gridcolor": "white",
            "linecolor": "white",
            "ticks": ""
           },
           "bgcolor": "#E5ECF6",
           "caxis": {
            "gridcolor": "white",
            "linecolor": "white",
            "ticks": ""
           }
          },
          "title": {
           "x": 0.05
          },
          "xaxis": {
           "automargin": true,
           "gridcolor": "white",
           "linecolor": "white",
           "ticks": "",
           "title": {
            "standoff": 15
           },
           "zerolinecolor": "white",
           "zerolinewidth": 2
          },
          "yaxis": {
           "automargin": true,
           "gridcolor": "white",
           "linecolor": "white",
           "ticks": "",
           "title": {
            "standoff": 15
           },
           "zerolinecolor": "white",
           "zerolinewidth": 2
          }
         }
        },
        "title": {
         "text": "Prävalenz von Übergewicht (Männer vs. Frauen, nach Jahr und Land)"
        },
        "xaxis": {
         "anchor": "y",
         "domain": [
          0,
          1
         ],
         "title": {
          "text": "Länder (Jahr)"
         }
        },
        "yaxis": {
         "anchor": "x",
         "domain": [
          0,
          1
         ],
         "title": {
          "text": "Prävalenz in %"
         }
        }
       }
      }
     },
     "metadata": {},
     "output_type": "display_data"
    }
   ],
   "source": [
    "\n",
    "df_gefiltert.loc[:,'Land_Jahr'] = df_gefiltert['Land'] + \" (\" + df_gefiltert['Jahr'].astype(str) + \")\"\n",
    "\n",
    "interaktives_Diagramm_3 = px.bar(\n",
    "    df_gefiltert,\n",
    "    x='Land_Jahr', \n",
    "    y=['Übergewicht_Prävalenz_Männer_18+', 'Übergewicht_Prävalenz_Frauen_18+'],\n",
    "    labels={\n",
    "        'value': 'Prävalenz in %',\n",
    "        'variable': 'Geschlecht',\n",
    "        'Land_Jahr': 'Länder (Jahr)'},\n",
    "    title='Prävalenz von Übergewicht (Männer vs. Frauen, nach Jahr und Land)',\n",
    "    color='variable',\n",
    "    color_discrete_sequence=['turquoise', 'salmon'])\n",
    "\n",
    "interaktives_Diagramm_3.for_each_trace(\n",
    "    lambda trace: trace.update(name='Männer 18+' if trace.name == 'Übergewicht_Prävalenz_Männer_18+' else 'Frauen 18+')\n",
    ")\n",
    "\n",
    "interaktives_Diagramm_3 \n"
   ]
  },
  {
   "cell_type": "code",
   "execution_count": 57,
   "id": "fedf8030",
   "metadata": {},
   "outputs": [
    {
     "data": {
      "text/html": [
       "<div>\n",
       "<style scoped>\n",
       "    .dataframe tbody tr th:only-of-type {\n",
       "        vertical-align: middle;\n",
       "    }\n",
       "\n",
       "    .dataframe tbody tr th {\n",
       "        vertical-align: top;\n",
       "    }\n",
       "\n",
       "    .dataframe thead th {\n",
       "        text-align: right;\n",
       "    }\n",
       "</style>\n",
       "<table border=\"1\" class=\"dataframe\">\n",
       "  <thead>\n",
       "    <tr style=\"text-align: right;\">\n",
       "      <th></th>\n",
       "      <th>Land</th>\n",
       "      <th>Kürzel</th>\n",
       "      <th>Jahr</th>\n",
       "      <th>Übergewicht_Prävalenz_Männer_18+</th>\n",
       "      <th>Übergewicht_Prävalenz_Frauen_18+</th>\n",
       "    </tr>\n",
       "  </thead>\n",
       "  <tbody>\n",
       "    <tr>\n",
       "      <th>4099</th>\n",
       "      <td>Kiribati</td>\n",
       "      <td>KIR</td>\n",
       "      <td>1996</td>\n",
       "      <td>25.6</td>\n",
       "      <td>37.1</td>\n",
       "    </tr>\n",
       "    <tr>\n",
       "      <th>4100</th>\n",
       "      <td>Kiribati</td>\n",
       "      <td>KIR</td>\n",
       "      <td>1997</td>\n",
       "      <td>26.5</td>\n",
       "      <td>37.9</td>\n",
       "    </tr>\n",
       "    <tr>\n",
       "      <th>4101</th>\n",
       "      <td>Kiribati</td>\n",
       "      <td>KIR</td>\n",
       "      <td>1998</td>\n",
       "      <td>27.3</td>\n",
       "      <td>38.7</td>\n",
       "    </tr>\n",
       "    <tr>\n",
       "      <th>4102</th>\n",
       "      <td>Kiribati</td>\n",
       "      <td>KIR</td>\n",
       "      <td>1999</td>\n",
       "      <td>28.3</td>\n",
       "      <td>39.6</td>\n",
       "    </tr>\n",
       "    <tr>\n",
       "      <th>4103</th>\n",
       "      <td>Kiribati</td>\n",
       "      <td>KIR</td>\n",
       "      <td>2000</td>\n",
       "      <td>29.2</td>\n",
       "      <td>40.5</td>\n",
       "    </tr>\n",
       "    <tr>\n",
       "      <th>...</th>\n",
       "      <td>...</td>\n",
       "      <td>...</td>\n",
       "      <td>...</td>\n",
       "      <td>...</td>\n",
       "      <td>...</td>\n",
       "    </tr>\n",
       "    <tr>\n",
       "      <th>8362</th>\n",
       "      <td>Vietnam</td>\n",
       "      <td>VNM</td>\n",
       "      <td>2012</td>\n",
       "      <td>1.1</td>\n",
       "      <td>2.0</td>\n",
       "    </tr>\n",
       "    <tr>\n",
       "      <th>8363</th>\n",
       "      <td>Vietnam</td>\n",
       "      <td>VNM</td>\n",
       "      <td>2013</td>\n",
       "      <td>1.2</td>\n",
       "      <td>2.1</td>\n",
       "    </tr>\n",
       "    <tr>\n",
       "      <th>8364</th>\n",
       "      <td>Vietnam</td>\n",
       "      <td>VNM</td>\n",
       "      <td>2014</td>\n",
       "      <td>1.3</td>\n",
       "      <td>2.3</td>\n",
       "    </tr>\n",
       "    <tr>\n",
       "      <th>8365</th>\n",
       "      <td>Vietnam</td>\n",
       "      <td>VNM</td>\n",
       "      <td>2015</td>\n",
       "      <td>1.5</td>\n",
       "      <td>2.4</td>\n",
       "    </tr>\n",
       "    <tr>\n",
       "      <th>8366</th>\n",
       "      <td>Vietnam</td>\n",
       "      <td>VNM</td>\n",
       "      <td>2016</td>\n",
       "      <td>1.6</td>\n",
       "      <td>2.6</td>\n",
       "    </tr>\n",
       "  </tbody>\n",
       "</table>\n",
       "<p>147 rows × 5 columns</p>\n",
       "</div>"
      ],
      "text/plain": [
       "          Land Kürzel  Jahr  Übergewicht_Prävalenz_Männer_18+  \\\n",
       "4099  Kiribati    KIR  1996                              25.6   \n",
       "4100  Kiribati    KIR  1997                              26.5   \n",
       "4101  Kiribati    KIR  1998                              27.3   \n",
       "4102  Kiribati    KIR  1999                              28.3   \n",
       "4103  Kiribati    KIR  2000                              29.2   \n",
       "...        ...    ...   ...                               ...   \n",
       "8362   Vietnam    VNM  2012                               1.1   \n",
       "8363   Vietnam    VNM  2013                               1.2   \n",
       "8364   Vietnam    VNM  2014                               1.3   \n",
       "8365   Vietnam    VNM  2015                               1.5   \n",
       "8366   Vietnam    VNM  2016                               1.6   \n",
       "\n",
       "      Übergewicht_Prävalenz_Frauen_18+  \n",
       "4099                              37.1  \n",
       "4100                              37.9  \n",
       "4101                              38.7  \n",
       "4102                              39.6  \n",
       "4103                              40.5  \n",
       "...                                ...  \n",
       "8362                               2.0  \n",
       "8363                               2.1  \n",
       "8364                               2.3  \n",
       "8365                               2.4  \n",
       "8366                               2.6  \n",
       "\n",
       "[147 rows x 5 columns]"
      ]
     },
     "execution_count": 57,
     "metadata": {},
     "output_type": "execute_result"
    }
   ],
   "source": [
    "del df_einzeln['Durchschnitt_Prävalenz_18+_ausgerechnet']\n",
    "\n",
    "jahresdauer = list(range(1996, 2017))\n",
    "df_gefiltert_ganze_Dauer = df_einzeln[(df_einzeln['Land'].isin(['Niue', 'Tuvalu', 'Kiribati', 'Switzerland', 'South Korea', 'Singapore', 'Vietnam'])) & (df_einzeln['Jahr'].isin(jahresdauer))]\n",
    "df_gefiltert_ganze_Dauer"
   ]
  },
  {
   "cell_type": "code",
   "execution_count": 58,
   "id": "09447e63",
   "metadata": {},
   "outputs": [
    {
     "data": {
      "text/html": [
       "<div>\n",
       "<style scoped>\n",
       "    .dataframe tbody tr th:only-of-type {\n",
       "        vertical-align: middle;\n",
       "    }\n",
       "\n",
       "    .dataframe tbody tr th {\n",
       "        vertical-align: top;\n",
       "    }\n",
       "\n",
       "    .dataframe thead th {\n",
       "        text-align: right;\n",
       "    }\n",
       "</style>\n",
       "<table border=\"1\" class=\"dataframe\">\n",
       "  <thead>\n",
       "    <tr style=\"text-align: right;\">\n",
       "      <th></th>\n",
       "      <th>Land</th>\n",
       "      <th>Kürzel</th>\n",
       "      <th>Jahr</th>\n",
       "      <th>Geschlecht</th>\n",
       "      <th>Prävalenz</th>\n",
       "    </tr>\n",
       "  </thead>\n",
       "  <tbody>\n",
       "    <tr>\n",
       "      <th>0</th>\n",
       "      <td>Kiribati</td>\n",
       "      <td>KIR</td>\n",
       "      <td>1996</td>\n",
       "      <td>Übergewicht_Prävalenz_Männer_18+</td>\n",
       "      <td>25.6</td>\n",
       "    </tr>\n",
       "    <tr>\n",
       "      <th>1</th>\n",
       "      <td>Kiribati</td>\n",
       "      <td>KIR</td>\n",
       "      <td>1997</td>\n",
       "      <td>Übergewicht_Prävalenz_Männer_18+</td>\n",
       "      <td>26.5</td>\n",
       "    </tr>\n",
       "    <tr>\n",
       "      <th>2</th>\n",
       "      <td>Kiribati</td>\n",
       "      <td>KIR</td>\n",
       "      <td>1998</td>\n",
       "      <td>Übergewicht_Prävalenz_Männer_18+</td>\n",
       "      <td>27.3</td>\n",
       "    </tr>\n",
       "    <tr>\n",
       "      <th>3</th>\n",
       "      <td>Kiribati</td>\n",
       "      <td>KIR</td>\n",
       "      <td>1999</td>\n",
       "      <td>Übergewicht_Prävalenz_Männer_18+</td>\n",
       "      <td>28.3</td>\n",
       "    </tr>\n",
       "    <tr>\n",
       "      <th>4</th>\n",
       "      <td>Kiribati</td>\n",
       "      <td>KIR</td>\n",
       "      <td>2000</td>\n",
       "      <td>Übergewicht_Prävalenz_Männer_18+</td>\n",
       "      <td>29.2</td>\n",
       "    </tr>\n",
       "    <tr>\n",
       "      <th>...</th>\n",
       "      <td>...</td>\n",
       "      <td>...</td>\n",
       "      <td>...</td>\n",
       "      <td>...</td>\n",
       "      <td>...</td>\n",
       "    </tr>\n",
       "    <tr>\n",
       "      <th>289</th>\n",
       "      <td>Vietnam</td>\n",
       "      <td>VNM</td>\n",
       "      <td>2012</td>\n",
       "      <td>Übergewicht_Prävalenz_Frauen_18+</td>\n",
       "      <td>2.0</td>\n",
       "    </tr>\n",
       "    <tr>\n",
       "      <th>290</th>\n",
       "      <td>Vietnam</td>\n",
       "      <td>VNM</td>\n",
       "      <td>2013</td>\n",
       "      <td>Übergewicht_Prävalenz_Frauen_18+</td>\n",
       "      <td>2.1</td>\n",
       "    </tr>\n",
       "    <tr>\n",
       "      <th>291</th>\n",
       "      <td>Vietnam</td>\n",
       "      <td>VNM</td>\n",
       "      <td>2014</td>\n",
       "      <td>Übergewicht_Prävalenz_Frauen_18+</td>\n",
       "      <td>2.3</td>\n",
       "    </tr>\n",
       "    <tr>\n",
       "      <th>292</th>\n",
       "      <td>Vietnam</td>\n",
       "      <td>VNM</td>\n",
       "      <td>2015</td>\n",
       "      <td>Übergewicht_Prävalenz_Frauen_18+</td>\n",
       "      <td>2.4</td>\n",
       "    </tr>\n",
       "    <tr>\n",
       "      <th>293</th>\n",
       "      <td>Vietnam</td>\n",
       "      <td>VNM</td>\n",
       "      <td>2016</td>\n",
       "      <td>Übergewicht_Prävalenz_Frauen_18+</td>\n",
       "      <td>2.6</td>\n",
       "    </tr>\n",
       "  </tbody>\n",
       "</table>\n",
       "<p>294 rows × 5 columns</p>\n",
       "</div>"
      ],
      "text/plain": [
       "         Land Kürzel  Jahr                        Geschlecht  Prävalenz\n",
       "0    Kiribati    KIR  1996  Übergewicht_Prävalenz_Männer_18+       25.6\n",
       "1    Kiribati    KIR  1997  Übergewicht_Prävalenz_Männer_18+       26.5\n",
       "2    Kiribati    KIR  1998  Übergewicht_Prävalenz_Männer_18+       27.3\n",
       "3    Kiribati    KIR  1999  Übergewicht_Prävalenz_Männer_18+       28.3\n",
       "4    Kiribati    KIR  2000  Übergewicht_Prävalenz_Männer_18+       29.2\n",
       "..        ...    ...   ...                               ...        ...\n",
       "289   Vietnam    VNM  2012  Übergewicht_Prävalenz_Frauen_18+        2.0\n",
       "290   Vietnam    VNM  2013  Übergewicht_Prävalenz_Frauen_18+        2.1\n",
       "291   Vietnam    VNM  2014  Übergewicht_Prävalenz_Frauen_18+        2.3\n",
       "292   Vietnam    VNM  2015  Übergewicht_Prävalenz_Frauen_18+        2.4\n",
       "293   Vietnam    VNM  2016  Übergewicht_Prävalenz_Frauen_18+        2.6\n",
       "\n",
       "[294 rows x 5 columns]"
      ]
     },
     "execution_count": 58,
     "metadata": {},
     "output_type": "execute_result"
    }
   ],
   "source": [
    "df_lang = df_gefiltert_ganze_Dauer.melt(id_vars=['Land', 'Kürzel', 'Jahr'], \n",
    "                   value_vars=['Übergewicht_Prävalenz_Männer_18+', 'Übergewicht_Prävalenz_Frauen_18+'],\n",
    "                  var_name='Geschlecht', value_name='Prävalenz')\n",
    "\n",
    "df_lang"
   ]
  },
  {
   "cell_type": "code",
   "execution_count": 59,
   "id": "69d49ee5",
   "metadata": {},
   "outputs": [
    {
     "data": {
      "application/vnd.plotly.v1+json": {
       "config": {
        "plotlyServerURL": "https://plot.ly"
       },
       "data": [
        {
         "hovertemplate": "Geschlecht=Übergewicht_Prävalenz_Männer_18+<br>Land=Kiribati<br>Jahr=%{x}<br>Übergewichtsprävalenz (%)=%{y}<extra></extra>",
         "legendgroup": "Übergewicht_Prävalenz_Männer_18+",
         "line": {
          "color": "#636efa",
          "dash": "solid"
         },
         "marker": {
          "symbol": "circle"
         },
         "mode": "lines",
         "name": "Männer 18+",
         "orientation": "v",
         "showlegend": true,
         "type": "scatter",
         "x": [
          1996,
          1997,
          1998,
          1999,
          2000,
          2001,
          2002,
          2003,
          2004,
          2005,
          2006,
          2007,
          2008,
          2009,
          2010,
          2011,
          2012,
          2013,
          2014,
          2015,
          2016
         ],
         "xaxis": "x",
         "y": [
          25.6,
          26.5,
          27.3,
          28.3,
          29.2,
          30.1,
          31,
          31.9,
          32.7,
          33.5,
          34.3,
          35.1,
          35.8,
          36.5,
          37.2,
          37.9,
          38.7,
          39.4,
          40.1,
          40.8,
          41.6
         ],
         "yaxis": "y"
        },
        {
         "hovertemplate": "Geschlecht=Übergewicht_Prävalenz_Männer_18+<br>Land=Niue<br>Jahr=%{x}<br>Übergewichtsprävalenz (%)=%{y}<extra></extra>",
         "legendgroup": "Übergewicht_Prävalenz_Männer_18+",
         "line": {
          "color": "#636efa",
          "dash": "solid"
         },
         "marker": {
          "symbol": "circle"
         },
         "mode": "lines",
         "name": "Männer 18+",
         "orientation": "v",
         "showlegend": false,
         "type": "scatter",
         "x": [
          1996,
          1997,
          1998,
          1999,
          2000,
          2001,
          2002,
          2003,
          2004,
          2005,
          2006,
          2007,
          2008,
          2009,
          2010,
          2011,
          2012,
          2013,
          2014,
          2015,
          2016
         ],
         "xaxis": "x2",
         "y": [
          27.9,
          28.6,
          29.4,
          30.1,
          30.9,
          31.7,
          32.5,
          33.3,
          34.2,
          35,
          35.8,
          36.7,
          37.6,
          38.5,
          39.4,
          40.3,
          41.2,
          42.1,
          43,
          43.9,
          44.8
         ],
         "yaxis": "y2"
        },
        {
         "hovertemplate": "Geschlecht=Übergewicht_Prävalenz_Männer_18+<br>Land=Singapore<br>Jahr=%{x}<br>Übergewichtsprävalenz (%)=%{y}<extra></extra>",
         "legendgroup": "Übergewicht_Prävalenz_Männer_18+",
         "line": {
          "color": "#636efa",
          "dash": "solid"
         },
         "marker": {
          "symbol": "circle"
         },
         "mode": "lines",
         "name": "Männer 18+",
         "orientation": "v",
         "showlegend": false,
         "type": "scatter",
         "x": [
          1996,
          1997,
          1998,
          1999,
          2000,
          2001,
          2002,
          2003,
          2004,
          2005,
          2006,
          2007,
          2008,
          2009,
          2010,
          2011,
          2012,
          2013,
          2014,
          2015,
          2016
         ],
         "xaxis": "x3",
         "y": [
          3,
          3.1,
          3.2,
          3.3,
          3.4,
          3.6,
          3.7,
          3.8,
          3.9,
          4.1,
          4.2,
          4.3,
          4.5,
          4.6,
          4.8,
          4.9,
          5.1,
          5.3,
          5.5,
          5.6,
          5.8
         ],
         "yaxis": "y3"
        },
        {
         "hovertemplate": "Geschlecht=Übergewicht_Prävalenz_Männer_18+<br>Land=South Korea<br>Jahr=%{x}<br>Übergewichtsprävalenz (%)=%{y}<extra></extra>",
         "legendgroup": "Übergewicht_Prävalenz_Männer_18+",
         "line": {
          "color": "#636efa",
          "dash": "solid"
         },
         "marker": {
          "symbol": "circle"
         },
         "mode": "lines",
         "name": "Männer 18+",
         "orientation": "v",
         "showlegend": false,
         "type": "scatter",
         "x": [
          1996,
          1997,
          1998,
          1999,
          2000,
          2001,
          2002,
          2003,
          2004,
          2005,
          2006,
          2007,
          2008,
          2009,
          2010,
          2011,
          2012,
          2013,
          2014,
          2015,
          2016
         ],
         "xaxis": "x4",
         "y": [
          1.8,
          1.9,
          2,
          2.2,
          2.3,
          2.4,
          2.5,
          2.6,
          2.7,
          2.8,
          3,
          3.1,
          3.2,
          3.4,
          3.5,
          3.6,
          3.8,
          3.9,
          4.1,
          4.3,
          4.4
         ],
         "yaxis": "y4"
        },
        {
         "hovertemplate": "Geschlecht=Übergewicht_Prävalenz_Männer_18+<br>Land=Switzerland<br>Jahr=%{x}<br>Übergewichtsprävalenz (%)=%{y}<extra></extra>",
         "legendgroup": "Übergewicht_Prävalenz_Männer_18+",
         "line": {
          "color": "#636efa",
          "dash": "solid"
         },
         "marker": {
          "symbol": "circle"
         },
         "mode": "lines",
         "name": "Männer 18+",
         "orientation": "v",
         "showlegend": false,
         "type": "scatter",
         "x": [
          1996,
          1997,
          1998,
          1999,
          2000,
          2001,
          2002,
          2003,
          2004,
          2005,
          2006,
          2007,
          2008,
          2009,
          2010,
          2011,
          2012,
          2013,
          2014,
          2015,
          2016
         ],
         "xaxis": "x5",
         "y": [
          13.2,
          13.6,
          14,
          14.4,
          14.8,
          15.2,
          15.7,
          16.1,
          16.5,
          16.9,
          17.4,
          17.8,
          18.3,
          18.7,
          19.2,
          19.7,
          20.2,
          20.6,
          21.2,
          21.7,
          22.2
         ],
         "yaxis": "y5"
        },
        {
         "hovertemplate": "Geschlecht=Übergewicht_Prävalenz_Männer_18+<br>Land=Tuvalu<br>Jahr=%{x}<br>Übergewichtsprävalenz (%)=%{y}<extra></extra>",
         "legendgroup": "Übergewicht_Prävalenz_Männer_18+",
         "line": {
          "color": "#636efa",
          "dash": "solid"
         },
         "marker": {
          "symbol": "circle"
         },
         "mode": "lines",
         "name": "Männer 18+",
         "orientation": "v",
         "showlegend": false,
         "type": "scatter",
         "x": [
          1996,
          1997,
          1998,
          1999,
          2000,
          2001,
          2002,
          2003,
          2004,
          2005,
          2006,
          2007,
          2008,
          2009,
          2010,
          2011,
          2012,
          2013,
          2014,
          2015,
          2016
         ],
         "xaxis": "x6",
         "y": [
          29.6,
          30.4,
          31.2,
          32.1,
          32.9,
          33.7,
          34.5,
          35.4,
          36.3,
          37.1,
          38,
          38.9,
          39.8,
          40.7,
          41.7,
          42.6,
          43.5,
          44.4,
          45.3,
          46.2,
          47
         ],
         "yaxis": "y6"
        },
        {
         "hovertemplate": "Geschlecht=Übergewicht_Prävalenz_Männer_18+<br>Land=Vietnam<br>Jahr=%{x}<br>Übergewichtsprävalenz (%)=%{y}<extra></extra>",
         "legendgroup": "Übergewicht_Prävalenz_Männer_18+",
         "line": {
          "color": "#636efa",
          "dash": "solid"
         },
         "marker": {
          "symbol": "circle"
         },
         "mode": "lines",
         "name": "Männer 18+",
         "orientation": "v",
         "showlegend": false,
         "type": "scatter",
         "x": [
          1996,
          1997,
          1998,
          1999,
          2000,
          2001,
          2002,
          2003,
          2004,
          2005,
          2006,
          2007,
          2008,
          2009,
          2010,
          2011,
          2012,
          2013,
          2014,
          2015,
          2016
         ],
         "xaxis": "x7",
         "y": [
          0.3,
          0.3,
          0.3,
          0.3,
          0.4,
          0.4,
          0.4,
          0.5,
          0.5,
          0.6,
          0.6,
          0.7,
          0.8,
          0.8,
          0.9,
          1,
          1.1,
          1.2,
          1.3,
          1.5,
          1.6
         ],
         "yaxis": "y7"
        },
        {
         "hovertemplate": "Geschlecht=Übergewicht_Prävalenz_Frauen_18+<br>Land=Kiribati<br>Jahr=%{x}<br>Übergewichtsprävalenz (%)=%{y}<extra></extra>",
         "legendgroup": "Übergewicht_Prävalenz_Frauen_18+",
         "line": {
          "color": "#EF553B",
          "dash": "solid"
         },
         "marker": {
          "symbol": "circle"
         },
         "mode": "lines",
         "name": "Frauen 18+",
         "orientation": "v",
         "showlegend": true,
         "type": "scatter",
         "x": [
          1996,
          1997,
          1998,
          1999,
          2000,
          2001,
          2002,
          2003,
          2004,
          2005,
          2006,
          2007,
          2008,
          2009,
          2010,
          2011,
          2012,
          2013,
          2014,
          2015,
          2016
         ],
         "xaxis": "x",
         "y": [
          37.1,
          37.9,
          38.7,
          39.6,
          40.5,
          41.3,
          42.1,
          42.9,
          43.6,
          44.2,
          44.9,
          45.5,
          46,
          46.6,
          47.2,
          47.7,
          48.2,
          48.8,
          49.3,
          49.8,
          50.4
         ],
         "yaxis": "y"
        },
        {
         "hovertemplate": "Geschlecht=Übergewicht_Prävalenz_Frauen_18+<br>Land=Niue<br>Jahr=%{x}<br>Übergewichtsprävalenz (%)=%{y}<extra></extra>",
         "legendgroup": "Übergewicht_Prävalenz_Frauen_18+",
         "line": {
          "color": "#EF553B",
          "dash": "solid"
         },
         "marker": {
          "symbol": "circle"
         },
         "mode": "lines",
         "name": "Frauen 18+",
         "orientation": "v",
         "showlegend": false,
         "type": "scatter",
         "x": [
          1996,
          1997,
          1998,
          1999,
          2000,
          2001,
          2002,
          2003,
          2004,
          2005,
          2006,
          2007,
          2008,
          2009,
          2010,
          2011,
          2012,
          2013,
          2014,
          2015,
          2016
         ],
         "xaxis": "x2",
         "y": [
          41.4,
          42.1,
          42.8,
          43.5,
          44.2,
          44.9,
          45.6,
          46.3,
          47,
          47.7,
          48.4,
          49.1,
          49.8,
          50.4,
          51.1,
          51.8,
          52.5,
          53.2,
          53.8,
          54.5,
          55.1
         ],
         "yaxis": "y2"
        },
        {
         "hovertemplate": "Geschlecht=Übergewicht_Prävalenz_Frauen_18+<br>Land=Singapore<br>Jahr=%{x}<br>Übergewichtsprävalenz (%)=%{y}<extra></extra>",
         "legendgroup": "Übergewicht_Prävalenz_Frauen_18+",
         "line": {
          "color": "#EF553B",
          "dash": "solid"
         },
         "marker": {
          "symbol": "circle"
         },
         "mode": "lines",
         "name": "Frauen 18+",
         "orientation": "v",
         "showlegend": false,
         "type": "scatter",
         "x": [
          1996,
          1997,
          1998,
          1999,
          2000,
          2001,
          2002,
          2003,
          2004,
          2005,
          2006,
          2007,
          2008,
          2009,
          2010,
          2011,
          2012,
          2013,
          2014,
          2015,
          2016
         ],
         "xaxis": "x3",
         "y": [
          5.1,
          5.2,
          5.2,
          5.3,
          5.3,
          5.4,
          5.4,
          5.5,
          5.5,
          5.6,
          5.7,
          5.7,
          5.8,
          5.8,
          5.9,
          6,
          6,
          6.1,
          6.2,
          6.3,
          6.3
         ],
         "yaxis": "y3"
        },
        {
         "hovertemplate": "Geschlecht=Übergewicht_Prävalenz_Frauen_18+<br>Land=South Korea<br>Jahr=%{x}<br>Übergewichtsprävalenz (%)=%{y}<extra></extra>",
         "legendgroup": "Übergewicht_Prävalenz_Frauen_18+",
         "line": {
          "color": "#EF553B",
          "dash": "solid"
         },
         "marker": {
          "symbol": "circle"
         },
         "mode": "lines",
         "name": "Frauen 18+",
         "orientation": "v",
         "showlegend": false,
         "type": "scatter",
         "x": [
          1996,
          1997,
          1998,
          1999,
          2000,
          2001,
          2002,
          2003,
          2004,
          2005,
          2006,
          2007,
          2008,
          2009,
          2010,
          2011,
          2012,
          2013,
          2014,
          2015,
          2016
         ],
         "xaxis": "x4",
         "y": [
          3,
          3.1,
          3.2,
          3.3,
          3.4,
          3.5,
          3.5,
          3.6,
          3.7,
          3.8,
          3.9,
          4,
          4.1,
          4.2,
          4.2,
          4.3,
          4.4,
          4.5,
          4.6,
          4.7,
          4.8
         ],
         "yaxis": "y4"
        },
        {
         "hovertemplate": "Geschlecht=Übergewicht_Prävalenz_Frauen_18+<br>Land=Switzerland<br>Jahr=%{x}<br>Übergewichtsprävalenz (%)=%{y}<extra></extra>",
         "legendgroup": "Übergewicht_Prävalenz_Frauen_18+",
         "line": {
          "color": "#EF553B",
          "dash": "solid"
         },
         "marker": {
          "symbol": "circle"
         },
         "mode": "lines",
         "name": "Frauen 18+",
         "orientation": "v",
         "showlegend": false,
         "type": "scatter",
         "x": [
          1996,
          1997,
          1998,
          1999,
          2000,
          2001,
          2002,
          2003,
          2004,
          2005,
          2006,
          2007,
          2008,
          2009,
          2010,
          2011,
          2012,
          2013,
          2014,
          2015,
          2016
         ],
         "xaxis": "x5",
         "y": [
          11.8,
          12.1,
          12.4,
          12.6,
          12.8,
          13.1,
          13.3,
          13.6,
          13.8,
          14.1,
          14.3,
          14.5,
          14.8,
          15,
          15.3,
          15.5,
          15.8,
          16.1,
          16.3,
          16.6,
          16.9
         ],
         "yaxis": "y5"
        },
        {
         "hovertemplate": "Geschlecht=Übergewicht_Prävalenz_Frauen_18+<br>Land=Tuvalu<br>Jahr=%{x}<br>Übergewichtsprävalenz (%)=%{y}<extra></extra>",
         "legendgroup": "Übergewicht_Prävalenz_Frauen_18+",
         "line": {
          "color": "#EF553B",
          "dash": "solid"
         },
         "marker": {
          "symbol": "circle"
         },
         "mode": "lines",
         "name": "Frauen 18+",
         "orientation": "v",
         "showlegend": false,
         "type": "scatter",
         "x": [
          1996,
          1997,
          1998,
          1999,
          2000,
          2001,
          2002,
          2003,
          2004,
          2005,
          2006,
          2007,
          2008,
          2009,
          2010,
          2011,
          2012,
          2013,
          2014,
          2015,
          2016
         ],
         "xaxis": "x6",
         "y": [
          43,
          43.7,
          44.5,
          45.1,
          45.8,
          46.5,
          47.2,
          47.8,
          48.5,
          49.2,
          49.8,
          50.5,
          51.2,
          51.8,
          52.5,
          53.2,
          53.8,
          54.4,
          55,
          55.6,
          56.2
         ],
         "yaxis": "y6"
        },
        {
         "hovertemplate": "Geschlecht=Übergewicht_Prävalenz_Frauen_18+<br>Land=Vietnam<br>Jahr=%{x}<br>Übergewichtsprävalenz (%)=%{y}<extra></extra>",
         "legendgroup": "Übergewicht_Prävalenz_Frauen_18+",
         "line": {
          "color": "#EF553B",
          "dash": "solid"
         },
         "marker": {
          "symbol": "circle"
         },
         "mode": "lines",
         "name": "Frauen 18+",
         "orientation": "v",
         "showlegend": false,
         "type": "scatter",
         "x": [
          1996,
          1997,
          1998,
          1999,
          2000,
          2001,
          2002,
          2003,
          2004,
          2005,
          2006,
          2007,
          2008,
          2009,
          2010,
          2011,
          2012,
          2013,
          2014,
          2015,
          2016
         ],
         "xaxis": "x7",
         "y": [
          0.7,
          0.7,
          0.8,
          0.8,
          0.9,
          0.9,
          1,
          1.1,
          1.2,
          1.2,
          1.3,
          1.4,
          1.5,
          1.6,
          1.7,
          1.9,
          2,
          2.1,
          2.3,
          2.4,
          2.6
         ],
         "yaxis": "y7"
        }
       ],
       "layout": {
        "annotations": [
         {
          "font": {},
          "showarrow": false,
          "text": "Land=Kiribati",
          "x": 0.06285714285714285,
          "xanchor": "center",
          "xref": "paper",
          "y": 1,
          "yanchor": "bottom",
          "yref": "paper"
         },
         {
          "font": {},
          "showarrow": false,
          "text": "Land=Niue",
          "x": 0.20857142857142852,
          "xanchor": "center",
          "xref": "paper",
          "y": 1,
          "yanchor": "bottom",
          "yref": "paper"
         },
         {
          "font": {},
          "showarrow": false,
          "text": "Land=Singapore",
          "x": 0.3542857142857142,
          "xanchor": "center",
          "xref": "paper",
          "y": 1,
          "yanchor": "bottom",
          "yref": "paper"
         },
         {
          "font": {},
          "showarrow": false,
          "text": "Land=South Korea",
          "x": 0.5,
          "xanchor": "center",
          "xref": "paper",
          "y": 1,
          "yanchor": "bottom",
          "yref": "paper"
         },
         {
          "font": {},
          "showarrow": false,
          "text": "Land=Switzerland",
          "x": 0.6457142857142856,
          "xanchor": "center",
          "xref": "paper",
          "y": 1,
          "yanchor": "bottom",
          "yref": "paper"
         },
         {
          "font": {},
          "showarrow": false,
          "text": "Land=Tuvalu",
          "x": 0.7914285714285713,
          "xanchor": "center",
          "xref": "paper",
          "y": 1,
          "yanchor": "bottom",
          "yref": "paper"
         },
         {
          "font": {},
          "showarrow": false,
          "text": "Land=Vietnam",
          "x": 0.937142857142857,
          "xanchor": "center",
          "xref": "paper",
          "y": 1,
          "yanchor": "bottom",
          "yref": "paper"
         }
        ],
        "legend": {
         "title": {
          "text": "Geschlecht"
         },
         "tracegroupgap": 0
        },
        "template": {
         "data": {
          "bar": [
           {
            "error_x": {
             "color": "#2a3f5f"
            },
            "error_y": {
             "color": "#2a3f5f"
            },
            "marker": {
             "line": {
              "color": "#E5ECF6",
              "width": 0.5
             },
             "pattern": {
              "fillmode": "overlay",
              "size": 10,
              "solidity": 0.2
             }
            },
            "type": "bar"
           }
          ],
          "barpolar": [
           {
            "marker": {
             "line": {
              "color": "#E5ECF6",
              "width": 0.5
             },
             "pattern": {
              "fillmode": "overlay",
              "size": 10,
              "solidity": 0.2
             }
            },
            "type": "barpolar"
           }
          ],
          "carpet": [
           {
            "aaxis": {
             "endlinecolor": "#2a3f5f",
             "gridcolor": "white",
             "linecolor": "white",
             "minorgridcolor": "white",
             "startlinecolor": "#2a3f5f"
            },
            "baxis": {
             "endlinecolor": "#2a3f5f",
             "gridcolor": "white",
             "linecolor": "white",
             "minorgridcolor": "white",
             "startlinecolor": "#2a3f5f"
            },
            "type": "carpet"
           }
          ],
          "choropleth": [
           {
            "colorbar": {
             "outlinewidth": 0,
             "ticks": ""
            },
            "type": "choropleth"
           }
          ],
          "contour": [
           {
            "colorbar": {
             "outlinewidth": 0,
             "ticks": ""
            },
            "colorscale": [
             [
              0,
              "#0d0887"
             ],
             [
              0.1111111111111111,
              "#46039f"
             ],
             [
              0.2222222222222222,
              "#7201a8"
             ],
             [
              0.3333333333333333,
              "#9c179e"
             ],
             [
              0.4444444444444444,
              "#bd3786"
             ],
             [
              0.5555555555555556,
              "#d8576b"
             ],
             [
              0.6666666666666666,
              "#ed7953"
             ],
             [
              0.7777777777777778,
              "#fb9f3a"
             ],
             [
              0.8888888888888888,
              "#fdca26"
             ],
             [
              1,
              "#f0f921"
             ]
            ],
            "type": "contour"
           }
          ],
          "contourcarpet": [
           {
            "colorbar": {
             "outlinewidth": 0,
             "ticks": ""
            },
            "type": "contourcarpet"
           }
          ],
          "heatmap": [
           {
            "colorbar": {
             "outlinewidth": 0,
             "ticks": ""
            },
            "colorscale": [
             [
              0,
              "#0d0887"
             ],
             [
              0.1111111111111111,
              "#46039f"
             ],
             [
              0.2222222222222222,
              "#7201a8"
             ],
             [
              0.3333333333333333,
              "#9c179e"
             ],
             [
              0.4444444444444444,
              "#bd3786"
             ],
             [
              0.5555555555555556,
              "#d8576b"
             ],
             [
              0.6666666666666666,
              "#ed7953"
             ],
             [
              0.7777777777777778,
              "#fb9f3a"
             ],
             [
              0.8888888888888888,
              "#fdca26"
             ],
             [
              1,
              "#f0f921"
             ]
            ],
            "type": "heatmap"
           }
          ],
          "heatmapgl": [
           {
            "colorbar": {
             "outlinewidth": 0,
             "ticks": ""
            },
            "colorscale": [
             [
              0,
              "#0d0887"
             ],
             [
              0.1111111111111111,
              "#46039f"
             ],
             [
              0.2222222222222222,
              "#7201a8"
             ],
             [
              0.3333333333333333,
              "#9c179e"
             ],
             [
              0.4444444444444444,
              "#bd3786"
             ],
             [
              0.5555555555555556,
              "#d8576b"
             ],
             [
              0.6666666666666666,
              "#ed7953"
             ],
             [
              0.7777777777777778,
              "#fb9f3a"
             ],
             [
              0.8888888888888888,
              "#fdca26"
             ],
             [
              1,
              "#f0f921"
             ]
            ],
            "type": "heatmapgl"
           }
          ],
          "histogram": [
           {
            "marker": {
             "pattern": {
              "fillmode": "overlay",
              "size": 10,
              "solidity": 0.2
             }
            },
            "type": "histogram"
           }
          ],
          "histogram2d": [
           {
            "colorbar": {
             "outlinewidth": 0,
             "ticks": ""
            },
            "colorscale": [
             [
              0,
              "#0d0887"
             ],
             [
              0.1111111111111111,
              "#46039f"
             ],
             [
              0.2222222222222222,
              "#7201a8"
             ],
             [
              0.3333333333333333,
              "#9c179e"
             ],
             [
              0.4444444444444444,
              "#bd3786"
             ],
             [
              0.5555555555555556,
              "#d8576b"
             ],
             [
              0.6666666666666666,
              "#ed7953"
             ],
             [
              0.7777777777777778,
              "#fb9f3a"
             ],
             [
              0.8888888888888888,
              "#fdca26"
             ],
             [
              1,
              "#f0f921"
             ]
            ],
            "type": "histogram2d"
           }
          ],
          "histogram2dcontour": [
           {
            "colorbar": {
             "outlinewidth": 0,
             "ticks": ""
            },
            "colorscale": [
             [
              0,
              "#0d0887"
             ],
             [
              0.1111111111111111,
              "#46039f"
             ],
             [
              0.2222222222222222,
              "#7201a8"
             ],
             [
              0.3333333333333333,
              "#9c179e"
             ],
             [
              0.4444444444444444,
              "#bd3786"
             ],
             [
              0.5555555555555556,
              "#d8576b"
             ],
             [
              0.6666666666666666,
              "#ed7953"
             ],
             [
              0.7777777777777778,
              "#fb9f3a"
             ],
             [
              0.8888888888888888,
              "#fdca26"
             ],
             [
              1,
              "#f0f921"
             ]
            ],
            "type": "histogram2dcontour"
           }
          ],
          "mesh3d": [
           {
            "colorbar": {
             "outlinewidth": 0,
             "ticks": ""
            },
            "type": "mesh3d"
           }
          ],
          "parcoords": [
           {
            "line": {
             "colorbar": {
              "outlinewidth": 0,
              "ticks": ""
             }
            },
            "type": "parcoords"
           }
          ],
          "pie": [
           {
            "automargin": true,
            "type": "pie"
           }
          ],
          "scatter": [
           {
            "fillpattern": {
             "fillmode": "overlay",
             "size": 10,
             "solidity": 0.2
            },
            "type": "scatter"
           }
          ],
          "scatter3d": [
           {
            "line": {
             "colorbar": {
              "outlinewidth": 0,
              "ticks": ""
             }
            },
            "marker": {
             "colorbar": {
              "outlinewidth": 0,
              "ticks": ""
             }
            },
            "type": "scatter3d"
           }
          ],
          "scattercarpet": [
           {
            "marker": {
             "colorbar": {
              "outlinewidth": 0,
              "ticks": ""
             }
            },
            "type": "scattercarpet"
           }
          ],
          "scattergeo": [
           {
            "marker": {
             "colorbar": {
              "outlinewidth": 0,
              "ticks": ""
             }
            },
            "type": "scattergeo"
           }
          ],
          "scattergl": [
           {
            "marker": {
             "colorbar": {
              "outlinewidth": 0,
              "ticks": ""
             }
            },
            "type": "scattergl"
           }
          ],
          "scattermapbox": [
           {
            "marker": {
             "colorbar": {
              "outlinewidth": 0,
              "ticks": ""
             }
            },
            "type": "scattermapbox"
           }
          ],
          "scatterpolar": [
           {
            "marker": {
             "colorbar": {
              "outlinewidth": 0,
              "ticks": ""
             }
            },
            "type": "scatterpolar"
           }
          ],
          "scatterpolargl": [
           {
            "marker": {
             "colorbar": {
              "outlinewidth": 0,
              "ticks": ""
             }
            },
            "type": "scatterpolargl"
           }
          ],
          "scatterternary": [
           {
            "marker": {
             "colorbar": {
              "outlinewidth": 0,
              "ticks": ""
             }
            },
            "type": "scatterternary"
           }
          ],
          "surface": [
           {
            "colorbar": {
             "outlinewidth": 0,
             "ticks": ""
            },
            "colorscale": [
             [
              0,
              "#0d0887"
             ],
             [
              0.1111111111111111,
              "#46039f"
             ],
             [
              0.2222222222222222,
              "#7201a8"
             ],
             [
              0.3333333333333333,
              "#9c179e"
             ],
             [
              0.4444444444444444,
              "#bd3786"
             ],
             [
              0.5555555555555556,
              "#d8576b"
             ],
             [
              0.6666666666666666,
              "#ed7953"
             ],
             [
              0.7777777777777778,
              "#fb9f3a"
             ],
             [
              0.8888888888888888,
              "#fdca26"
             ],
             [
              1,
              "#f0f921"
             ]
            ],
            "type": "surface"
           }
          ],
          "table": [
           {
            "cells": {
             "fill": {
              "color": "#EBF0F8"
             },
             "line": {
              "color": "white"
             }
            },
            "header": {
             "fill": {
              "color": "#C8D4E3"
             },
             "line": {
              "color": "white"
             }
            },
            "type": "table"
           }
          ]
         },
         "layout": {
          "annotationdefaults": {
           "arrowcolor": "#2a3f5f",
           "arrowhead": 0,
           "arrowwidth": 1
          },
          "autotypenumbers": "strict",
          "coloraxis": {
           "colorbar": {
            "outlinewidth": 0,
            "ticks": ""
           }
          },
          "colorscale": {
           "diverging": [
            [
             0,
             "#8e0152"
            ],
            [
             0.1,
             "#c51b7d"
            ],
            [
             0.2,
             "#de77ae"
            ],
            [
             0.3,
             "#f1b6da"
            ],
            [
             0.4,
             "#fde0ef"
            ],
            [
             0.5,
             "#f7f7f7"
            ],
            [
             0.6,
             "#e6f5d0"
            ],
            [
             0.7,
             "#b8e186"
            ],
            [
             0.8,
             "#7fbc41"
            ],
            [
             0.9,
             "#4d9221"
            ],
            [
             1,
             "#276419"
            ]
           ],
           "sequential": [
            [
             0,
             "#0d0887"
            ],
            [
             0.1111111111111111,
             "#46039f"
            ],
            [
             0.2222222222222222,
             "#7201a8"
            ],
            [
             0.3333333333333333,
             "#9c179e"
            ],
            [
             0.4444444444444444,
             "#bd3786"
            ],
            [
             0.5555555555555556,
             "#d8576b"
            ],
            [
             0.6666666666666666,
             "#ed7953"
            ],
            [
             0.7777777777777778,
             "#fb9f3a"
            ],
            [
             0.8888888888888888,
             "#fdca26"
            ],
            [
             1,
             "#f0f921"
            ]
           ],
           "sequentialminus": [
            [
             0,
             "#0d0887"
            ],
            [
             0.1111111111111111,
             "#46039f"
            ],
            [
             0.2222222222222222,
             "#7201a8"
            ],
            [
             0.3333333333333333,
             "#9c179e"
            ],
            [
             0.4444444444444444,
             "#bd3786"
            ],
            [
             0.5555555555555556,
             "#d8576b"
            ],
            [
             0.6666666666666666,
             "#ed7953"
            ],
            [
             0.7777777777777778,
             "#fb9f3a"
            ],
            [
             0.8888888888888888,
             "#fdca26"
            ],
            [
             1,
             "#f0f921"
            ]
           ]
          },
          "colorway": [
           "#636efa",
           "#EF553B",
           "#00cc96",
           "#ab63fa",
           "#FFA15A",
           "#19d3f3",
           "#FF6692",
           "#B6E880",
           "#FF97FF",
           "#FECB52"
          ],
          "font": {
           "color": "#2a3f5f"
          },
          "geo": {
           "bgcolor": "white",
           "lakecolor": "white",
           "landcolor": "#E5ECF6",
           "showlakes": true,
           "showland": true,
           "subunitcolor": "white"
          },
          "hoverlabel": {
           "align": "left"
          },
          "hovermode": "closest",
          "mapbox": {
           "style": "light"
          },
          "paper_bgcolor": "white",
          "plot_bgcolor": "#E5ECF6",
          "polar": {
           "angularaxis": {
            "gridcolor": "white",
            "linecolor": "white",
            "ticks": ""
           },
           "bgcolor": "#E5ECF6",
           "radialaxis": {
            "gridcolor": "white",
            "linecolor": "white",
            "ticks": ""
           }
          },
          "scene": {
           "xaxis": {
            "backgroundcolor": "#E5ECF6",
            "gridcolor": "white",
            "gridwidth": 2,
            "linecolor": "white",
            "showbackground": true,
            "ticks": "",
            "zerolinecolor": "white"
           },
           "yaxis": {
            "backgroundcolor": "#E5ECF6",
            "gridcolor": "white",
            "gridwidth": 2,
            "linecolor": "white",
            "showbackground": true,
            "ticks": "",
            "zerolinecolor": "white"
           },
           "zaxis": {
            "backgroundcolor": "#E5ECF6",
            "gridcolor": "white",
            "gridwidth": 2,
            "linecolor": "white",
            "showbackground": true,
            "ticks": "",
            "zerolinecolor": "white"
           }
          },
          "shapedefaults": {
           "line": {
            "color": "#2a3f5f"
           }
          },
          "ternary": {
           "aaxis": {
            "gridcolor": "white",
            "linecolor": "white",
            "ticks": ""
           },
           "baxis": {
            "gridcolor": "white",
            "linecolor": "white",
            "ticks": ""
           },
           "bgcolor": "#E5ECF6",
           "caxis": {
            "gridcolor": "white",
            "linecolor": "white",
            "ticks": ""
           }
          },
          "title": {
           "x": 0.05
          },
          "xaxis": {
           "automargin": true,
           "gridcolor": "white",
           "linecolor": "white",
           "ticks": "",
           "title": {
            "standoff": 15
           },
           "zerolinecolor": "white",
           "zerolinewidth": 2
          },
          "yaxis": {
           "automargin": true,
           "gridcolor": "white",
           "linecolor": "white",
           "ticks": "",
           "title": {
            "standoff": 15
           },
           "zerolinecolor": "white",
           "zerolinewidth": 2
          }
         }
        },
        "title": {
         "text": "Übergewichtsprävalenz von Männern und Frauen (1996 bis 2016)"
        },
        "xaxis": {
         "anchor": "y",
         "domain": [
          0,
          0.1257142857142857
         ],
         "title": {
          "text": "Jahr"
         }
        },
        "xaxis2": {
         "anchor": "y2",
         "domain": [
          0.14571428571428569,
          0.27142857142857135
         ],
         "matches": "x",
         "title": {
          "text": "Jahr"
         }
        },
        "xaxis3": {
         "anchor": "y3",
         "domain": [
          0.29142857142857137,
          0.41714285714285704
         ],
         "matches": "x",
         "title": {
          "text": "Jahr"
         }
        },
        "xaxis4": {
         "anchor": "y4",
         "domain": [
          0.4371428571428571,
          0.5628571428571428
         ],
         "matches": "x",
         "title": {
          "text": "Jahr"
         }
        },
        "xaxis5": {
         "anchor": "y5",
         "domain": [
          0.5828571428571427,
          0.7085714285714284
         ],
         "matches": "x",
         "title": {
          "text": "Jahr"
         }
        },
        "xaxis6": {
         "anchor": "y6",
         "domain": [
          0.7285714285714284,
          0.8542857142857141
         ],
         "matches": "x",
         "title": {
          "text": "Jahr"
         }
        },
        "xaxis7": {
         "anchor": "y7",
         "domain": [
          0.8742857142857142,
          0.9999999999999999
         ],
         "matches": "x",
         "title": {
          "text": "Jahr"
         }
        },
        "yaxis": {
         "anchor": "x",
         "domain": [
          0,
          1
         ],
         "title": {
          "text": "Übergewichtsprävalenz (%)"
         }
        },
        "yaxis2": {
         "anchor": "x2",
         "domain": [
          0,
          1
         ],
         "matches": "y",
         "showticklabels": false
        },
        "yaxis3": {
         "anchor": "x3",
         "domain": [
          0,
          1
         ],
         "matches": "y",
         "showticklabels": false
        },
        "yaxis4": {
         "anchor": "x4",
         "domain": [
          0,
          1
         ],
         "matches": "y",
         "showticklabels": false
        },
        "yaxis5": {
         "anchor": "x5",
         "domain": [
          0,
          1
         ],
         "matches": "y",
         "showticklabels": false
        },
        "yaxis6": {
         "anchor": "x6",
         "domain": [
          0,
          1
         ],
         "matches": "y",
         "showticklabels": false
        },
        "yaxis7": {
         "anchor": "x7",
         "domain": [
          0,
          1
         ],
         "matches": "y",
         "showticklabels": false
        }
       }
      }
     },
     "metadata": {},
     "output_type": "display_data"
    }
   ],
   "source": [
    "interaktive_Linien = px.line(df_lang, \n",
    "              x='Jahr',                \n",
    "              y='Prävalenz',           \n",
    "              color='Geschlecht',      \n",
    "              line_group='Land',       \n",
    "              facet_col='Land',        \n",
    "              labels={'Prävalenz': 'Übergewichtsprävalenz (%)', 'Jahr': 'Jahr'},\n",
    "              title='Übergewichtsprävalenz von Männern und Frauen (1996 bis 2016)',\n",
    "              category_orders={\n",
    "                  'Geschlecht': ['Übergewicht_Prävalenz_Männer_18+', 'Übergewicht_Prävalenz_Frauen_18+']}\n",
    ")\n",
    "interaktive_Linien.for_each_trace(\n",
    "    lambda trace: trace.update(name='Männer 18+' if trace.name == 'Übergewicht_Prävalenz_Männer_18+' else 'Frauen 18+'))"
   ]
  },
  {
   "cell_type": "code",
   "execution_count": 60,
   "id": "102b56b9",
   "metadata": {},
   "outputs": [
    {
     "name": "stderr",
     "output_type": "stream",
     "text": [
      "C:\\Users\\sara\\AppData\\Local\\Temp\\ipykernel_15896\\1787713697.py:1: SettingWithCopyWarning:\n",
      "\n",
      "\n",
      "A value is trying to be set on a copy of a slice from a DataFrame.\n",
      "Try using .loc[row_indexer,col_indexer] = value instead\n",
      "\n",
      "See the caveats in the documentation: https://pandas.pydata.org/pandas-docs/stable/user_guide/indexing.html#returning-a-view-versus-a-copy\n",
      "\n"
     ]
    },
    {
     "data": {
      "text/html": [
       "<div>\n",
       "<style scoped>\n",
       "    .dataframe tbody tr th:only-of-type {\n",
       "        vertical-align: middle;\n",
       "    }\n",
       "\n",
       "    .dataframe tbody tr th {\n",
       "        vertical-align: top;\n",
       "    }\n",
       "\n",
       "    .dataframe thead th {\n",
       "        text-align: right;\n",
       "    }\n",
       "</style>\n",
       "<table border=\"1\" class=\"dataframe\">\n",
       "  <thead>\n",
       "    <tr style=\"text-align: right;\">\n",
       "      <th></th>\n",
       "      <th>Land</th>\n",
       "      <th>Kürzel</th>\n",
       "      <th>Jahr</th>\n",
       "      <th>Übergewicht_Prävalenz_Männer_18+</th>\n",
       "      <th>Übergewicht_Prävalenz_Frauen_18+</th>\n",
       "      <th>Land_Jahr</th>\n",
       "      <th>Differenz_von_Männern_zu_Frauen</th>\n",
       "    </tr>\n",
       "  </thead>\n",
       "  <tbody>\n",
       "    <tr>\n",
       "      <th>4099</th>\n",
       "      <td>Kiribati</td>\n",
       "      <td>KIR</td>\n",
       "      <td>1996</td>\n",
       "      <td>25.6</td>\n",
       "      <td>37.1</td>\n",
       "      <td>Kiribati (1996)</td>\n",
       "      <td>11.5</td>\n",
       "    </tr>\n",
       "    <tr>\n",
       "      <th>4119</th>\n",
       "      <td>Kiribati</td>\n",
       "      <td>KIR</td>\n",
       "      <td>2016</td>\n",
       "      <td>41.6</td>\n",
       "      <td>50.4</td>\n",
       "      <td>Kiribati (2016)</td>\n",
       "      <td>8.8</td>\n",
       "    </tr>\n",
       "    <tr>\n",
       "      <th>5657</th>\n",
       "      <td>Niue</td>\n",
       "      <td>NIU</td>\n",
       "      <td>1996</td>\n",
       "      <td>27.9</td>\n",
       "      <td>41.4</td>\n",
       "      <td>Niue (1996)</td>\n",
       "      <td>13.5</td>\n",
       "    </tr>\n",
       "    <tr>\n",
       "      <th>5677</th>\n",
       "      <td>Niue</td>\n",
       "      <td>NIU</td>\n",
       "      <td>2016</td>\n",
       "      <td>44.8</td>\n",
       "      <td>55.1</td>\n",
       "      <td>Niue (2016)</td>\n",
       "      <td>10.3</td>\n",
       "    </tr>\n",
       "    <tr>\n",
       "      <th>6876</th>\n",
       "      <td>Singapore</td>\n",
       "      <td>SGP</td>\n",
       "      <td>1996</td>\n",
       "      <td>3.0</td>\n",
       "      <td>5.1</td>\n",
       "      <td>Singapore (1996)</td>\n",
       "      <td>2.1</td>\n",
       "    </tr>\n",
       "    <tr>\n",
       "      <th>...</th>\n",
       "      <td>...</td>\n",
       "      <td>...</td>\n",
       "      <td>...</td>\n",
       "      <td>...</td>\n",
       "      <td>...</td>\n",
       "      <td>...</td>\n",
       "      <td>...</td>\n",
       "    </tr>\n",
       "    <tr>\n",
       "      <th>7457</th>\n",
       "      <td>Switzerland</td>\n",
       "      <td>CHE</td>\n",
       "      <td>2016</td>\n",
       "      <td>22.2</td>\n",
       "      <td>16.9</td>\n",
       "      <td>Switzerland (2016)</td>\n",
       "      <td>-5.3</td>\n",
       "    </tr>\n",
       "    <tr>\n",
       "      <th>7913</th>\n",
       "      <td>Tuvalu</td>\n",
       "      <td>TUV</td>\n",
       "      <td>1996</td>\n",
       "      <td>29.6</td>\n",
       "      <td>43.0</td>\n",
       "      <td>Tuvalu (1996)</td>\n",
       "      <td>13.4</td>\n",
       "    </tr>\n",
       "    <tr>\n",
       "      <th>7933</th>\n",
       "      <td>Tuvalu</td>\n",
       "      <td>TUV</td>\n",
       "      <td>2016</td>\n",
       "      <td>47.0</td>\n",
       "      <td>56.2</td>\n",
       "      <td>Tuvalu (2016)</td>\n",
       "      <td>9.2</td>\n",
       "    </tr>\n",
       "    <tr>\n",
       "      <th>8346</th>\n",
       "      <td>Vietnam</td>\n",
       "      <td>VNM</td>\n",
       "      <td>1996</td>\n",
       "      <td>0.3</td>\n",
       "      <td>0.7</td>\n",
       "      <td>Vietnam (1996)</td>\n",
       "      <td>0.4</td>\n",
       "    </tr>\n",
       "    <tr>\n",
       "      <th>8366</th>\n",
       "      <td>Vietnam</td>\n",
       "      <td>VNM</td>\n",
       "      <td>2016</td>\n",
       "      <td>1.6</td>\n",
       "      <td>2.6</td>\n",
       "      <td>Vietnam (2016)</td>\n",
       "      <td>1.0</td>\n",
       "    </tr>\n",
       "  </tbody>\n",
       "</table>\n",
       "<p>14 rows × 7 columns</p>\n",
       "</div>"
      ],
      "text/plain": [
       "             Land Kürzel  Jahr  Übergewicht_Prävalenz_Männer_18+  \\\n",
       "4099     Kiribati    KIR  1996                              25.6   \n",
       "4119     Kiribati    KIR  2016                              41.6   \n",
       "5657         Niue    NIU  1996                              27.9   \n",
       "5677         Niue    NIU  2016                              44.8   \n",
       "6876    Singapore    SGP  1996                               3.0   \n",
       "...           ...    ...   ...                               ...   \n",
       "7457  Switzerland    CHE  2016                              22.2   \n",
       "7913       Tuvalu    TUV  1996                              29.6   \n",
       "7933       Tuvalu    TUV  2016                              47.0   \n",
       "8346      Vietnam    VNM  1996                               0.3   \n",
       "8366      Vietnam    VNM  2016                               1.6   \n",
       "\n",
       "      Übergewicht_Prävalenz_Frauen_18+           Land_Jahr  \\\n",
       "4099                              37.1     Kiribati (1996)   \n",
       "4119                              50.4     Kiribati (2016)   \n",
       "5657                              41.4         Niue (1996)   \n",
       "5677                              55.1         Niue (2016)   \n",
       "6876                               5.1    Singapore (1996)   \n",
       "...                                ...                 ...   \n",
       "7457                              16.9  Switzerland (2016)   \n",
       "7913                              43.0       Tuvalu (1996)   \n",
       "7933                              56.2       Tuvalu (2016)   \n",
       "8346                               0.7      Vietnam (1996)   \n",
       "8366                               2.6      Vietnam (2016)   \n",
       "\n",
       "      Differenz_von_Männern_zu_Frauen  \n",
       "4099                             11.5  \n",
       "4119                              8.8  \n",
       "5657                             13.5  \n",
       "5677                             10.3  \n",
       "6876                              2.1  \n",
       "...                               ...  \n",
       "7457                             -5.3  \n",
       "7913                             13.4  \n",
       "7933                              9.2  \n",
       "8346                              0.4  \n",
       "8366                              1.0  \n",
       "\n",
       "[14 rows x 7 columns]"
      ]
     },
     "execution_count": 60,
     "metadata": {},
     "output_type": "execute_result"
    }
   ],
   "source": [
    "df_gefiltert.loc[:, 'Differenz_von_Männern_zu_Frauen'] = df_gefiltert['Übergewicht_Prävalenz_Frauen_18+'] - df_gefiltert['Übergewicht_Prävalenz_Männer_18+']\n",
    "\n",
    "df_gefiltert_Differenz_Mann_Frau = df_gefiltert[df_gefiltert['Differenz_von_Männern_zu_Frauen'].notna()]\n",
    "df_gefiltert_Differenz_Mann_Frau"
   ]
  },
  {
   "cell_type": "code",
   "execution_count": 61,
   "id": "4cd92789",
   "metadata": {},
   "outputs": [
    {
     "data": {
      "image/png": "[encoded data removed]",
      "text/plain": [
       "<Figure size 640x480 with 1 Axes>"
      ]
     },
     "metadata": {},
     "output_type": "display_data"
    },
    {
     "data": {
      "text/plain": [
       "<Figure size 1200x600 with 0 Axes>"
      ]
     },
     "metadata": {},
     "output_type": "display_data"
    }
   ],
   "source": [
    "colors = ['indianred' if val < 0 else 'skyblue' for val in df_gefiltert_Differenz_Mann_Frau['Differenz_von_Männern_zu_Frauen']]\n",
    "\n",
    "balken = plt.bar(df_gefiltert_Differenz_Mann_Frau['Land'] + ' ' + df_gefiltert_Differenz_Mann_Frau['Jahr'].astype(int).astype(str), \n",
    "               df_gefiltert_Differenz_Mann_Frau['Differenz_von_Männern_zu_Frauen'], color=colors)\n",
    "\n",
    "for bar in balken:\n",
    "    yval = bar.get_height() \n",
    "    if yval < 0:\n",
    "        plt.text(bar.get_x() + bar.get_width() / 2, yval - 0.5, round(yval, 2), ha='center', va='top', fontsize=10, color='black')\n",
    "    else:\n",
    "        plt.text(bar.get_x() + bar.get_width() / 2, yval + 0.5, round(yval, 2), ha='center', va='bottom', fontsize=10, color='black')\n",
    "\n",
    "plt.title('Differenz der Übergewichtsprävalenz von Männern zu Frauen in 1996 und 2016', fontsize=16)\n",
    "plt.ylabel('Prävalenz in %', fontsize=14)\n",
    "plt.xticks(rotation=90, ha='right')\n",
    "plt.ylim(-7, 15.5)\n",
    "plt.figure(figsize=(12, 6)); \n"
   ]
  },
  {
   "cell_type": "code",
   "execution_count": null,
   "id": "f19fd622",
   "metadata": {},
   "outputs": [],
   "source": []
  }
 ],
 "metadata": {
  "kernelspec": {
   "display_name": "base",
   "language": "python",
   "name": "python3"
  },
  "language_info": {
   "codemirror_mode": {
    "name": "ipython",
    "version": 3
   },
   "file_extension": ".py",
   "mimetype": "text/x-python",
   "name": "python",
   "nbconvert_exporter": "python",
   "pygments_lexer": "ipython3",
   "version": "3.12.4"
  }
 },
 "nbformat": 4,
 "nbformat_minor": 5
}

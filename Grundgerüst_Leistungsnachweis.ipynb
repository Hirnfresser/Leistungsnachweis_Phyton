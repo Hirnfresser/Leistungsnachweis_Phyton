{
 "cells": [
  {
   "cell_type": "markdown",
   "id": "2341b96f",
   "metadata": {},
   "source": [
    "\n",
    "## Struktur\n",
    "1. Fragestellung(en) und Datenbeschaffung\n",
    "2. Daten laden\n",
    "3. Daten vorbereiten\n",
    "4. Statistik der Rohdaten (Generell im Longformat)\n",
    "5. Analyse der Daten\n",
    "\n",
    "**Wichtig:** Alle graphischen Darstellungen sollten mindestens *Titel, Ticks- und Achsenbeschriftung* beinhalten (Siehe plots im Leistungsnachweisbeispiel)\n",
    "\n",
    "---"
   ]
  },
  {
   "cell_type": "markdown",
   "id": "f9e9bf68",
   "metadata": {},
   "source": [
    "## Übergewicht in verschiedenen Ländern\n",
    "**Gruppenmitglieder:** Molignini Alessia, Keel Noëlle, Stettler Sara\n",
    "\n",
    "### Fragestellung:\n",
    "- \"Welche drei Länder zeigen im Zeitraum von 1996 bis 2016 die grösste Zunahme der Prävalenz von Übergewicht in der Gesamtbevölkerung, unabhänig vom Geschlecht?\"\n",
    "- \"Wo steht die Schweiz in diesem Vergleich?\"\n",
    "- \"Welche Unterschiede gibt es in diesen vier Ländern zwischen Mann und Frau?\"\n",
    "### Datenquelle(n):\n",
    "**Quellen:** \n",
    "- https://ourworldindata.org/grapher/obesity-in-men-vs-obesity-in-women\n",
    "- https://ourworldindata.org/obesity (4. Darstellung,\"What share of adults are obese?\")"
   ]
  },
  {
   "cell_type": "markdown",
   "id": "5b53da08",
   "metadata": {},
   "source": [
    "### 1. Daten beschaffen und laden"
   ]
  },
  {
   "cell_type": "markdown",
   "id": "7d590702",
   "metadata": {},
   "source": [
    "2. Datensatz"
   ]
  },
  {
   "cell_type": "code",
   "execution_count": 71,
   "id": "a27050af",
   "metadata": {},
   "outputs": [],
   "source": [
    "# lade deine Bibliotheken -> Pandas, Seaborn, Matplotlib sind die wichtigsten für diese Aufgaben\n",
    "\n",
    "import pandas as pd\n",
    "import seaborn as sns\n",
    "from matplotlib import pyplot as plt\n",
    "import numpy as np\n",
    "import plotly.express as px\n",
    "from matplotlib import colormaps"
   ]
  },
  {
   "cell_type": "code",
   "execution_count": 6,
   "id": "a262d76c",
   "metadata": {},
   "outputs": [],
   "source": [
    "pd.set_option('display.max_rows', 10) "
   ]
  },
  {
   "cell_type": "code",
   "execution_count": 7,
   "id": "d78399a4",
   "metadata": {},
   "outputs": [
    {
     "data": {
      "text/html": [
       "<div>\n",
       "<style scoped>\n",
       "    .dataframe tbody tr th:only-of-type {\n",
       "        vertical-align: middle;\n",
       "    }\n",
       "\n",
       "    .dataframe tbody tr th {\n",
       "        vertical-align: top;\n",
       "    }\n",
       "\n",
       "    .dataframe thead th {\n",
       "        text-align: right;\n",
       "    }\n",
       "</style>\n",
       "<table border=\"1\" class=\"dataframe\">\n",
       "  <thead>\n",
       "    <tr style=\"text-align: right;\">\n",
       "      <th></th>\n",
       "      <th>Entity</th>\n",
       "      <th>Code</th>\n",
       "      <th>Year</th>\n",
       "      <th>Prevalence of obesity among adults, BMI &gt;= 30 (crude estimate) (%) - Sex: both sexes - Age group: 18+  years</th>\n",
       "    </tr>\n",
       "  </thead>\n",
       "  <tbody>\n",
       "    <tr>\n",
       "      <th>0</th>\n",
       "      <td>Afghanistan</td>\n",
       "      <td>AFG</td>\n",
       "      <td>1975</td>\n",
       "      <td>0.4</td>\n",
       "    </tr>\n",
       "    <tr>\n",
       "      <th>1</th>\n",
       "      <td>Afghanistan</td>\n",
       "      <td>AFG</td>\n",
       "      <td>1976</td>\n",
       "      <td>0.4</td>\n",
       "    </tr>\n",
       "    <tr>\n",
       "      <th>2</th>\n",
       "      <td>Afghanistan</td>\n",
       "      <td>AFG</td>\n",
       "      <td>1977</td>\n",
       "      <td>0.5</td>\n",
       "    </tr>\n",
       "    <tr>\n",
       "      <th>3</th>\n",
       "      <td>Afghanistan</td>\n",
       "      <td>AFG</td>\n",
       "      <td>1978</td>\n",
       "      <td>0.5</td>\n",
       "    </tr>\n",
       "    <tr>\n",
       "      <th>4</th>\n",
       "      <td>Afghanistan</td>\n",
       "      <td>AFG</td>\n",
       "      <td>1979</td>\n",
       "      <td>0.5</td>\n",
       "    </tr>\n",
       "    <tr>\n",
       "      <th>...</th>\n",
       "      <td>...</td>\n",
       "      <td>...</td>\n",
       "      <td>...</td>\n",
       "      <td>...</td>\n",
       "    </tr>\n",
       "    <tr>\n",
       "      <th>8269</th>\n",
       "      <td>Zimbabwe</td>\n",
       "      <td>ZWE</td>\n",
       "      <td>2012</td>\n",
       "      <td>11.1</td>\n",
       "    </tr>\n",
       "    <tr>\n",
       "      <th>8270</th>\n",
       "      <td>Zimbabwe</td>\n",
       "      <td>ZWE</td>\n",
       "      <td>2013</td>\n",
       "      <td>11.3</td>\n",
       "    </tr>\n",
       "    <tr>\n",
       "      <th>8271</th>\n",
       "      <td>Zimbabwe</td>\n",
       "      <td>ZWE</td>\n",
       "      <td>2014</td>\n",
       "      <td>11.6</td>\n",
       "    </tr>\n",
       "    <tr>\n",
       "      <th>8272</th>\n",
       "      <td>Zimbabwe</td>\n",
       "      <td>ZWE</td>\n",
       "      <td>2015</td>\n",
       "      <td>11.9</td>\n",
       "    </tr>\n",
       "    <tr>\n",
       "      <th>8273</th>\n",
       "      <td>Zimbabwe</td>\n",
       "      <td>ZWE</td>\n",
       "      <td>2016</td>\n",
       "      <td>12.3</td>\n",
       "    </tr>\n",
       "  </tbody>\n",
       "</table>\n",
       "<p>8274 rows × 4 columns</p>\n",
       "</div>"
      ],
      "text/plain": [
       "           Entity Code  Year  \\\n",
       "0     Afghanistan  AFG  1975   \n",
       "1     Afghanistan  AFG  1976   \n",
       "2     Afghanistan  AFG  1977   \n",
       "3     Afghanistan  AFG  1978   \n",
       "4     Afghanistan  AFG  1979   \n",
       "...           ...  ...   ...   \n",
       "8269     Zimbabwe  ZWE  2012   \n",
       "8270     Zimbabwe  ZWE  2013   \n",
       "8271     Zimbabwe  ZWE  2014   \n",
       "8272     Zimbabwe  ZWE  2015   \n",
       "8273     Zimbabwe  ZWE  2016   \n",
       "\n",
       "      Prevalence of obesity among adults, BMI >= 30 (crude estimate) (%) - Sex: both sexes - Age group: 18+  years  \n",
       "0                                                   0.4                                                             \n",
       "1                                                   0.4                                                             \n",
       "2                                                   0.5                                                             \n",
       "3                                                   0.5                                                             \n",
       "4                                                   0.5                                                             \n",
       "...                                                 ...                                                             \n",
       "8269                                               11.1                                                             \n",
       "8270                                               11.3                                                             \n",
       "8271                                               11.6                                                             \n",
       "8272                                               11.9                                                             \n",
       "8273                                               12.3                                                             \n",
       "\n",
       "[8274 rows x 4 columns]"
      ]
     },
     "execution_count": 7,
     "metadata": {},
     "output_type": "execute_result"
    }
   ],
   "source": [
    "df_zsm = pd.read_csv('share-of-adults-defined-as-obese.csv')\n",
    "\n",
    "df_zsm"
   ]
  },
  {
   "cell_type": "code",
   "execution_count": 8,
   "id": "db7c35a4",
   "metadata": {},
   "outputs": [
    {
     "data": {
      "text/html": [
       "<div>\n",
       "<style scoped>\n",
       "    .dataframe tbody tr th:only-of-type {\n",
       "        vertical-align: middle;\n",
       "    }\n",
       "\n",
       "    .dataframe tbody tr th {\n",
       "        vertical-align: top;\n",
       "    }\n",
       "\n",
       "    .dataframe thead th {\n",
       "        text-align: right;\n",
       "    }\n",
       "</style>\n",
       "<table border=\"1\" class=\"dataframe\">\n",
       "  <thead>\n",
       "    <tr style=\"text-align: right;\">\n",
       "      <th></th>\n",
       "      <th>Land</th>\n",
       "      <th>Kürzel</th>\n",
       "      <th>Jahr</th>\n",
       "      <th>Übergewicht_Prävalenz_18+_unabhängig_Geschlecht</th>\n",
       "    </tr>\n",
       "  </thead>\n",
       "  <tbody>\n",
       "    <tr>\n",
       "      <th>0</th>\n",
       "      <td>Afghanistan</td>\n",
       "      <td>AFG</td>\n",
       "      <td>1975</td>\n",
       "      <td>0.4</td>\n",
       "    </tr>\n",
       "    <tr>\n",
       "      <th>1</th>\n",
       "      <td>Afghanistan</td>\n",
       "      <td>AFG</td>\n",
       "      <td>1976</td>\n",
       "      <td>0.4</td>\n",
       "    </tr>\n",
       "    <tr>\n",
       "      <th>2</th>\n",
       "      <td>Afghanistan</td>\n",
       "      <td>AFG</td>\n",
       "      <td>1977</td>\n",
       "      <td>0.5</td>\n",
       "    </tr>\n",
       "    <tr>\n",
       "      <th>3</th>\n",
       "      <td>Afghanistan</td>\n",
       "      <td>AFG</td>\n",
       "      <td>1978</td>\n",
       "      <td>0.5</td>\n",
       "    </tr>\n",
       "    <tr>\n",
       "      <th>4</th>\n",
       "      <td>Afghanistan</td>\n",
       "      <td>AFG</td>\n",
       "      <td>1979</td>\n",
       "      <td>0.5</td>\n",
       "    </tr>\n",
       "  </tbody>\n",
       "</table>\n",
       "</div>"
      ],
      "text/plain": [
       "          Land Kürzel  Jahr  Übergewicht_Prävalenz_18+_unabhängig_Geschlecht\n",
       "0  Afghanistan    AFG  1975                                              0.4\n",
       "1  Afghanistan    AFG  1976                                              0.4\n",
       "2  Afghanistan    AFG  1977                                              0.5\n",
       "3  Afghanistan    AFG  1978                                              0.5\n",
       "4  Afghanistan    AFG  1979                                              0.5"
      ]
     },
     "execution_count": 8,
     "metadata": {},
     "output_type": "execute_result"
    }
   ],
   "source": [
    "df_zsm = pd.read_csv('share-of-adults-defined-as-obese.csv', skiprows=1,\n",
    "                 names=['Land','Kürzel','Jahr','Übergewicht_Prävalenz_18+_unabhängig_Geschlecht'])\n",
    "\n",
    "df_zsm.head() # head kann theoretisch gelöscht werden, dann zeigt es die obersten und untersten Daten an"
   ]
  },
  {
   "cell_type": "markdown",
   "id": "dc5e125e",
   "metadata": {},
   "source": [
    "# -------------------------------------------------------------------------"
   ]
  },
  {
   "cell_type": "markdown",
   "id": "103f23d5",
   "metadata": {},
   "source": [
    "1. Datensatz"
   ]
  },
  {
   "cell_type": "code",
   "execution_count": 9,
   "id": "47a24830",
   "metadata": {},
   "outputs": [
    {
     "data": {
      "text/html": [
       "<div>\n",
       "<style scoped>\n",
       "    .dataframe tbody tr th:only-of-type {\n",
       "        vertical-align: middle;\n",
       "    }\n",
       "\n",
       "    .dataframe tbody tr th {\n",
       "        vertical-align: top;\n",
       "    }\n",
       "\n",
       "    .dataframe thead th {\n",
       "        text-align: right;\n",
       "    }\n",
       "</style>\n",
       "<table border=\"1\" class=\"dataframe\">\n",
       "  <thead>\n",
       "    <tr style=\"text-align: right;\">\n",
       "      <th></th>\n",
       "      <th>Entity</th>\n",
       "      <th>Code</th>\n",
       "      <th>Year</th>\n",
       "      <th>Prevalence of obesity among adults, BMI &gt;= 30 (age-standardized estimate) (%) - Sex: male - Age group: 18+  years</th>\n",
       "      <th>Prevalence of obesity among adults, BMI &gt;= 30 (age-standardized estimate) (%) - Sex: female - Age group: 18+  years</th>\n",
       "      <th>World regions according to OWID</th>\n",
       "    </tr>\n",
       "  </thead>\n",
       "  <tbody>\n",
       "    <tr>\n",
       "      <th>0</th>\n",
       "      <td>Afghanistan</td>\n",
       "      <td>AFG</td>\n",
       "      <td>1975</td>\n",
       "      <td>0.2</td>\n",
       "      <td>0.8</td>\n",
       "      <td>NaN</td>\n",
       "    </tr>\n",
       "    <tr>\n",
       "      <th>1</th>\n",
       "      <td>Afghanistan</td>\n",
       "      <td>AFG</td>\n",
       "      <td>1976</td>\n",
       "      <td>0.2</td>\n",
       "      <td>0.8</td>\n",
       "      <td>NaN</td>\n",
       "    </tr>\n",
       "    <tr>\n",
       "      <th>2</th>\n",
       "      <td>Afghanistan</td>\n",
       "      <td>AFG</td>\n",
       "      <td>1977</td>\n",
       "      <td>0.2</td>\n",
       "      <td>0.9</td>\n",
       "      <td>NaN</td>\n",
       "    </tr>\n",
       "    <tr>\n",
       "      <th>3</th>\n",
       "      <td>Afghanistan</td>\n",
       "      <td>AFG</td>\n",
       "      <td>1978</td>\n",
       "      <td>0.2</td>\n",
       "      <td>0.9</td>\n",
       "      <td>NaN</td>\n",
       "    </tr>\n",
       "    <tr>\n",
       "      <th>4</th>\n",
       "      <td>Afghanistan</td>\n",
       "      <td>AFG</td>\n",
       "      <td>1979</td>\n",
       "      <td>0.3</td>\n",
       "      <td>1.0</td>\n",
       "      <td>NaN</td>\n",
       "    </tr>\n",
       "  </tbody>\n",
       "</table>\n",
       "</div>"
      ],
      "text/plain": [
       "        Entity Code  Year  \\\n",
       "0  Afghanistan  AFG  1975   \n",
       "1  Afghanistan  AFG  1976   \n",
       "2  Afghanistan  AFG  1977   \n",
       "3  Afghanistan  AFG  1978   \n",
       "4  Afghanistan  AFG  1979   \n",
       "\n",
       "   Prevalence of obesity among adults, BMI >= 30 (age-standardized estimate) (%) - Sex: male - Age group: 18+  years  \\\n",
       "0                                                0.2                                                                   \n",
       "1                                                0.2                                                                   \n",
       "2                                                0.2                                                                   \n",
       "3                                                0.2                                                                   \n",
       "4                                                0.3                                                                   \n",
       "\n",
       "   Prevalence of obesity among adults, BMI >= 30 (age-standardized estimate) (%) - Sex: female - Age group: 18+  years  \\\n",
       "0                                                0.8                                                                     \n",
       "1                                                0.8                                                                     \n",
       "2                                                0.9                                                                     \n",
       "3                                                0.9                                                                     \n",
       "4                                                1.0                                                                     \n",
       "\n",
       "  World regions according to OWID  \n",
       "0                             NaN  \n",
       "1                             NaN  \n",
       "2                             NaN  \n",
       "3                             NaN  \n",
       "4                             NaN  "
      ]
     },
     "execution_count": 9,
     "metadata": {},
     "output_type": "execute_result"
    }
   ],
   "source": [
    "# lade hier deine Daten\n",
    "df_einzeln = pd.read_csv('obesity-in-men-vs-obesity-in-women.csv')\n",
    "\n",
    "df_einzeln.head() # head kann theoretisch gelöscht werden, dann zeigt es die obersten und untersten Daten an"
   ]
  },
  {
   "cell_type": "code",
   "execution_count": 10,
   "id": "1f32f2e1",
   "metadata": {},
   "outputs": [
    {
     "data": {
      "text/html": [
       "<div>\n",
       "<style scoped>\n",
       "    .dataframe tbody tr th:only-of-type {\n",
       "        vertical-align: middle;\n",
       "    }\n",
       "\n",
       "    .dataframe tbody tr th {\n",
       "        vertical-align: top;\n",
       "    }\n",
       "\n",
       "    .dataframe thead th {\n",
       "        text-align: right;\n",
       "    }\n",
       "</style>\n",
       "<table border=\"1\" class=\"dataframe\">\n",
       "  <thead>\n",
       "    <tr style=\"text-align: right;\">\n",
       "      <th></th>\n",
       "      <th>Land</th>\n",
       "      <th>Kürzel</th>\n",
       "      <th>Jahr</th>\n",
       "      <th>Übergewicht_Prävalenz_Männer_18+</th>\n",
       "      <th>Übergewicht_Prävalenz_Frauen_18+</th>\n",
       "      <th>Weltregionen_gemäss_OWID</th>\n",
       "    </tr>\n",
       "  </thead>\n",
       "  <tbody>\n",
       "    <tr>\n",
       "      <th>0</th>\n",
       "      <td>Afghanistan</td>\n",
       "      <td>AFG</td>\n",
       "      <td>1975</td>\n",
       "      <td>0.2</td>\n",
       "      <td>0.8</td>\n",
       "      <td>NaN</td>\n",
       "    </tr>\n",
       "    <tr>\n",
       "      <th>1</th>\n",
       "      <td>Afghanistan</td>\n",
       "      <td>AFG</td>\n",
       "      <td>1976</td>\n",
       "      <td>0.2</td>\n",
       "      <td>0.8</td>\n",
       "      <td>NaN</td>\n",
       "    </tr>\n",
       "    <tr>\n",
       "      <th>2</th>\n",
       "      <td>Afghanistan</td>\n",
       "      <td>AFG</td>\n",
       "      <td>1977</td>\n",
       "      <td>0.2</td>\n",
       "      <td>0.9</td>\n",
       "      <td>NaN</td>\n",
       "    </tr>\n",
       "    <tr>\n",
       "      <th>3</th>\n",
       "      <td>Afghanistan</td>\n",
       "      <td>AFG</td>\n",
       "      <td>1978</td>\n",
       "      <td>0.2</td>\n",
       "      <td>0.9</td>\n",
       "      <td>NaN</td>\n",
       "    </tr>\n",
       "    <tr>\n",
       "      <th>4</th>\n",
       "      <td>Afghanistan</td>\n",
       "      <td>AFG</td>\n",
       "      <td>1979</td>\n",
       "      <td>0.3</td>\n",
       "      <td>1.0</td>\n",
       "      <td>NaN</td>\n",
       "    </tr>\n",
       "  </tbody>\n",
       "</table>\n",
       "</div>"
      ],
      "text/plain": [
       "          Land Kürzel  Jahr  Übergewicht_Prävalenz_Männer_18+  \\\n",
       "0  Afghanistan    AFG  1975                               0.2   \n",
       "1  Afghanistan    AFG  1976                               0.2   \n",
       "2  Afghanistan    AFG  1977                               0.2   \n",
       "3  Afghanistan    AFG  1978                               0.2   \n",
       "4  Afghanistan    AFG  1979                               0.3   \n",
       "\n",
       "   Übergewicht_Prävalenz_Frauen_18+ Weltregionen_gemäss_OWID  \n",
       "0                               0.8                      NaN  \n",
       "1                               0.8                      NaN  \n",
       "2                               0.9                      NaN  \n",
       "3                               0.9                      NaN  \n",
       "4                               1.0                      NaN  "
      ]
     },
     "execution_count": 10,
     "metadata": {},
     "output_type": "execute_result"
    }
   ],
   "source": [
    "df_einzeln = pd.read_csv('obesity-in-men-vs-obesity-in-women.csv', skiprows=1,\n",
    "                 names=['Land','Kürzel','Jahr','Übergewicht_Prävalenz_Männer_18+','Übergewicht_Prävalenz_Frauen_18+','Weltregionen_gemäss_OWID'])\n",
    "\n",
    "df_einzeln.head() # head kann theoretisch gelöscht werden, dann zeigt es die obersten und untersten Daten an"
   ]
  },
  {
   "cell_type": "markdown",
   "id": "25d1e798",
   "metadata": {},
   "source": [
    "## 2. Daten vorbereiten \n",
    "2.1 Welches Format hat mein Datensatz bzw. wie sind meine Kolumnen strukturiert?     \n",
    "2.2 Welches Format kann ich für welche Teilschritte verwenden (wann soll ich pivot bzw. wide format verwenden)?     \n",
    "2.3 Welche Datentypen kommen in meinem Datensatz vor?    "
   ]
  },
  {
   "cell_type": "markdown",
   "id": "ab73c26a",
   "metadata": {},
   "source": [
    "- Beide Roh-Datensätze waren ursprünglich im Long Format und wurden für die Analyse ins Wide Format pivotiert. Im ersten Datensatz sind die Kolumnen so strukturiert, dass jede Kombination aus Jahr und Kategorie (Übergewicht Frauen/Männer) eine eigene Spalte darstellt.\n",
    "\n",
    "- Das wide Format wurde verwendet um eine zeitliche Analyse (1996-2016) der Prävalenz durchzuführen. Ebenfalls wurde die Differenz von der Zunahme der Prävalenz dargestellt.\n",
    "\n",
    "- Es kommen die Datentypen: object (Land, Kürzel, Weltregionen gemäss OWID), int64 (Jahr), float64 (Prävalenzwerte). Dabei sind object die Textfelder, int64 sind Ganzzahlen und float64 Fliesskommazahlen. Diese Datentypen geben an, dass im ersten Datensatz sowohl kategoriale (Text-)Daten als auch numerische Werte vorhanden sind."
   ]
  },
  {
   "cell_type": "code",
   "execution_count": 11,
   "id": "ae9c320e",
   "metadata": {},
   "outputs": [
    {
     "data": {
      "text/plain": [
       "Land                                 object\n",
       "Kürzel                               object\n",
       "Jahr                                  int64\n",
       "Übergewicht_Prävalenz_Männer_18+    float64\n",
       "Übergewicht_Prävalenz_Frauen_18+    float64\n",
       "Weltregionen_gemäss_OWID             object\n",
       "dtype: object"
      ]
     },
     "execution_count": 11,
     "metadata": {},
     "output_type": "execute_result"
    }
   ],
   "source": [
    "df_einzeln.dtypes"
   ]
  },
  {
   "cell_type": "code",
   "execution_count": 12,
   "id": "862fe6b5",
   "metadata": {},
   "outputs": [
    {
     "data": {
      "text/html": [
       "<div>\n",
       "<style scoped>\n",
       "    .dataframe tbody tr th:only-of-type {\n",
       "        vertical-align: middle;\n",
       "    }\n",
       "\n",
       "    .dataframe tbody tr th {\n",
       "        vertical-align: top;\n",
       "    }\n",
       "\n",
       "    .dataframe thead tr th {\n",
       "        text-align: left;\n",
       "    }\n",
       "\n",
       "    .dataframe thead tr:last-of-type th {\n",
       "        text-align: right;\n",
       "    }\n",
       "</style>\n",
       "<table border=\"1\" class=\"dataframe\">\n",
       "  <thead>\n",
       "    <tr>\n",
       "      <th></th>\n",
       "      <th colspan=\"10\" halign=\"left\">Übergewicht_Prävalenz_Frauen_18+</th>\n",
       "      <th>...</th>\n",
       "      <th colspan=\"10\" halign=\"left\">Übergewicht_Prävalenz_Männer_18+</th>\n",
       "    </tr>\n",
       "    <tr>\n",
       "      <th>Jahr</th>\n",
       "      <th>1975</th>\n",
       "      <th>1976</th>\n",
       "      <th>1977</th>\n",
       "      <th>1978</th>\n",
       "      <th>1979</th>\n",
       "      <th>1980</th>\n",
       "      <th>1981</th>\n",
       "      <th>1982</th>\n",
       "      <th>1983</th>\n",
       "      <th>1984</th>\n",
       "      <th>...</th>\n",
       "      <th>2007</th>\n",
       "      <th>2008</th>\n",
       "      <th>2009</th>\n",
       "      <th>2010</th>\n",
       "      <th>2011</th>\n",
       "      <th>2012</th>\n",
       "      <th>2013</th>\n",
       "      <th>2014</th>\n",
       "      <th>2015</th>\n",
       "      <th>2016</th>\n",
       "    </tr>\n",
       "    <tr>\n",
       "      <th>Land</th>\n",
       "      <th></th>\n",
       "      <th></th>\n",
       "      <th></th>\n",
       "      <th></th>\n",
       "      <th></th>\n",
       "      <th></th>\n",
       "      <th></th>\n",
       "      <th></th>\n",
       "      <th></th>\n",
       "      <th></th>\n",
       "      <th></th>\n",
       "      <th></th>\n",
       "      <th></th>\n",
       "      <th></th>\n",
       "      <th></th>\n",
       "      <th></th>\n",
       "      <th></th>\n",
       "      <th></th>\n",
       "      <th></th>\n",
       "      <th></th>\n",
       "      <th></th>\n",
       "    </tr>\n",
       "  </thead>\n",
       "  <tbody>\n",
       "    <tr>\n",
       "      <th>Afghanistan</th>\n",
       "      <td>0.8</td>\n",
       "      <td>0.8</td>\n",
       "      <td>0.9</td>\n",
       "      <td>0.9</td>\n",
       "      <td>1.0</td>\n",
       "      <td>1.1</td>\n",
       "      <td>1.1</td>\n",
       "      <td>1.2</td>\n",
       "      <td>1.3</td>\n",
       "      <td>1.4</td>\n",
       "      <td>...</td>\n",
       "      <td>1.8</td>\n",
       "      <td>2.0</td>\n",
       "      <td>2.1</td>\n",
       "      <td>2.2</td>\n",
       "      <td>2.4</td>\n",
       "      <td>2.5</td>\n",
       "      <td>2.7</td>\n",
       "      <td>2.8</td>\n",
       "      <td>3.0</td>\n",
       "      <td>3.2</td>\n",
       "    </tr>\n",
       "    <tr>\n",
       "      <th>Africa (WHO)</th>\n",
       "      <td>3.3</td>\n",
       "      <td>3.5</td>\n",
       "      <td>3.6</td>\n",
       "      <td>3.7</td>\n",
       "      <td>3.9</td>\n",
       "      <td>4.0</td>\n",
       "      <td>4.2</td>\n",
       "      <td>4.4</td>\n",
       "      <td>4.6</td>\n",
       "      <td>4.8</td>\n",
       "      <td>...</td>\n",
       "      <td>3.7</td>\n",
       "      <td>3.8</td>\n",
       "      <td>4.0</td>\n",
       "      <td>4.2</td>\n",
       "      <td>4.4</td>\n",
       "      <td>4.6</td>\n",
       "      <td>4.9</td>\n",
       "      <td>5.1</td>\n",
       "      <td>5.3</td>\n",
       "      <td>5.6</td>\n",
       "    </tr>\n",
       "    <tr>\n",
       "      <th>Albania</th>\n",
       "      <td>8.6</td>\n",
       "      <td>8.8</td>\n",
       "      <td>8.9</td>\n",
       "      <td>9.1</td>\n",
       "      <td>9.3</td>\n",
       "      <td>9.5</td>\n",
       "      <td>9.7</td>\n",
       "      <td>9.9</td>\n",
       "      <td>10.1</td>\n",
       "      <td>10.3</td>\n",
       "      <td>...</td>\n",
       "      <td>15.5</td>\n",
       "      <td>16.1</td>\n",
       "      <td>16.8</td>\n",
       "      <td>17.4</td>\n",
       "      <td>18.1</td>\n",
       "      <td>18.8</td>\n",
       "      <td>19.5</td>\n",
       "      <td>20.2</td>\n",
       "      <td>20.9</td>\n",
       "      <td>21.6</td>\n",
       "    </tr>\n",
       "    <tr>\n",
       "      <th>Algeria</th>\n",
       "      <td>10.7</td>\n",
       "      <td>11.1</td>\n",
       "      <td>11.4</td>\n",
       "      <td>11.8</td>\n",
       "      <td>12.2</td>\n",
       "      <td>12.7</td>\n",
       "      <td>13.1</td>\n",
       "      <td>13.6</td>\n",
       "      <td>14.1</td>\n",
       "      <td>14.6</td>\n",
       "      <td>...</td>\n",
       "      <td>14.0</td>\n",
       "      <td>14.6</td>\n",
       "      <td>15.2</td>\n",
       "      <td>15.8</td>\n",
       "      <td>16.5</td>\n",
       "      <td>17.1</td>\n",
       "      <td>17.8</td>\n",
       "      <td>18.5</td>\n",
       "      <td>19.2</td>\n",
       "      <td>19.9</td>\n",
       "    </tr>\n",
       "    <tr>\n",
       "      <th>Americas (WHO)</th>\n",
       "      <td>11.5</td>\n",
       "      <td>11.9</td>\n",
       "      <td>12.2</td>\n",
       "      <td>12.6</td>\n",
       "      <td>12.9</td>\n",
       "      <td>13.3</td>\n",
       "      <td>13.7</td>\n",
       "      <td>14.1</td>\n",
       "      <td>14.5</td>\n",
       "      <td>14.9</td>\n",
       "      <td>...</td>\n",
       "      <td>21.1</td>\n",
       "      <td>21.6</td>\n",
       "      <td>22.2</td>\n",
       "      <td>22.7</td>\n",
       "      <td>23.2</td>\n",
       "      <td>23.7</td>\n",
       "      <td>24.3</td>\n",
       "      <td>24.8</td>\n",
       "      <td>25.4</td>\n",
       "      <td>25.9</td>\n",
       "    </tr>\n",
       "  </tbody>\n",
       "</table>\n",
       "<p>5 rows × 84 columns</p>\n",
       "</div>"
      ],
      "text/plain": [
       "               Übergewicht_Prävalenz_Frauen_18+                                \\\n",
       "Jahr                                       1975  1976  1977  1978  1979  1980   \n",
       "Land                                                                            \n",
       "Afghanistan                                 0.8   0.8   0.9   0.9   1.0   1.1   \n",
       "Africa (WHO)                                3.3   3.5   3.6   3.7   3.9   4.0   \n",
       "Albania                                     8.6   8.8   8.9   9.1   9.3   9.5   \n",
       "Algeria                                    10.7  11.1  11.4  11.8  12.2  12.7   \n",
       "Americas (WHO)                             11.5  11.9  12.2  12.6  12.9  13.3   \n",
       "\n",
       "                                        ... Übergewicht_Prävalenz_Männer_18+  \\\n",
       "Jahr            1981  1982  1983  1984  ...                             2007   \n",
       "Land                                    ...                                    \n",
       "Afghanistan      1.1   1.2   1.3   1.4  ...                              1.8   \n",
       "Africa (WHO)     4.2   4.4   4.6   4.8  ...                              3.7   \n",
       "Albania          9.7   9.9  10.1  10.3  ...                             15.5   \n",
       "Algeria         13.1  13.6  14.1  14.6  ...                             14.0   \n",
       "Americas (WHO)  13.7  14.1  14.5  14.9  ...                             21.1   \n",
       "\n",
       "                                                                      \n",
       "Jahr            2008  2009  2010  2011  2012  2013  2014  2015  2016  \n",
       "Land                                                                  \n",
       "Afghanistan      2.0   2.1   2.2   2.4   2.5   2.7   2.8   3.0   3.2  \n",
       "Africa (WHO)     3.8   4.0   4.2   4.4   4.6   4.9   5.1   5.3   5.6  \n",
       "Albania         16.1  16.8  17.4  18.1  18.8  19.5  20.2  20.9  21.6  \n",
       "Algeria         14.6  15.2  15.8  16.5  17.1  17.8  18.5  19.2  19.9  \n",
       "Americas (WHO)  21.6  22.2  22.7  23.2  23.7  24.3  24.8  25.4  25.9  \n",
       "\n",
       "[5 rows x 84 columns]"
      ]
     },
     "execution_count": 12,
     "metadata": {},
     "output_type": "execute_result"
    }
   ],
   "source": [
    "df_einzeln_pivot = df_einzeln.pivot_table(\n",
    "    index='Land', \n",
    "    columns='Jahr', \n",
    "    values=['Übergewicht_Prävalenz_Männer_18+', 'Übergewicht_Prävalenz_Frauen_18+'])\n",
    "df_einzeln_pivot.head() # head kann theoretisch gelöscht werden, dann zeigt es die obersten und untersten Daten an"
   ]
  },
  {
   "cell_type": "markdown",
   "id": "28195847",
   "metadata": {},
   "source": [
    "## 3. Statistik der Rohdaten (Analyse im Long-Format)\n",
    "- Ist meine Variable kontinuierlich oder diskret? Falls diskret, wieviele einzigartige Klassen gibt es? Wieviele Datenpunkte pro Klasse sind vorhanden?\n",
    "- Anzahl Datenpunkte (Beschreibend und Graphische Darstellung)\n",
    "    - Wieviele Datenpunkte sind für die bestimmten Variabeln vorhanden?\n",
    "    - Wo fehlen Datenpunkte?\n",
    "- Wie ist die Verteilung der zu untersuchenden Variabel(n) (Histogram, Boxplot, Säulendiagram)\n",
    "- Vermutest du Zusammenhänge zwischen zwei Variabeln (Streuungsdiagramm, Korrelationsmatrix)\n",
    "\n",
    "*Notiz: Zu jeder Kolumne sollte generell eine Aussage möglich sein.*"
   ]
  },
  {
   "cell_type": "markdown",
   "id": "415e2543",
   "metadata": {},
   "source": [
    "Wenn die Werte auf einem Zahlenintervall liegen und bliebige Werte annehmen können, sind die kontinuierlich. Dies ist bei den Prävalenzwerten des ersten und zweiten Datensatzes der Fall. Wenn die Werte in festen Klassen oder Kategorien liegen, sind sie diskret. Bei unseren Datensätzen ist das Jahr, Kürzel und Land diskret.\n",
    "\n",
    "**1. Datensatz**                  \n",
    "Im ersten Datensatz sind 278 Länder (Klassen) mit ungleicher Verteilung (1-43 Datenpunkte pro Land), wobei die meisten Ländern 43 Datenpunkte zeigen. Es sind 258 verschiedene Landeskürzel im ersten Datensatz (nicht jedes Land ist mit einem Kürzel gekennzeichnet). Es sind nicht gleich viele Datenpunkte pro Landeskürzel vorhanden, wie schon bei den Ländern (ungleiche Verteilung). Die Rohdaten wurden über 43 Jahre erhoben (kontinuierlich). Pro Jahr wurden zwischen 1-271 Datenpunkte erhoben, wobei am meisten  197 Datenpunkte pro Jahr generieren konnten. Zwischen den Jahren 2017-2022 fehlen Datenpunkte (diskontinuierlich).\n",
    "\n",
    "Analyse Prävalenz Frauen:\n",
    "- Mittelwert: 15.42% der Frauen sind durchschnittlich übergewichtig\n",
    "- Median: 13.9% der Frauen haben eine Prävalenz unterhlab oder gleich der Hälfte der Datenpunkte\n",
    "- Standardabweichung: Die Werte streuen mit einer Abweichung von 11.25% um den Mittelwert\n",
    "- Maximaler Wert: 63.3% (deutet auf extreme Werte in bestimmten Regionen oder Jahre hin)\n",
    "- Der Histogrammplot zeigt eine überwiegend linkschiefe Vertielung (mehr Datenpunkt bei geringeren Prävalenzwerten). Der Mittelwert (15.42%) liegt leicht rechts des Medians (13.9%), was auf einige hohe Ausreisser hinweist. Die Breite des Histogramms beträgt 6.31 % mit 10 Bins.\n",
    "\n",
    "Analyse Prävalenz Männer:\n",
    "- Mittelwert: 9.26% der Männer sind durchschnittlich übergewichtig\n",
    "- Median: 6.9%, die Mehrheit der Prävalenzwerte liegt im unteren Bereich\n",
    "- Standardabweichung: Die Streuung beträgt 8.93%\n",
    "- Maximaler Wert: 58.7% (ebenfalls extreme Werte)\n",
    "- Verteilung zeigt ebenfalls eine Schiefe nach links, mit häufigen niedrigen Prävalenzwerten. Der Unterschied zwischen Mittelwert und Median zeigt auf weniger extreme Ausreisser hin. Die Breite der Balken des Histogramms beträgt 5.86% und hat 10 Bins.\n",
    "\n",
    "Vergleich Frauen und Männer:          \n",
    "Frauen weisen im Durchschnitt eine höhere Übergewichts-Prävalenz auf (15.42% vs. 9.26%). Die Prävalenz bei Frauen zeigt eine grössere Streuung als bei Männern. Extreme Werte (maximale Prävalenz) sind bei beiden Geschlechtern vorhanden, jedoch leicht höher bei den Frauen.\n",
    "\n",
    "**2. Datensatz**             \n",
    "Im zweiten Datensatz sind 197 Länder (Klassen) mit gleicher Verteilung (je 42 Datenpunkte pro Land). Es sind 191 Landeskürzel vorhanden (nicht jedes Land hat einen Landeskürzel). Pro Landeskürzel sind genau 42 Datenpunkte vorhanden (gleiche Verteilung). Die Daten wurden über 42 Jahre hinweg erhoben (kontinuierlich). Jedes Jahr hat genau 197 Datenpunkte (gleichmässige Verteilung). In diesem Datensatz fehlen keine Datenpunkte.\n",
    "\n",
    "Analyse Prävalenz (unanhängig vom Geschlecht):       \n",
    "- Mittelwert: Im Durchschnitt sind 11.87% der Bevölkerung übergewichtig\n",
    "- Median: Die Hälfte der beobachteten Prävalenzwerte liegt unter oder bei 10.1%\n",
    "- Standardabweichung: 9.7%, Die Werte streuen um den Mittelwert, wobei es eine breite Variation gibt\n",
    "- Maximaler Wert: 60.7% (hohe Ausreisser)\n",
    "- Die Verteilung zeigt eine Häufung niedriger Werte, mit ienem Schwerpunkt um den Median. Der Mittelwert liegt leicht über dem Median, was auf eine rechts-schiefe Verteilung hinweist (einige hohe Ausreisser). Die Balkenbreite beträgt 6.06% mit 10 Bins.\n",
    "\n"
   ]
  },
  {
   "cell_type": "markdown",
   "id": "34caa0bb",
   "metadata": {},
   "source": [
    "### 3.1 Analyse Länder"
   ]
  },
  {
   "cell_type": "code",
   "execution_count": 13,
   "id": "3e70eb03",
   "metadata": {},
   "outputs": [
    {
     "name": "stdout",
     "output_type": "stream",
     "text": [
      "Anzahl verschiedener Länder: 278\n"
     ]
    }
   ],
   "source": [
    "# 1.Datensatz\n",
    "Anzahl_Länder = len(df_einzeln['Land'].unique())\n",
    "print('Anzahl verschiedener Länder:', Anzahl_Länder)"
   ]
  },
  {
   "cell_type": "code",
   "execution_count": 14,
   "id": "8533ee1f",
   "metadata": {},
   "outputs": [
    {
     "name": "stdout",
     "output_type": "stream",
     "text": [
      "Anzahl verschiedener Länder: 197\n"
     ]
    }
   ],
   "source": [
    "# 2.Datensatz\n",
    "Anzahl_Länder = len(df_zsm['Land'].unique())\n",
    "print('Anzahl verschiedener Länder:', Anzahl_Länder)"
   ]
  },
  {
   "cell_type": "code",
   "execution_count": 15,
   "id": "1d463c6f",
   "metadata": {},
   "outputs": [
    {
     "data": {
      "text/plain": [
       "Land\n",
       "Afghanistan         43\n",
       "Panama              43\n",
       "Marshall Islands    43\n",
       "Mauritania          43\n",
       "Mauritius           43\n",
       "                    ..\n",
       "Saint Barthelemy     1\n",
       "Christmas Island     1\n",
       "Cocos Islands        1\n",
       "Reunion              1\n",
       "Hong Kong            1\n",
       "Name: count, Length: 278, dtype: int64"
      ]
     },
     "execution_count": 15,
     "metadata": {},
     "output_type": "execute_result"
    }
   ],
   "source": [
    "#1.Datensatz\n",
    "# Welches Land hat die meisten und wenigsten Datenpunkte?\n",
    "df_einzeln['Land'].value_counts()"
   ]
  },
  {
   "cell_type": "code",
   "execution_count": 16,
   "id": "e236c623",
   "metadata": {},
   "outputs": [
    {
     "data": {
      "text/plain": [
       "Land\n",
       "Afghanistan    42\n",
       "Nepal          42\n",
       "New Zealand    42\n",
       "Nicaragua      42\n",
       "Niger          42\n",
       "               ..\n",
       "Gambia         42\n",
       "Georgia        42\n",
       "Germany        42\n",
       "Ghana          42\n",
       "Zimbabwe       42\n",
       "Name: count, Length: 197, dtype: int64"
      ]
     },
     "execution_count": 16,
     "metadata": {},
     "output_type": "execute_result"
    }
   ],
   "source": [
    "# 2.Datensatz\n",
    "df_zsm['Land'].value_counts()\n"
   ]
  },
  {
   "cell_type": "code",
   "execution_count": 17,
   "id": "8297e180",
   "metadata": {},
   "outputs": [
    {
     "data": {
      "image/png": "[encoded data removed]",
      "text/plain": [
       "<Figure size 640x480 with 1 Axes>"
      ]
     },
     "metadata": {},
     "output_type": "display_data"
    }
   ],
   "source": [
    "# 1.Datensatz\n",
    "df_einzeln['Land'].value_counts().tail(25).plot(\n",
    "    kind='barh', \n",
    "    xlabel='Anzahl Datenpunkte'); "
   ]
  },
  {
   "cell_type": "code",
   "execution_count": 18,
   "id": "3fdc9433",
   "metadata": {},
   "outputs": [
    {
     "data": {
      "image/png": "[encoded data removed]",
      "text/plain": [
       "<Figure size 640x480 with 1 Axes>"
      ]
     },
     "metadata": {},
     "output_type": "display_data"
    }
   ],
   "source": [
    "# 1.Datensatz\n",
    "df_einzeln['Land'].value_counts().head(25).plot(\n",
    "    kind='barh', \n",
    "    xlabel='Anzahl Datenpunkte'); "
   ]
  },
  {
   "cell_type": "code",
   "execution_count": 19,
   "id": "879c6930",
   "metadata": {},
   "outputs": [
    {
     "data": {
      "image/png": "[encoded data removed]",
      "text/plain": [
       "<Figure size 640x480 with 1 Axes>"
      ]
     },
     "metadata": {},
     "output_type": "display_data"
    }
   ],
   "source": [
    "# 1.Datensatzw\n",
    "Graph_1 = df_einzeln['Land'].value_counts().plot(kind='bar', ylabel='Anzahl Datenpunkte')\n",
    "Graph_1.set_xticklabels([]); # löscht x-ticks labels (Ländernamen bei x Achse)\n"
   ]
  },
  {
   "cell_type": "code",
   "execution_count": 20,
   "id": "136b8a93",
   "metadata": {},
   "outputs": [
    {
     "data": {
      "image/png": "[encoded data removed]",
      "text/plain": [
       "<Figure size 640x480 with 1 Axes>"
      ]
     },
     "metadata": {},
     "output_type": "display_data"
    }
   ],
   "source": [
    "# 2.Datensatz\n",
    "Graph_2 = df_zsm['Land'].value_counts().plot(ylabel='Anzahl Datenpunkte')\n",
    "Graph_2.set_xticklabels([]); "
   ]
  },
  {
   "cell_type": "code",
   "execution_count": 21,
   "id": "8a7a9fa7",
   "metadata": {},
   "outputs": [
    {
     "name": "stdout",
     "output_type": "stream",
     "text": [
      "Land\n",
      "Afghanistan    43\n",
      "Albania        43\n",
      "Algeria        43\n",
      "Andorra        43\n",
      "Angola         43\n",
      "               ..\n",
      "Venezuela      43\n",
      "Vietnam        43\n",
      "Yemen          43\n",
      "Zambia         43\n",
      "Zimbabwe       43\n",
      "Length: 190, dtype: int64\n"
     ]
    }
   ],
   "source": [
    "Anzahl_pro_Land = df_einzeln.groupby('Land').size()\n",
    "Anzahl_43 = Anzahl_pro_Land[Anzahl_pro_Land == 43]\n",
    "print(Anzahl_43)"
   ]
  },
  {
   "cell_type": "code",
   "execution_count": 22,
   "id": "147c6f56",
   "metadata": {},
   "outputs": [
    {
     "name": "stdout",
     "output_type": "stream",
     "text": [
      "Land\n",
      "Africa (WHO)                   42\n",
      "Americas (WHO)                 42\n",
      "Eastern Mediterranean (WHO)    42\n",
      "Europe (WHO)                   42\n",
      "South-East Asia (WHO)          42\n",
      "Sudan (former)                 42\n",
      "Western Pacific (WHO)          42\n",
      "dtype: int64\n"
     ]
    }
   ],
   "source": [
    "Anzahl_42 = Anzahl_pro_Land[Anzahl_pro_Land == 42]\n",
    "print(Anzahl_42)"
   ]
  },
  {
   "cell_type": "code",
   "execution_count": 23,
   "id": "a8e9d761",
   "metadata": {},
   "outputs": [
    {
     "name": "stdout",
     "output_type": "stream",
     "text": [
      "Land\n",
      "Aland Islands              1\n",
      "American Samoa             1\n",
      "Anguilla                   1\n",
      "Aruba                      1\n",
      "Austria-Hungary            1\n",
      "                          ..\n",
      "West Germany               1\n",
      "Western Sahara             1\n",
      "Yemen Arab Republic        1\n",
      "Yemen People's Republic    1\n",
      "Yugoslavia                 1\n",
      "Length: 81, dtype: int64\n"
     ]
    }
   ],
   "source": [
    "Anzahl_1 = Anzahl_pro_Land[Anzahl_pro_Land == 1]\n",
    "\n",
    "print(Anzahl_1)"
   ]
  },
  {
   "cell_type": "markdown",
   "id": "fc12f9b4",
   "metadata": {},
   "source": [
    "### 3.2 Analyse Kürzel"
   ]
  },
  {
   "cell_type": "code",
   "execution_count": 24,
   "id": "f3524564",
   "metadata": {},
   "outputs": [
    {
     "name": "stdout",
     "output_type": "stream",
     "text": [
      "Anzahl verschiedener Landeskürzel: 258\n"
     ]
    }
   ],
   "source": [
    "# 1.Datensatz\n",
    "Anzahl_Kürzel_1 = len(df_einzeln['Kürzel'].unique())\n",
    "\n",
    "print('Anzahl verschiedener Landeskürzel:', Anzahl_Kürzel_1)"
   ]
  },
  {
   "cell_type": "code",
   "execution_count": 25,
   "id": "b493925e",
   "metadata": {},
   "outputs": [
    {
     "data": {
      "text/plain": [
       "Kürzel\n",
       "AFG         43\n",
       "MEX         43\n",
       "MDA         43\n",
       "MNG         43\n",
       "MNE         43\n",
       "            ..\n",
       "GIB          1\n",
       "SXM          1\n",
       "OWID_ERE     1\n",
       "MSR          1\n",
       "PRI          1\n",
       "Name: count, Length: 257, dtype: int64"
      ]
     },
     "execution_count": 25,
     "metadata": {},
     "output_type": "execute_result"
    }
   ],
   "source": [
    "# 1.Datensatz\n",
    "df_einzeln['Kürzel'].value_counts()"
   ]
  },
  {
   "cell_type": "code",
   "execution_count": 26,
   "id": "bb9cb143",
   "metadata": {},
   "outputs": [
    {
     "data": {
      "image/png": "[encoded data removed]",
      "text/plain": [
       "<Figure size 640x480 with 1 Axes>"
      ]
     },
     "metadata": {},
     "output_type": "display_data"
    }
   ],
   "source": [
    "# 1.Datensatz\n",
    "Graph_3 = df_einzeln['Kürzel'].value_counts().plot(\n",
    "    kind='area', \n",
    "    xlabel='Landeskürzel', \n",
    "    ylabel='Häufigkeit Datenpunkte',\n",
    "    title='Häufigkeit der Datenpunkte pro Landeskürzel',\n",
    "    alpha=0.8)\n",
    "\n",
    "Graph_3.set_xticklabels([]); "
   ]
  },
  {
   "cell_type": "markdown",
   "id": "9a74e0ee",
   "metadata": {},
   "source": [
    "###### 2. Datensatz"
   ]
  },
  {
   "cell_type": "code",
   "execution_count": 27,
   "id": "38eea0f8",
   "metadata": {},
   "outputs": [
    {
     "name": "stdout",
     "output_type": "stream",
     "text": [
      "Anzahl verschiedener Landeskürzel: 191\n"
     ]
    }
   ],
   "source": [
    "# 2.Datensatz\n",
    "Anzahl_Kürzel_1 = len(df_zsm['Kürzel'].unique())\n",
    "\n",
    "print('Anzahl verschiedener Landeskürzel:', Anzahl_Kürzel_1)"
   ]
  },
  {
   "cell_type": "code",
   "execution_count": 28,
   "id": "4d48a7ce",
   "metadata": {},
   "outputs": [
    {
     "data": {
      "text/plain": [
       "Kürzel\n",
       "AFG    42\n",
       "OMN    42\n",
       "NLD    42\n",
       "NZL    42\n",
       "NIC    42\n",
       "       ..\n",
       "GEO    42\n",
       "DEU    42\n",
       "GHA    42\n",
       "GRC    42\n",
       "ZWE    42\n",
       "Name: count, Length: 190, dtype: int64"
      ]
     },
     "execution_count": 28,
     "metadata": {},
     "output_type": "execute_result"
    }
   ],
   "source": [
    "# 2.Datensatz\n",
    "df_zsm['Kürzel'].value_counts()"
   ]
  },
  {
   "cell_type": "code",
   "execution_count": 29,
   "id": "6a9af459",
   "metadata": {},
   "outputs": [
    {
     "data": {
      "image/png": "[encoded data removed]",
      "text/plain": [
       "<Figure size 640x480 with 1 Axes>"
      ]
     },
     "metadata": {},
     "output_type": "display_data"
    }
   ],
   "source": [
    "# 2.Datensatz\n",
    "Graph_4 = df_zsm['Kürzel'].value_counts().plot(\n",
    "    kind='line', \n",
    "    xlabel='Landeskürzel', \n",
    "    ylabel='Häufigkeit Datenpunkte',\n",
    "    title='Häufigkeit der Datenpunkte pro Landeskürzel',\n",
    "    alpha=0.8)\n",
    "\n",
    "Graph_4.set_xticklabels([]); "
   ]
  },
  {
   "cell_type": "markdown",
   "id": "4ac66f6a",
   "metadata": {},
   "source": [
    "### 3.3 Analyse Jahr"
   ]
  },
  {
   "cell_type": "code",
   "execution_count": 30,
   "id": "b5af7100",
   "metadata": {},
   "outputs": [
    {
     "name": "stdout",
     "output_type": "stream",
     "text": [
      "Anzahl verschiedener Jahreszahlen im ersten Datensatz: 43\n",
      "Anzahl verschiedener Jahreszahlen im zweiten Datensatz: 42\n"
     ]
    }
   ],
   "source": [
    "Anzahl_Jahr_1 = len(df_einzeln['Jahr'].unique())\n",
    "Anzahl_Jahr_2 = len(df_zsm['Jahr'].unique())\n",
    "\n",
    "print('Anzahl verschiedener Jahreszahlen im ersten Datensatz:', Anzahl_Jahr_1)\n",
    "print('Anzahl verschiedener Jahreszahlen im zweiten Datensatz:', Anzahl_Jahr_2)"
   ]
  },
  {
   "cell_type": "code",
   "execution_count": 31,
   "id": "d7b03e45",
   "metadata": {},
   "outputs": [
    {
     "data": {
      "text/plain": [
       "Jahr\n",
       "1975    197\n",
       "1985    197\n",
       "1977    197\n",
       "1978    197\n",
       "1979    197\n",
       "       ... \n",
       "2013    197\n",
       "2014    197\n",
       "2015    197\n",
       "2008    197\n",
       "2023    271\n",
       "Name: count, Length: 43, dtype: int64"
      ]
     },
     "execution_count": 31,
     "metadata": {},
     "output_type": "execute_result"
    }
   ],
   "source": [
    "# 1.Datensatz\n",
    "df_einzeln['Jahr'].value_counts().sort_values()"
   ]
  },
  {
   "cell_type": "code",
   "execution_count": 32,
   "id": "969e0dbf",
   "metadata": {},
   "outputs": [
    {
     "data": {
      "text/plain": [
       "Jahr\n",
       "1975    197\n",
       "1994    197\n",
       "1977    197\n",
       "1978    197\n",
       "1979    197\n",
       "       ... \n",
       "2012    197\n",
       "2013    197\n",
       "2014    197\n",
       "2007    197\n",
       "2016    197\n",
       "Name: count, Length: 42, dtype: int64"
      ]
     },
     "execution_count": 32,
     "metadata": {},
     "output_type": "execute_result"
    }
   ],
   "source": [
    "# 2.Datensatz\n",
    "Graph_6 = df_zsm['Jahr'].value_counts().sort_values()\n",
    "Graph_6"
   ]
  },
  {
   "cell_type": "markdown",
   "id": "b996da49",
   "metadata": {},
   "source": [
    "--> alle Jahre haben gleich viele Datenpunkte, sort.index() fällt weg bzw. ist überflüssig"
   ]
  },
  {
   "cell_type": "code",
   "execution_count": 33,
   "id": "0aba0a3d",
   "metadata": {},
   "outputs": [
    {
     "data": {
      "image/png": "[encoded data removed]",
      "text/plain": [
       "<Figure size 640x480 with 1 Axes>"
      ]
     },
     "metadata": {},
     "output_type": "display_data"
    }
   ],
   "source": [
    "# 2.Datensatz\n",
    "Graph_6.plot(\n",
    "    kind = 'line',\n",
    "    ylabel ='Anzahl Datenpunkte',\n",
    "    xlabel ='Jahreszahlen'\n",
    "); \n",
    "\n",
    "odd_ticks = [y for y in range(186, 210) if y % 2 != 0]\n",
    "plt.yticks(odd_ticks); "
   ]
  },
  {
   "cell_type": "code",
   "execution_count": 34,
   "id": "4621d771",
   "metadata": {},
   "outputs": [
    {
     "data": {
      "text/plain": [
       "Jahr\n",
       "1975    197\n",
       "1976    197\n",
       "1977    197\n",
       "1978    197\n",
       "1979    197\n",
       "       ... \n",
       "2013    197\n",
       "2014    197\n",
       "2015    197\n",
       "2016    197\n",
       "2023    271\n",
       "Name: count, Length: 43, dtype: int64"
      ]
     },
     "execution_count": 34,
     "metadata": {},
     "output_type": "execute_result"
    }
   ],
   "source": [
    "# 1.Datensatz\n",
    "df_einzeln['Jahr'].value_counts().sort_index()"
   ]
  },
  {
   "cell_type": "code",
   "execution_count": 35,
   "id": "4a540f3e",
   "metadata": {},
   "outputs": [
    {
     "data": {
      "image/png": "[encoded data removed]",
      "text/plain": [
       "<Figure size 640x480 with 1 Axes>"
      ]
     },
     "metadata": {},
     "output_type": "display_data"
    }
   ],
   "source": [
    "# 1.Datensatz\n",
    "\n",
    "alle_jahre_1 = pd.RangeIndex(df_einzeln['Jahr'].min(), df_einzeln['Jahr'].max() + 1)\n",
    "jahr_counts_1 = df_einzeln['Jahr'].value_counts().reindex(alle_jahre_1, fill_value=0)\n",
    "\n",
    "Graph_5 = jahr_counts_1.plot(\n",
    "    title = 'Anzahl Daten Punkte pro Jahr',\n",
    "    kind='area',\n",
    "    ylabel='Anzahl Datenpunkte',\n",
    "    xlabel='Jahreszahlen'\n",
    ")\n",
    "\n",
    "plt.ylim(bottom=0)\n",
    "\n",
    "if 2023 in jahr_counts_1.index:\n",
    "    Graph_5.scatter(\n",
    "        2023, jahr_counts_1[2023],\n",
    "        color='crimson',    \n",
    "        label='Spike 2023',\n",
    "        zorder=5,        # Über der Linie zeichnen\n",
    "        s=100            # Größe des Punktes\n",
    "    )\n",
    "\n",
    "Graph_5.legend(); \n",
    "# Legende umbennen!!"
   ]
  },
  {
   "cell_type": "markdown",
   "id": "d2bc51be",
   "metadata": {},
   "source": [
    "### 3.4 Analyse Prävalenz "
   ]
  },
  {
   "cell_type": "markdown",
   "id": "c3365f44",
   "metadata": {},
   "source": [
    "##### 1.Datensatz"
   ]
  },
  {
   "cell_type": "code",
   "execution_count": 36,
   "id": "842f1cfd",
   "metadata": {},
   "outputs": [
    {
     "data": {
      "text/html": [
       "<div>\n",
       "<style scoped>\n",
       "    .dataframe tbody tr th:only-of-type {\n",
       "        vertical-align: middle;\n",
       "    }\n",
       "\n",
       "    .dataframe tbody tr th {\n",
       "        vertical-align: top;\n",
       "    }\n",
       "\n",
       "    .dataframe thead th {\n",
       "        text-align: right;\n",
       "    }\n",
       "</style>\n",
       "<table border=\"1\" class=\"dataframe\">\n",
       "  <thead>\n",
       "    <tr style=\"text-align: right;\">\n",
       "      <th></th>\n",
       "      <th>Jahr</th>\n",
       "      <th>Übergewicht_Prävalenz_Männer_18+</th>\n",
       "      <th>Übergewicht_Prävalenz_Frauen_18+</th>\n",
       "    </tr>\n",
       "  </thead>\n",
       "  <tbody>\n",
       "    <tr>\n",
       "      <th>count</th>\n",
       "      <td>8545.00</td>\n",
       "      <td>8274.00</td>\n",
       "      <td>8274.00</td>\n",
       "    </tr>\n",
       "    <tr>\n",
       "      <th>mean</th>\n",
       "      <td>1996.37</td>\n",
       "      <td>9.26</td>\n",
       "      <td>15.42</td>\n",
       "    </tr>\n",
       "    <tr>\n",
       "      <th>std</th>\n",
       "      <td>12.86</td>\n",
       "      <td>8.93</td>\n",
       "      <td>11.25</td>\n",
       "    </tr>\n",
       "    <tr>\n",
       "      <th>min</th>\n",
       "      <td>1975.00</td>\n",
       "      <td>0.10</td>\n",
       "      <td>0.20</td>\n",
       "    </tr>\n",
       "    <tr>\n",
       "      <th>25%</th>\n",
       "      <td>1985.00</td>\n",
       "      <td>2.00</td>\n",
       "      <td>6.50</td>\n",
       "    </tr>\n",
       "    <tr>\n",
       "      <th>50%</th>\n",
       "      <td>1996.00</td>\n",
       "      <td>6.90</td>\n",
       "      <td>13.90</td>\n",
       "    </tr>\n",
       "    <tr>\n",
       "      <th>75%</th>\n",
       "      <td>2007.00</td>\n",
       "      <td>14.10</td>\n",
       "      <td>21.40</td>\n",
       "    </tr>\n",
       "    <tr>\n",
       "      <th>max</th>\n",
       "      <td>2023.00</td>\n",
       "      <td>58.70</td>\n",
       "      <td>63.30</td>\n",
       "    </tr>\n",
       "  </tbody>\n",
       "</table>\n",
       "</div>"
      ],
      "text/plain": [
       "          Jahr  Übergewicht_Prävalenz_Männer_18+  \\\n",
       "count  8545.00                           8274.00   \n",
       "mean   1996.37                              9.26   \n",
       "std      12.86                              8.93   \n",
       "min    1975.00                              0.10   \n",
       "25%    1985.00                              2.00   \n",
       "50%    1996.00                              6.90   \n",
       "75%    2007.00                             14.10   \n",
       "max    2023.00                             58.70   \n",
       "\n",
       "       Übergewicht_Prävalenz_Frauen_18+  \n",
       "count                           8274.00  \n",
       "mean                              15.42  \n",
       "std                               11.25  \n",
       "min                                0.20  \n",
       "25%                                6.50  \n",
       "50%                               13.90  \n",
       "75%                               21.40  \n",
       "max                               63.30  "
      ]
     },
     "execution_count": 36,
     "metadata": {},
     "output_type": "execute_result"
    }
   ],
   "source": [
    "df_einzeln.describe().round(2)"
   ]
  },
  {
   "cell_type": "code",
   "execution_count": 37,
   "id": "c7a0a5bf",
   "metadata": {},
   "outputs": [
    {
     "name": "stdout",
     "output_type": "stream",
     "text": [
      "Mittelwert: 15.42 Prozent der Frauen sind übergewichtig\n",
      "Summe: 127556.3\n",
      "Median: 13.9\n",
      "Standardabweichung: 11.25\n"
     ]
    }
   ],
   "source": [
    "Summe_Frauen = round(df_einzeln['Übergewicht_Prävalenz_Frauen_18+'].sum(),2)\n",
    "Mittelwert_Frauen = round(df_einzeln['Übergewicht_Prävalenz_Frauen_18+'].mean(),2)\n",
    "Median_Frauen = round(df_einzeln['Übergewicht_Prävalenz_Frauen_18+'].median(),2)\n",
    "Standardabweichung_Frauen = round(df_einzeln['Übergewicht_Prävalenz_Frauen_18+'].std(),2)\n",
    "\n",
    "print('Mittelwert:', Mittelwert_Frauen, 'Prozent der Frauen sind übergewichtig')\n",
    "print('Summe:', Summe_Frauen)\n",
    "print('Median:', Median_Frauen)\n",
    "print('Standardabweichung:', Standardabweichung_Frauen)"
   ]
  },
  {
   "cell_type": "code",
   "execution_count": 38,
   "id": "c536d9e3",
   "metadata": {},
   "outputs": [
    {
     "name": "stdout",
     "output_type": "stream",
     "text": [
      "Die Breite eines Balkens beträgt: 6.309999999999999\n"
     ]
    },
    {
     "data": {
      "image/png": "[encoded data removed]",
      "text/plain": [
       "<Figure size 640x480 with 1 Axes>"
      ]
     },
     "metadata": {},
     "output_type": "display_data"
    }
   ],
   "source": [
    "Histo_Frau = df_einzeln['Übergewicht_Prävalenz_Frauen_18+'].plot(\n",
    "    color = 'paleturquoise',\n",
    "    kind = 'hist',\n",
    "    bins = 10, \n",
    "    alpha = 0.8,\n",
    "    ylabel = 'Häufigkeit der Anzahl Datenpunkte',\n",
    "    xlabel = 'Prävalenz in Prozent von Frauen',\n",
    "    title = 'Häufigkeit der Prävalenz bei Frauen'\n",
    "    )\n",
    "\n",
    "Histo_Frau.axvline(x=df_einzeln['Übergewicht_Prävalenz_Frauen_18+'].mean(), \n",
    "                   color = 'dodgerblue',\n",
    "                   label = f'Mittelwert = {Mittelwert_Frauen:.2f}')\n",
    "\n",
    "Histo_Frau.axvline(x=df_einzeln['Übergewicht_Prävalenz_Frauen_18+'].median(), \n",
    "                   color = 'crimson',\n",
    "                   label = f'Median = {Median_Frauen:.2f}')\n",
    "\n",
    "plt.xticks(np.arange(0,60,6.309999999999999))\n",
    "\n",
    "Histo_Frau.legend(); \n",
    "\n",
    "#Code um Balkenbreite herauszufinden, um Histogramm x-Achsenbeschriftung besser darzustellen\n",
    "bar_width = Histo_Frau.patches[0].get_width()\n",
    "print(f\"Die Breite eines Balkens beträgt: {bar_width}\")"
   ]
  },
  {
   "cell_type": "code",
   "execution_count": 39,
   "id": "febbbc50",
   "metadata": {},
   "outputs": [
    {
     "name": "stdout",
     "output_type": "stream",
     "text": [
      "Mittelwert: 9.26 Prozent der Männer sind übergewichtig\n",
      "Summe: 76634.1\n",
      "Median: 6.9\n",
      "Standardabweichung: 8.93\n"
     ]
    }
   ],
   "source": [
    "Summe_Männer = round(df_einzeln['Übergewicht_Prävalenz_Männer_18+'].sum(),2)\n",
    "Mittelwert_Männer = round(df_einzeln['Übergewicht_Prävalenz_Männer_18+'].mean(),2)\n",
    "Median_Männer = round(df_einzeln['Übergewicht_Prävalenz_Männer_18+'].median(),2)\n",
    "Standardabweichung_Männer = round(df_einzeln['Übergewicht_Prävalenz_Männer_18+'].std(),2)\n",
    "\n",
    "print('Mittelwert:', Mittelwert_Männer, 'Prozent der Männer sind übergewichtig')\n",
    "print('Summe:', Summe_Männer)\n",
    "print('Median:', Median_Männer)\n",
    "print('Standardabweichung:', Standardabweichung_Männer)"
   ]
  },
  {
   "cell_type": "code",
   "execution_count": 40,
   "id": "95f67ca9",
   "metadata": {},
   "outputs": [
    {
     "name": "stdout",
     "output_type": "stream",
     "text": [
      "Die Breite eines Balkens beträgt: 5.86\n"
     ]
    },
    {
     "data": {
      "image/png": "[encoded data removed]",
      "text/plain": [
       "<Figure size 640x480 with 1 Axes>"
      ]
     },
     "metadata": {},
     "output_type": "display_data"
    }
   ],
   "source": [
    "Histo_Mann = df_einzeln['Übergewicht_Prävalenz_Männer_18+'].plot(\n",
    "    color = 'palegreen',\n",
    "    title = 'Häufigkeit der Prävalenz bei Männern',\n",
    "    kind = 'hist',\n",
    "    bins = 10, \n",
    "    alpha = 0.7,\n",
    "    ylabel = 'Häufigkeit der Anzahl Datenpunkte',\n",
    "    xlabel = 'Prävalenz in Prozent von Männern',\n",
    "    )\n",
    "\n",
    "Histo_Mann.axvline(x=df_einzeln['Übergewicht_Prävalenz_Männer_18+'].mean(), \n",
    "                   color = 'dodgerblue',\n",
    "                   label = f'Mittelwert = {Mittelwert_Männer:.2f}')\n",
    "\n",
    "Histo_Mann.axvline(x=df_einzeln['Übergewicht_Prävalenz_Männer_18+'].median(), \n",
    "                   color = 'crimson',\n",
    "                   label = f'Median = {Median_Männer:.2f}')\n",
    "\n",
    "plt.xticks(np.arange(0,60,5.86))\n",
    "\n",
    "Histo_Mann.legend(); \n",
    "\n",
    "#Code um Balkenbreite herauszufinden, um Histogramm x-Achsenbeschriftung besser darzustellen\n",
    "bar_width = Histo_Mann.patches[0].get_width()\n",
    "print(f\"Die Breite eines Balkens beträgt: {bar_width}\")"
   ]
  },
  {
   "cell_type": "markdown",
   "id": "9b151bfc",
   "metadata": {},
   "source": [
    "##### 2.Datensatz"
   ]
  },
  {
   "cell_type": "code",
   "execution_count": 41,
   "id": "7335492e",
   "metadata": {},
   "outputs": [
    {
     "data": {
      "text/html": [
       "<div>\n",
       "<style scoped>\n",
       "    .dataframe tbody tr th:only-of-type {\n",
       "        vertical-align: middle;\n",
       "    }\n",
       "\n",
       "    .dataframe tbody tr th {\n",
       "        vertical-align: top;\n",
       "    }\n",
       "\n",
       "    .dataframe thead th {\n",
       "        text-align: right;\n",
       "    }\n",
       "</style>\n",
       "<table border=\"1\" class=\"dataframe\">\n",
       "  <thead>\n",
       "    <tr style=\"text-align: right;\">\n",
       "      <th></th>\n",
       "      <th>Jahr</th>\n",
       "      <th>Übergewicht_Prävalenz_18+_unabhängig_Geschlecht</th>\n",
       "    </tr>\n",
       "  </thead>\n",
       "  <tbody>\n",
       "    <tr>\n",
       "      <th>count</th>\n",
       "      <td>8274.00</td>\n",
       "      <td>8274.00</td>\n",
       "    </tr>\n",
       "    <tr>\n",
       "      <th>mean</th>\n",
       "      <td>1995.50</td>\n",
       "      <td>11.87</td>\n",
       "    </tr>\n",
       "    <tr>\n",
       "      <th>std</th>\n",
       "      <td>12.12</td>\n",
       "      <td>9.70</td>\n",
       "    </tr>\n",
       "    <tr>\n",
       "      <th>min</th>\n",
       "      <td>1975.00</td>\n",
       "      <td>0.10</td>\n",
       "    </tr>\n",
       "    <tr>\n",
       "      <th>25%</th>\n",
       "      <td>1985.00</td>\n",
       "      <td>3.90</td>\n",
       "    </tr>\n",
       "    <tr>\n",
       "      <th>50%</th>\n",
       "      <td>1995.50</td>\n",
       "      <td>10.10</td>\n",
       "    </tr>\n",
       "    <tr>\n",
       "      <th>75%</th>\n",
       "      <td>2006.00</td>\n",
       "      <td>17.70</td>\n",
       "    </tr>\n",
       "    <tr>\n",
       "      <th>max</th>\n",
       "      <td>2016.00</td>\n",
       "      <td>60.70</td>\n",
       "    </tr>\n",
       "  </tbody>\n",
       "</table>\n",
       "</div>"
      ],
      "text/plain": [
       "          Jahr  Übergewicht_Prävalenz_18+_unabhängig_Geschlecht\n",
       "count  8274.00                                          8274.00\n",
       "mean   1995.50                                            11.87\n",
       "std      12.12                                             9.70\n",
       "min    1975.00                                             0.10\n",
       "25%    1985.00                                             3.90\n",
       "50%    1995.50                                            10.10\n",
       "75%    2006.00                                            17.70\n",
       "max    2016.00                                            60.70"
      ]
     },
     "execution_count": 41,
     "metadata": {},
     "output_type": "execute_result"
    }
   ],
   "source": [
    "df_zsm.describe().round(2)"
   ]
  },
  {
   "cell_type": "code",
   "execution_count": 42,
   "id": "63e55aa9",
   "metadata": {},
   "outputs": [
    {
     "name": "stdout",
     "output_type": "stream",
     "text": [
      "Mittelwert: 11.87 Prozent der Bevölkerung sind übergewichtig\n",
      "Summe: 98184.2\n",
      "Median: 10.1\n",
      "Standardabweichung: 9.7\n"
     ]
    }
   ],
   "source": [
    "Summe_zsm = round(df_zsm['Übergewicht_Prävalenz_18+_unabhängig_Geschlecht'].sum(),2)\n",
    "Mittelwert_zsm = round(df_zsm['Übergewicht_Prävalenz_18+_unabhängig_Geschlecht'].mean(),2)\n",
    "Median_zsm = round(df_zsm['Übergewicht_Prävalenz_18+_unabhängig_Geschlecht'].median(),2)\n",
    "Standardabweichung_zsm = round(df_zsm['Übergewicht_Prävalenz_18+_unabhängig_Geschlecht'].std(),2)\n",
    "\n",
    "print('Mittelwert:', Mittelwert_zsm, 'Prozent der Bevölkerung sind übergewichtig')\n",
    "print('Summe:', Summe_zsm)\n",
    "print('Median:', Median_zsm)\n",
    "print('Standardabweichung:', Standardabweichung_zsm)"
   ]
  },
  {
   "cell_type": "code",
   "execution_count": 43,
   "id": "6816fd5a",
   "metadata": {},
   "outputs": [
    {
     "name": "stdout",
     "output_type": "stream",
     "text": [
      "Die Breite eines Balkens beträgt: 6.0600000000000005\n"
     ]
    },
    {
     "data": {
      "image/png": "[encoded data removed]",
      "text/plain": [
       "<Figure size 640x480 with 1 Axes>"
      ]
     },
     "metadata": {},
     "output_type": "display_data"
    }
   ],
   "source": [
    "Histo_zsm = df_zsm['Übergewicht_Prävalenz_18+_unabhängig_Geschlecht'].plot(\n",
    "    color = 'green',\n",
    "    title = 'Häufigkeit der Prävalenz unabhängig vom Geschlecht',\n",
    "    kind = 'hist',\n",
    "    bins = 10, \n",
    "    alpha = 0.4,\n",
    "    ylabel = 'Häufigkeit der Anzahl Datenpunkte',\n",
    "    xlabel = 'Prävalenz in Prozent',\n",
    "    )\n",
    "\n",
    "Histo_zsm.axvline(x=df_zsm['Übergewicht_Prävalenz_18+_unabhängig_Geschlecht'].mean(), \n",
    "                   color = 'dodgerblue',\n",
    "                   label = f'Mittelwert = {Mittelwert_zsm:.2f} %')\n",
    "\n",
    "Histo_zsm.axvline(x=df_zsm['Übergewicht_Prävalenz_18+_unabhängig_Geschlecht'].median(), \n",
    "                   color = 'crimson',\n",
    "                   label = f'Median = {Median_zsm:.2f} %')\n",
    "\n",
    "plt.xticks(np.arange(0,60,6.0600000000000005))\n",
    "\n",
    "Histo_zsm.legend(); \n",
    "\n",
    "#Code um Balkenbreite herauszufinden, um Histogramm x-Achsenbeschriftung besser darzustellen\n",
    "bar_width = Histo_zsm.patches[0].get_width()\n",
    "print(f\"Die Breite eines Balkens beträgt: {bar_width}\")"
   ]
  },
  {
   "cell_type": "markdown",
   "id": "bbdf3294",
   "metadata": {},
   "source": [
    "## 4. Analyse \n",
    "\n",
    "### Vorgehen\n",
    "- Spezifische Untersuchung der Fragestellung (Berechnungen)\n",
    "- Visualisieren der Resultate: Verwendet Achsenbeschriftung und überlegt euch, welche Art von Darstellung sinnvoll ist (Kuchen-, Säulen, Liniendiagramm; 2 y-Achsen?)\n",
    "- Beschreiben der Beobachtungen\n",
    "- Interpretation der Resultate (Hypothesen zu den Resultaten)\n",
    "- Untermauern der Interpretation mittels Hinweise zur Literatur (Mögliche Zusammenhänge aufzeigen).\n",
    "\n"
   ]
  },
  {
   "cell_type": "markdown",
   "id": "5dcca404",
   "metadata": {},
   "source": [
    "Analyse\n",
    "Interpretation"
   ]
  },
  {
   "cell_type": "code",
   "execution_count": 44,
   "id": "74aebb2e",
   "metadata": {},
   "outputs": [
    {
     "data": {
      "text/html": [
       "<div>\n",
       "<style scoped>\n",
       "    .dataframe tbody tr th:only-of-type {\n",
       "        vertical-align: middle;\n",
       "    }\n",
       "\n",
       "    .dataframe tbody tr th {\n",
       "        vertical-align: top;\n",
       "    }\n",
       "\n",
       "    .dataframe thead th {\n",
       "        text-align: right;\n",
       "    }\n",
       "</style>\n",
       "<table border=\"1\" class=\"dataframe\">\n",
       "  <thead>\n",
       "    <tr style=\"text-align: right;\">\n",
       "      <th></th>\n",
       "      <th>Land</th>\n",
       "      <th>Kürzel</th>\n",
       "      <th>Jahr</th>\n",
       "      <th>Übergewicht_Prävalenz_Männer_18+</th>\n",
       "      <th>Übergewicht_Prävalenz_Frauen_18+</th>\n",
       "    </tr>\n",
       "  </thead>\n",
       "  <tbody>\n",
       "    <tr>\n",
       "      <th>0</th>\n",
       "      <td>Afghanistan</td>\n",
       "      <td>AFG</td>\n",
       "      <td>1975</td>\n",
       "      <td>0.2</td>\n",
       "      <td>0.8</td>\n",
       "    </tr>\n",
       "    <tr>\n",
       "      <th>1</th>\n",
       "      <td>Afghanistan</td>\n",
       "      <td>AFG</td>\n",
       "      <td>1976</td>\n",
       "      <td>0.2</td>\n",
       "      <td>0.8</td>\n",
       "    </tr>\n",
       "    <tr>\n",
       "      <th>2</th>\n",
       "      <td>Afghanistan</td>\n",
       "      <td>AFG</td>\n",
       "      <td>1977</td>\n",
       "      <td>0.2</td>\n",
       "      <td>0.9</td>\n",
       "    </tr>\n",
       "    <tr>\n",
       "      <th>3</th>\n",
       "      <td>Afghanistan</td>\n",
       "      <td>AFG</td>\n",
       "      <td>1978</td>\n",
       "      <td>0.2</td>\n",
       "      <td>0.9</td>\n",
       "    </tr>\n",
       "    <tr>\n",
       "      <th>4</th>\n",
       "      <td>Afghanistan</td>\n",
       "      <td>AFG</td>\n",
       "      <td>1979</td>\n",
       "      <td>0.3</td>\n",
       "      <td>1.0</td>\n",
       "    </tr>\n",
       "    <tr>\n",
       "      <th>...</th>\n",
       "      <td>...</td>\n",
       "      <td>...</td>\n",
       "      <td>...</td>\n",
       "      <td>...</td>\n",
       "      <td>...</td>\n",
       "    </tr>\n",
       "    <tr>\n",
       "      <th>8540</th>\n",
       "      <td>Zimbabwe</td>\n",
       "      <td>ZWE</td>\n",
       "      <td>2013</td>\n",
       "      <td>4.2</td>\n",
       "      <td>23.9</td>\n",
       "    </tr>\n",
       "    <tr>\n",
       "      <th>8541</th>\n",
       "      <td>Zimbabwe</td>\n",
       "      <td>ZWE</td>\n",
       "      <td>2014</td>\n",
       "      <td>4.4</td>\n",
       "      <td>24.4</td>\n",
       "    </tr>\n",
       "    <tr>\n",
       "      <th>8542</th>\n",
       "      <td>Zimbabwe</td>\n",
       "      <td>ZWE</td>\n",
       "      <td>2015</td>\n",
       "      <td>4.5</td>\n",
       "      <td>24.8</td>\n",
       "    </tr>\n",
       "    <tr>\n",
       "      <th>8543</th>\n",
       "      <td>Zimbabwe</td>\n",
       "      <td>ZWE</td>\n",
       "      <td>2016</td>\n",
       "      <td>4.7</td>\n",
       "      <td>25.3</td>\n",
       "    </tr>\n",
       "    <tr>\n",
       "      <th>8544</th>\n",
       "      <td>Zimbabwe</td>\n",
       "      <td>ZWE</td>\n",
       "      <td>2023</td>\n",
       "      <td>NaN</td>\n",
       "      <td>NaN</td>\n",
       "    </tr>\n",
       "  </tbody>\n",
       "</table>\n",
       "<p>8545 rows × 5 columns</p>\n",
       "</div>"
      ],
      "text/plain": [
       "             Land Kürzel  Jahr  Übergewicht_Prävalenz_Männer_18+  \\\n",
       "0     Afghanistan    AFG  1975                               0.2   \n",
       "1     Afghanistan    AFG  1976                               0.2   \n",
       "2     Afghanistan    AFG  1977                               0.2   \n",
       "3     Afghanistan    AFG  1978                               0.2   \n",
       "4     Afghanistan    AFG  1979                               0.3   \n",
       "...           ...    ...   ...                               ...   \n",
       "8540     Zimbabwe    ZWE  2013                               4.2   \n",
       "8541     Zimbabwe    ZWE  2014                               4.4   \n",
       "8542     Zimbabwe    ZWE  2015                               4.5   \n",
       "8543     Zimbabwe    ZWE  2016                               4.7   \n",
       "8544     Zimbabwe    ZWE  2023                               NaN   \n",
       "\n",
       "      Übergewicht_Prävalenz_Frauen_18+  \n",
       "0                                  0.8  \n",
       "1                                  0.8  \n",
       "2                                  0.9  \n",
       "3                                  0.9  \n",
       "4                                  1.0  \n",
       "...                                ...  \n",
       "8540                              23.9  \n",
       "8541                              24.4  \n",
       "8542                              24.8  \n",
       "8543                              25.3  \n",
       "8544                               NaN  \n",
       "\n",
       "[8545 rows x 5 columns]"
      ]
     },
     "execution_count": 44,
     "metadata": {},
     "output_type": "execute_result"
    }
   ],
   "source": [
    "df_einzeln = df_einzeln.drop(columns=['Weltregionen_gemäss_OWID'])\n",
    "df_einzeln"
   ]
  },
  {
   "cell_type": "code",
   "execution_count": 45,
   "id": "e1f5ec01",
   "metadata": {},
   "outputs": [
    {
     "name": "stdout",
     "output_type": "stream",
     "text": [
      "Index(['Land', 'Kürzel', 'Jahr', 'Übergewicht_Prävalenz_Männer_18+',\n",
      "       'Übergewicht_Prävalenz_Frauen_18+'],\n",
      "      dtype='object')\n",
      "Index(['Land', 'Kürzel', 'Jahr',\n",
      "       'Übergewicht_Prävalenz_18+_unabhängig_Geschlecht'],\n",
      "      dtype='object')\n"
     ]
    }
   ],
   "source": [
    "print(df_einzeln.columns)\n",
    "print(df_zsm.columns)"
   ]
  },
  {
   "cell_type": "code",
   "execution_count": 46,
   "id": "36ee9961",
   "metadata": {},
   "outputs": [
    {
     "data": {
      "text/html": [
       "<div>\n",
       "<style scoped>\n",
       "    .dataframe tbody tr th:only-of-type {\n",
       "        vertical-align: middle;\n",
       "    }\n",
       "\n",
       "    .dataframe tbody tr th {\n",
       "        vertical-align: top;\n",
       "    }\n",
       "\n",
       "    .dataframe thead th {\n",
       "        text-align: right;\n",
       "    }\n",
       "</style>\n",
       "<table border=\"1\" class=\"dataframe\">\n",
       "  <thead>\n",
       "    <tr style=\"text-align: right;\">\n",
       "      <th></th>\n",
       "      <th>Land</th>\n",
       "      <th>Kürzel</th>\n",
       "      <th>Jahr</th>\n",
       "      <th>Übergewicht_Prävalenz_Männer_18+</th>\n",
       "      <th>Übergewicht_Prävalenz_Frauen_18+</th>\n",
       "      <th>Übergewicht_Prävalenz_18+_unabhängig_Geschlecht</th>\n",
       "    </tr>\n",
       "  </thead>\n",
       "  <tbody>\n",
       "    <tr>\n",
       "      <th>0</th>\n",
       "      <td>Afghanistan</td>\n",
       "      <td>AFG</td>\n",
       "      <td>1975</td>\n",
       "      <td>0.2</td>\n",
       "      <td>0.8</td>\n",
       "      <td>0.4</td>\n",
       "    </tr>\n",
       "    <tr>\n",
       "      <th>1</th>\n",
       "      <td>Afghanistan</td>\n",
       "      <td>AFG</td>\n",
       "      <td>1976</td>\n",
       "      <td>0.2</td>\n",
       "      <td>0.8</td>\n",
       "      <td>0.4</td>\n",
       "    </tr>\n",
       "    <tr>\n",
       "      <th>2</th>\n",
       "      <td>Afghanistan</td>\n",
       "      <td>AFG</td>\n",
       "      <td>1977</td>\n",
       "      <td>0.2</td>\n",
       "      <td>0.9</td>\n",
       "      <td>0.5</td>\n",
       "    </tr>\n",
       "    <tr>\n",
       "      <th>3</th>\n",
       "      <td>Afghanistan</td>\n",
       "      <td>AFG</td>\n",
       "      <td>1978</td>\n",
       "      <td>0.2</td>\n",
       "      <td>0.9</td>\n",
       "      <td>0.5</td>\n",
       "    </tr>\n",
       "    <tr>\n",
       "      <th>4</th>\n",
       "      <td>Afghanistan</td>\n",
       "      <td>AFG</td>\n",
       "      <td>1979</td>\n",
       "      <td>0.3</td>\n",
       "      <td>1.0</td>\n",
       "      <td>0.5</td>\n",
       "    </tr>\n",
       "    <tr>\n",
       "      <th>...</th>\n",
       "      <td>...</td>\n",
       "      <td>...</td>\n",
       "      <td>...</td>\n",
       "      <td>...</td>\n",
       "      <td>...</td>\n",
       "      <td>...</td>\n",
       "    </tr>\n",
       "    <tr>\n",
       "      <th>8540</th>\n",
       "      <td>Zimbabwe</td>\n",
       "      <td>ZWE</td>\n",
       "      <td>2013</td>\n",
       "      <td>4.2</td>\n",
       "      <td>23.9</td>\n",
       "      <td>11.3</td>\n",
       "    </tr>\n",
       "    <tr>\n",
       "      <th>8541</th>\n",
       "      <td>Zimbabwe</td>\n",
       "      <td>ZWE</td>\n",
       "      <td>2014</td>\n",
       "      <td>4.4</td>\n",
       "      <td>24.4</td>\n",
       "      <td>11.6</td>\n",
       "    </tr>\n",
       "    <tr>\n",
       "      <th>8542</th>\n",
       "      <td>Zimbabwe</td>\n",
       "      <td>ZWE</td>\n",
       "      <td>2015</td>\n",
       "      <td>4.5</td>\n",
       "      <td>24.8</td>\n",
       "      <td>11.9</td>\n",
       "    </tr>\n",
       "    <tr>\n",
       "      <th>8543</th>\n",
       "      <td>Zimbabwe</td>\n",
       "      <td>ZWE</td>\n",
       "      <td>2016</td>\n",
       "      <td>4.7</td>\n",
       "      <td>25.3</td>\n",
       "      <td>12.3</td>\n",
       "    </tr>\n",
       "    <tr>\n",
       "      <th>8544</th>\n",
       "      <td>Zimbabwe</td>\n",
       "      <td>ZWE</td>\n",
       "      <td>2023</td>\n",
       "      <td>NaN</td>\n",
       "      <td>NaN</td>\n",
       "      <td>NaN</td>\n",
       "    </tr>\n",
       "  </tbody>\n",
       "</table>\n",
       "<p>8545 rows × 6 columns</p>\n",
       "</div>"
      ],
      "text/plain": [
       "             Land Kürzel  Jahr  Übergewicht_Prävalenz_Männer_18+  \\\n",
       "0     Afghanistan    AFG  1975                               0.2   \n",
       "1     Afghanistan    AFG  1976                               0.2   \n",
       "2     Afghanistan    AFG  1977                               0.2   \n",
       "3     Afghanistan    AFG  1978                               0.2   \n",
       "4     Afghanistan    AFG  1979                               0.3   \n",
       "...           ...    ...   ...                               ...   \n",
       "8540     Zimbabwe    ZWE  2013                               4.2   \n",
       "8541     Zimbabwe    ZWE  2014                               4.4   \n",
       "8542     Zimbabwe    ZWE  2015                               4.5   \n",
       "8543     Zimbabwe    ZWE  2016                               4.7   \n",
       "8544     Zimbabwe    ZWE  2023                               NaN   \n",
       "\n",
       "      Übergewicht_Prävalenz_Frauen_18+  \\\n",
       "0                                  0.8   \n",
       "1                                  0.8   \n",
       "2                                  0.9   \n",
       "3                                  0.9   \n",
       "4                                  1.0   \n",
       "...                                ...   \n",
       "8540                              23.9   \n",
       "8541                              24.4   \n",
       "8542                              24.8   \n",
       "8543                              25.3   \n",
       "8544                               NaN   \n",
       "\n",
       "      Übergewicht_Prävalenz_18+_unabhängig_Geschlecht  \n",
       "0                                                 0.4  \n",
       "1                                                 0.4  \n",
       "2                                                 0.5  \n",
       "3                                                 0.5  \n",
       "4                                                 0.5  \n",
       "...                                               ...  \n",
       "8540                                             11.3  \n",
       "8541                                             11.6  \n",
       "8542                                             11.9  \n",
       "8543                                             12.3  \n",
       "8544                                              NaN  \n",
       "\n",
       "[8545 rows x 6 columns]"
      ]
     },
     "execution_count": 46,
     "metadata": {},
     "output_type": "execute_result"
    }
   ],
   "source": [
    "df_kombi = pd.merge(df_einzeln, df_zsm, on=['Land', 'Jahr', 'Kürzel'], how='outer')\n",
    "df_kombi"
   ]
  },
  {
   "cell_type": "markdown",
   "id": "ab9eb9c2",
   "metadata": {},
   "source": [
    "***Wir haben bemerkt, dass die Prävalenz unabhängig des Geschlechts (Durchschnitt von Mann und Frau), nicht mit unseren vorhanenden Daten übereinstimmt. (wahrscheinlich wurden andere Daten erhoben) --> deshalb haben wir die Daten von Hand ausgerechnet, damit wir uns auf die Daten des ersten Datensatzes verlassen können***"
   ]
  },
  {
   "cell_type": "code",
   "execution_count": 47,
   "id": "32a68718",
   "metadata": {},
   "outputs": [
    {
     "data": {
      "text/html": [
       "<div>\n",
       "<style scoped>\n",
       "    .dataframe tbody tr th:only-of-type {\n",
       "        vertical-align: middle;\n",
       "    }\n",
       "\n",
       "    .dataframe tbody tr th {\n",
       "        vertical-align: top;\n",
       "    }\n",
       "\n",
       "    .dataframe thead th {\n",
       "        text-align: right;\n",
       "    }\n",
       "</style>\n",
       "<table border=\"1\" class=\"dataframe\">\n",
       "  <thead>\n",
       "    <tr style=\"text-align: right;\">\n",
       "      <th></th>\n",
       "      <th>Land</th>\n",
       "      <th>Kürzel</th>\n",
       "      <th>Jahr</th>\n",
       "      <th>Übergewicht_Prävalenz_Männer_18+</th>\n",
       "      <th>Übergewicht_Prävalenz_Frauen_18+</th>\n",
       "      <th>Durchschnitt_Prävalenz_18+_ausgerechnet</th>\n",
       "    </tr>\n",
       "  </thead>\n",
       "  <tbody>\n",
       "    <tr>\n",
       "      <th>0</th>\n",
       "      <td>Afghanistan</td>\n",
       "      <td>AFG</td>\n",
       "      <td>1975</td>\n",
       "      <td>0.2</td>\n",
       "      <td>0.8</td>\n",
       "      <td>0.5</td>\n",
       "    </tr>\n",
       "    <tr>\n",
       "      <th>1</th>\n",
       "      <td>Afghanistan</td>\n",
       "      <td>AFG</td>\n",
       "      <td>1976</td>\n",
       "      <td>0.2</td>\n",
       "      <td>0.8</td>\n",
       "      <td>0.5</td>\n",
       "    </tr>\n",
       "    <tr>\n",
       "      <th>2</th>\n",
       "      <td>Afghanistan</td>\n",
       "      <td>AFG</td>\n",
       "      <td>1977</td>\n",
       "      <td>0.2</td>\n",
       "      <td>0.9</td>\n",
       "      <td>0.6</td>\n",
       "    </tr>\n",
       "    <tr>\n",
       "      <th>3</th>\n",
       "      <td>Afghanistan</td>\n",
       "      <td>AFG</td>\n",
       "      <td>1978</td>\n",
       "      <td>0.2</td>\n",
       "      <td>0.9</td>\n",
       "      <td>0.6</td>\n",
       "    </tr>\n",
       "    <tr>\n",
       "      <th>4</th>\n",
       "      <td>Afghanistan</td>\n",
       "      <td>AFG</td>\n",
       "      <td>1979</td>\n",
       "      <td>0.3</td>\n",
       "      <td>1.0</td>\n",
       "      <td>0.6</td>\n",
       "    </tr>\n",
       "    <tr>\n",
       "      <th>...</th>\n",
       "      <td>...</td>\n",
       "      <td>...</td>\n",
       "      <td>...</td>\n",
       "      <td>...</td>\n",
       "      <td>...</td>\n",
       "      <td>...</td>\n",
       "    </tr>\n",
       "    <tr>\n",
       "      <th>8540</th>\n",
       "      <td>Zimbabwe</td>\n",
       "      <td>ZWE</td>\n",
       "      <td>2013</td>\n",
       "      <td>4.2</td>\n",
       "      <td>23.9</td>\n",
       "      <td>14.0</td>\n",
       "    </tr>\n",
       "    <tr>\n",
       "      <th>8541</th>\n",
       "      <td>Zimbabwe</td>\n",
       "      <td>ZWE</td>\n",
       "      <td>2014</td>\n",
       "      <td>4.4</td>\n",
       "      <td>24.4</td>\n",
       "      <td>14.4</td>\n",
       "    </tr>\n",
       "    <tr>\n",
       "      <th>8542</th>\n",
       "      <td>Zimbabwe</td>\n",
       "      <td>ZWE</td>\n",
       "      <td>2015</td>\n",
       "      <td>4.5</td>\n",
       "      <td>24.8</td>\n",
       "      <td>14.6</td>\n",
       "    </tr>\n",
       "    <tr>\n",
       "      <th>8543</th>\n",
       "      <td>Zimbabwe</td>\n",
       "      <td>ZWE</td>\n",
       "      <td>2016</td>\n",
       "      <td>4.7</td>\n",
       "      <td>25.3</td>\n",
       "      <td>15.0</td>\n",
       "    </tr>\n",
       "    <tr>\n",
       "      <th>8544</th>\n",
       "      <td>Zimbabwe</td>\n",
       "      <td>ZWE</td>\n",
       "      <td>2023</td>\n",
       "      <td>NaN</td>\n",
       "      <td>NaN</td>\n",
       "      <td>NaN</td>\n",
       "    </tr>\n",
       "  </tbody>\n",
       "</table>\n",
       "<p>8545 rows × 6 columns</p>\n",
       "</div>"
      ],
      "text/plain": [
       "             Land Kürzel  Jahr  Übergewicht_Prävalenz_Männer_18+  \\\n",
       "0     Afghanistan    AFG  1975                               0.2   \n",
       "1     Afghanistan    AFG  1976                               0.2   \n",
       "2     Afghanistan    AFG  1977                               0.2   \n",
       "3     Afghanistan    AFG  1978                               0.2   \n",
       "4     Afghanistan    AFG  1979                               0.3   \n",
       "...           ...    ...   ...                               ...   \n",
       "8540     Zimbabwe    ZWE  2013                               4.2   \n",
       "8541     Zimbabwe    ZWE  2014                               4.4   \n",
       "8542     Zimbabwe    ZWE  2015                               4.5   \n",
       "8543     Zimbabwe    ZWE  2016                               4.7   \n",
       "8544     Zimbabwe    ZWE  2023                               NaN   \n",
       "\n",
       "      Übergewicht_Prävalenz_Frauen_18+  \\\n",
       "0                                  0.8   \n",
       "1                                  0.8   \n",
       "2                                  0.9   \n",
       "3                                  0.9   \n",
       "4                                  1.0   \n",
       "...                                ...   \n",
       "8540                              23.9   \n",
       "8541                              24.4   \n",
       "8542                              24.8   \n",
       "8543                              25.3   \n",
       "8544                               NaN   \n",
       "\n",
       "      Durchschnitt_Prävalenz_18+_ausgerechnet  \n",
       "0                                         0.5  \n",
       "1                                         0.5  \n",
       "2                                         0.6  \n",
       "3                                         0.6  \n",
       "4                                         0.6  \n",
       "...                                       ...  \n",
       "8540                                     14.0  \n",
       "8541                                     14.4  \n",
       "8542                                     14.6  \n",
       "8543                                     15.0  \n",
       "8544                                      NaN  \n",
       "\n",
       "[8545 rows x 6 columns]"
      ]
     },
     "execution_count": 47,
     "metadata": {},
     "output_type": "execute_result"
    }
   ],
   "source": [
    "df_einzeln['Durchschnitt_Prävalenz_18+_ausgerechnet'] = ((df_einzeln['Übergewicht_Prävalenz_Frauen_18+']+df_einzeln['Übergewicht_Prävalenz_Männer_18+'])/2).round(1)\n",
    "\n",
    "df_einzeln"
   ]
  },
  {
   "cell_type": "code",
   "execution_count": 48,
   "id": "4a7c1262",
   "metadata": {},
   "outputs": [
    {
     "data": {
      "image/png": "[encoded data removed]",
      "text/plain": [
       "<Figure size 1000x600 with 1 Axes>"
      ]
     },
     "metadata": {},
     "output_type": "display_data"
    }
   ],
   "source": [
    "Start_Jahr = 1996\n",
    "End_Jahr = 2016\n",
    "\n",
    "df_einzeln_gefiltert = df_einzeln[(df_einzeln['Jahr']>= Start_Jahr) & (df_einzeln['Jahr'] <= End_Jahr)]\n",
    "\n",
    "gruppiert = df_einzeln_gefiltert.groupby('Jahr')['Durchschnitt_Prävalenz_18+_ausgerechnet'].apply(list)\n",
    "\n",
    "fig, box_1 = plt.subplots(figsize=(10, 6))\n",
    "bplot = box_1.boxplot(gruppiert, patch_artist=True)\n",
    "colors = ['skyblue'] * len(gruppiert)\n",
    "alpha = 0.5\n",
    "for patch, color in zip(bplot['boxes'],colors):\n",
    "    patch.set_facecolor(color)\n",
    "    patch.set_alpha(alpha)\n",
    "\n",
    "box_1.set_xticklabels(gruppiert.index)\n",
    "\n",
    "box_1.set_ylabel('Prävalenz (%)')\n",
    "box_1.set_xlabel('Jahr'); \n"
   ]
  },
  {
   "cell_type": "code",
   "execution_count": 49,
   "id": "896d720d",
   "metadata": {},
   "outputs": [
    {
     "data": {
      "text/html": [
       "<div>\n",
       "<style scoped>\n",
       "    .dataframe tbody tr th:only-of-type {\n",
       "        vertical-align: middle;\n",
       "    }\n",
       "\n",
       "    .dataframe tbody tr th {\n",
       "        vertical-align: top;\n",
       "    }\n",
       "\n",
       "    .dataframe thead th {\n",
       "        text-align: right;\n",
       "    }\n",
       "</style>\n",
       "<table border=\"1\" class=\"dataframe\">\n",
       "  <thead>\n",
       "    <tr style=\"text-align: right;\">\n",
       "      <th>Jahr</th>\n",
       "      <th>1975</th>\n",
       "      <th>1976</th>\n",
       "      <th>1977</th>\n",
       "      <th>1978</th>\n",
       "      <th>1979</th>\n",
       "      <th>1980</th>\n",
       "      <th>1981</th>\n",
       "      <th>1982</th>\n",
       "      <th>1983</th>\n",
       "      <th>1984</th>\n",
       "      <th>...</th>\n",
       "      <th>2007</th>\n",
       "      <th>2008</th>\n",
       "      <th>2009</th>\n",
       "      <th>2010</th>\n",
       "      <th>2011</th>\n",
       "      <th>2012</th>\n",
       "      <th>2013</th>\n",
       "      <th>2014</th>\n",
       "      <th>2015</th>\n",
       "      <th>2016</th>\n",
       "    </tr>\n",
       "    <tr>\n",
       "      <th>Land</th>\n",
       "      <th></th>\n",
       "      <th></th>\n",
       "      <th></th>\n",
       "      <th></th>\n",
       "      <th></th>\n",
       "      <th></th>\n",
       "      <th></th>\n",
       "      <th></th>\n",
       "      <th></th>\n",
       "      <th></th>\n",
       "      <th></th>\n",
       "      <th></th>\n",
       "      <th></th>\n",
       "      <th></th>\n",
       "      <th></th>\n",
       "      <th></th>\n",
       "      <th></th>\n",
       "      <th></th>\n",
       "      <th></th>\n",
       "      <th></th>\n",
       "      <th></th>\n",
       "    </tr>\n",
       "  </thead>\n",
       "  <tbody>\n",
       "    <tr>\n",
       "      <th>Afghanistan</th>\n",
       "      <td>0.5</td>\n",
       "      <td>0.5</td>\n",
       "      <td>0.6</td>\n",
       "      <td>0.6</td>\n",
       "      <td>0.6</td>\n",
       "      <td>0.7</td>\n",
       "      <td>0.7</td>\n",
       "      <td>0.8</td>\n",
       "      <td>0.8</td>\n",
       "      <td>0.9</td>\n",
       "      <td>...</td>\n",
       "      <td>3.4</td>\n",
       "      <td>3.6</td>\n",
       "      <td>3.8</td>\n",
       "      <td>4.0</td>\n",
       "      <td>4.2</td>\n",
       "      <td>4.4</td>\n",
       "      <td>4.6</td>\n",
       "      <td>4.9</td>\n",
       "      <td>5.2</td>\n",
       "      <td>5.4</td>\n",
       "    </tr>\n",
       "    <tr>\n",
       "      <th>Africa (WHO)</th>\n",
       "      <td>2.0</td>\n",
       "      <td>2.0</td>\n",
       "      <td>2.1</td>\n",
       "      <td>2.2</td>\n",
       "      <td>2.3</td>\n",
       "      <td>2.4</td>\n",
       "      <td>2.5</td>\n",
       "      <td>2.6</td>\n",
       "      <td>2.8</td>\n",
       "      <td>2.9</td>\n",
       "      <td>...</td>\n",
       "      <td>7.7</td>\n",
       "      <td>8.0</td>\n",
       "      <td>8.2</td>\n",
       "      <td>8.6</td>\n",
       "      <td>8.9</td>\n",
       "      <td>9.1</td>\n",
       "      <td>9.5</td>\n",
       "      <td>9.8</td>\n",
       "      <td>10.1</td>\n",
       "      <td>10.4</td>\n",
       "    </tr>\n",
       "    <tr>\n",
       "      <th>Albania</th>\n",
       "      <td>6.5</td>\n",
       "      <td>6.7</td>\n",
       "      <td>6.8</td>\n",
       "      <td>7.0</td>\n",
       "      <td>7.2</td>\n",
       "      <td>7.4</td>\n",
       "      <td>7.6</td>\n",
       "      <td>7.8</td>\n",
       "      <td>8.0</td>\n",
       "      <td>8.3</td>\n",
       "      <td>...</td>\n",
       "      <td>16.5</td>\n",
       "      <td>17.0</td>\n",
       "      <td>17.6</td>\n",
       "      <td>18.2</td>\n",
       "      <td>18.8</td>\n",
       "      <td>19.4</td>\n",
       "      <td>20.0</td>\n",
       "      <td>20.5</td>\n",
       "      <td>21.1</td>\n",
       "      <td>21.7</td>\n",
       "    </tr>\n",
       "    <tr>\n",
       "      <th>Algeria</th>\n",
       "      <td>6.8</td>\n",
       "      <td>7.0</td>\n",
       "      <td>7.2</td>\n",
       "      <td>7.5</td>\n",
       "      <td>7.8</td>\n",
       "      <td>8.2</td>\n",
       "      <td>8.4</td>\n",
       "      <td>8.8</td>\n",
       "      <td>9.2</td>\n",
       "      <td>9.6</td>\n",
       "      <td>...</td>\n",
       "      <td>21.4</td>\n",
       "      <td>22.0</td>\n",
       "      <td>22.7</td>\n",
       "      <td>23.4</td>\n",
       "      <td>24.0</td>\n",
       "      <td>24.7</td>\n",
       "      <td>25.4</td>\n",
       "      <td>26.0</td>\n",
       "      <td>26.7</td>\n",
       "      <td>27.4</td>\n",
       "    </tr>\n",
       "    <tr>\n",
       "      <th>Americas (WHO)</th>\n",
       "      <td>9.4</td>\n",
       "      <td>9.8</td>\n",
       "      <td>10.0</td>\n",
       "      <td>10.4</td>\n",
       "      <td>10.7</td>\n",
       "      <td>11.0</td>\n",
       "      <td>11.4</td>\n",
       "      <td>11.8</td>\n",
       "      <td>12.1</td>\n",
       "      <td>12.5</td>\n",
       "      <td>...</td>\n",
       "      <td>23.8</td>\n",
       "      <td>24.2</td>\n",
       "      <td>24.8</td>\n",
       "      <td>25.3</td>\n",
       "      <td>25.8</td>\n",
       "      <td>26.3</td>\n",
       "      <td>26.8</td>\n",
       "      <td>27.4</td>\n",
       "      <td>28.0</td>\n",
       "      <td>28.4</td>\n",
       "    </tr>\n",
       "    <tr>\n",
       "      <th>...</th>\n",
       "      <td>...</td>\n",
       "      <td>...</td>\n",
       "      <td>...</td>\n",
       "      <td>...</td>\n",
       "      <td>...</td>\n",
       "      <td>...</td>\n",
       "      <td>...</td>\n",
       "      <td>...</td>\n",
       "      <td>...</td>\n",
       "      <td>...</td>\n",
       "      <td>...</td>\n",
       "      <td>...</td>\n",
       "      <td>...</td>\n",
       "      <td>...</td>\n",
       "      <td>...</td>\n",
       "      <td>...</td>\n",
       "      <td>...</td>\n",
       "      <td>...</td>\n",
       "      <td>...</td>\n",
       "      <td>...</td>\n",
       "      <td>...</td>\n",
       "    </tr>\n",
       "    <tr>\n",
       "      <th>Vietnam</th>\n",
       "      <td>0.2</td>\n",
       "      <td>0.2</td>\n",
       "      <td>0.2</td>\n",
       "      <td>0.2</td>\n",
       "      <td>0.2</td>\n",
       "      <td>0.2</td>\n",
       "      <td>0.2</td>\n",
       "      <td>0.2</td>\n",
       "      <td>0.2</td>\n",
       "      <td>0.2</td>\n",
       "      <td>...</td>\n",
       "      <td>1.0</td>\n",
       "      <td>1.2</td>\n",
       "      <td>1.2</td>\n",
       "      <td>1.3</td>\n",
       "      <td>1.4</td>\n",
       "      <td>1.6</td>\n",
       "      <td>1.6</td>\n",
       "      <td>1.8</td>\n",
       "      <td>2.0</td>\n",
       "      <td>2.1</td>\n",
       "    </tr>\n",
       "    <tr>\n",
       "      <th>Western Pacific (WHO)</th>\n",
       "      <td>0.8</td>\n",
       "      <td>0.8</td>\n",
       "      <td>0.8</td>\n",
       "      <td>0.8</td>\n",
       "      <td>1.0</td>\n",
       "      <td>1.0</td>\n",
       "      <td>1.0</td>\n",
       "      <td>1.0</td>\n",
       "      <td>1.1</td>\n",
       "      <td>1.2</td>\n",
       "      <td>...</td>\n",
       "      <td>4.0</td>\n",
       "      <td>4.2</td>\n",
       "      <td>4.4</td>\n",
       "      <td>4.6</td>\n",
       "      <td>4.9</td>\n",
       "      <td>5.2</td>\n",
       "      <td>5.4</td>\n",
       "      <td>5.8</td>\n",
       "      <td>6.1</td>\n",
       "      <td>6.4</td>\n",
       "    </tr>\n",
       "    <tr>\n",
       "      <th>Yemen</th>\n",
       "      <td>2.7</td>\n",
       "      <td>2.8</td>\n",
       "      <td>2.9</td>\n",
       "      <td>3.1</td>\n",
       "      <td>3.2</td>\n",
       "      <td>3.4</td>\n",
       "      <td>3.6</td>\n",
       "      <td>3.8</td>\n",
       "      <td>4.0</td>\n",
       "      <td>4.2</td>\n",
       "      <td>...</td>\n",
       "      <td>11.8</td>\n",
       "      <td>12.4</td>\n",
       "      <td>12.8</td>\n",
       "      <td>13.4</td>\n",
       "      <td>13.9</td>\n",
       "      <td>14.5</td>\n",
       "      <td>15.1</td>\n",
       "      <td>15.7</td>\n",
       "      <td>16.4</td>\n",
       "      <td>17.0</td>\n",
       "    </tr>\n",
       "    <tr>\n",
       "      <th>Zambia</th>\n",
       "      <td>1.5</td>\n",
       "      <td>1.6</td>\n",
       "      <td>1.7</td>\n",
       "      <td>1.8</td>\n",
       "      <td>1.9</td>\n",
       "      <td>2.0</td>\n",
       "      <td>2.2</td>\n",
       "      <td>2.3</td>\n",
       "      <td>2.4</td>\n",
       "      <td>2.5</td>\n",
       "      <td>...</td>\n",
       "      <td>5.4</td>\n",
       "      <td>5.6</td>\n",
       "      <td>6.0</td>\n",
       "      <td>6.2</td>\n",
       "      <td>6.4</td>\n",
       "      <td>6.8</td>\n",
       "      <td>7.0</td>\n",
       "      <td>7.4</td>\n",
       "      <td>7.7</td>\n",
       "      <td>8.0</td>\n",
       "    </tr>\n",
       "    <tr>\n",
       "      <th>Zimbabwe</th>\n",
       "      <td>3.6</td>\n",
       "      <td>3.8</td>\n",
       "      <td>4.0</td>\n",
       "      <td>4.1</td>\n",
       "      <td>4.4</td>\n",
       "      <td>4.5</td>\n",
       "      <td>4.8</td>\n",
       "      <td>4.9</td>\n",
       "      <td>5.2</td>\n",
       "      <td>5.4</td>\n",
       "      <td>...</td>\n",
       "      <td>12.3</td>\n",
       "      <td>12.6</td>\n",
       "      <td>12.9</td>\n",
       "      <td>13.2</td>\n",
       "      <td>13.4</td>\n",
       "      <td>13.8</td>\n",
       "      <td>14.0</td>\n",
       "      <td>14.4</td>\n",
       "      <td>14.6</td>\n",
       "      <td>15.0</td>\n",
       "    </tr>\n",
       "  </tbody>\n",
       "</table>\n",
       "<p>197 rows × 42 columns</p>\n",
       "</div>"
      ],
      "text/plain": [
       "Jahr                   1975  1976  1977  1978  1979  1980  1981  1982  1983  \\\n",
       "Land                                                                          \n",
       "Afghanistan             0.5   0.5   0.6   0.6   0.6   0.7   0.7   0.8   0.8   \n",
       "Africa (WHO)            2.0   2.0   2.1   2.2   2.3   2.4   2.5   2.6   2.8   \n",
       "Albania                 6.5   6.7   6.8   7.0   7.2   7.4   7.6   7.8   8.0   \n",
       "Algeria                 6.8   7.0   7.2   7.5   7.8   8.2   8.4   8.8   9.2   \n",
       "Americas (WHO)          9.4   9.8  10.0  10.4  10.7  11.0  11.4  11.8  12.1   \n",
       "...                     ...   ...   ...   ...   ...   ...   ...   ...   ...   \n",
       "Vietnam                 0.2   0.2   0.2   0.2   0.2   0.2   0.2   0.2   0.2   \n",
       "Western Pacific (WHO)   0.8   0.8   0.8   0.8   1.0   1.0   1.0   1.0   1.1   \n",
       "Yemen                   2.7   2.8   2.9   3.1   3.2   3.4   3.6   3.8   4.0   \n",
       "Zambia                  1.5   1.6   1.7   1.8   1.9   2.0   2.2   2.3   2.4   \n",
       "Zimbabwe                3.6   3.8   4.0   4.1   4.4   4.5   4.8   4.9   5.2   \n",
       "\n",
       "Jahr                   1984  ...  2007  2008  2009  2010  2011  2012  2013  \\\n",
       "Land                         ...                                             \n",
       "Afghanistan             0.9  ...   3.4   3.6   3.8   4.0   4.2   4.4   4.6   \n",
       "Africa (WHO)            2.9  ...   7.7   8.0   8.2   8.6   8.9   9.1   9.5   \n",
       "Albania                 8.3  ...  16.5  17.0  17.6  18.2  18.8  19.4  20.0   \n",
       "Algeria                 9.6  ...  21.4  22.0  22.7  23.4  24.0  24.7  25.4   \n",
       "Americas (WHO)         12.5  ...  23.8  24.2  24.8  25.3  25.8  26.3  26.8   \n",
       "...                     ...  ...   ...   ...   ...   ...   ...   ...   ...   \n",
       "Vietnam                 0.2  ...   1.0   1.2   1.2   1.3   1.4   1.6   1.6   \n",
       "Western Pacific (WHO)   1.2  ...   4.0   4.2   4.4   4.6   4.9   5.2   5.4   \n",
       "Yemen                   4.2  ...  11.8  12.4  12.8  13.4  13.9  14.5  15.1   \n",
       "Zambia                  2.5  ...   5.4   5.6   6.0   6.2   6.4   6.8   7.0   \n",
       "Zimbabwe                5.4  ...  12.3  12.6  12.9  13.2  13.4  13.8  14.0   \n",
       "\n",
       "Jahr                   2014  2015  2016  \n",
       "Land                                     \n",
       "Afghanistan             4.9   5.2   5.4  \n",
       "Africa (WHO)            9.8  10.1  10.4  \n",
       "Albania                20.5  21.1  21.7  \n",
       "Algeria                26.0  26.7  27.4  \n",
       "Americas (WHO)         27.4  28.0  28.4  \n",
       "...                     ...   ...   ...  \n",
       "Vietnam                 1.8   2.0   2.1  \n",
       "Western Pacific (WHO)   5.8   6.1   6.4  \n",
       "Yemen                  15.7  16.4  17.0  \n",
       "Zambia                  7.4   7.7   8.0  \n",
       "Zimbabwe               14.4  14.6  15.0  \n",
       "\n",
       "[197 rows x 42 columns]"
      ]
     },
     "execution_count": 49,
     "metadata": {},
     "output_type": "execute_result"
    }
   ],
   "source": [
    "df_einzeln_pivot = df_einzeln.pivot_table(index='Land', columns='Jahr', values='Durchschnitt_Prävalenz_18+_ausgerechnet')\n",
    "df_einzeln_pivot"
   ]
  },
  {
   "cell_type": "code",
   "execution_count": 50,
   "id": "74e489a1",
   "metadata": {},
   "outputs": [
    {
     "name": "stdout",
     "output_type": "stream",
     "text": [
      "Index([1975, 1976, 1977, 1978, 1979, 1980, 1981, 1982, 1983, 1984, 1985, 1986,\n",
      "       1987, 1988, 1989, 1990, 1991, 1992, 1993, 1994, 1995, 1996, 1997, 1998,\n",
      "       1999, 2000, 2001, 2002, 2003, 2004, 2005, 2006, 2007, 2008, 2009, 2010,\n",
      "       2011, 2012, 2013, 2014, 2015, 2016],\n",
      "      dtype='int64', name='Jahr')\n"
     ]
    }
   ],
   "source": [
    "print(df_einzeln_pivot.columns)"
   ]
  },
  {
   "cell_type": "code",
   "execution_count": 51,
   "id": "e59660f5",
   "metadata": {},
   "outputs": [
    {
     "data": {
      "text/plain": [
       "Land\n",
       "Vietnam          1.6\n",
       "Singapore        2.0\n",
       "South Korea      2.2\n",
       "Japan            2.4\n",
       "India            2.6\n",
       "                ... \n",
       "Tonga           14.0\n",
       "Cook Islands    14.1\n",
       "Kiribati        14.6\n",
       "Tuvalu          15.3\n",
       "Niue            15.4\n",
       "Length: 197, dtype: float64"
      ]
     },
     "execution_count": 51,
     "metadata": {},
     "output_type": "execute_result"
    }
   ],
   "source": [
    "Differenz_Durchschnitt = df_einzeln_pivot[2016] - df_einzeln_pivot[1996]\n",
    "Differenz_Durchschnitt = Differenz_Durchschnitt.sort_values()\n",
    "Differenz_Durchschnitt"
   ]
  },
  {
   "cell_type": "markdown",
   "id": "f05a7ca8",
   "metadata": {},
   "source": [
    "Auffallend: Alles Länder gestiegen."
   ]
  },
  {
   "cell_type": "code",
   "execution_count": 52,
   "id": "108d8e62",
   "metadata": {},
   "outputs": [
    {
     "data": {
      "application/vnd.plotly.v1+json": {
       "config": {
        "plotlyServerURL": "https://plot.ly"
       },
       "data": [
        {
         "alignmentgroup": "True",
         "hovertemplate": "Land=%{x}<br>Differenz der Prävalenz in %=%{y}<extra></extra>",
         "legendgroup": "",
         "marker": {
          "color": "#636efa",
          "pattern": {
           "shape": ""
          }
         },
         "name": "",
         "offsetgroup": "",
         "orientation": "v",
         "showlegend": false,
         "textposition": "auto",
         "type": "bar",
         "x": [
          "Vietnam",
          "Singapore",
          "South Korea",
          "Japan",
          "India",
          "Bangladesh",
          "Cambodia",
          "East Timor",
          "Ethiopia",
          "Nepal",
          "Eritrea",
          "South-East Asia (WHO)",
          "North Korea",
          "Uganda",
          "Sri Lanka",
          "Madagascar",
          "Malawi",
          "Niger",
          "Chad",
          "Burundi",
          "Afghanistan",
          "Philippines",
          "Burkina Faso",
          "Myanmar",
          "Rwanda",
          "Laos",
          "Central African Republic",
          "Mozambique",
          "Democratic Republic of Congo",
          "Western Pacific (WHO)",
          "Comoros",
          "Zambia",
          "Kenya",
          "China",
          "Andorra",
          "Sudan (former)",
          "Guinea",
          "Equatorial Guinea",
          "Senegal",
          "Mauritius",
          "Bhutan",
          "Somalia",
          "Liberia",
          "Estonia",
          "Indonesia",
          "Togo",
          "Russia",
          "Sierra Leone",
          "Djibouti",
          "Congo",
          "Angola",
          "Latvia",
          "Pakistan",
          "Benin",
          "Africa (WHO)",
          "Tanzania",
          "Mali",
          "Nigeria",
          "Moldova",
          "Lithuania",
          "Zimbabwe",
          "Czechia",
          "Guinea-Bissau",
          "Slovakia",
          "Cote d'Ivoire",
          "Italy",
          "Ghana",
          "Maldives",
          "Ukraine",
          "Belgium",
          "Israel",
          "Slovenia",
          "Gambia",
          "Bosnia and Herzegovina",
          "North Macedonia",
          "Cameroon",
          "Seychelles",
          "Cape Verde",
          "Denmark",
          "Eswatini",
          "Poland",
          "Thailand",
          "Spain",
          "Cyprus",
          "Switzerland",
          "Tajikistan",
          "Mauritania",
          "Armenia",
          "Belarus",
          "Sao Tome and Principe",
          "France",
          "Iceland",
          "Malta",
          "Europe (WHO)",
          "Finland",
          "Gabon",
          "Sweden",
          "Serbia",
          "Nauru",
          "Germany",
          "Austria",
          "Peru",
          "Romania",
          "Antigua and Barbuda",
          "Bulgaria",
          "Uzbekistan",
          "Greece",
          "Venezuela",
          "Lesotho",
          "Kyrgyzstan",
          "Brunei",
          "Hungary",
          "Botswana",
          "Ecuador",
          "Saint Lucia",
          "Croatia",
          "Kazakhstan",
          "Luxembourg",
          "Azerbaijan",
          "Colombia",
          "Namibia",
          "Bahrain",
          "Bolivia",
          "Turkmenistan",
          "Norway",
          "Cuba",
          "Portugal",
          "Eastern Mediterranean (WHO)",
          "Chile",
          "Argentina",
          "Suriname",
          "Montenegro",
          "Uruguay",
          "Netherlands",
          "Kuwait",
          "Georgia",
          "Brazil",
          "Belize",
          "Guyana",
          "Papua New Guinea",
          "Trinidad and Tobago",
          "Iraq",
          "Yemen",
          "Paraguay",
          "Bahamas",
          "Nicaragua",
          "Lebanon",
          "Grenada",
          "Guatemala",
          "Libya",
          "Malaysia",
          "Barbados",
          "Mexico",
          "Albania",
          "Panama",
          "Mongolia",
          "Saint Kitts and Nevis",
          "Honduras",
          "Americas (WHO)",
          "Jamaica",
          "Dominica",
          "South Africa",
          "Tunisia",
          "Qatar",
          "Solomon Islands",
          "United Arab Emirates",
          "El Salvador",
          "Australia",
          "Saint Vincent and the Grenadines",
          "United Kingdom",
          "Canada",
          "Iran",
          "Jordan",
          "Oman",
          "Morocco",
          "Vanuatu",
          "New Zealand",
          "Syria",
          "Ireland",
          "Marshall Islands",
          "Fiji",
          "Saudi Arabia",
          "Egypt",
          "Turkey",
          "Algeria",
          "Palau",
          "Costa Rica",
          "Samoa",
          "Haiti",
          "Micronesia (country)",
          "Dominican Republic",
          "United States",
          "Tonga",
          "Cook Islands",
          "Kiribati",
          "Tuvalu",
          "Niue"
         ],
         "xaxis": "x",
         "y": [
          1.6,
          2,
          2.1999999999999997,
          2.4000000000000004,
          2.5999999999999996,
          2.6,
          2.6999999999999997,
          2.8,
          2.8000000000000003,
          2.8999999999999995,
          3,
          3.2,
          3.3000000000000003,
          3.3000000000000003,
          3.3999999999999995,
          3.4000000000000004,
          3.5999999999999996,
          3.5999999999999996,
          3.6,
          3.6000000000000005,
          3.6000000000000005,
          3.7,
          3.8000000000000003,
          3.8999999999999995,
          3.9999999999999996,
          4,
          4.1,
          4.1000000000000005,
          4.199999999999999,
          4.2,
          4.3,
          4.3,
          4.4,
          4.4,
          4.5,
          4.5,
          4.6,
          4.6,
          4.6000000000000005,
          4.699999999999999,
          4.699999999999999,
          4.699999999999999,
          4.700000000000001,
          4.800000000000001,
          4.9,
          4.999999999999999,
          5,
          5,
          5,
          5.2,
          5.2,
          5.399999999999999,
          5.3999999999999995,
          5.4,
          5.4,
          5.4,
          5.6,
          5.6000000000000005,
          5.600000000000001,
          5.800000000000001,
          6,
          6,
          6,
          6.099999999999998,
          6.1,
          6.100000000000001,
          6.199999999999999,
          6.199999999999999,
          6.199999999999999,
          6.300000000000001,
          6.399999999999999,
          6.399999999999999,
          6.3999999999999995,
          6.4,
          6.499999999999998,
          6.499999999999999,
          6.5,
          6.8,
          6.800000000000001,
          6.800000000000001,
          6.800000000000001,
          6.800000000000001,
          6.899999999999999,
          6.9,
          7,
          7.1,
          7.199999999999999,
          7.199999999999999,
          7.199999999999999,
          7.2,
          7.200000000000001,
          7.200000000000001,
          7.300000000000001,
          7.399999999999999,
          7.399999999999999,
          7.4,
          7.400000000000002,
          7.5,
          7.5,
          7.5,
          7.500000000000002,
          7.6,
          7.6,
          7.600000000000001,
          7.699999999999999,
          7.799999999999999,
          7.800000000000001,
          7.800000000000001,
          7.8999999999999995,
          7.9,
          8,
          8,
          8,
          8.200000000000001,
          8.3,
          8.3,
          8.4,
          8.400000000000002,
          8.5,
          8.500000000000002,
          8.599999999999998,
          8.599999999999998,
          8.6,
          8.799999999999999,
          8.8,
          8.900000000000002,
          9,
          9,
          9.2,
          9.2,
          9.2,
          9.2,
          9.2,
          9.2,
          9.2,
          9.3,
          9.4,
          9.4,
          9.499999999999998,
          9.5,
          9.599999999999998,
          9.599999999999998,
          9.6,
          9.6,
          9.7,
          9.7,
          9.700000000000003,
          9.799999999999999,
          9.8,
          9.899999999999999,
          9.9,
          9.9,
          10,
          10,
          10,
          10.099999999999998,
          10.1,
          10.399999999999999,
          10.399999999999999,
          10.399999999999999,
          10.400000000000002,
          10.5,
          10.5,
          10.599999999999998,
          10.7,
          10.800000000000004,
          10.899999999999999,
          10.899999999999999,
          11,
          11.2,
          11.2,
          11.200000000000001,
          11.200000000000003,
          11.3,
          11.3,
          11.399999999999999,
          11.400000000000002,
          11.5,
          11.5,
          11.599999999999994,
          11.599999999999998,
          11.600000000000001,
          11.899999999999999,
          12.2,
          12.2,
          12.299999999999997,
          13.200000000000001,
          13.399999999999999,
          13.499999999999998,
          13.599999999999994,
          13.600000000000001,
          13.600000000000001,
          14,
          14.100000000000001,
          14.600000000000001,
          15.300000000000004,
          15.399999999999999
         ],
         "yaxis": "y"
        }
       ],
       "layout": {
        "barmode": "relative",
        "legend": {
         "tracegroupgap": 0
        },
        "template": {
         "data": {
          "bar": [
           {
            "error_x": {
             "color": "#2a3f5f"
            },
            "error_y": {
             "color": "#2a3f5f"
            },
            "marker": {
             "line": {
              "color": "#E5ECF6",
              "width": 0.5
             },
             "pattern": {
              "fillmode": "overlay",
              "size": 10,
              "solidity": 0.2
             }
            },
            "type": "bar"
           }
          ],
          "barpolar": [
           {
            "marker": {
             "line": {
              "color": "#E5ECF6",
              "width": 0.5
             },
             "pattern": {
              "fillmode": "overlay",
              "size": 10,
              "solidity": 0.2
             }
            },
            "type": "barpolar"
           }
          ],
          "carpet": [
           {
            "aaxis": {
             "endlinecolor": "#2a3f5f",
             "gridcolor": "white",
             "linecolor": "white",
             "minorgridcolor": "white",
             "startlinecolor": "#2a3f5f"
            },
            "baxis": {
             "endlinecolor": "#2a3f5f",
             "gridcolor": "white",
             "linecolor": "white",
             "minorgridcolor": "white",
             "startlinecolor": "#2a3f5f"
            },
            "type": "carpet"
           }
          ],
          "choropleth": [
           {
            "colorbar": {
             "outlinewidth": 0,
             "ticks": ""
            },
            "type": "choropleth"
           }
          ],
          "contour": [
           {
            "colorbar": {
             "outlinewidth": 0,
             "ticks": ""
            },
            "colorscale": [
             [
              0,
              "#0d0887"
             ],
             [
              0.1111111111111111,
              "#46039f"
             ],
             [
              0.2222222222222222,
              "#7201a8"
             ],
             [
              0.3333333333333333,
              "#9c179e"
             ],
             [
              0.4444444444444444,
              "#bd3786"
             ],
             [
              0.5555555555555556,
              "#d8576b"
             ],
             [
              0.6666666666666666,
              "#ed7953"
             ],
             [
              0.7777777777777778,
              "#fb9f3a"
             ],
             [
              0.8888888888888888,
              "#fdca26"
             ],
             [
              1,
              "#f0f921"
             ]
            ],
            "type": "contour"
           }
          ],
          "contourcarpet": [
           {
            "colorbar": {
             "outlinewidth": 0,
             "ticks": ""
            },
            "type": "contourcarpet"
           }
          ],
          "heatmap": [
           {
            "colorbar": {
             "outlinewidth": 0,
             "ticks": ""
            },
            "colorscale": [
             [
              0,
              "#0d0887"
             ],
             [
              0.1111111111111111,
              "#46039f"
             ],
             [
              0.2222222222222222,
              "#7201a8"
             ],
             [
              0.3333333333333333,
              "#9c179e"
             ],
             [
              0.4444444444444444,
              "#bd3786"
             ],
             [
              0.5555555555555556,
              "#d8576b"
             ],
             [
              0.6666666666666666,
              "#ed7953"
             ],
             [
              0.7777777777777778,
              "#fb9f3a"
             ],
             [
              0.8888888888888888,
              "#fdca26"
             ],
             [
              1,
              "#f0f921"
             ]
            ],
            "type": "heatmap"
           }
          ],
          "heatmapgl": [
           {
            "colorbar": {
             "outlinewidth": 0,
             "ticks": ""
            },
            "colorscale": [
             [
              0,
              "#0d0887"
             ],
             [
              0.1111111111111111,
              "#46039f"
             ],
             [
              0.2222222222222222,
              "#7201a8"
             ],
             [
              0.3333333333333333,
              "#9c179e"
             ],
             [
              0.4444444444444444,
              "#bd3786"
             ],
             [
              0.5555555555555556,
              "#d8576b"
             ],
             [
              0.6666666666666666,
              "#ed7953"
             ],
             [
              0.7777777777777778,
              "#fb9f3a"
             ],
             [
              0.8888888888888888,
              "#fdca26"
             ],
             [
              1,
              "#f0f921"
             ]
            ],
            "type": "heatmapgl"
           }
          ],
          "histogram": [
           {
            "marker": {
             "pattern": {
              "fillmode": "overlay",
              "size": 10,
              "solidity": 0.2
             }
            },
            "type": "histogram"
           }
          ],
          "histogram2d": [
           {
            "colorbar": {
             "outlinewidth": 0,
             "ticks": ""
            },
            "colorscale": [
             [
              0,
              "#0d0887"
             ],
             [
              0.1111111111111111,
              "#46039f"
             ],
             [
              0.2222222222222222,
              "#7201a8"
             ],
             [
              0.3333333333333333,
              "#9c179e"
             ],
             [
              0.4444444444444444,
              "#bd3786"
             ],
             [
              0.5555555555555556,
              "#d8576b"
             ],
             [
              0.6666666666666666,
              "#ed7953"
             ],
             [
              0.7777777777777778,
              "#fb9f3a"
             ],
             [
              0.8888888888888888,
              "#fdca26"
             ],
             [
              1,
              "#f0f921"
             ]
            ],
            "type": "histogram2d"
           }
          ],
          "histogram2dcontour": [
           {
            "colorbar": {
             "outlinewidth": 0,
             "ticks": ""
            },
            "colorscale": [
             [
              0,
              "#0d0887"
             ],
             [
              0.1111111111111111,
              "#46039f"
             ],
             [
              0.2222222222222222,
              "#7201a8"
             ],
             [
              0.3333333333333333,
              "#9c179e"
             ],
             [
              0.4444444444444444,
              "#bd3786"
             ],
             [
              0.5555555555555556,
              "#d8576b"
             ],
             [
              0.6666666666666666,
              "#ed7953"
             ],
             [
              0.7777777777777778,
              "#fb9f3a"
             ],
             [
              0.8888888888888888,
              "#fdca26"
             ],
             [
              1,
              "#f0f921"
             ]
            ],
            "type": "histogram2dcontour"
           }
          ],
          "mesh3d": [
           {
            "colorbar": {
             "outlinewidth": 0,
             "ticks": ""
            },
            "type": "mesh3d"
           }
          ],
          "parcoords": [
           {
            "line": {
             "colorbar": {
              "outlinewidth": 0,
              "ticks": ""
             }
            },
            "type": "parcoords"
           }
          ],
          "pie": [
           {
            "automargin": true,
            "type": "pie"
           }
          ],
          "scatter": [
           {
            "fillpattern": {
             "fillmode": "overlay",
             "size": 10,
             "solidity": 0.2
            },
            "type": "scatter"
           }
          ],
          "scatter3d": [
           {
            "line": {
             "colorbar": {
              "outlinewidth": 0,
              "ticks": ""
             }
            },
            "marker": {
             "colorbar": {
              "outlinewidth": 0,
              "ticks": ""
             }
            },
            "type": "scatter3d"
           }
          ],
          "scattercarpet": [
           {
            "marker": {
             "colorbar": {
              "outlinewidth": 0,
              "ticks": ""
             }
            },
            "type": "scattercarpet"
           }
          ],
          "scattergeo": [
           {
            "marker": {
             "colorbar": {
              "outlinewidth": 0,
              "ticks": ""
             }
            },
            "type": "scattergeo"
           }
          ],
          "scattergl": [
           {
            "marker": {
             "colorbar": {
              "outlinewidth": 0,
              "ticks": ""
             }
            },
            "type": "scattergl"
           }
          ],
          "scattermapbox": [
           {
            "marker": {
             "colorbar": {
              "outlinewidth": 0,
              "ticks": ""
             }
            },
            "type": "scattermapbox"
           }
          ],
          "scatterpolar": [
           {
            "marker": {
             "colorbar": {
              "outlinewidth": 0,
              "ticks": ""
             }
            },
            "type": "scatterpolar"
           }
          ],
          "scatterpolargl": [
           {
            "marker": {
             "colorbar": {
              "outlinewidth": 0,
              "ticks": ""
             }
            },
            "type": "scatterpolargl"
           }
          ],
          "scatterternary": [
           {
            "marker": {
             "colorbar": {
              "outlinewidth": 0,
              "ticks": ""
             }
            },
            "type": "scatterternary"
           }
          ],
          "surface": [
           {
            "colorbar": {
             "outlinewidth": 0,
             "ticks": ""
            },
            "colorscale": [
             [
              0,
              "#0d0887"
             ],
             [
              0.1111111111111111,
              "#46039f"
             ],
             [
              0.2222222222222222,
              "#7201a8"
             ],
             [
              0.3333333333333333,
              "#9c179e"
             ],
             [
              0.4444444444444444,
              "#bd3786"
             ],
             [
              0.5555555555555556,
              "#d8576b"
             ],
             [
              0.6666666666666666,
              "#ed7953"
             ],
             [
              0.7777777777777778,
              "#fb9f3a"
             ],
             [
              0.8888888888888888,
              "#fdca26"
             ],
             [
              1,
              "#f0f921"
             ]
            ],
            "type": "surface"
           }
          ],
          "table": [
           {
            "cells": {
             "fill": {
              "color": "#EBF0F8"
             },
             "line": {
              "color": "white"
             }
            },
            "header": {
             "fill": {
              "color": "#C8D4E3"
             },
             "line": {
              "color": "white"
             }
            },
            "type": "table"
           }
          ]
         },
         "layout": {
          "annotationdefaults": {
           "arrowcolor": "#2a3f5f",
           "arrowhead": 0,
           "arrowwidth": 1
          },
          "autotypenumbers": "strict",
          "coloraxis": {
           "colorbar": {
            "outlinewidth": 0,
            "ticks": ""
           }
          },
          "colorscale": {
           "diverging": [
            [
             0,
             "#8e0152"
            ],
            [
             0.1,
             "#c51b7d"
            ],
            [
             0.2,
             "#de77ae"
            ],
            [
             0.3,
             "#f1b6da"
            ],
            [
             0.4,
             "#fde0ef"
            ],
            [
             0.5,
             "#f7f7f7"
            ],
            [
             0.6,
             "#e6f5d0"
            ],
            [
             0.7,
             "#b8e186"
            ],
            [
             0.8,
             "#7fbc41"
            ],
            [
             0.9,
             "#4d9221"
            ],
            [
             1,
             "#276419"
            ]
           ],
           "sequential": [
            [
             0,
             "#0d0887"
            ],
            [
             0.1111111111111111,
             "#46039f"
            ],
            [
             0.2222222222222222,
             "#7201a8"
            ],
            [
             0.3333333333333333,
             "#9c179e"
            ],
            [
             0.4444444444444444,
             "#bd3786"
            ],
            [
             0.5555555555555556,
             "#d8576b"
            ],
            [
             0.6666666666666666,
             "#ed7953"
            ],
            [
             0.7777777777777778,
             "#fb9f3a"
            ],
            [
             0.8888888888888888,
             "#fdca26"
            ],
            [
             1,
             "#f0f921"
            ]
           ],
           "sequentialminus": [
            [
             0,
             "#0d0887"
            ],
            [
             0.1111111111111111,
             "#46039f"
            ],
            [
             0.2222222222222222,
             "#7201a8"
            ],
            [
             0.3333333333333333,
             "#9c179e"
            ],
            [
             0.4444444444444444,
             "#bd3786"
            ],
            [
             0.5555555555555556,
             "#d8576b"
            ],
            [
             0.6666666666666666,
             "#ed7953"
            ],
            [
             0.7777777777777778,
             "#fb9f3a"
            ],
            [
             0.8888888888888888,
             "#fdca26"
            ],
            [
             1,
             "#f0f921"
            ]
           ]
          },
          "colorway": [
           "#636efa",
           "#EF553B",
           "#00cc96",
           "#ab63fa",
           "#FFA15A",
           "#19d3f3",
           "#FF6692",
           "#B6E880",
           "#FF97FF",
           "#FECB52"
          ],
          "font": {
           "color": "#2a3f5f"
          },
          "geo": {
           "bgcolor": "white",
           "lakecolor": "white",
           "landcolor": "#E5ECF6",
           "showlakes": true,
           "showland": true,
           "subunitcolor": "white"
          },
          "hoverlabel": {
           "align": "left"
          },
          "hovermode": "closest",
          "mapbox": {
           "style": "light"
          },
          "paper_bgcolor": "white",
          "plot_bgcolor": "#E5ECF6",
          "polar": {
           "angularaxis": {
            "gridcolor": "white",
            "linecolor": "white",
            "ticks": ""
           },
           "bgcolor": "#E5ECF6",
           "radialaxis": {
            "gridcolor": "white",
            "linecolor": "white",
            "ticks": ""
           }
          },
          "scene": {
           "xaxis": {
            "backgroundcolor": "#E5ECF6",
            "gridcolor": "white",
            "gridwidth": 2,
            "linecolor": "white",
            "showbackground": true,
            "ticks": "",
            "zerolinecolor": "white"
           },
           "yaxis": {
            "backgroundcolor": "#E5ECF6",
            "gridcolor": "white",
            "gridwidth": 2,
            "linecolor": "white",
            "showbackground": true,
            "ticks": "",
            "zerolinecolor": "white"
           },
           "zaxis": {
            "backgroundcolor": "#E5ECF6",
            "gridcolor": "white",
            "gridwidth": 2,
            "linecolor": "white",
            "showbackground": true,
            "ticks": "",
            "zerolinecolor": "white"
           }
          },
          "shapedefaults": {
           "line": {
            "color": "#2a3f5f"
           }
          },
          "ternary": {
           "aaxis": {
            "gridcolor": "white",
            "linecolor": "white",
            "ticks": ""
           },
           "baxis": {
            "gridcolor": "white",
            "linecolor": "white",
            "ticks": ""
           },
           "bgcolor": "#E5ECF6",
           "caxis": {
            "gridcolor": "white",
            "linecolor": "white",
            "ticks": ""
           }
          },
          "title": {
           "x": 0.05
          },
          "xaxis": {
           "automargin": true,
           "gridcolor": "white",
           "linecolor": "white",
           "ticks": "",
           "title": {
            "standoff": 15
           },
           "zerolinecolor": "white",
           "zerolinewidth": 2
          },
          "yaxis": {
           "automargin": true,
           "gridcolor": "white",
           "linecolor": "white",
           "ticks": "",
           "title": {
            "standoff": 15
           },
           "zerolinecolor": "white",
           "zerolinewidth": 2
          }
         }
        },
        "title": {
         "text": "Differenz der Prävalenz zwischen 2016 und 1996 nach Land"
        },
        "xaxis": {
         "anchor": "y",
         "domain": [
          0,
          1
         ],
         "showticklabels": false,
         "title": {
          "text": "Land"
         }
        },
        "yaxis": {
         "anchor": "x",
         "domain": [
          0,
          1
         ],
         "title": {
          "text": "Differenz der Prävalenz in %"
         }
        }
       }
      }
     },
     "metadata": {},
     "output_type": "display_data"
    }
   ],
   "source": [
    "interaktives_Diagramm = px.bar(Differenz_Durchschnitt, x=Differenz_Durchschnitt.index, y=Differenz_Durchschnitt.values,\n",
    "             labels={'x': 'Länder', 'y': 'Differenz der Prävalenz in %'},\n",
    "             title='Differenz der Prävalenz zwischen 2016 und 1996 nach Land')\n",
    "\n",
    "interaktives_Diagramm.update_layout(\n",
    "    xaxis={'showticklabels':False}\n",
    ")\n",
    "\n",
    "interaktives_Diagramm"
   ]
  },
  {
   "cell_type": "code",
   "execution_count": 53,
   "id": "a4baaf03",
   "metadata": {},
   "outputs": [
    {
     "name": "stdout",
     "output_type": "stream",
     "text": [
      "Die Prävalenz in der Schweiz ist von 1996 bis 2016, unabhängig vom Geschlecht, um 7.0 % gestiegen.\n"
     ]
    }
   ],
   "source": [
    "Durchschnitt_Schweiz = df_einzeln_pivot.loc['Switzerland']\n",
    "\n",
    "Differenz_Durchschnitt_Schweiz = Durchschnitt_Schweiz[2016] - Durchschnitt_Schweiz[1996]\n",
    "print('Die Prävalenz in der Schweiz ist von 1996 bis 2016, unabhängig vom Geschlecht, um', Differenz_Durchschnitt_Schweiz,'%' , 'gestiegen.')"
   ]
  },
  {
   "cell_type": "code",
   "execution_count": 54,
   "id": "b37f3a50",
   "metadata": {},
   "outputs": [
    {
     "data": {
      "image/png": "[encoded data removed]",
      "text/plain": [
       "<Figure size 640x480 with 1 Axes>"
      ]
     },
     "metadata": {},
     "output_type": "display_data"
    }
   ],
   "source": [
    "obersten_3 = Differenz_Durchschnitt.head(3)\n",
    "tiefsten_3 = Differenz_Durchschnitt.tail(3)\n",
    "\n",
    "if 'Switzerland' in Differenz_Durchschnitt.index:\n",
    "    Schweiz = Differenz_Durchschnitt['Switzerland']\n",
    "else:\n",
    "    Schweiz = None\n",
    "\n",
    "if Schweiz is not None:\n",
    "    ausgewählte_Länder = pd.concat([obersten_3, pd.Series({'Switzerland': Schweiz}), tiefsten_3])\n",
    "else:\n",
    "    ausgewählte_Länder = pd.concat([obersten_3, tiefsten_3])\n",
    "\n",
    "farben = ['crimson' if land == 'Switzerland' else 'blue' for land in ausgewählte_Länder.index]\n",
    "\n",
    "ax = ausgewählte_Länder.plot(\n",
    "    kind = 'barh',\n",
    "    color = farben,\n",
    "    alpha = 0.5,\n",
    "    title = 'Die 3 Länder mit der grössten und kleinsten Zunahme der Prävalenz im Verlgeich mit der Schweiz',\n",
    "    xlabel = 'Differenz der Prävalenz',\n",
    "    ylabel = 'Länder', fontsize = 12\n",
    "); \n",
    "\n",
    "for i, bar in enumerate(ax.patches):\n",
    "    width = bar.get_width()  # Breite des Balkens\n",
    "    height = bar.get_height()  # Höhe des Balkens\n",
    "    y_position = bar.get_y() + height / 2  # Berechne die Position in der Mitte des Balkens\n",
    "    ax.text(width, y_position, f'{width:.2f}', va='center', ha='left', fontsize=10, color='black')\n",
    "\n",
    "ax.bar_label(ax.containers[0], fmt='%.2f')\n",
    "ax.set_xlim(right=max(ausgewählte_Länder) + 1)\n",
    "\n",
    "ax.set_xlim(0, 18); "
   ]
  },
  {
   "cell_type": "code",
   "execution_count": 55,
   "id": "8328a2b5",
   "metadata": {},
   "outputs": [
    {
     "data": {
      "image/png": "[encoded data removed]",
      "text/plain": [
       "<Figure size 1000x600 with 1 Axes>"
      ]
     },
     "metadata": {},
     "output_type": "display_data"
    }
   ],
   "source": [
    "Start_Jahr = 1996\n",
    "End_Jahr = 2016\n",
    "ausgewählte_Länder = ['Niue', 'Tuvalu', 'Kiribati', 'Switzerland', 'South Korea', 'Singapore', 'Vietnam']\n",
    "\n",
    "df_einzeln_7_Länder = df_einzeln[(df_einzeln['Jahr']>= Start_Jahr) & (df_einzeln['Jahr'] <= End_Jahr)]\n",
    "df_einzeln_7_Länder = df_einzeln_7_Länder[df_einzeln_7_Länder['Land'].isin(ausgewählte_Länder)]\n",
    "\n",
    "gruppiert = df_einzeln_7_Länder.groupby(['Land', 'Jahr'])['Durchschnitt_Prävalenz_18+_ausgerechnet'].mean()\n",
    "gruppiert = gruppiert.unstack(level='Land')\n",
    "\n",
    "fig, lin_1 = plt.subplots(figsize=(10, 6))\n",
    "\n",
    "for land in ausgewählte_Länder:\n",
    "    if land in gruppiert.columns:\n",
    "        lin_1.plot(gruppiert.index, gruppiert[land], label=land, marker='o', linestyle='--', markersize=6)\n",
    "\n",
    "lin_1.set_xlabel('Jahr')\n",
    "lin_1.set_ylabel('Prävalenz (%)')\n",
    "lin_1.set_title('Übergewichtsprävalenz für Personen ab 18+ für ausgewählte Länder (1996-2016) in %')\n",
    "lin_1.set_xlim(Start_Jahr-1, End_Jahr+1)\n",
    "lin_1.set_xticks(range(Start_Jahr, End_Jahr+1,2))\n",
    "\n",
    "lin_1.legend(title='Land', loc='center left', bbox_to_anchor=(1.05, 0.5)); \n",
    "\n",
    "\n"
   ]
  },
  {
   "cell_type": "code",
   "execution_count": 56,
   "id": "0ce5febe",
   "metadata": {},
   "outputs": [
    {
     "data": {
      "text/html": [
       "<div>\n",
       "<style scoped>\n",
       "    .dataframe tbody tr th:only-of-type {\n",
       "        vertical-align: middle;\n",
       "    }\n",
       "\n",
       "    .dataframe tbody tr th {\n",
       "        vertical-align: top;\n",
       "    }\n",
       "\n",
       "    .dataframe thead th {\n",
       "        text-align: right;\n",
       "    }\n",
       "</style>\n",
       "<table border=\"1\" class=\"dataframe\">\n",
       "  <thead>\n",
       "    <tr style=\"text-align: right;\">\n",
       "      <th></th>\n",
       "      <th>Land</th>\n",
       "      <th>Kürzel</th>\n",
       "      <th>Jahr</th>\n",
       "      <th>Übergewicht_Prävalenz_Männer_18+</th>\n",
       "      <th>Übergewicht_Prävalenz_Frauen_18+</th>\n",
       "    </tr>\n",
       "  </thead>\n",
       "  <tbody>\n",
       "    <tr>\n",
       "      <th>4099</th>\n",
       "      <td>Kiribati</td>\n",
       "      <td>KIR</td>\n",
       "      <td>1996</td>\n",
       "      <td>25.6</td>\n",
       "      <td>37.1</td>\n",
       "    </tr>\n",
       "    <tr>\n",
       "      <th>4119</th>\n",
       "      <td>Kiribati</td>\n",
       "      <td>KIR</td>\n",
       "      <td>2016</td>\n",
       "      <td>41.6</td>\n",
       "      <td>50.4</td>\n",
       "    </tr>\n",
       "    <tr>\n",
       "      <th>5657</th>\n",
       "      <td>Niue</td>\n",
       "      <td>NIU</td>\n",
       "      <td>1996</td>\n",
       "      <td>27.9</td>\n",
       "      <td>41.4</td>\n",
       "    </tr>\n",
       "    <tr>\n",
       "      <th>5677</th>\n",
       "      <td>Niue</td>\n",
       "      <td>NIU</td>\n",
       "      <td>2016</td>\n",
       "      <td>44.8</td>\n",
       "      <td>55.1</td>\n",
       "    </tr>\n",
       "    <tr>\n",
       "      <th>6876</th>\n",
       "      <td>Singapore</td>\n",
       "      <td>SGP</td>\n",
       "      <td>1996</td>\n",
       "      <td>3.0</td>\n",
       "      <td>5.1</td>\n",
       "    </tr>\n",
       "    <tr>\n",
       "      <th>...</th>\n",
       "      <td>...</td>\n",
       "      <td>...</td>\n",
       "      <td>...</td>\n",
       "      <td>...</td>\n",
       "      <td>...</td>\n",
       "    </tr>\n",
       "    <tr>\n",
       "      <th>7457</th>\n",
       "      <td>Switzerland</td>\n",
       "      <td>CHE</td>\n",
       "      <td>2016</td>\n",
       "      <td>22.2</td>\n",
       "      <td>16.9</td>\n",
       "    </tr>\n",
       "    <tr>\n",
       "      <th>7913</th>\n",
       "      <td>Tuvalu</td>\n",
       "      <td>TUV</td>\n",
       "      <td>1996</td>\n",
       "      <td>29.6</td>\n",
       "      <td>43.0</td>\n",
       "    </tr>\n",
       "    <tr>\n",
       "      <th>7933</th>\n",
       "      <td>Tuvalu</td>\n",
       "      <td>TUV</td>\n",
       "      <td>2016</td>\n",
       "      <td>47.0</td>\n",
       "      <td>56.2</td>\n",
       "    </tr>\n",
       "    <tr>\n",
       "      <th>8346</th>\n",
       "      <td>Vietnam</td>\n",
       "      <td>VNM</td>\n",
       "      <td>1996</td>\n",
       "      <td>0.3</td>\n",
       "      <td>0.7</td>\n",
       "    </tr>\n",
       "    <tr>\n",
       "      <th>8366</th>\n",
       "      <td>Vietnam</td>\n",
       "      <td>VNM</td>\n",
       "      <td>2016</td>\n",
       "      <td>1.6</td>\n",
       "      <td>2.6</td>\n",
       "    </tr>\n",
       "  </tbody>\n",
       "</table>\n",
       "<p>14 rows × 5 columns</p>\n",
       "</div>"
      ],
      "text/plain": [
       "             Land Kürzel  Jahr  Übergewicht_Prävalenz_Männer_18+  \\\n",
       "4099     Kiribati    KIR  1996                              25.6   \n",
       "4119     Kiribati    KIR  2016                              41.6   \n",
       "5657         Niue    NIU  1996                              27.9   \n",
       "5677         Niue    NIU  2016                              44.8   \n",
       "6876    Singapore    SGP  1996                               3.0   \n",
       "...           ...    ...   ...                               ...   \n",
       "7457  Switzerland    CHE  2016                              22.2   \n",
       "7913       Tuvalu    TUV  1996                              29.6   \n",
       "7933       Tuvalu    TUV  2016                              47.0   \n",
       "8346      Vietnam    VNM  1996                               0.3   \n",
       "8366      Vietnam    VNM  2016                               1.6   \n",
       "\n",
       "      Übergewicht_Prävalenz_Frauen_18+  \n",
       "4099                              37.1  \n",
       "4119                              50.4  \n",
       "5657                              41.4  \n",
       "5677                              55.1  \n",
       "6876                               5.1  \n",
       "...                                ...  \n",
       "7457                              16.9  \n",
       "7913                              43.0  \n",
       "7933                              56.2  \n",
       "8346                               0.7  \n",
       "8366                               2.6  \n",
       "\n",
       "[14 rows x 5 columns]"
      ]
     },
     "execution_count": 56,
     "metadata": {},
     "output_type": "execute_result"
    }
   ],
   "source": [
    "df_gefiltert = df_einzeln[(df_einzeln['Land'].isin(['Niue', 'Tuvalu', 'Kiribati', 'Switzerland', 'South Korea', 'Singapore', 'Vietnam'])) & (df_einzeln['Jahr'].isin([1996, 2016]))]\n",
    "del df_gefiltert['Durchschnitt_Prävalenz_18+_ausgerechnet']\n",
    "df_gefiltert"
   ]
  },
  {
   "cell_type": "code",
   "execution_count": 79,
   "id": "14707f0e",
   "metadata": {},
   "outputs": [
    {
     "data": {
      "application/vnd.plotly.v1+json": {
       "config": {
        "plotlyServerURL": "https://plot.ly"
       },
       "data": [
        {
         "alignmentgroup": "True",
         "hovertemplate": "Geschlecht=Übergewicht_Prävalenz_Männer_18+<br>Länder (Jahr)=%{x}<br>Prävalenz in %=%{y}<extra></extra>",
         "legendgroup": "Übergewicht_Prävalenz_Männer_18+",
         "marker": {
          "color": "turquoise",
          "pattern": {
           "shape": ""
          }
         },
         "name": "Übergewicht_Prävalenz_Männer_18+",
         "offsetgroup": "Übergewicht_Prävalenz_Männer_18+",
         "orientation": "v",
         "showlegend": true,
         "textposition": "auto",
         "type": "bar",
         "x": [
          "Kiribati (1996)",
          "Kiribati (2016)",
          "Niue (1996)",
          "Niue (2016)",
          "Singapore (1996)",
          "Singapore (2016)",
          "South Korea (1996)",
          "South Korea (2016)",
          "Switzerland (1996)",
          "Switzerland (2016)",
          "Tuvalu (1996)",
          "Tuvalu (2016)",
          "Vietnam (1996)",
          "Vietnam (2016)"
         ],
         "xaxis": "x",
         "y": [
          25.6,
          41.6,
          27.9,
          44.8,
          3,
          5.8,
          1.8,
          4.4,
          13.2,
          22.2,
          29.6,
          47,
          0.3,
          1.6
         ],
         "yaxis": "y"
        },
        {
         "alignmentgroup": "True",
         "hovertemplate": "Geschlecht=Übergewicht_Prävalenz_Frauen_18+<br>Länder (Jahr)=%{x}<br>Prävalenz in %=%{y}<extra></extra>",
         "legendgroup": "Übergewicht_Prävalenz_Frauen_18+",
         "marker": {
          "color": "salmon",
          "pattern": {
           "shape": ""
          }
         },
         "name": "Übergewicht_Prävalenz_Frauen_18+",
         "offsetgroup": "Übergewicht_Prävalenz_Frauen_18+",
         "orientation": "v",
         "showlegend": true,
         "textposition": "auto",
         "type": "bar",
         "x": [
          "Kiribati (1996)",
          "Kiribati (2016)",
          "Niue (1996)",
          "Niue (2016)",
          "Singapore (1996)",
          "Singapore (2016)",
          "South Korea (1996)",
          "South Korea (2016)",
          "Switzerland (1996)",
          "Switzerland (2016)",
          "Tuvalu (1996)",
          "Tuvalu (2016)",
          "Vietnam (1996)",
          "Vietnam (2016)"
         ],
         "xaxis": "x",
         "y": [
          37.1,
          50.4,
          41.4,
          55.1,
          5.1,
          6.3,
          3,
          4.8,
          11.8,
          16.9,
          43,
          56.2,
          0.7,
          2.6
         ],
         "yaxis": "y"
        }
       ],
       "layout": {
        "barmode": "relative",
        "legend": {
         "title": {
          "text": "Geschlecht"
         },
         "tracegroupgap": 0
        },
        "template": {
         "data": {
          "bar": [
           {
            "error_x": {
             "color": "#2a3f5f"
            },
            "error_y": {
             "color": "#2a3f5f"
            },
            "marker": {
             "line": {
              "color": "#E5ECF6",
              "width": 0.5
             },
             "pattern": {
              "fillmode": "overlay",
              "size": 10,
              "solidity": 0.2
             }
            },
            "type": "bar"
           }
          ],
          "barpolar": [
           {
            "marker": {
             "line": {
              "color": "#E5ECF6",
              "width": 0.5
             },
             "pattern": {
              "fillmode": "overlay",
              "size": 10,
              "solidity": 0.2
             }
            },
            "type": "barpolar"
           }
          ],
          "carpet": [
           {
            "aaxis": {
             "endlinecolor": "#2a3f5f",
             "gridcolor": "white",
             "linecolor": "white",
             "minorgridcolor": "white",
             "startlinecolor": "#2a3f5f"
            },
            "baxis": {
             "endlinecolor": "#2a3f5f",
             "gridcolor": "white",
             "linecolor": "white",
             "minorgridcolor": "white",
             "startlinecolor": "#2a3f5f"
            },
            "type": "carpet"
           }
          ],
          "choropleth": [
           {
            "colorbar": {
             "outlinewidth": 0,
             "ticks": ""
            },
            "type": "choropleth"
           }
          ],
          "contour": [
           {
            "colorbar": {
             "outlinewidth": 0,
             "ticks": ""
            },
            "colorscale": [
             [
              0,
              "#0d0887"
             ],
             [
              0.1111111111111111,
              "#46039f"
             ],
             [
              0.2222222222222222,
              "#7201a8"
             ],
             [
              0.3333333333333333,
              "#9c179e"
             ],
             [
              0.4444444444444444,
              "#bd3786"
             ],
             [
              0.5555555555555556,
              "#d8576b"
             ],
             [
              0.6666666666666666,
              "#ed7953"
             ],
             [
              0.7777777777777778,
              "#fb9f3a"
             ],
             [
              0.8888888888888888,
              "#fdca26"
             ],
             [
              1,
              "#f0f921"
             ]
            ],
            "type": "contour"
           }
          ],
          "contourcarpet": [
           {
            "colorbar": {
             "outlinewidth": 0,
             "ticks": ""
            },
            "type": "contourcarpet"
           }
          ],
          "heatmap": [
           {
            "colorbar": {
             "outlinewidth": 0,
             "ticks": ""
            },
            "colorscale": [
             [
              0,
              "#0d0887"
             ],
             [
              0.1111111111111111,
              "#46039f"
             ],
             [
              0.2222222222222222,
              "#7201a8"
             ],
             [
              0.3333333333333333,
              "#9c179e"
             ],
             [
              0.4444444444444444,
              "#bd3786"
             ],
             [
              0.5555555555555556,
              "#d8576b"
             ],
             [
              0.6666666666666666,
              "#ed7953"
             ],
             [
              0.7777777777777778,
              "#fb9f3a"
             ],
             [
              0.8888888888888888,
              "#fdca26"
             ],
             [
              1,
              "#f0f921"
             ]
            ],
            "type": "heatmap"
           }
          ],
          "heatmapgl": [
           {
            "colorbar": {
             "outlinewidth": 0,
             "ticks": ""
            },
            "colorscale": [
             [
              0,
              "#0d0887"
             ],
             [
              0.1111111111111111,
              "#46039f"
             ],
             [
              0.2222222222222222,
              "#7201a8"
             ],
             [
              0.3333333333333333,
              "#9c179e"
             ],
             [
              0.4444444444444444,
              "#bd3786"
             ],
             [
              0.5555555555555556,
              "#d8576b"
             ],
             [
              0.6666666666666666,
              "#ed7953"
             ],
             [
              0.7777777777777778,
              "#fb9f3a"
             ],
             [
              0.8888888888888888,
              "#fdca26"
             ],
             [
              1,
              "#f0f921"
             ]
            ],
            "type": "heatmapgl"
           }
          ],
          "histogram": [
           {
            "marker": {
             "pattern": {
              "fillmode": "overlay",
              "size": 10,
              "solidity": 0.2
             }
            },
            "type": "histogram"
           }
          ],
          "histogram2d": [
           {
            "colorbar": {
             "outlinewidth": 0,
             "ticks": ""
            },
            "colorscale": [
             [
              0,
              "#0d0887"
             ],
             [
              0.1111111111111111,
              "#46039f"
             ],
             [
              0.2222222222222222,
              "#7201a8"
             ],
             [
              0.3333333333333333,
              "#9c179e"
             ],
             [
              0.4444444444444444,
              "#bd3786"
             ],
             [
              0.5555555555555556,
              "#d8576b"
             ],
             [
              0.6666666666666666,
              "#ed7953"
             ],
             [
              0.7777777777777778,
              "#fb9f3a"
             ],
             [
              0.8888888888888888,
              "#fdca26"
             ],
             [
              1,
              "#f0f921"
             ]
            ],
            "type": "histogram2d"
           }
          ],
          "histogram2dcontour": [
           {
            "colorbar": {
             "outlinewidth": 0,
             "ticks": ""
            },
            "colorscale": [
             [
              0,
              "#0d0887"
             ],
             [
              0.1111111111111111,
              "#46039f"
             ],
             [
              0.2222222222222222,
              "#7201a8"
             ],
             [
              0.3333333333333333,
              "#9c179e"
             ],
             [
              0.4444444444444444,
              "#bd3786"
             ],
             [
              0.5555555555555556,
              "#d8576b"
             ],
             [
              0.6666666666666666,
              "#ed7953"
             ],
             [
              0.7777777777777778,
              "#fb9f3a"
             ],
             [
              0.8888888888888888,
              "#fdca26"
             ],
             [
              1,
              "#f0f921"
             ]
            ],
            "type": "histogram2dcontour"
           }
          ],
          "mesh3d": [
           {
            "colorbar": {
             "outlinewidth": 0,
             "ticks": ""
            },
            "type": "mesh3d"
           }
          ],
          "parcoords": [
           {
            "line": {
             "colorbar": {
              "outlinewidth": 0,
              "ticks": ""
             }
            },
            "type": "parcoords"
           }
          ],
          "pie": [
           {
            "automargin": true,
            "type": "pie"
           }
          ],
          "scatter": [
           {
            "fillpattern": {
             "fillmode": "overlay",
             "size": 10,
             "solidity": 0.2
            },
            "type": "scatter"
           }
          ],
          "scatter3d": [
           {
            "line": {
             "colorbar": {
              "outlinewidth": 0,
              "ticks": ""
             }
            },
            "marker": {
             "colorbar": {
              "outlinewidth": 0,
              "ticks": ""
             }
            },
            "type": "scatter3d"
           }
          ],
          "scattercarpet": [
           {
            "marker": {
             "colorbar": {
              "outlinewidth": 0,
              "ticks": ""
             }
            },
            "type": "scattercarpet"
           }
          ],
          "scattergeo": [
           {
            "marker": {
             "colorbar": {
              "outlinewidth": 0,
              "ticks": ""
             }
            },
            "type": "scattergeo"
           }
          ],
          "scattergl": [
           {
            "marker": {
             "colorbar": {
              "outlinewidth": 0,
              "ticks": ""
             }
            },
            "type": "scattergl"
           }
          ],
          "scattermapbox": [
           {
            "marker": {
             "colorbar": {
              "outlinewidth": 0,
              "ticks": ""
             }
            },
            "type": "scattermapbox"
           }
          ],
          "scatterpolar": [
           {
            "marker": {
             "colorbar": {
              "outlinewidth": 0,
              "ticks": ""
             }
            },
            "type": "scatterpolar"
           }
          ],
          "scatterpolargl": [
           {
            "marker": {
             "colorbar": {
              "outlinewidth": 0,
              "ticks": ""
             }
            },
            "type": "scatterpolargl"
           }
          ],
          "scatterternary": [
           {
            "marker": {
             "colorbar": {
              "outlinewidth": 0,
              "ticks": ""
             }
            },
            "type": "scatterternary"
           }
          ],
          "surface": [
           {
            "colorbar": {
             "outlinewidth": 0,
             "ticks": ""
            },
            "colorscale": [
             [
              0,
              "#0d0887"
             ],
             [
              0.1111111111111111,
              "#46039f"
             ],
             [
              0.2222222222222222,
              "#7201a8"
             ],
             [
              0.3333333333333333,
              "#9c179e"
             ],
             [
              0.4444444444444444,
              "#bd3786"
             ],
             [
              0.5555555555555556,
              "#d8576b"
             ],
             [
              0.6666666666666666,
              "#ed7953"
             ],
             [
              0.7777777777777778,
              "#fb9f3a"
             ],
             [
              0.8888888888888888,
              "#fdca26"
             ],
             [
              1,
              "#f0f921"
             ]
            ],
            "type": "surface"
           }
          ],
          "table": [
           {
            "cells": {
             "fill": {
              "color": "#EBF0F8"
             },
             "line": {
              "color": "white"
             }
            },
            "header": {
             "fill": {
              "color": "#C8D4E3"
             },
             "line": {
              "color": "white"
             }
            },
            "type": "table"
           }
          ]
         },
         "layout": {
          "annotationdefaults": {
           "arrowcolor": "#2a3f5f",
           "arrowhead": 0,
           "arrowwidth": 1
          },
          "autotypenumbers": "strict",
          "coloraxis": {
           "colorbar": {
            "outlinewidth": 0,
            "ticks": ""
           }
          },
          "colorscale": {
           "diverging": [
            [
             0,
             "#8e0152"
            ],
            [
             0.1,
             "#c51b7d"
            ],
            [
             0.2,
             "#de77ae"
            ],
            [
             0.3,
             "#f1b6da"
            ],
            [
             0.4,
             "#fde0ef"
            ],
            [
             0.5,
             "#f7f7f7"
            ],
            [
             0.6,
             "#e6f5d0"
            ],
            [
             0.7,
             "#b8e186"
            ],
            [
             0.8,
             "#7fbc41"
            ],
            [
             0.9,
             "#4d9221"
            ],
            [
             1,
             "#276419"
            ]
           ],
           "sequential": [
            [
             0,
             "#0d0887"
            ],
            [
             0.1111111111111111,
             "#46039f"
            ],
            [
             0.2222222222222222,
             "#7201a8"
            ],
            [
             0.3333333333333333,
             "#9c179e"
            ],
            [
             0.4444444444444444,
             "#bd3786"
            ],
            [
             0.5555555555555556,
             "#d8576b"
            ],
            [
             0.6666666666666666,
             "#ed7953"
            ],
            [
             0.7777777777777778,
             "#fb9f3a"
            ],
            [
             0.8888888888888888,
             "#fdca26"
            ],
            [
             1,
             "#f0f921"
            ]
           ],
           "sequentialminus": [
            [
             0,
             "#0d0887"
            ],
            [
             0.1111111111111111,
             "#46039f"
            ],
            [
             0.2222222222222222,
             "#7201a8"
            ],
            [
             0.3333333333333333,
             "#9c179e"
            ],
            [
             0.4444444444444444,
             "#bd3786"
            ],
            [
             0.5555555555555556,
             "#d8576b"
            ],
            [
             0.6666666666666666,
             "#ed7953"
            ],
            [
             0.7777777777777778,
             "#fb9f3a"
            ],
            [
             0.8888888888888888,
             "#fdca26"
            ],
            [
             1,
             "#f0f921"
            ]
           ]
          },
          "colorway": [
           "#636efa",
           "#EF553B",
           "#00cc96",
           "#ab63fa",
           "#FFA15A",
           "#19d3f3",
           "#FF6692",
           "#B6E880",
           "#FF97FF",
           "#FECB52"
          ],
          "font": {
           "color": "#2a3f5f"
          },
          "geo": {
           "bgcolor": "white",
           "lakecolor": "white",
           "landcolor": "#E5ECF6",
           "showlakes": true,
           "showland": true,
           "subunitcolor": "white"
          },
          "hoverlabel": {
           "align": "left"
          },
          "hovermode": "closest",
          "mapbox": {
           "style": "light"
          },
          "paper_bgcolor": "white",
          "plot_bgcolor": "#E5ECF6",
          "polar": {
           "angularaxis": {
            "gridcolor": "white",
            "linecolor": "white",
            "ticks": ""
           },
           "bgcolor": "#E5ECF6",
           "radialaxis": {
            "gridcolor": "white",
            "linecolor": "white",
            "ticks": ""
           }
          },
          "scene": {
           "xaxis": {
            "backgroundcolor": "#E5ECF6",
            "gridcolor": "white",
            "gridwidth": 2,
            "linecolor": "white",
            "showbackground": true,
            "ticks": "",
            "zerolinecolor": "white"
           },
           "yaxis": {
            "backgroundcolor": "#E5ECF6",
            "gridcolor": "white",
            "gridwidth": 2,
            "linecolor": "white",
            "showbackground": true,
            "ticks": "",
            "zerolinecolor": "white"
           },
           "zaxis": {
            "backgroundcolor": "#E5ECF6",
            "gridcolor": "white",
            "gridwidth": 2,
            "linecolor": "white",
            "showbackground": true,
            "ticks": "",
            "zerolinecolor": "white"
           }
          },
          "shapedefaults": {
           "line": {
            "color": "#2a3f5f"
           }
          },
          "ternary": {
           "aaxis": {
            "gridcolor": "white",
            "linecolor": "white",
            "ticks": ""
           },
           "baxis": {
            "gridcolor": "white",
            "linecolor": "white",
            "ticks": ""
           },
           "bgcolor": "#E5ECF6",
           "caxis": {
            "gridcolor": "white",
            "linecolor": "white",
            "ticks": ""
           }
          },
          "title": {
           "x": 0.05
          },
          "xaxis": {
           "automargin": true,
           "gridcolor": "white",
           "linecolor": "white",
           "ticks": "",
           "title": {
            "standoff": 15
           },
           "zerolinecolor": "white",
           "zerolinewidth": 2
          },
          "yaxis": {
           "automargin": true,
           "gridcolor": "white",
           "linecolor": "white",
           "ticks": "",
           "title": {
            "standoff": 15
           },
           "zerolinecolor": "white",
           "zerolinewidth": 2
          }
         }
        },
        "title": {
         "text": "Prävalenz von Übergewicht (Männer vs. Frauen, nach Jahr und Land)"
        },
        "xaxis": {
         "anchor": "y",
         "domain": [
          0,
          1
         ],
         "title": {
          "text": "Länder (Jahr)"
         }
        },
        "yaxis": {
         "anchor": "x",
         "domain": [
          0,
          1
         ],
         "title": {
          "text": "Prävalenz in %"
         }
        }
       }
      }
     },
     "metadata": {},
     "output_type": "display_data"
    }
   ],
   "source": [
    "\n",
    "df_gefiltert.loc[:,'Land_Jahr'] = df_gefiltert['Land'] + \" (\" + df_gefiltert['Jahr'].astype(str) + \")\"\n",
    "\n",
    "interaktives_Diagramm_3 = px.bar(\n",
    "    df_gefiltert,\n",
    "    x='Land_Jahr', \n",
    "    y=['Übergewicht_Prävalenz_Männer_18+', 'Übergewicht_Prävalenz_Frauen_18+'],\n",
    "    labels={\n",
    "        'value': 'Prävalenz in %',\n",
    "        'variable': 'Geschlecht',\n",
    "        'Land_Jahr': 'Länder (Jahr)'},\n",
    "    title='Prävalenz von Übergewicht (Männer vs. Frauen, nach Jahr und Land)',\n",
    "    color='variable',\n",
    "    color_discrete_sequence=['turquoise', 'salmon'])\n",
    "\n",
    "interaktives_Diagramm_3\n"
   ]
  },
  {
   "cell_type": "code",
   "execution_count": null,
   "id": "fedf8030",
   "metadata": {},
   "outputs": [],
   "source": []
  }
 ],
 "metadata": {
  "kernelspec": {
   "display_name": "base",
   "language": "python",
   "name": "python3"
  },
  "language_info": {
   "codemirror_mode": {
    "name": "ipython",
    "version": 3
   },
   "file_extension": ".py",
   "mimetype": "text/x-python",
   "name": "python",
   "nbconvert_exporter": "python",
   "pygments_lexer": "ipython3",
   "version": "3.12.4"
  }
 },
 "nbformat": 4,
 "nbformat_minor": 5
}
